{
 "cells": [
  {
   "cell_type": "markdown",
   "metadata": {},
   "source": [
    "# Importación de módulos generales"
   ]
  },
  {
   "cell_type": "code",
   "execution_count": 1,
   "metadata": {
    "scrolled": true
   },
   "outputs": [
    {
     "name": "stdout",
     "output_type": "stream",
     "text": [
      "Populating the interactive namespace from numpy and matplotlib\n"
     ]
    }
   ],
   "source": [
    "%pylab inline\n",
    "%load_ext memory_profiler\n",
    "\n",
    "# %pylab\n",
    "\n",
    "import os\n",
    "import tempfile\n",
    "import pandas as pd\n",
    "# import numpy as np\n",
    "import networkx as nx\n",
    "# import matplotlib\n",
    "# import pylab  as plt\n",
    "import pygraphviz\n",
    "\n",
    "from pomegranate import BayesianNetwork\n",
    "\n",
    "from sklearn.metrics import classification_report, accuracy_score, confusion_matrix\n",
    "from sklearn.model_selection import train_test_split"
   ]
  },
  {
   "cell_type": "markdown",
   "metadata": {},
   "source": [
    "# Funciones auxiliares visualización"
   ]
  },
  {
   "cell_type": "markdown",
   "metadata": {},
   "source": [
    "Importamos las funciones auxiliares para visualizar redes que hemos definido:\n",
    "- **plot_pomegranate_bn_nx**(pgm, layout=None, node_size=2000, node_color='pink')\n",
    "- **plot_pomegranate_bn_pgvz**(pgm, filename=None, prog='dot', color='red')\n",
    "- **plot_pgm_bn**(pgm, layout=None, node_size=2000, node_color='pink'):"
   ]
  },
  {
   "cell_type": "code",
   "execution_count": 2,
   "metadata": {},
   "outputs": [],
   "source": [
    "from funciones_auxiliares import *"
   ]
  },
  {
   "cell_type": "markdown",
   "metadata": {},
   "source": [
    "# Lectura de datos"
   ]
  },
  {
   "cell_type": "markdown",
   "metadata": {},
   "source": [
    "Podemos obtener los datos originales de TODO."
   ]
  },
  {
   "cell_type": "code",
   "execution_count": 3,
   "metadata": {
    "scrolled": true
   },
   "outputs": [
    {
     "data": {
      "text/html": [
       "<div>\n",
       "<style scoped>\n",
       "    .dataframe tbody tr th:only-of-type {\n",
       "        vertical-align: middle;\n",
       "    }\n",
       "\n",
       "    .dataframe tbody tr th {\n",
       "        vertical-align: top;\n",
       "    }\n",
       "\n",
       "    .dataframe thead th {\n",
       "        text-align: right;\n",
       "    }\n",
       "</style>\n",
       "<table border=\"1\" class=\"dataframe\">\n",
       "  <thead>\n",
       "    <tr style=\"text-align: right;\">\n",
       "      <th></th>\n",
       "      <th>amount</th>\n",
       "      <th>hour1</th>\n",
       "      <th>state1</th>\n",
       "      <th>zip1</th>\n",
       "      <th>field1</th>\n",
       "      <th>domain1</th>\n",
       "      <th>field2</th>\n",
       "      <th>hour2</th>\n",
       "      <th>flag1</th>\n",
       "      <th>total</th>\n",
       "      <th>field3</th>\n",
       "      <th>field4</th>\n",
       "      <th>field5</th>\n",
       "      <th>indicator1</th>\n",
       "      <th>indicator2</th>\n",
       "      <th>flag2</th>\n",
       "      <th>flag3</th>\n",
       "      <th>flag4</th>\n",
       "      <th>flag5</th>\n",
       "    </tr>\n",
       "  </thead>\n",
       "  <tbody>\n",
       "    <tr>\n",
       "      <th>0</th>\n",
       "      <td>12.95</td>\n",
       "      <td>0</td>\n",
       "      <td>CA</td>\n",
       "      <td>925</td>\n",
       "      <td>3</td>\n",
       "      <td>AOL.COM</td>\n",
       "      <td>1</td>\n",
       "      <td>0</td>\n",
       "      <td>1</td>\n",
       "      <td>12.95</td>\n",
       "      <td>-4276</td>\n",
       "      <td>7</td>\n",
       "      <td>0</td>\n",
       "      <td>1</td>\n",
       "      <td>0</td>\n",
       "      <td>1</td>\n",
       "      <td>1</td>\n",
       "      <td>0</td>\n",
       "      <td>1</td>\n",
       "    </tr>\n",
       "    <tr>\n",
       "      <th>1</th>\n",
       "      <td>11.01</td>\n",
       "      <td>0</td>\n",
       "      <td>CA</td>\n",
       "      <td>925</td>\n",
       "      <td>3</td>\n",
       "      <td>AOL.COM</td>\n",
       "      <td>1</td>\n",
       "      <td>0</td>\n",
       "      <td>1</td>\n",
       "      <td>11.01</td>\n",
       "      <td>-4276</td>\n",
       "      <td>7</td>\n",
       "      <td>0</td>\n",
       "      <td>1</td>\n",
       "      <td>0</td>\n",
       "      <td>1</td>\n",
       "      <td>1</td>\n",
       "      <td>0</td>\n",
       "      <td>1</td>\n",
       "    </tr>\n",
       "    <tr>\n",
       "      <th>2</th>\n",
       "      <td>38.85</td>\n",
       "      <td>0</td>\n",
       "      <td>CA</td>\n",
       "      <td>928</td>\n",
       "      <td>3</td>\n",
       "      <td>HOTMAIL.COM</td>\n",
       "      <td>1</td>\n",
       "      <td>0</td>\n",
       "      <td>0</td>\n",
       "      <td>38.85</td>\n",
       "      <td>2602</td>\n",
       "      <td>21</td>\n",
       "      <td>1</td>\n",
       "      <td>0</td>\n",
       "      <td>0</td>\n",
       "      <td>0</td>\n",
       "      <td>0</td>\n",
       "      <td>0</td>\n",
       "      <td>1</td>\n",
       "    </tr>\n",
       "    <tr>\n",
       "      <th>3</th>\n",
       "      <td>25.90</td>\n",
       "      <td>0</td>\n",
       "      <td>NJ</td>\n",
       "      <td>77</td>\n",
       "      <td>0</td>\n",
       "      <td>AOL.COM</td>\n",
       "      <td>1</td>\n",
       "      <td>0</td>\n",
       "      <td>0</td>\n",
       "      <td>25.90</td>\n",
       "      <td>4139</td>\n",
       "      <td>6</td>\n",
       "      <td>0</td>\n",
       "      <td>0</td>\n",
       "      <td>0</td>\n",
       "      <td>1</td>\n",
       "      <td>1</td>\n",
       "      <td>0</td>\n",
       "      <td>1</td>\n",
       "    </tr>\n",
       "    <tr>\n",
       "      <th>4</th>\n",
       "      <td>12.95</td>\n",
       "      <td>0</td>\n",
       "      <td>CA</td>\n",
       "      <td>945</td>\n",
       "      <td>3</td>\n",
       "      <td>YAHOO.COM</td>\n",
       "      <td>0</td>\n",
       "      <td>0</td>\n",
       "      <td>1</td>\n",
       "      <td>12.95</td>\n",
       "      <td>3826</td>\n",
       "      <td>9</td>\n",
       "      <td>1</td>\n",
       "      <td>0</td>\n",
       "      <td>0</td>\n",
       "      <td>1</td>\n",
       "      <td>0</td>\n",
       "      <td>0</td>\n",
       "      <td>1</td>\n",
       "    </tr>\n",
       "  </tbody>\n",
       "</table>\n",
       "</div>"
      ],
      "text/plain": [
       "   amount  hour1 state1  zip1  field1      domain1  field2  hour2  flag1  \\\n",
       "0   12.95      0     CA   925       3      AOL.COM       1      0      1   \n",
       "1   11.01      0     CA   925       3      AOL.COM       1      0      1   \n",
       "2   38.85      0     CA   928       3  HOTMAIL.COM       1      0      0   \n",
       "3   25.90      0     NJ    77       0      AOL.COM       1      0      0   \n",
       "4   12.95      0     CA   945       3    YAHOO.COM       0      0      1   \n",
       "\n",
       "   total  field3  field4  field5  indicator1  indicator2  flag2  flag3  flag4  \\\n",
       "0  12.95   -4276       7       0           1           0      1      1      0   \n",
       "1  11.01   -4276       7       0           1           0      1      1      0   \n",
       "2  38.85    2602      21       1           0           0      0      0      0   \n",
       "3  25.90    4139       6       0           0           0      1      1      0   \n",
       "4  12.95    3826       9       1           0           0      1      0      0   \n",
       "\n",
       "   flag5  \n",
       "0      1  \n",
       "1      1  \n",
       "2      1  \n",
       "3      1  \n",
       "4      1  "
      ]
     },
     "execution_count": 3,
     "metadata": {},
     "output_type": "execute_result"
    }
   ],
   "source": [
    "X = pd.read_csv(\"data/fraud_detection/ucsd/DataminingContest2009.Task1.Train.Inputs\")\n",
    "y = pd.read_csv(\"data/fraud_detection/ucsd/DataminingContest2009.Task1.Train.Targets\", header=None)\n",
    "y.columns = ['target']\n",
    "data = pd.merge(X, y, left_index=True, right_index=True)\n",
    "X.head()"
   ]
  },
  {
   "cell_type": "markdown",
   "metadata": {},
   "source": [
    "Vemos si hay valores nulos:"
   ]
  },
  {
   "cell_type": "code",
   "execution_count": 4,
   "metadata": {},
   "outputs": [
    {
     "name": "stdout",
     "output_type": "stream",
     "text": [
      "amount        0\n",
      "hour1         0\n",
      "state1        0\n",
      "zip1          0\n",
      "field1        0\n",
      "domain1       1\n",
      "field2        0\n",
      "hour2         0\n",
      "flag1         0\n",
      "total         0\n",
      "field3        0\n",
      "field4        0\n",
      "field5        0\n",
      "indicator1    0\n",
      "indicator2    0\n",
      "flag2         0\n",
      "flag3         0\n",
      "flag4         0\n",
      "flag5         0\n",
      "dtype: int64\n"
     ]
    }
   ],
   "source": [
    "print(X.isnull().sum())"
   ]
  },
  {
   "cell_type": "markdown",
   "metadata": {},
   "source": [
    "Encontramos el índice del valor nulo"
   ]
  },
  {
   "cell_type": "code",
   "execution_count": 5,
   "metadata": {},
   "outputs": [
    {
     "data": {
      "text/plain": [
       "70382"
      ]
     },
     "execution_count": 5,
     "metadata": {},
     "output_type": "execute_result"
    }
   ],
   "source": [
    "null_index = X['domain1'].isnull().idxmax()\n",
    "null_index"
   ]
  },
  {
   "cell_type": "markdown",
   "metadata": {},
   "source": [
    "Lo eliminamos tanto de X como de y:"
   ]
  },
  {
   "cell_type": "code",
   "execution_count": 6,
   "metadata": {},
   "outputs": [],
   "source": [
    "X.dropna(inplace=True)\n",
    "y.drop(null_index, inplace=True)\n",
    "complete_data = data.dropna()"
   ]
  },
  {
   "cell_type": "markdown",
   "metadata": {},
   "source": [
    "Vemos el número de valores únicos de cada variable"
   ]
  },
  {
   "cell_type": "code",
   "execution_count": 7,
   "metadata": {},
   "outputs": [
    {
     "name": "stdout",
     "output_type": "stream",
     "text": [
      "amount: 88\n",
      "hour1: 24\n",
      "state1: 53\n",
      "zip1: 899\n",
      "field1: 5\n",
      "domain1: 9809\n",
      "field2: 2\n",
      "hour2: 24\n",
      "flag1: 2\n",
      "total: 88\n",
      "field3: 15786\n",
      "field4: 38\n",
      "field5: 25\n",
      "indicator1: 2\n",
      "indicator2: 2\n",
      "flag2: 2\n",
      "flag3: 2\n",
      "flag4: 2\n",
      "flag5: 36\n"
     ]
    }
   ],
   "source": [
    "for col in list(X):\n",
    "    print(\"{}: {}\".format(col, X[col].nunique()))"
   ]
  },
  {
   "cell_type": "markdown",
   "metadata": {},
   "source": [
    "Discretizamos las variables numéricas:"
   ]
  },
  {
   "cell_type": "code",
   "execution_count": 8,
   "metadata": {},
   "outputs": [
    {
     "data": {
      "text/html": [
       "<div>\n",
       "<style scoped>\n",
       "    .dataframe tbody tr th:only-of-type {\n",
       "        vertical-align: middle;\n",
       "    }\n",
       "\n",
       "    .dataframe tbody tr th {\n",
       "        vertical-align: top;\n",
       "    }\n",
       "\n",
       "    .dataframe thead th {\n",
       "        text-align: right;\n",
       "    }\n",
       "</style>\n",
       "<table border=\"1\" class=\"dataframe\">\n",
       "  <thead>\n",
       "    <tr style=\"text-align: right;\">\n",
       "      <th></th>\n",
       "      <th>amount</th>\n",
       "      <th>hour1</th>\n",
       "      <th>state1</th>\n",
       "      <th>zip1</th>\n",
       "      <th>field1</th>\n",
       "      <th>domain1</th>\n",
       "      <th>field2</th>\n",
       "      <th>hour2</th>\n",
       "      <th>flag1</th>\n",
       "      <th>total</th>\n",
       "      <th>field3</th>\n",
       "      <th>field4</th>\n",
       "      <th>field5</th>\n",
       "      <th>indicator1</th>\n",
       "      <th>indicator2</th>\n",
       "      <th>flag2</th>\n",
       "      <th>flag3</th>\n",
       "      <th>flag4</th>\n",
       "      <th>flag5</th>\n",
       "    </tr>\n",
       "  </thead>\n",
       "  <tbody>\n",
       "    <tr>\n",
       "      <th>0</th>\n",
       "      <td>(9.54, 14.31]</td>\n",
       "      <td>0</td>\n",
       "      <td>CA</td>\n",
       "      <td>925</td>\n",
       "      <td>3</td>\n",
       "      <td>AOL.COM</td>\n",
       "      <td>1</td>\n",
       "      <td>0</td>\n",
       "      <td>1</td>\n",
       "      <td>(9.54, 14.31]</td>\n",
       "      <td>(-4348.98, -3944.4]</td>\n",
       "      <td>7</td>\n",
       "      <td>0</td>\n",
       "      <td>1</td>\n",
       "      <td>0</td>\n",
       "      <td>1</td>\n",
       "      <td>1</td>\n",
       "      <td>0</td>\n",
       "      <td>1</td>\n",
       "    </tr>\n",
       "    <tr>\n",
       "      <th>1</th>\n",
       "      <td>(9.54, 14.31]</td>\n",
       "      <td>0</td>\n",
       "      <td>CA</td>\n",
       "      <td>925</td>\n",
       "      <td>3</td>\n",
       "      <td>AOL.COM</td>\n",
       "      <td>1</td>\n",
       "      <td>0</td>\n",
       "      <td>1</td>\n",
       "      <td>(9.54, 14.31]</td>\n",
       "      <td>(-4348.98, -3944.4]</td>\n",
       "      <td>7</td>\n",
       "      <td>0</td>\n",
       "      <td>1</td>\n",
       "      <td>0</td>\n",
       "      <td>1</td>\n",
       "      <td>1</td>\n",
       "      <td>0</td>\n",
       "      <td>1</td>\n",
       "    </tr>\n",
       "    <tr>\n",
       "      <th>2</th>\n",
       "      <td>(38.16, 42.93]</td>\n",
       "      <td>0</td>\n",
       "      <td>CA</td>\n",
       "      <td>928</td>\n",
       "      <td>3</td>\n",
       "      <td>HOTMAIL.COM</td>\n",
       "      <td>1</td>\n",
       "      <td>0</td>\n",
       "      <td>0</td>\n",
       "      <td>(38.16, 42.93]</td>\n",
       "      <td>(2528.88, 2933.46]</td>\n",
       "      <td>21</td>\n",
       "      <td>1</td>\n",
       "      <td>0</td>\n",
       "      <td>0</td>\n",
       "      <td>0</td>\n",
       "      <td>0</td>\n",
       "      <td>0</td>\n",
       "      <td>1</td>\n",
       "    </tr>\n",
       "    <tr>\n",
       "      <th>3</th>\n",
       "      <td>(23.85, 28.62]</td>\n",
       "      <td>0</td>\n",
       "      <td>NJ</td>\n",
       "      <td>77</td>\n",
       "      <td>0</td>\n",
       "      <td>AOL.COM</td>\n",
       "      <td>1</td>\n",
       "      <td>0</td>\n",
       "      <td>0</td>\n",
       "      <td>(23.85, 28.62]</td>\n",
       "      <td>(3742.62, 4147.2]</td>\n",
       "      <td>6</td>\n",
       "      <td>0</td>\n",
       "      <td>0</td>\n",
       "      <td>0</td>\n",
       "      <td>1</td>\n",
       "      <td>1</td>\n",
       "      <td>0</td>\n",
       "      <td>1</td>\n",
       "    </tr>\n",
       "    <tr>\n",
       "      <th>4</th>\n",
       "      <td>(9.54, 14.31]</td>\n",
       "      <td>0</td>\n",
       "      <td>CA</td>\n",
       "      <td>945</td>\n",
       "      <td>3</td>\n",
       "      <td>YAHOO.COM</td>\n",
       "      <td>0</td>\n",
       "      <td>0</td>\n",
       "      <td>1</td>\n",
       "      <td>(9.54, 14.31]</td>\n",
       "      <td>(3742.62, 4147.2]</td>\n",
       "      <td>9</td>\n",
       "      <td>1</td>\n",
       "      <td>0</td>\n",
       "      <td>0</td>\n",
       "      <td>1</td>\n",
       "      <td>0</td>\n",
       "      <td>0</td>\n",
       "      <td>1</td>\n",
       "    </tr>\n",
       "  </tbody>\n",
       "</table>\n",
       "</div>"
      ],
      "text/plain": [
       "           amount  hour1 state1  zip1  field1      domain1  field2  hour2  \\\n",
       "0   (9.54, 14.31]      0     CA   925       3      AOL.COM       1      0   \n",
       "1   (9.54, 14.31]      0     CA   925       3      AOL.COM       1      0   \n",
       "2  (38.16, 42.93]      0     CA   928       3  HOTMAIL.COM       1      0   \n",
       "3  (23.85, 28.62]      0     NJ    77       0      AOL.COM       1      0   \n",
       "4   (9.54, 14.31]      0     CA   945       3    YAHOO.COM       0      0   \n",
       "\n",
       "   flag1           total               field3  field4  field5  indicator1  \\\n",
       "0      1   (9.54, 14.31]  (-4348.98, -3944.4]       7       0           1   \n",
       "1      1   (9.54, 14.31]  (-4348.98, -3944.4]       7       0           1   \n",
       "2      0  (38.16, 42.93]   (2528.88, 2933.46]      21       1           0   \n",
       "3      0  (23.85, 28.62]    (3742.62, 4147.2]       6       0           0   \n",
       "4      1   (9.54, 14.31]    (3742.62, 4147.2]       9       1           0   \n",
       "\n",
       "   indicator2  flag2  flag3  flag4  flag5  \n",
       "0           0      1      1      0      1  \n",
       "1           0      1      1      0      1  \n",
       "2           0      0      0      0      1  \n",
       "3           0      1      1      0      1  \n",
       "4           0      1      0      0      1  "
      ]
     },
     "execution_count": 8,
     "metadata": {},
     "output_type": "execute_result"
    }
   ],
   "source": [
    "columns_to_discretize = ['amount', 'total', 'field3']\n",
    "num_bins=[20,20,100]\n",
    "\n",
    "for col,n in zip(columns_to_discretize, num_bins):\n",
    "    X[col] = pd.cut(X[col], bins=n)\n",
    "    \n",
    "X.head()"
   ]
  },
  {
   "cell_type": "markdown",
   "metadata": {},
   "source": [
    "Dividimos los datos en conjunto de entrenamiento y validación"
   ]
  },
  {
   "cell_type": "code",
   "execution_count": 9,
   "metadata": {
    "scrolled": true
   },
   "outputs": [
    {
     "name": "stdout",
     "output_type": "stream",
     "text": [
      "Particiones obtenidas sobre los datos iniciales:\n",
      "X_train:  (63120, 19)\n",
      "y_train:  (63120, 1)\n",
      "X_test:   (31561, 19)\n",
      "y_test:   (31561, 1)\n",
      "\n",
      "Particiones obtenidas sobre los datos con los registros completos:\n",
      "X_complete_train:  (63120, 19)\n",
      "y_complete_train:  (63120, 1)\n",
      "X_complete_test:   (31561, 19)\n",
      "y_complete_test:   (31561, 1)\n"
     ]
    }
   ],
   "source": [
    "X_complete = X\n",
    "y_complete = y\n",
    "\n",
    "X_train, X_test, y_train, y_test = train_test_split(X, y, test_size=1/3)\n",
    "X_complete_train, X_complete_test, y_complete_train, y_complete_test = train_test_split(X_complete, y_complete, test_size=1/3)\n",
    "\n",
    "print(\"Particiones obtenidas sobre los datos iniciales:\")\n",
    "print(\"X_train: \", X_train.shape)\n",
    "print(\"y_train: \", y_train.shape)\n",
    "print(\"X_test:  \", X_test.shape)\n",
    "print(\"y_test:  \", y_test.shape)\n",
    "print(\"\\nParticiones obtenidas sobre los datos con los registros completos:\")\n",
    "print(\"X_complete_train: \", X_complete_train.shape)\n",
    "print(\"y_complete_train: \", y_complete_train.shape)\n",
    "print(\"X_complete_test:  \", X_complete_test.shape)\n",
    "print(\"y_complete_test:  \", y_complete_test.shape)"
   ]
  },
  {
   "cell_type": "markdown",
   "metadata": {},
   "source": [
    "# Algoritmos de búsqueda global"
   ]
  },
  {
   "cell_type": "code",
   "execution_count": 10,
   "metadata": {},
   "outputs": [],
   "source": [
    "from pgmpy.models import BayesianModel"
   ]
  },
  {
   "cell_type": "markdown",
   "metadata": {},
   "source": [
    "Definición de scores sobre el dataset:"
   ]
  },
  {
   "cell_type": "code",
   "execution_count": 11,
   "metadata": {},
   "outputs": [],
   "source": [
    "from pgmpy.estimators import BDeuScore, K2Score, BicScore\n",
    "\n",
    "bdeu = BDeuScore(complete_data, equivalent_sample_size=5)\n",
    "k2 = K2Score(complete_data)\n",
    "bic = BicScore(complete_data)"
   ]
  },
  {
   "cell_type": "markdown",
   "metadata": {},
   "source": [
    "Si quisieramos usar un algoritmo exacto, tendriamos que iterar sobre los $2^{N(N-1)}$ siendo N el número de nodos, es decir:"
   ]
  },
  {
   "cell_type": "code",
   "execution_count": 12,
   "metadata": {},
   "outputs": [
    {
     "name": "stdout",
     "output_type": "stream",
     "text": [
      "Número de DAGs posibles con N=20 ---> 2462625387274654950767440006258975862817483704404090416746768337765357610718575663213391640930307227550414249394176\n"
     ]
    }
   ],
   "source": [
    "N=len(list(complete_data))\n",
    "print(\"Número de DAGs posibles con N={} ---> {}\".format(N, 2**(N*(N-1))))"
   ]
  },
  {
   "cell_type": "code",
   "execution_count": 13,
   "metadata": {},
   "outputs": [],
   "source": [
    "# from pgmpy.estimators import ExhaustiveSearch\n",
    "\n",
    "# # Definición algoritmos de búsqueda exactos con cada score\n",
    "# es_bic = ExhaustiveSearch(complete_data, scoring_method=bic)\n",
    "# es_k2 = ExhaustiveSearch(complete_data, scoring_method=k2)\n",
    "# es_bdeu = ExhaustiveSearch(complete_data, scoring_method=bdeu)\n",
    "\n",
    "# # Aprendizaje de las redes\n",
    "# print(\"Exhaustive search BIC:\")\n",
    "# %time %memit es_bic_structure = es_bic.estimate()\n",
    "# print(\"Exhaustive search K2:\")\n",
    "# %time %memit es_k2_structurel = es_k2.estimate()\n",
    "# print(\"Exhaustive search BDeu:\")\n",
    "# %time %memit es_bdeu_structure = es_bdeu.estimate()"
   ]
  },
  {
   "cell_type": "markdown",
   "metadata": {},
   "source": [
    "Así que vamos a usar Hill Climb Search:"
   ]
  },
  {
   "cell_type": "code",
   "execution_count": null,
   "metadata": {},
   "outputs": [
    {
     "name": "stdout",
     "output_type": "stream",
     "text": [
      "Hill Climb Search BIC:\n"
     ]
    }
   ],
   "source": [
    "from pgmpy.estimators import HillClimbSearch\n",
    "\n",
    "hc_bic = HillClimbSearch(data, scoring_method=bic)\n",
    "hc_k2 = HillClimbSearch(data, scoring_method=k2)\n",
    "hc_bdeu = HillClimbSearch(data, scoring_method=bdeu)\n",
    "\n",
    "# Aprendizaje de las redes\n",
    "print(\"Hill Climb Search BIC:\")\n",
    "%time %memit hc_bic_structure = hc_bic.estimate(max_indegree=1)\n",
    "# %time %memit hc_bic_structure = hc_bic.estimate()\n",
    "# print(\"\\nHill Climb Search K2:\")\n",
    "# %time %memit hc_k2_structure = hc_k2.estimate()\n",
    "print(\"\\nHill Climb Search BDeu:\")\n",
    "%time %memit hc_bdeu_structure = hc_bdeu.estimate()"
   ]
  },
  {
   "cell_type": "markdown",
   "metadata": {},
   "source": [
    "Visualizamos los modelos resultantes:"
   ]
  },
  {
   "cell_type": "code",
   "execution_count": null,
   "metadata": {
    "scrolled": true
   },
   "outputs": [],
   "source": [
    "print(\"Hill Climb Search BIC:\")\n",
    "plot_pgmpy_bn(hc_bic_structure)"
   ]
  },
  {
   "cell_type": "code",
   "execution_count": null,
   "metadata": {},
   "outputs": [],
   "source": [
    "# print(\"\\nHill Climb Search K2:\")\n",
    "# plot_pgmpy_bn(hc_k2_structure)"
   ]
  },
  {
   "cell_type": "code",
   "execution_count": null,
   "metadata": {},
   "outputs": [],
   "source": [
    "print(\"\\nHill Climb Search BDeu:\")\n",
    "plot_pgmpy_bn(hc_bdeu_structure)"
   ]
  },
  {
   "cell_type": "markdown",
   "metadata": {},
   "source": [
    "A la hora de estimar, podemos indicar el número máximo de padres por variable. Por ejemplo, si exigimos que sea 1, aprenderemos estructuras de árbol y el aprendizaje será más rápido:"
   ]
  },
  {
   "cell_type": "code",
   "execution_count": null,
   "metadata": {
    "scrolled": true
   },
   "outputs": [],
   "source": [
    "print(\"Hill Climb Search BIC:\")\n",
    "%time %memit hc_bic_tree = hc_bic.estimate(max_indegree=1)\n",
    "# print(\"\\nHill Climb Search K2:\")\n",
    "# %time %memit hc_k2_tree = hc_k2.estimate(max_indegree=1)\n",
    "print(\"\\nHill Climb Search BDeu:\")\n",
    "%time %memit hc_bdeu_tree = hc_bdeu.estimate(max_indegree=1)"
   ]
  },
  {
   "cell_type": "code",
   "execution_count": null,
   "metadata": {},
   "outputs": [],
   "source": [
    "print(\"Hill Climb Search BIC tree:\")\n",
    "plot_pgmpy_bn(hc_bic_tree)"
   ]
  },
  {
   "cell_type": "code",
   "execution_count": null,
   "metadata": {},
   "outputs": [],
   "source": [
    "# print(\"\\nHill Climb Search K2 tree:\")\n",
    "# plot_pgmpy_bn(hc_k2_tree)"
   ]
  },
  {
   "cell_type": "code",
   "execution_count": null,
   "metadata": {
    "scrolled": true
   },
   "outputs": [],
   "source": [
    "print(\"\\nHill Climb Search BDeu tree:\")\n",
    "plot_pgmpy_bn(hc_bdeu_tree)"
   ]
  },
  {
   "cell_type": "markdown",
   "metadata": {},
   "source": [
    "# Algoritmos locales mediante tests de independencia"
   ]
  },
  {
   "cell_type": "code",
   "execution_count": null,
   "metadata": {},
   "outputs": [],
   "source": [
    "from pgmpy.estimators import ConstraintBasedEstimator\n",
    "\n",
    "constraint_estimator = ConstraintBasedEstimator(data)\n",
    "\n",
    "print(\"Constraint Estimation:\")\n",
    "%time %memit constraint_structure = constraint_estimator.estimate(significance_level=0.01)"
   ]
  },
  {
   "cell_type": "code",
   "execution_count": null,
   "metadata": {},
   "outputs": [],
   "source": [
    "print(\"Constraint Estimation:\")\n",
    "plot_pgmpy_bn(constraint_structure)"
   ]
  },
  {
   "cell_type": "markdown",
   "metadata": {},
   "source": [
    "# Aprendizaje de parámetros"
   ]
  },
  {
   "cell_type": "markdown",
   "metadata": {},
   "source": [
    "Vamos a quedarnos, por ejemplo, con la red aprendida usando *Hill Climb Search* y como score *Bdeu*"
   ]
  },
  {
   "cell_type": "code",
   "execution_count": null,
   "metadata": {},
   "outputs": [],
   "source": [
    "from pgmpy.models import BayesianModel\n",
    "\n",
    "# hc_bdeu_model = BayesianModel()\n",
    "# hc_bdeu_model.add_nodes_from(hc_bdeu_structure.nodes)\n",
    "# hc_bdeu_model.add_edges_from(hc_bdeu_structure.edges)"
   ]
  },
  {
   "cell_type": "markdown",
   "metadata": {},
   "source": [
    "Podemos obtener el recuento de las apariciones de las distintas variables"
   ]
  },
  {
   "cell_type": "code",
   "execution_count": null,
   "metadata": {},
   "outputs": [],
   "source": [
    "from pgmpy.estimators import ParameterEstimator\n",
    "\n",
    "# pe = ParameterEstimator(hc_bdeu_model, data)\n",
    "# print(pe.state_counts('Age'))"
   ]
  },
  {
   "cell_type": "markdown",
   "metadata": {},
   "source": [
    "O directamente las probabilidades usando un estimador máximo verosimil, que en este caso se corresponde a las frecuencias relativas"
   ]
  },
  {
   "cell_type": "code",
   "execution_count": null,
   "metadata": {},
   "outputs": [],
   "source": [
    "# from pgmpy.estimators import MaximumLikelihoodEstimator\n",
    "# mle = MaximumLikelihoodEstimator(hc_bdeu_model, data)\n",
    "# print(mle.estimate_cpd('Age')) "
   ]
  },
  {
   "cell_type": "markdown",
   "metadata": {},
   "source": [
    "Para obtener todas las TPC a la vez:"
   ]
  },
  {
   "cell_type": "code",
   "execution_count": null,
   "metadata": {
    "scrolled": true
   },
   "outputs": [],
   "source": [
    "# hc_bdeu_model.fit(data, estimator=MaximumLikelihoodEstimator)"
   ]
  },
  {
   "cell_type": "markdown",
   "metadata": {},
   "source": [
    "Podemos usar estimadores bayesianos, suponiendo una distribucióna  priori:"
   ]
  },
  {
   "cell_type": "code",
   "execution_count": null,
   "metadata": {
    "scrolled": true
   },
   "outputs": [],
   "source": [
    "# from pgmpy.estimators import BayesianEstimator\n",
    "\n",
    "# est = BayesianEstimator(hc_bdeu_model, data)\n",
    "# print(est.estimate_cpd('Age', prior_type='BDeu', equivalent_sample_size=10))\n",
    "\n",
    "# hc_bdeu_model.fit(data, estimator=BayesianEstimator, prior_type=\"BDeu\") # default equivalent_sample_size=5"
   ]
  },
  {
   "cell_type": "markdown",
   "metadata": {},
   "source": [
    "Vemos como las probabilidades que antes eran 0 ahora no lo son"
   ]
  },
  {
   "cell_type": "markdown",
   "metadata": {},
   "source": [
    "# Comparación accuracy distintas estructuras"
   ]
  },
  {
   "cell_type": "markdown",
   "metadata": {},
   "source": [
    "Creamos los modelos a partir de las estructuras:"
   ]
  },
  {
   "cell_type": "code",
   "execution_count": null,
   "metadata": {},
   "outputs": [],
   "source": [
    "from pgmpy.models import BayesianModel\n",
    "\n",
    "hc_bdeu_model = BayesianModel()\n",
    "hc_bdeu_model.add_nodes_from(hc_bdeu_structure.nodes)\n",
    "hc_bdeu_model.add_edges_from(hc_bdeu_structure.edges)\n",
    "\n",
    "# hc_k2_model = BayesianModel()\n",
    "# hc_k2_model.add_nodes_from(hc_k2_structure.nodes)\n",
    "# hc_k2_model.add_edges_from(hc_k2_structure.edges)\n",
    "\n",
    "hc_bic_model = BayesianModel()\n",
    "hc_bic_model.add_nodes_from(hc_bic_structure.nodes)\n",
    "hc_bic_model.add_edges_from(hc_bic_structure.edges)\n",
    "\n",
    "constraint_model = BayesianModel()\n",
    "constraint_model.add_nodes_from(constraint_structure.nodes)\n",
    "constraint_model.add_edges_from(constraint_structure.edges)"
   ]
  },
  {
   "cell_type": "markdown",
   "metadata": {},
   "source": [
    "Estimamos los parámetros usando un estimador bayesiano con priori uniforme:"
   ]
  },
  {
   "cell_type": "code",
   "execution_count": null,
   "metadata": {},
   "outputs": [],
   "source": [
    "from pgmpy.estimators import BayesianEstimator\n",
    "\n",
    "hc_bdeu_model.fit(data, estimator=BayesianEstimator, prior_type=\"BDeu\")\n",
    "# hc_k2_model.fit(data, estimator=BayesianEstimator, prior_type=\"BDeu\")\n",
    "hc_bic_model.fit(data, estimator=BayesianEstimator, prior_type=\"BDeu\")\n",
    "constraint_model.fit(data, estimator=BayesianEstimator, prior_type=\"BDeu\")"
   ]
  },
  {
   "cell_type": "markdown",
   "metadata": {},
   "source": [
    "Preparamos la inferencia con eliminación de variables:"
   ]
  },
  {
   "cell_type": "code",
   "execution_count": null,
   "metadata": {},
   "outputs": [],
   "source": [
    "# from pgmpy.inference import VariableElimination\n",
    "\n",
    "# hc_bdeu_inference = VariableElimination(hc_bdeu_model)\n",
    "# hc_k2_inference = VariableElimination(hc_k2_model)\n",
    "# hc_bic_inference = VariableElimination(hc_bic_model)\n",
    "# constraint_inference = VariableElimination(constraint_model)"
   ]
  },
  {
   "cell_type": "markdown",
   "metadata": {},
   "source": [
    "Ejecutamos la inferencia:"
   ]
  },
  {
   "cell_type": "code",
   "execution_count": null,
   "metadata": {
    "scrolled": true
   },
   "outputs": [],
   "source": [
    "# X_complete_train_dict = list(X_complete_train.to_dict('index').values())\n",
    "\n",
    "# %time %memit y_pred_hc_bdeu = [hc_bdeu_inference.map_query(variables=['Outcome'], evidence=entry, elimination_order='MinFill', \\\n",
    "#                     show_progress=False)['Outcome'] for entry in X_complete_train_dict]\n",
    "# %time %memit y_pred_hc_k2 = [hc_k2_inference.map_query(variables=['Outcome'], evidence=entry, elimination_order='MinFill', \\\n",
    "#                     show_progress=False)['Outcome'] for entry in X_complete_train_dict]\n",
    "# %time %memit y_pred_hc_bic = [hc_bic_inference.map_query(variables=['Outcome'], evidence=entry, elimination_order='MinFill', \\\n",
    "#                     show_progress=False)['Outcome'] for entry in X_complete_train_dict]\n",
    "# %time %memit y_pred_constraint = [constraint_inference.map_query(variables=['Outcome'], evidence=entry, elimination_order='MinFill', \\\n",
    "#                         show_progress=False)['Outcome'] for entry in X_complete_train_dict]\n",
    "\n",
    "# # for entry in X_complete_train_dict:\n",
    "#     print(hc_bdeu_inference.map_query(variables=['Outcome'], evidence=entry, elimination_order='MinFill')['Outcome'])\n",
    "# hc_bdeu_inference.map_query(variables=['Outcome'], evidence=None, elimination_order='MinFill')"
   ]
  },
  {
   "cell_type": "markdown",
   "metadata": {},
   "source": [
    "O más facil:"
   ]
  },
  {
   "cell_type": "code",
   "execution_count": null,
   "metadata": {},
   "outputs": [],
   "source": [
    "%time %memit y_pred_hc_bdeu = hc_bdeu_model.predict(X_complete_train)\n",
    "%time %memit y_pred_hc_k2 = hc_k2_model.predict(X_complete_train)\n",
    "%time %memit y_pred_hc_bic = hc_bic_model.predict(X_complete_train)\n",
    "%time %memit y_pred_constraint = constraint_model.predict(X_complete_train)"
   ]
  },
  {
   "cell_type": "code",
   "execution_count": null,
   "metadata": {},
   "outputs": [],
   "source": [
    "print(\"HC BDeu:\\n\", classification_report(list(y_pred_hc_bdeu['target']), list(y_complete_train)))\n",
    "print(\"HC K2:\\n\", classification_report(list(y_pred_hc_k2['target']), list(y_complete_train)))\n",
    "print(\"HC BIC:\\n\", classification_report(list(y_pred_hc_bic['target']), list(y_complete_train)))\n",
    "print(\"Constraint:\\n\", classification_report(list(y_pred_constraint['target']), list(y_complete_train)))"
   ]
  },
  {
   "cell_type": "markdown",
   "metadata": {},
   "source": [
    "Sobre los datos de validación:"
   ]
  },
  {
   "cell_type": "code",
   "execution_count": null,
   "metadata": {},
   "outputs": [],
   "source": [
    "%time %memit y_pred_hc_bdeu = hc_bdeu_model.predict(X_complete_test)\n",
    "%time %memit y_pred_hc_k2 = hc_k2_model.predict(X_complete_test)\n",
    "%time %memit y_pred_hc_bic = hc_bic_model.predict(X_complete_test)\n",
    "%time %memit y_pred_constraint = constraint_model.predict(X_complete_test)"
   ]
  },
  {
   "cell_type": "code",
   "execution_count": null,
   "metadata": {},
   "outputs": [],
   "source": [
    "print(\"HC BDeu:\\n\", classification_report(list(y_pred_hc_bdeu['target']), list(y_complete_test)))\n",
    "print(\"HC K2:\\n\", classification_report(list(y_pred_hc_k2['target']), list(y_complete_test)))\n",
    "print(\"HC BIC:\\n\", classification_report(list(y_pred_hc_bic['target']), list(y_complete_test)))\n",
    "print(\"Constraint:\\n\", classification_report(list(y_pred_constraint['target']), list(y_complete_test)))"
   ]
  },
  {
   "cell_type": "markdown",
   "metadata": {},
   "source": [
    "O directamente sobre el dataset completo"
   ]
  },
  {
   "cell_type": "code",
   "execution_count": null,
   "metadata": {
    "scrolled": true
   },
   "outputs": [],
   "source": [
    "X_complete_data = complete_data.drop(columns='target')\n",
    "y_complete_data = complete_data['target']\n",
    "\n",
    "%time %memit y_pred_hc_bdeu = hc_bdeu_model.predict(X_complete_data)\n",
    "%time %memit y_pred_hc_k2 = hc_k2_model.predict(X_complete_data)\n",
    "%time %memit y_pred_hc_bic = hc_bic_model.predict(X_complete_data)\n",
    "%time %memit y_pred_constraint = constraint_model.predict(X_complete_data)"
   ]
  },
  {
   "cell_type": "code",
   "execution_count": null,
   "metadata": {},
   "outputs": [],
   "source": [
    "print(\"HC BDeu:\\n\", classification_report(list(y_pred_hc_bdeu['target']), list(y_complete_data)))\n",
    "print(\"HC K2:\\n\", classification_report(list(y_pred_hc_k2['target']), list(y_complete_data)))\n",
    "print(\"HC BIC:\\n\", classification_report(list(y_pred_hc_bic['target']), list(y_complete_data)))\n",
    "print(\"Constraint:\\n\", classification_report(list(y_pred_constraint['target']), list(y_complete_data)))"
   ]
  }
 ],
 "metadata": {
  "kernelspec": {
   "display_name": "PGM",
   "language": "python",
   "name": "pgm"
  },
  "language_info": {
   "codemirror_mode": {
    "name": "ipython",
    "version": 3
   },
   "file_extension": ".py",
   "mimetype": "text/x-python",
   "name": "python",
   "nbconvert_exporter": "python",
   "pygments_lexer": "ipython3",
   "version": "3.7.7"
  }
 },
 "nbformat": 4,
 "nbformat_minor": 4
}
