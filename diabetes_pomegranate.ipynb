{
 "cells": [
  {
   "cell_type": "markdown",
   "metadata": {},
   "source": [
    "# Importación de módulos generales"
   ]
  },
  {
   "cell_type": "code",
   "execution_count": 1,
   "metadata": {
    "scrolled": true
   },
   "outputs": [
    {
     "name": "stdout",
     "output_type": "stream",
     "text": [
      "Populating the interactive namespace from numpy and matplotlib\n"
     ]
    }
   ],
   "source": [
    "%pylab inline\n",
    "%load_ext memory_profiler\n",
    "\n",
    "# %pylab\n",
    "\n",
    "import os\n",
    "import tempfile\n",
    "import pandas as pd\n",
    "# import numpy as np\n",
    "import networkx as nx\n",
    "# import matplotlib\n",
    "# import pylab  as plt\n",
    "import pygraphviz\n",
    "\n",
    "from pomegranate import BayesianNetwork\n",
    "\n",
    "from sklearn.metrics import classification_report, accuracy_score, confusion_matrix\n",
    "from sklearn.model_selection import train_test_split"
   ]
  },
  {
   "cell_type": "markdown",
   "metadata": {},
   "source": [
    "# Funciones auxiliares visualización"
   ]
  },
  {
   "cell_type": "markdown",
   "metadata": {},
   "source": [
    "Importamos las funciones auxiliares para visualizar redes que hemos definido:\n",
    "- **plot_pomegranate_bn_nx**(pgm, layout=None, node_size=2000, node_color='pink')\n",
    "- **plot_pomegranate_bn_pgvz**(pgm, filename=None, prog='dot', color='red')\n",
    "- **plot_pgm_bn**(pgm, layout=None, node_size=2000, node_color='pink'):"
   ]
  },
  {
   "cell_type": "code",
   "execution_count": 2,
   "metadata": {},
   "outputs": [],
   "source": [
    "from funciones_auxiliares import *"
   ]
  },
  {
   "cell_type": "markdown",
   "metadata": {},
   "source": [
    "# Lectura de datos"
   ]
  },
  {
   "cell_type": "markdown",
   "metadata": {},
   "source": [
    "Podemos obtener los datos originales de https://www.kaggle.com/uciml/pima-indians-diabetes-database."
   ]
  },
  {
   "cell_type": "code",
   "execution_count": 3,
   "metadata": {
    "scrolled": true
   },
   "outputs": [
    {
     "data": {
      "text/html": [
       "<div>\n",
       "<style scoped>\n",
       "    .dataframe tbody tr th:only-of-type {\n",
       "        vertical-align: middle;\n",
       "    }\n",
       "\n",
       "    .dataframe tbody tr th {\n",
       "        vertical-align: top;\n",
       "    }\n",
       "\n",
       "    .dataframe thead th {\n",
       "        text-align: right;\n",
       "    }\n",
       "</style>\n",
       "<table border=\"1\" class=\"dataframe\">\n",
       "  <thead>\n",
       "    <tr style=\"text-align: right;\">\n",
       "      <th></th>\n",
       "      <th>Pregnancies</th>\n",
       "      <th>Glucose</th>\n",
       "      <th>BloodPressure</th>\n",
       "      <th>SkinThickness</th>\n",
       "      <th>Insulin</th>\n",
       "      <th>BMI</th>\n",
       "      <th>DiabetesPedigreeFunction</th>\n",
       "      <th>Age</th>\n",
       "      <th>Outcome</th>\n",
       "    </tr>\n",
       "  </thead>\n",
       "  <tbody>\n",
       "    <tr>\n",
       "      <th>0</th>\n",
       "      <td>6</td>\n",
       "      <td>148</td>\n",
       "      <td>72</td>\n",
       "      <td>35</td>\n",
       "      <td>0</td>\n",
       "      <td>33.6</td>\n",
       "      <td>0.627</td>\n",
       "      <td>50</td>\n",
       "      <td>1</td>\n",
       "    </tr>\n",
       "    <tr>\n",
       "      <th>1</th>\n",
       "      <td>1</td>\n",
       "      <td>85</td>\n",
       "      <td>66</td>\n",
       "      <td>29</td>\n",
       "      <td>0</td>\n",
       "      <td>26.6</td>\n",
       "      <td>0.351</td>\n",
       "      <td>31</td>\n",
       "      <td>0</td>\n",
       "    </tr>\n",
       "    <tr>\n",
       "      <th>2</th>\n",
       "      <td>8</td>\n",
       "      <td>183</td>\n",
       "      <td>64</td>\n",
       "      <td>0</td>\n",
       "      <td>0</td>\n",
       "      <td>23.3</td>\n",
       "      <td>0.672</td>\n",
       "      <td>32</td>\n",
       "      <td>1</td>\n",
       "    </tr>\n",
       "    <tr>\n",
       "      <th>3</th>\n",
       "      <td>1</td>\n",
       "      <td>89</td>\n",
       "      <td>66</td>\n",
       "      <td>23</td>\n",
       "      <td>94</td>\n",
       "      <td>28.1</td>\n",
       "      <td>0.167</td>\n",
       "      <td>21</td>\n",
       "      <td>0</td>\n",
       "    </tr>\n",
       "    <tr>\n",
       "      <th>4</th>\n",
       "      <td>0</td>\n",
       "      <td>137</td>\n",
       "      <td>40</td>\n",
       "      <td>35</td>\n",
       "      <td>168</td>\n",
       "      <td>43.1</td>\n",
       "      <td>2.288</td>\n",
       "      <td>33</td>\n",
       "      <td>1</td>\n",
       "    </tr>\n",
       "  </tbody>\n",
       "</table>\n",
       "</div>"
      ],
      "text/plain": [
       "   Pregnancies  Glucose  BloodPressure  SkinThickness  Insulin   BMI  \\\n",
       "0            6      148             72             35        0  33.6   \n",
       "1            1       85             66             29        0  26.6   \n",
       "2            8      183             64              0        0  23.3   \n",
       "3            1       89             66             23       94  28.1   \n",
       "4            0      137             40             35      168  43.1   \n",
       "\n",
       "   DiabetesPedigreeFunction  Age  Outcome  \n",
       "0                     0.627   50        1  \n",
       "1                     0.351   31        0  \n",
       "2                     0.672   32        1  \n",
       "3                     0.167   21        0  \n",
       "4                     2.288   33        1  "
      ]
     },
     "execution_count": 3,
     "metadata": {},
     "output_type": "execute_result"
    }
   ],
   "source": [
    "data = pd.read_csv(\"data/diabetes/prima_indian_diabetes_dataset.csv\")\n",
    "data.head()"
   ]
  },
  {
   "cell_type": "markdown",
   "metadata": {},
   "source": [
    "Como podemos observar, hay valores nulos en ciertas variables, en este caso representados mediante el valor 0."
   ]
  },
  {
   "cell_type": "code",
   "execution_count": 4,
   "metadata": {
    "scrolled": false
   },
   "outputs": [
    {
     "name": "stdout",
     "output_type": "stream",
     "text": [
      "Valores nulos en cada variable:\n",
      " Pregnancies                   0\n",
      "Glucose                       5\n",
      "BloodPressure                35\n",
      "SkinThickness               227\n",
      "Insulin                     374\n",
      "BMI                          11\n",
      "DiabetesPedigreeFunction      0\n",
      "Age                           0\n",
      "Outcome                       0\n",
      "dtype: int64\n",
      "\n",
      "Número de registros completos:  392\n"
     ]
    }
   ],
   "source": [
    "data [['Glucose','BloodPressure','SkinThickness','Insulin','BMI']] = data[['Glucose','BloodPressure','SkinThickness','Insulin','BMI']].replace(0,np.NaN)\n",
    "print(\"Valores nulos en cada variable:\\n\", data.isnull().sum())\n",
    "\n",
    "print(\"\\nNúmero de registros completos: \", data.dropna().count()[0])"
   ]
  },
  {
   "cell_type": "markdown",
   "metadata": {},
   "source": [
    "Discretizamos las variables numéricas:"
   ]
  },
  {
   "cell_type": "code",
   "execution_count": 5,
   "metadata": {},
   "outputs": [
    {
     "data": {
      "text/html": [
       "<div>\n",
       "<style scoped>\n",
       "    .dataframe tbody tr th:only-of-type {\n",
       "        vertical-align: middle;\n",
       "    }\n",
       "\n",
       "    .dataframe tbody tr th {\n",
       "        vertical-align: top;\n",
       "    }\n",
       "\n",
       "    .dataframe thead th {\n",
       "        text-align: right;\n",
       "    }\n",
       "</style>\n",
       "<table border=\"1\" class=\"dataframe\">\n",
       "  <thead>\n",
       "    <tr style=\"text-align: right;\">\n",
       "      <th></th>\n",
       "      <th>Pregnancies</th>\n",
       "      <th>Glucose</th>\n",
       "      <th>BloodPressure</th>\n",
       "      <th>SkinThickness</th>\n",
       "      <th>Insulin</th>\n",
       "      <th>BMI</th>\n",
       "      <th>DiabetesPedigreeFunction</th>\n",
       "      <th>Age</th>\n",
       "      <th>Outcome</th>\n",
       "    </tr>\n",
       "  </thead>\n",
       "  <tbody>\n",
       "    <tr>\n",
       "      <th>0</th>\n",
       "      <td>6</td>\n",
       "      <td>(147.333, 157.667]</td>\n",
       "      <td>(69.733, 76.267]</td>\n",
       "      <td>(31.533, 37.667]</td>\n",
       "      <td>NaN</td>\n",
       "      <td>(31.24, 34.5]</td>\n",
       "      <td>(0.546, 0.703]</td>\n",
       "      <td>(49.0, 53.0]</td>\n",
       "      <td>1</td>\n",
       "    </tr>\n",
       "    <tr>\n",
       "      <th>1</th>\n",
       "      <td>1</td>\n",
       "      <td>(75.0, 85.333]</td>\n",
       "      <td>(63.2, 69.733]</td>\n",
       "      <td>(25.4, 31.533]</td>\n",
       "      <td>NaN</td>\n",
       "      <td>(24.72, 27.98]</td>\n",
       "      <td>(0.234, 0.39]</td>\n",
       "      <td>(29.0, 33.0]</td>\n",
       "      <td>0</td>\n",
       "    </tr>\n",
       "    <tr>\n",
       "      <th>2</th>\n",
       "      <td>8</td>\n",
       "      <td>(178.333, 188.667]</td>\n",
       "      <td>(63.2, 69.733]</td>\n",
       "      <td>NaN</td>\n",
       "      <td>NaN</td>\n",
       "      <td>(21.46, 24.72]</td>\n",
       "      <td>(0.546, 0.703]</td>\n",
       "      <td>(29.0, 33.0]</td>\n",
       "      <td>1</td>\n",
       "    </tr>\n",
       "    <tr>\n",
       "      <th>3</th>\n",
       "      <td>1</td>\n",
       "      <td>(85.333, 95.667]</td>\n",
       "      <td>(63.2, 69.733]</td>\n",
       "      <td>(19.267, 25.4]</td>\n",
       "      <td>(69.467, 124.933]</td>\n",
       "      <td>(27.98, 31.24]</td>\n",
       "      <td>(0.0757, 0.234]</td>\n",
       "      <td>(20.94, 25.0]</td>\n",
       "      <td>0</td>\n",
       "    </tr>\n",
       "    <tr>\n",
       "      <th>4</th>\n",
       "      <td>0</td>\n",
       "      <td>(126.667, 137.0]</td>\n",
       "      <td>(37.067, 43.6]</td>\n",
       "      <td>(31.533, 37.667]</td>\n",
       "      <td>(124.933, 180.4]</td>\n",
       "      <td>(41.02, 44.28]</td>\n",
       "      <td>(2.264, 2.42]</td>\n",
       "      <td>(29.0, 33.0]</td>\n",
       "      <td>1</td>\n",
       "    </tr>\n",
       "  </tbody>\n",
       "</table>\n",
       "</div>"
      ],
      "text/plain": [
       "   Pregnancies             Glucose     BloodPressure     SkinThickness  \\\n",
       "0            6  (147.333, 157.667]  (69.733, 76.267]  (31.533, 37.667]   \n",
       "1            1      (75.0, 85.333]    (63.2, 69.733]    (25.4, 31.533]   \n",
       "2            8  (178.333, 188.667]    (63.2, 69.733]               NaN   \n",
       "3            1    (85.333, 95.667]    (63.2, 69.733]    (19.267, 25.4]   \n",
       "4            0    (126.667, 137.0]    (37.067, 43.6]  (31.533, 37.667]   \n",
       "\n",
       "             Insulin             BMI DiabetesPedigreeFunction            Age  \\\n",
       "0                NaN   (31.24, 34.5]           (0.546, 0.703]   (49.0, 53.0]   \n",
       "1                NaN  (24.72, 27.98]            (0.234, 0.39]   (29.0, 33.0]   \n",
       "2                NaN  (21.46, 24.72]           (0.546, 0.703]   (29.0, 33.0]   \n",
       "3  (69.467, 124.933]  (27.98, 31.24]          (0.0757, 0.234]  (20.94, 25.0]   \n",
       "4   (124.933, 180.4]  (41.02, 44.28]            (2.264, 2.42]   (29.0, 33.0]   \n",
       "\n",
       "   Outcome  \n",
       "0        1  \n",
       "1        0  \n",
       "2        1  \n",
       "3        0  \n",
       "4        1  "
      ]
     },
     "execution_count": 5,
     "metadata": {},
     "output_type": "execute_result"
    }
   ],
   "source": [
    "columns_to_discretize = ['Glucose', 'BloodPressure', 'SkinThickness', 'Insulin', 'BMI', 'DiabetesPedigreeFunction', 'Age']\n",
    "num_bins=15\n",
    "\n",
    "for col in columns_to_discretize:\n",
    "    data[col] = pd.cut(data[col], bins=num_bins)\n",
    "    \n",
    "data.head()"
   ]
  },
  {
   "cell_type": "markdown",
   "metadata": {},
   "source": [
    "Y separamos los registros completos(sin valores nulos) de los iniciales"
   ]
  },
  {
   "cell_type": "code",
   "execution_count": 6,
   "metadata": {},
   "outputs": [],
   "source": [
    "complete_data = data.dropna().reset_index(drop=True)"
   ]
  },
  {
   "cell_type": "markdown",
   "metadata": {},
   "source": [
    "Dividimos los datos en conjunto de entrenamiento y validación"
   ]
  },
  {
   "cell_type": "code",
   "execution_count": 7,
   "metadata": {
    "scrolled": true
   },
   "outputs": [
    {
     "name": "stdout",
     "output_type": "stream",
     "text": [
      "Particiones obtenidas sobre los datos iniciales:\n",
      "X_train:  (512, 8)\n",
      "y_train:  (512,)\n",
      "X_test:   (256, 8)\n",
      "y_test:   (256,)\n",
      "\n",
      "Particiones obtenidas sobre los datos con los registros completos:\n",
      "X_complete_train:  (261, 8)\n",
      "y_complete_train:  (261,)\n",
      "X_complete_test:   (131, 8)\n",
      "y_complete_test:   (131,)\n"
     ]
    }
   ],
   "source": [
    "X = data.drop(columns=['Outcome'])\n",
    "y = data.Outcome\n",
    "\n",
    "X_complete = complete_data.drop(columns=['Outcome'])\n",
    "y_complete = complete_data.Outcome\n",
    "\n",
    "X_train, X_test, y_train, y_test = train_test_split(X, y, test_size=1/3)\n",
    "X_complete_train, X_complete_test, y_complete_train, y_complete_test = train_test_split(X_complete, y_complete, test_size=1/3)\n",
    "\n",
    "print(\"Particiones obtenidas sobre los datos iniciales:\")\n",
    "print(\"X_train: \", X_train.shape)\n",
    "print(\"y_train: \", y_train.shape)\n",
    "print(\"X_test:  \", X_test.shape)\n",
    "print(\"y_test:  \", y_test.shape)\n",
    "print(\"\\nParticiones obtenidas sobre los datos con los registros completos:\")\n",
    "print(\"X_complete_train: \", X_complete_train.shape)\n",
    "print(\"y_complete_train: \", y_complete_train.shape)\n",
    "print(\"X_complete_test:  \", X_complete_test.shape)\n",
    "print(\"y_complete_test:  \", y_complete_test.shape)"
   ]
  },
  {
   "cell_type": "markdown",
   "metadata": {},
   "source": [
    "# Algoritmos de aprendizaje"
   ]
  },
  {
   "cell_type": "markdown",
   "metadata": {},
   "source": [
    "### Chow-Liu"
   ]
  },
  {
   "cell_type": "markdown",
   "metadata": {},
   "source": [
    "Aplicamos el algoritmo de Chow-Liu para aprender una estructura de árbol:"
   ]
  },
  {
   "cell_type": "code",
   "execution_count": 13,
   "metadata": {},
   "outputs": [
    {
     "name": "stdout",
     "output_type": "stream",
     "text": [
      "peak memory: 139.30 MiB, increment: 0.12 MiB\n",
      "Wall time: 2.23 s\n"
     ]
    }
   ],
   "source": [
    "%time %memit pomegranate_tree = BayesianNetwork.from_samples(complete_data, algorithm='chow-liu', root=8, \\\n",
    "                                                             state_names=list(data))\n",
    "\n",
    "pomegranate_tree.bake()"
   ]
  },
  {
   "cell_type": "markdown",
   "metadata": {},
   "source": [
    "Visualizamos el árbol resultante:"
   ]
  },
  {
   "cell_type": "code",
   "execution_count": 14,
   "metadata": {
    "scrolled": false
   },
   "outputs": [
    {
     "data": {
      "image/png": "[encoded data removed]",
      "text/plain": [
       "<Figure size 432x288 with 1 Axes>"
      ]
     },
     "metadata": {},
     "output_type": "display_data"
    }
   ],
   "source": [
    "plot_pomegranate_bn_nx(pomegranate_tree, node_size=1000, node_color='pink')"
   ]
  },
  {
   "cell_type": "markdown",
   "metadata": {},
   "source": [
    "Podemos hacer inferencia, predeciendo la variabel *Outcome* para los registros de entrenamiento:"
   ]
  },
  {
   "cell_type": "code",
   "execution_count": 15,
   "metadata": {
    "scrolled": true
   },
   "outputs": [
    {
     "name": "stdout",
     "output_type": "stream",
     "text": [
      "peak memory: 139.41 MiB, increment: 0.00 MiB\n",
      "Wall time: 4.63 s\n"
     ]
    }
   ],
   "source": [
    "nan_vec = np.array([[np.NaN]*X_complete_train.shape[0]]).T\n",
    "complete_train_uknown_outcome = np.concatenate((X_complete_train.to_numpy(),nan_vec), axis=1)\n",
    "\n",
    "%time %memit y_pred_train = np.array(pomegranate_tree.predict(complete_train_uknown_outcome))[:,8]"
   ]
  },
  {
   "cell_type": "code",
   "execution_count": 16,
   "metadata": {},
   "outputs": [
    {
     "name": "stdout",
     "output_type": "stream",
     "text": [
      "              precision    recall  f1-score   support\n",
      "\n",
      "           0       0.89      0.80      0.84       203\n",
      "           1       0.49      0.66      0.56        58\n",
      "\n",
      "    accuracy                           0.77       261\n",
      "   macro avg       0.69      0.73      0.70       261\n",
      "weighted avg       0.80      0.77      0.78       261\n",
      "\n",
      "0.7701149425287356\n"
     ]
    }
   ],
   "source": [
    "print(classification_report(list(y_pred_train), list(y_complete_train)))\n",
    "print(accuracy_score(list(y_pred_train), list(y_complete_train)))"
   ]
  },
  {
   "cell_type": "markdown",
   "metadata": {},
   "source": [
    "O sobre el dataset dejado en la partición para validación:"
   ]
  },
  {
   "cell_type": "code",
   "execution_count": 17,
   "metadata": {},
   "outputs": [
    {
     "name": "stdout",
     "output_type": "stream",
     "text": [
      "peak memory: 139.39 MiB, increment: 0.00 MiB\n",
      "Wall time: 2.95 s\n"
     ]
    }
   ],
   "source": [
    "nan_vec = np.array([[np.NaN]*X_complete_test.shape[0]]).T\n",
    "complete_data_matrix_uknown_outcome = np.concatenate((X_complete_test.to_numpy(),nan_vec), axis=1)\n",
    "\n",
    "%time %memit y_pred = np.array(pomegranate_tree.predict(complete_data_matrix_uknown_outcome))[:,8]"
   ]
  },
  {
   "cell_type": "code",
   "execution_count": 18,
   "metadata": {
    "scrolled": true
   },
   "outputs": [
    {
     "name": "stdout",
     "output_type": "stream",
     "text": [
      "              precision    recall  f1-score   support\n",
      "\n",
      "           0       0.96      0.73      0.83       104\n",
      "           1       0.46      0.89      0.61        27\n",
      "\n",
      "    accuracy                           0.76       131\n",
      "   macro avg       0.71      0.81      0.72       131\n",
      "weighted avg       0.86      0.76      0.78       131\n",
      "\n",
      "0.7633587786259542\n"
     ]
    }
   ],
   "source": [
    "print(classification_report(list(y_pred), list(y_complete_test)))\n",
    "print(accuracy_score(list(y_pred), list(y_complete_test)))"
   ]
  },
  {
   "cell_type": "markdown",
   "metadata": {},
   "source": [
    "# Comparación Chow-Liu vs Greedy vs Exact"
   ]
  },
  {
   "cell_type": "code",
   "execution_count": 19,
   "metadata": {},
   "outputs": [
    {
     "name": "stdout",
     "output_type": "stream",
     "text": [
      "peak memory: 140.26 MiB, increment: 0.88 MiB\n",
      "Wall time: 2.42 s\n",
      "peak memory: 211.03 MiB, increment: 70.77 MiB\n",
      "Wall time: 6.14 s\n",
      "peak memory: 217.14 MiB, increment: 76.68 MiB\n",
      "Wall time: 29.8 s\n"
     ]
    }
   ],
   "source": [
    "%time %memit chow_liu_model = BayesianNetwork.from_samples(complete_data, algorithm='chow-liu', root=8, \\\n",
    "                                                             state_names=list(data))\n",
    "%time %memit greedy_model = BayesianNetwork.from_samples(data, algorithm='greedy', state_names=list(data))\n",
    "%time %memit exact_model = BayesianNetwork.from_samples(data, algorithm='exact', state_names=list(data))\n",
    "\n",
    "chow_liu_model.bake()\n",
    "greedy_model.bake()\n",
    "exact_model.bake()"
   ]
  },
  {
   "cell_type": "code",
   "execution_count": 20,
   "metadata": {
    "scrolled": true
   },
   "outputs": [
    {
     "data": {
      "image/png": "[encoded data removed]",
      "text/plain": [
       "<Figure size 432x288 with 1 Axes>"
      ]
     },
     "metadata": {},
     "output_type": "display_data"
    },
    {
     "data": {
      "image/png": "[encoded data removed]",
      "text/plain": [
       "<Figure size 432x288 with 1 Axes>"
      ]
     },
     "metadata": {},
     "output_type": "display_data"
    },
    {
     "name": "stderr",
     "output_type": "stream",
     "text": [
      "C:\\Users\\usuario\\.conda\\envs\\PGM\\lib\\site-packages\\networkx\\drawing\\layout.py:950: FutureWarning: arrays to stack must be passed as a \"sequence\" type such as list or tuple. Support for non-sequence iterables such as generators is deprecated as of NumPy 1.16 and will raise an error in the future.\n",
      "  pos = np.row_stack((pos[x] for x in node_list))\n"
     ]
    },
    {
     "data": {
      "image/png": "[encoded data removed]",
      "text/plain": [
       "<Figure size 432x288 with 1 Axes>"
      ]
     },
     "metadata": {},
     "output_type": "display_data"
    }
   ],
   "source": [
    "plot_pomegranate_bn_nx(chow_liu_model, node_size=1000, node_color='pink')\n",
    "plot_pomegranate_bn_nx(greedy_model, node_size=1000, node_color='pink')\n",
    "plot_pomegranate_bn_nx(exact_model, layout=nx.planar_layout, node_size=1000, node_color='pink')"
   ]
  },
  {
   "cell_type": "code",
   "execution_count": 21,
   "metadata": {},
   "outputs": [
    {
     "name": "stdout",
     "output_type": "stream",
     "text": [
      "peak memory: 141.63 MiB, increment: 0.03 MiB\n",
      "Wall time: 2.8 s\n",
      "peak memory: 141.92 MiB, increment: 0.27 MiB\n",
      "Wall time: 6.37 s\n",
      "peak memory: 142.20 MiB, increment: 0.25 MiB\n",
      "Wall time: 6.41 s\n"
     ]
    }
   ],
   "source": [
    "nan_vec = np.array([[np.NaN]*X_complete_test.shape[0]]).T\n",
    "complete_data_matrix_uknown_outcome = np.concatenate((X_complete_test.to_numpy(),nan_vec), axis=1)\n",
    "\n",
    "%time %memit y_pred_complete_chow_liu = np.array(chow_liu_model.predict(complete_data_matrix_uknown_outcome))[:,8]\n",
    "\n",
    "nan_vec = np.array([[np.NaN]*X_test.shape[0]]).T\n",
    "data_matrix_uknown_outcome = np.concatenate((X_test.to_numpy(),nan_vec), axis=1)\n",
    "\n",
    "# %time %memit y_pred_chow_liu = np.array(chow_liu_model.predict(data_matrix_uknown_outcome))[:,8]\n",
    "%time %memit y_pred_greedy = np.array(greedy_model.predict(data_matrix_uknown_outcome))[:,8]\n",
    "%time %memit y_pred_exact = np.array(exact_model.predict(data_matrix_uknown_outcome))[:,8]"
   ]
  },
  {
   "cell_type": "code",
   "execution_count": 22,
   "metadata": {
    "scrolled": true
   },
   "outputs": [
    {
     "name": "stdout",
     "output_type": "stream",
     "text": [
      "Chow-Liu:\n",
      "               precision    recall  f1-score   support\n",
      "\n",
      "           0       0.96      0.73      0.83       104\n",
      "           1       0.46      0.89      0.61        27\n",
      "\n",
      "    accuracy                           0.76       131\n",
      "   macro avg       0.71      0.81      0.72       131\n",
      "weighted avg       0.86      0.76      0.78       131\n",
      "\n",
      "Greedy:\n",
      "               precision    recall  f1-score   support\n",
      "\n",
      "           0       0.76      0.71      0.73       180\n",
      "           1       0.40      0.46      0.43        76\n",
      "\n",
      "    accuracy                           0.64       256\n",
      "   macro avg       0.58      0.59      0.58       256\n",
      "weighted avg       0.65      0.64      0.64       256\n",
      "\n",
      "Exact:\n",
      "               precision    recall  f1-score   support\n",
      "\n",
      "           0       0.96      0.69      0.80       236\n",
      "           1       0.16      0.70      0.26        20\n",
      "\n",
      "    accuracy                           0.69       256\n",
      "   macro avg       0.56      0.70      0.53       256\n",
      "weighted avg       0.90      0.69      0.76       256\n",
      "\n"
     ]
    }
   ],
   "source": [
    "print(\"Chow-Liu:\\n\", classification_report(list(y_pred_complete_chow_liu), list(y_complete_test)))\n",
    "# print(classification_report(list(y_pred_chow_liu), list(y_test)))\n",
    "print(\"Greedy:\\n\", classification_report(list(y_pred_greedy), list(y_test)))\n",
    "print(\"Exact:\\n\", classification_report(list(y_pred_exact), list(y_test)))"
   ]
  }
 ],
 "metadata": {
  "kernelspec": {
   "display_name": "PGM",
   "language": "python",
   "name": "pgm"
  },
  "language_info": {
   "codemirror_mode": {
    "name": "ipython",
    "version": 3
   },
   "file_extension": ".py",
   "mimetype": "text/x-python",
   "name": "python",
   "nbconvert_exporter": "python",
   "pygments_lexer": "ipython3",
   "version": "3.7.7"
  }
 },
 "nbformat": 4,
 "nbformat_minor": 4
}
