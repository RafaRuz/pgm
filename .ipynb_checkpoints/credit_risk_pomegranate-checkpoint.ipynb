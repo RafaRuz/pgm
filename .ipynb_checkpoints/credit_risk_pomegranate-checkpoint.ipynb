{
 "cells": [
  {
   "cell_type": "markdown",
   "metadata": {},
   "source": [
    "# Importación de módulos generales"
   ]
  },
  {
   "cell_type": "code",
   "execution_count": 1,
   "metadata": {
    "scrolled": true
   },
   "outputs": [
    {
     "name": "stdout",
     "output_type": "stream",
     "text": [
      "Populating the interactive namespace from numpy and matplotlib\n"
     ]
    }
   ],
   "source": [
    "%pylab inline\n",
    "%load_ext memory_profiler\n",
    "\n",
    "# %pylab\n",
    "\n",
    "import os\n",
    "import tempfile\n",
    "import pandas as pd\n",
    "# import numpy as np\n",
    "import networkx as nx\n",
    "# import matplotlib\n",
    "# import pylab  as plt\n",
    "import pygraphviz\n",
    "\n",
    "from pomegranate import BayesianNetwork\n",
    "\n",
    "from sklearn.metrics import classification_report, accuracy_score, confusion_matrix\n",
    "from sklearn.model_selection import train_test_split"
   ]
  },
  {
   "cell_type": "markdown",
   "metadata": {},
   "source": [
    "# Funciones auxiliares visualización"
   ]
  },
  {
   "cell_type": "markdown",
   "metadata": {},
   "source": [
    "Importamos las funciones auxiliares para visualizar redes que hemos definido:\n",
    "- **plot_pomegranate_bn_nx**(pgm, layout=None, node_size=2000, node_color='pink')\n",
    "- **plot_pomegranate_bn_pgvz**(pgm, filename=None, prog='dot', color='red')\n",
    "- **plot_pgm_bn**(pgm, layout=None, node_size=2000, node_color='pink'):"
   ]
  },
  {
   "cell_type": "code",
   "execution_count": 2,
   "metadata": {},
   "outputs": [],
   "source": [
    "from funciones_auxiliares import *"
   ]
  },
  {
   "cell_type": "markdown",
   "metadata": {},
   "source": [
    "# Lectura de datos"
   ]
  },
  {
   "cell_type": "markdown",
   "metadata": {},
   "source": [
    "Podemos obtener los datos originales de http://archive.ics.uci.edu/ml/machine-learning-databases/statlog/german/german.data.\n",
    "\n",
    "Sin embargo, los valores de las variables no son muy descriptivos así que cargamos los datos convertidos a un formato más descriptivo de https://weka.8497.n7.nabble.com/file/n23121/credit_fruad.arff y convertidos a csv:"
   ]
  },
  {
   "cell_type": "code",
   "execution_count": 3,
   "metadata": {
    "scrolled": true
   },
   "outputs": [
    {
     "data": {
      "text/html": [
       "<div>\n",
       "<style scoped>\n",
       "    .dataframe tbody tr th:only-of-type {\n",
       "        vertical-align: middle;\n",
       "    }\n",
       "\n",
       "    .dataframe tbody tr th {\n",
       "        vertical-align: top;\n",
       "    }\n",
       "\n",
       "    .dataframe thead th {\n",
       "        text-align: right;\n",
       "    }\n",
       "</style>\n",
       "<table border=\"1\" class=\"dataframe\">\n",
       "  <thead>\n",
       "    <tr style=\"text-align: right;\">\n",
       "      <th></th>\n",
       "      <th>credit_usage</th>\n",
       "      <th>credit_history</th>\n",
       "      <th>purpose</th>\n",
       "      <th>current_balance</th>\n",
       "      <th>Average_Credit_Balance</th>\n",
       "      <th>employment</th>\n",
       "      <th>location</th>\n",
       "      <th>personal_status</th>\n",
       "      <th>other_parties</th>\n",
       "      <th>residence_since</th>\n",
       "      <th>property_magnitude</th>\n",
       "      <th>cc_age</th>\n",
       "      <th>other_payment_plans</th>\n",
       "      <th>housing</th>\n",
       "      <th>existing_credits</th>\n",
       "      <th>job</th>\n",
       "      <th>num_dependents</th>\n",
       "      <th>own_telephone</th>\n",
       "      <th>foreign_worker</th>\n",
       "      <th>class</th>\n",
       "    </tr>\n",
       "    <tr>\n",
       "      <th>over_draft</th>\n",
       "      <th></th>\n",
       "      <th></th>\n",
       "      <th></th>\n",
       "      <th></th>\n",
       "      <th></th>\n",
       "      <th></th>\n",
       "      <th></th>\n",
       "      <th></th>\n",
       "      <th></th>\n",
       "      <th></th>\n",
       "      <th></th>\n",
       "      <th></th>\n",
       "      <th></th>\n",
       "      <th></th>\n",
       "      <th></th>\n",
       "      <th></th>\n",
       "      <th></th>\n",
       "      <th></th>\n",
       "      <th></th>\n",
       "      <th></th>\n",
       "    </tr>\n",
       "  </thead>\n",
       "  <tbody>\n",
       "    <tr>\n",
       "      <th>&lt;0</th>\n",
       "      <td>6</td>\n",
       "      <td>'critical/other existing credit'</td>\n",
       "      <td>radio/tv</td>\n",
       "      <td>1169</td>\n",
       "      <td>'no known savings'</td>\n",
       "      <td>&gt;=7</td>\n",
       "      <td>4</td>\n",
       "      <td>'male single'</td>\n",
       "      <td>none</td>\n",
       "      <td>4</td>\n",
       "      <td>'real estate'</td>\n",
       "      <td>67</td>\n",
       "      <td>none</td>\n",
       "      <td>own</td>\n",
       "      <td>2</td>\n",
       "      <td>skilled</td>\n",
       "      <td>1</td>\n",
       "      <td>yes</td>\n",
       "      <td>yes</td>\n",
       "      <td>good</td>\n",
       "    </tr>\n",
       "    <tr>\n",
       "      <th>0&lt;=X&lt;200</th>\n",
       "      <td>48</td>\n",
       "      <td>'existing paid'</td>\n",
       "      <td>radio/tv</td>\n",
       "      <td>5951</td>\n",
       "      <td>&lt;100</td>\n",
       "      <td>1&lt;=X&lt;4</td>\n",
       "      <td>2</td>\n",
       "      <td>'female div/dep/mar'</td>\n",
       "      <td>none</td>\n",
       "      <td>2</td>\n",
       "      <td>'real estate'</td>\n",
       "      <td>22</td>\n",
       "      <td>none</td>\n",
       "      <td>own</td>\n",
       "      <td>1</td>\n",
       "      <td>skilled</td>\n",
       "      <td>1</td>\n",
       "      <td>none</td>\n",
       "      <td>yes</td>\n",
       "      <td>bad</td>\n",
       "    </tr>\n",
       "    <tr>\n",
       "      <th>'no checking'</th>\n",
       "      <td>12</td>\n",
       "      <td>'critical/other existing credit'</td>\n",
       "      <td>education</td>\n",
       "      <td>2096</td>\n",
       "      <td>&lt;100</td>\n",
       "      <td>4&lt;=X&lt;7</td>\n",
       "      <td>2</td>\n",
       "      <td>'male single'</td>\n",
       "      <td>none</td>\n",
       "      <td>3</td>\n",
       "      <td>'real estate'</td>\n",
       "      <td>49</td>\n",
       "      <td>none</td>\n",
       "      <td>own</td>\n",
       "      <td>1</td>\n",
       "      <td>'unskilled resident'</td>\n",
       "      <td>2</td>\n",
       "      <td>none</td>\n",
       "      <td>yes</td>\n",
       "      <td>good</td>\n",
       "    </tr>\n",
       "    <tr>\n",
       "      <th>&lt;0</th>\n",
       "      <td>42</td>\n",
       "      <td>'existing paid'</td>\n",
       "      <td>furniture/equipment</td>\n",
       "      <td>7882</td>\n",
       "      <td>&lt;100</td>\n",
       "      <td>4&lt;=X&lt;7</td>\n",
       "      <td>2</td>\n",
       "      <td>'male single'</td>\n",
       "      <td>guarantor</td>\n",
       "      <td>4</td>\n",
       "      <td>'life insurance'</td>\n",
       "      <td>45</td>\n",
       "      <td>none</td>\n",
       "      <td>'for free'</td>\n",
       "      <td>1</td>\n",
       "      <td>skilled</td>\n",
       "      <td>2</td>\n",
       "      <td>none</td>\n",
       "      <td>yes</td>\n",
       "      <td>good</td>\n",
       "    </tr>\n",
       "    <tr>\n",
       "      <th>&lt;0</th>\n",
       "      <td>24</td>\n",
       "      <td>'delayed previously'</td>\n",
       "      <td>'new car'</td>\n",
       "      <td>4870</td>\n",
       "      <td>&lt;100</td>\n",
       "      <td>1&lt;=X&lt;4</td>\n",
       "      <td>3</td>\n",
       "      <td>'male single'</td>\n",
       "      <td>none</td>\n",
       "      <td>4</td>\n",
       "      <td>'no known property'</td>\n",
       "      <td>53</td>\n",
       "      <td>none</td>\n",
       "      <td>'for free'</td>\n",
       "      <td>2</td>\n",
       "      <td>skilled</td>\n",
       "      <td>2</td>\n",
       "      <td>none</td>\n",
       "      <td>yes</td>\n",
       "      <td>bad</td>\n",
       "    </tr>\n",
       "  </tbody>\n",
       "</table>\n",
       "</div>"
      ],
      "text/plain": [
       "               credit_usage                    credit_history  \\\n",
       "over_draft                                                      \n",
       "<0                        6  'critical/other existing credit'   \n",
       "0<=X<200                 48                   'existing paid'   \n",
       "'no checking'            12  'critical/other existing credit'   \n",
       "<0                       42                   'existing paid'   \n",
       "<0                       24              'delayed previously'   \n",
       "\n",
       "                           purpose  current_balance Average_Credit_Balance  \\\n",
       "over_draft                                                                   \n",
       "<0                        radio/tv             1169     'no known savings'   \n",
       "0<=X<200                  radio/tv             5951                   <100   \n",
       "'no checking'            education             2096                   <100   \n",
       "<0             furniture/equipment             7882                   <100   \n",
       "<0                       'new car'             4870                   <100   \n",
       "\n",
       "              employment  location       personal_status other_parties  \\\n",
       "over_draft                                                               \n",
       "<0                   >=7         4         'male single'          none   \n",
       "0<=X<200          1<=X<4         2  'female div/dep/mar'          none   \n",
       "'no checking'     4<=X<7         2         'male single'          none   \n",
       "<0                4<=X<7         2         'male single'     guarantor   \n",
       "<0                1<=X<4         3         'male single'          none   \n",
       "\n",
       "               residence_since   property_magnitude  cc_age  \\\n",
       "over_draft                                                    \n",
       "<0                           4        'real estate'      67   \n",
       "0<=X<200                     2        'real estate'      22   \n",
       "'no checking'                3        'real estate'      49   \n",
       "<0                           4     'life insurance'      45   \n",
       "<0                           4  'no known property'      53   \n",
       "\n",
       "              other_payment_plans     housing  existing_credits  \\\n",
       "over_draft                                                        \n",
       "<0                           none         own                 2   \n",
       "0<=X<200                     none         own                 1   \n",
       "'no checking'                none         own                 1   \n",
       "<0                           none  'for free'                 1   \n",
       "<0                           none  'for free'                 2   \n",
       "\n",
       "                                job  num_dependents own_telephone  \\\n",
       "over_draft                                                          \n",
       "<0                          skilled               1           yes   \n",
       "0<=X<200                    skilled               1          none   \n",
       "'no checking'  'unskilled resident'               2          none   \n",
       "<0                          skilled               2          none   \n",
       "<0                          skilled               2          none   \n",
       "\n",
       "              foreign_worker class  \n",
       "over_draft                          \n",
       "<0                       yes  good  \n",
       "0<=X<200                 yes   bad  \n",
       "'no checking'            yes  good  \n",
       "<0                       yes  good  \n",
       "<0                       yes   bad  "
      ]
     },
     "execution_count": 3,
     "metadata": {},
     "output_type": "execute_result"
    }
   ],
   "source": [
    "data = pd.read_csv(\"data/credit_risk/german_credit_data_weka.csv\", index_col=0)\n",
    "data.head()"
   ]
  },
  {
   "cell_type": "markdown",
   "metadata": {},
   "source": [
    "Como vemos no hay valores nulos en nuestro dataset:"
   ]
  },
  {
   "cell_type": "code",
   "execution_count": 6,
   "metadata": {},
   "outputs": [
    {
     "name": "stdout",
     "output_type": "stream",
     "text": [
      "credit_usage              0\n",
      "credit_history            0\n",
      "purpose                   0\n",
      "current_balance           0\n",
      "Average_Credit_Balance    0\n",
      "employment                0\n",
      "location                  0\n",
      "personal_status           0\n",
      "other_parties             0\n",
      "residence_since           0\n",
      "property_magnitude        0\n",
      "cc_age                    0\n",
      "other_payment_plans       0\n",
      "housing                   0\n",
      "existing_credits          0\n",
      "job                       0\n",
      "num_dependents            0\n",
      "own_telephone             0\n",
      "foreign_worker            0\n",
      "class                     0\n",
      "dtype: int64\n"
     ]
    }
   ],
   "source": [
    "print(data.isnull().sum())"
   ]
  },
  {
   "cell_type": "markdown",
   "metadata": {},
   "source": [
    "Discretizamos las variables numéricas:"
   ]
  },
  {
   "cell_type": "code",
   "execution_count": 5,
   "metadata": {},
   "outputs": [
    {
     "data": {
      "text/html": [
       "<div>\n",
       "<style scoped>\n",
       "    .dataframe tbody tr th:only-of-type {\n",
       "        vertical-align: middle;\n",
       "    }\n",
       "\n",
       "    .dataframe tbody tr th {\n",
       "        vertical-align: top;\n",
       "    }\n",
       "\n",
       "    .dataframe thead th {\n",
       "        text-align: right;\n",
       "    }\n",
       "</style>\n",
       "<table border=\"1\" class=\"dataframe\">\n",
       "  <thead>\n",
       "    <tr style=\"text-align: right;\">\n",
       "      <th></th>\n",
       "      <th>credit_usage</th>\n",
       "      <th>credit_history</th>\n",
       "      <th>purpose</th>\n",
       "      <th>current_balance</th>\n",
       "      <th>Average_Credit_Balance</th>\n",
       "      <th>employment</th>\n",
       "      <th>location</th>\n",
       "      <th>personal_status</th>\n",
       "      <th>other_parties</th>\n",
       "      <th>residence_since</th>\n",
       "      <th>property_magnitude</th>\n",
       "      <th>cc_age</th>\n",
       "      <th>other_payment_plans</th>\n",
       "      <th>housing</th>\n",
       "      <th>existing_credits</th>\n",
       "      <th>job</th>\n",
       "      <th>num_dependents</th>\n",
       "      <th>own_telephone</th>\n",
       "      <th>foreign_worker</th>\n",
       "      <th>class</th>\n",
       "    </tr>\n",
       "    <tr>\n",
       "      <th>over_draft</th>\n",
       "      <th></th>\n",
       "      <th></th>\n",
       "      <th></th>\n",
       "      <th></th>\n",
       "      <th></th>\n",
       "      <th></th>\n",
       "      <th></th>\n",
       "      <th></th>\n",
       "      <th></th>\n",
       "      <th></th>\n",
       "      <th></th>\n",
       "      <th></th>\n",
       "      <th></th>\n",
       "      <th></th>\n",
       "      <th></th>\n",
       "      <th></th>\n",
       "      <th></th>\n",
       "      <th></th>\n",
       "      <th></th>\n",
       "      <th></th>\n",
       "    </tr>\n",
       "  </thead>\n",
       "  <tbody>\n",
       "    <tr>\n",
       "      <th>&lt;0</th>\n",
       "      <td>(3.932, 7.4]</td>\n",
       "      <td>'critical/other existing credit'</td>\n",
       "      <td>radio/tv</td>\n",
       "      <td>(1158.7, 2067.4]</td>\n",
       "      <td>'no known savings'</td>\n",
       "      <td>&gt;=7</td>\n",
       "      <td>4</td>\n",
       "      <td>'male single'</td>\n",
       "      <td>none</td>\n",
       "      <td>4</td>\n",
       "      <td>'real estate'</td>\n",
       "      <td>(66.6, 69.4]</td>\n",
       "      <td>none</td>\n",
       "      <td>own</td>\n",
       "      <td>2</td>\n",
       "      <td>skilled</td>\n",
       "      <td>1</td>\n",
       "      <td>yes</td>\n",
       "      <td>yes</td>\n",
       "      <td>good</td>\n",
       "    </tr>\n",
       "    <tr>\n",
       "      <th>0&lt;=X&lt;200</th>\n",
       "      <td>(44.8, 48.2]</td>\n",
       "      <td>'existing paid'</td>\n",
       "      <td>radio/tv</td>\n",
       "      <td>(5702.2, 6610.9]</td>\n",
       "      <td>&lt;100</td>\n",
       "      <td>1&lt;=X&lt;4</td>\n",
       "      <td>2</td>\n",
       "      <td>'female div/dep/mar'</td>\n",
       "      <td>none</td>\n",
       "      <td>2</td>\n",
       "      <td>'real estate'</td>\n",
       "      <td>(21.8, 24.6]</td>\n",
       "      <td>none</td>\n",
       "      <td>own</td>\n",
       "      <td>1</td>\n",
       "      <td>skilled</td>\n",
       "      <td>1</td>\n",
       "      <td>none</td>\n",
       "      <td>yes</td>\n",
       "      <td>bad</td>\n",
       "    </tr>\n",
       "    <tr>\n",
       "      <th>'no checking'</th>\n",
       "      <td>(10.8, 14.2]</td>\n",
       "      <td>'critical/other existing credit'</td>\n",
       "      <td>education</td>\n",
       "      <td>(2067.4, 2976.1]</td>\n",
       "      <td>&lt;100</td>\n",
       "      <td>4&lt;=X&lt;7</td>\n",
       "      <td>2</td>\n",
       "      <td>'male single'</td>\n",
       "      <td>none</td>\n",
       "      <td>3</td>\n",
       "      <td>'real estate'</td>\n",
       "      <td>(47.0, 49.8]</td>\n",
       "      <td>none</td>\n",
       "      <td>own</td>\n",
       "      <td>1</td>\n",
       "      <td>'unskilled resident'</td>\n",
       "      <td>2</td>\n",
       "      <td>none</td>\n",
       "      <td>yes</td>\n",
       "      <td>good</td>\n",
       "    </tr>\n",
       "    <tr>\n",
       "      <th>&lt;0</th>\n",
       "      <td>(41.4, 44.8]</td>\n",
       "      <td>'existing paid'</td>\n",
       "      <td>furniture/equipment</td>\n",
       "      <td>(7519.6, 8428.3]</td>\n",
       "      <td>&lt;100</td>\n",
       "      <td>4&lt;=X&lt;7</td>\n",
       "      <td>2</td>\n",
       "      <td>'male single'</td>\n",
       "      <td>guarantor</td>\n",
       "      <td>4</td>\n",
       "      <td>'life insurance'</td>\n",
       "      <td>(44.2, 47.0]</td>\n",
       "      <td>none</td>\n",
       "      <td>'for free'</td>\n",
       "      <td>1</td>\n",
       "      <td>skilled</td>\n",
       "      <td>2</td>\n",
       "      <td>none</td>\n",
       "      <td>yes</td>\n",
       "      <td>good</td>\n",
       "    </tr>\n",
       "    <tr>\n",
       "      <th>&lt;0</th>\n",
       "      <td>(21.0, 24.4]</td>\n",
       "      <td>'delayed previously'</td>\n",
       "      <td>'new car'</td>\n",
       "      <td>(4793.5, 5702.2]</td>\n",
       "      <td>&lt;100</td>\n",
       "      <td>1&lt;=X&lt;4</td>\n",
       "      <td>3</td>\n",
       "      <td>'male single'</td>\n",
       "      <td>none</td>\n",
       "      <td>4</td>\n",
       "      <td>'no known property'</td>\n",
       "      <td>(52.6, 55.4]</td>\n",
       "      <td>none</td>\n",
       "      <td>'for free'</td>\n",
       "      <td>2</td>\n",
       "      <td>skilled</td>\n",
       "      <td>2</td>\n",
       "      <td>none</td>\n",
       "      <td>yes</td>\n",
       "      <td>bad</td>\n",
       "    </tr>\n",
       "  </tbody>\n",
       "</table>\n",
       "</div>"
      ],
      "text/plain": [
       "               credit_usage                    credit_history  \\\n",
       "over_draft                                                      \n",
       "<0             (3.932, 7.4]  'critical/other existing credit'   \n",
       "0<=X<200       (44.8, 48.2]                   'existing paid'   \n",
       "'no checking'  (10.8, 14.2]  'critical/other existing credit'   \n",
       "<0             (41.4, 44.8]                   'existing paid'   \n",
       "<0             (21.0, 24.4]              'delayed previously'   \n",
       "\n",
       "                           purpose   current_balance Average_Credit_Balance  \\\n",
       "over_draft                                                                    \n",
       "<0                        radio/tv  (1158.7, 2067.4]     'no known savings'   \n",
       "0<=X<200                  radio/tv  (5702.2, 6610.9]                   <100   \n",
       "'no checking'            education  (2067.4, 2976.1]                   <100   \n",
       "<0             furniture/equipment  (7519.6, 8428.3]                   <100   \n",
       "<0                       'new car'  (4793.5, 5702.2]                   <100   \n",
       "\n",
       "              employment  location       personal_status other_parties  \\\n",
       "over_draft                                                               \n",
       "<0                   >=7         4         'male single'          none   \n",
       "0<=X<200          1<=X<4         2  'female div/dep/mar'          none   \n",
       "'no checking'     4<=X<7         2         'male single'          none   \n",
       "<0                4<=X<7         2         'male single'     guarantor   \n",
       "<0                1<=X<4         3         'male single'          none   \n",
       "\n",
       "               residence_since   property_magnitude        cc_age  \\\n",
       "over_draft                                                          \n",
       "<0                           4        'real estate'  (66.6, 69.4]   \n",
       "0<=X<200                     2        'real estate'  (21.8, 24.6]   \n",
       "'no checking'                3        'real estate'  (47.0, 49.8]   \n",
       "<0                           4     'life insurance'  (44.2, 47.0]   \n",
       "<0                           4  'no known property'  (52.6, 55.4]   \n",
       "\n",
       "              other_payment_plans     housing  existing_credits  \\\n",
       "over_draft                                                        \n",
       "<0                           none         own                 2   \n",
       "0<=X<200                     none         own                 1   \n",
       "'no checking'                none         own                 1   \n",
       "<0                           none  'for free'                 1   \n",
       "<0                           none  'for free'                 2   \n",
       "\n",
       "                                job  num_dependents own_telephone  \\\n",
       "over_draft                                                          \n",
       "<0                          skilled               1           yes   \n",
       "0<=X<200                    skilled               1          none   \n",
       "'no checking'  'unskilled resident'               2          none   \n",
       "<0                          skilled               2          none   \n",
       "<0                          skilled               2          none   \n",
       "\n",
       "              foreign_worker class  \n",
       "over_draft                          \n",
       "<0                       yes  good  \n",
       "0<=X<200                 yes   bad  \n",
       "'no checking'            yes  good  \n",
       "<0                       yes  good  \n",
       "<0                       yes   bad  "
      ]
     },
     "execution_count": 5,
     "metadata": {},
     "output_type": "execute_result"
    }
   ],
   "source": [
    "columns_to_discretize = ['credit_usage', 'current_balance', 'cc_age']\n",
    "num_bins=20\n",
    "\n",
    "for col in columns_to_discretize:\n",
    "    data[col] = pd.cut(data[col], bins=num_bins)\n",
    "    \n",
    "data.head()"
   ]
  },
  {
   "cell_type": "markdown",
   "metadata": {},
   "source": [
    "Dividimos los datos en conjunto de entrenamiento y validación"
   ]
  },
  {
   "cell_type": "code",
   "execution_count": 7,
   "metadata": {},
   "outputs": [
    {
     "name": "stdout",
     "output_type": "stream",
     "text": [
      "\n",
      "Particiones obtenidas sobre los datos:\n",
      "X_complete_train:  (666, 19)\n",
      "y_complete_train:  (666,)\n",
      "X_complete_test:   (334, 19)\n",
      "y_complete_test:   (334,)\n"
     ]
    }
   ],
   "source": [
    "complete_data = data\n",
    "\n",
    "X_complete = complete_data.drop(columns=['class'])\n",
    "y_complete = complete_data['class']\n",
    "\n",
    "X_complete_train, X_complete_test, y_complete_train, y_complete_test = train_test_split(X_complete, y_complete, test_size=1/3)\n",
    "\n",
    "print(\"\\nParticiones obtenidas sobre los datos:\")\n",
    "print(\"X_complete_train: \", X_complete_train.shape)\n",
    "print(\"y_complete_train: \", y_complete_train.shape)\n",
    "print(\"X_complete_test:  \", X_complete_test.shape)\n",
    "print(\"y_complete_test:  \", y_complete_test.shape)"
   ]
  },
  {
   "cell_type": "markdown",
   "metadata": {},
   "source": [
    "# Algoritmos de aprendizaje"
   ]
  },
  {
   "cell_type": "markdown",
   "metadata": {},
   "source": [
    "### Chow-Liu"
   ]
  },
  {
   "cell_type": "markdown",
   "metadata": {},
   "source": [
    "Aplicamos el algoritmo de Chow-Liu para aprender una estructura de árbol:"
   ]
  },
  {
   "cell_type": "code",
   "execution_count": 11,
   "metadata": {},
   "outputs": [
    {
     "name": "stdout",
     "output_type": "stream",
     "text": [
      "peak memory: 143.05 MiB, increment: 3.50 MiB\n",
      "Wall time: 2.43 s\n"
     ]
    }
   ],
   "source": [
    "%time %memit pomegranate_tree = BayesianNetwork.from_samples(complete_data, algorithm='chow-liu', root=19, \\\n",
    "                                                             state_names=list(data))\n",
    "\n",
    "pomegranate_tree.bake()"
   ]
  },
  {
   "cell_type": "markdown",
   "metadata": {},
   "source": [
    "Visualizamos el árbol resultante:"
   ]
  },
  {
   "cell_type": "code",
   "execution_count": 12,
   "metadata": {
    "scrolled": false
   },
   "outputs": [
    {
     "data": {
      "image/png": "[encoded data removed]",
      "text/plain": [
       "<Figure size 432x288 with 1 Axes>"
      ]
     },
     "metadata": {},
     "output_type": "display_data"
    }
   ],
   "source": [
    "plot_pomegranate_bn_nx(pomegranate_tree, node_size=1000, node_color='pink')"
   ]
  },
  {
   "cell_type": "markdown",
   "metadata": {},
   "source": [
    "Podemos hacer inferencia, predeciendo la variable *Outcome* para los registros de entrenamiento:"
   ]
  },
  {
   "cell_type": "code",
   "execution_count": 22,
   "metadata": {
    "scrolled": true
   },
   "outputs": [
    {
     "name": "stdout",
     "output_type": "stream",
     "text": [
      "peak memory: 147.02 MiB, increment: 0.76 MiB\n",
      "Wall time: 14.6 s\n"
     ]
    }
   ],
   "source": [
    "nan_vec = np.array([[np.NaN]*X_complete_train.shape[0]]).T\n",
    "complete_train_uknown_outcome = np.concatenate((X_complete_train.to_numpy(), nan_vec), axis=1)\n",
    "\n",
    "%time %memit y_pred_train = np.array(pomegranate_tree.predict(complete_train_uknown_outcome))[:,19]"
   ]
  },
  {
   "cell_type": "code",
   "execution_count": 23,
   "metadata": {},
   "outputs": [
    {
     "name": "stdout",
     "output_type": "stream",
     "text": [
      "              precision    recall  f1-score   support\n",
      "\n",
      "         bad       0.10      0.53      0.17        40\n",
      "        good       0.96      0.71      0.81       626\n",
      "\n",
      "    accuracy                           0.70       666\n",
      "   macro avg       0.53      0.62      0.49       666\n",
      "weighted avg       0.91      0.70      0.78       666\n",
      "\n",
      "0.6966966966966966\n"
     ]
    }
   ],
   "source": [
    "print(classification_report(list(y_pred_train), list(y_complete_train)))\n",
    "print(accuracy_score(list(y_pred_train), list(y_complete_train)))"
   ]
  },
  {
   "cell_type": "markdown",
   "metadata": {},
   "source": [
    "O sobre el dataset dejado en la partición para validación:"
   ]
  },
  {
   "cell_type": "code",
   "execution_count": 24,
   "metadata": {},
   "outputs": [
    {
     "name": "stdout",
     "output_type": "stream",
     "text": [
      "peak memory: 146.76 MiB, increment: 0.00 MiB\n",
      "Wall time: 8.27 s\n"
     ]
    }
   ],
   "source": [
    "nan_vec = np.array([[np.NaN]*X_complete_test.shape[0]]).T\n",
    "complete_test_uknown_outcome = np.concatenate((X_complete_test.to_numpy(), nan_vec), axis=1)\n",
    "\n",
    "%time %memit y_pred_test = np.array(pomegranate_tree.predict(complete_test_uknown_outcome))[:,19]"
   ]
  },
  {
   "cell_type": "code",
   "execution_count": 25,
   "metadata": {
    "scrolled": true
   },
   "outputs": [
    {
     "name": "stdout",
     "output_type": "stream",
     "text": [
      "              precision    recall  f1-score   support\n",
      "\n",
      "         bad       0.14      0.76      0.23        17\n",
      "        good       0.98      0.74      0.84       317\n",
      "\n",
      "    accuracy                           0.74       334\n",
      "   macro avg       0.56      0.75      0.54       334\n",
      "weighted avg       0.94      0.74      0.81       334\n",
      "\n",
      "0.7395209580838323\n"
     ]
    }
   ],
   "source": [
    "print(classification_report(list(y_pred_test), list(y_complete_test)))\n",
    "print(accuracy_score(list(y_pred_test), list(y_complete_test)))"
   ]
  },
  {
   "cell_type": "markdown",
   "metadata": {},
   "source": [
    "# Comparación Chow-Liu vs Greedy vs Exact"
   ]
  },
  {
   "cell_type": "code",
   "execution_count": 26,
   "metadata": {},
   "outputs": [
    {
     "name": "stdout",
     "output_type": "stream",
     "text": [
      "peak memory: 148.98 MiB, increment: 2.47 MiB\n",
      "Wall time: 2.44 s\n",
      "peak memory: 382.18 MiB, increment: 233.20 MiB\n",
      "Wall time: 25.6 s\n",
      "peak memory: 2787.00 MiB, increment: 2631.54 MiB\n",
      "Wall time: 4min 50s\n"
     ]
    }
   ],
   "source": [
    "%time %memit chow_liu_model = BayesianNetwork.from_samples(complete_data, algorithm='chow-liu', root=19, \\\n",
    "                                                             state_names=list(data))\n",
    "%time %memit greedy_model = BayesianNetwork.from_samples(data, algorithm='greedy', state_names=list(data))\n",
    "%time %memit exact_model = BayesianNetwork.from_samples(data, algorithm='exact', state_names=list(data))\n",
    "\n",
    "chow_liu_model.bake()\n",
    "greedy_model.bake()\n",
    "exact_model.bake()"
   ]
  },
  {
   "cell_type": "code",
   "execution_count": 30,
   "metadata": {
    "scrolled": true
   },
   "outputs": [
    {
     "data": {
      "image/png": "[encoded data removed]",
      "text/plain": [
       "<Figure size 432x288 with 1 Axes>"
      ]
     },
     "metadata": {},
     "output_type": "display_data"
    },
    {
     "data": {
      "image/png": "[encoded data removed]",
      "text/plain": [
       "<Figure size 432x288 with 1 Axes>"
      ]
     },
     "metadata": {},
     "output_type": "display_data"
    },
    {
     "data": {
      "image/png": "[encoded data removed]",
      "text/plain": [
       "<Figure size 432x288 with 1 Axes>"
      ]
     },
     "metadata": {},
     "output_type": "display_data"
    }
   ],
   "source": [
    "plot_pomegranate_bn_nx(chow_liu_model, node_size=1000, node_color='pink')\n",
    "plot_pomegranate_bn_nx(greedy_model, node_size=1000, node_color='pink')\n",
    "plot_pomegranate_bn_nx(exact_model, node_size=1000, node_color='pink')"
   ]
  },
  {
   "cell_type": "code",
   "execution_count": 31,
   "metadata": {},
   "outputs": [
    {
     "name": "stdout",
     "output_type": "stream",
     "text": [
      "peak memory: 188.11 MiB, increment: 0.05 MiB\n",
      "Wall time: 8.6 s\n",
      "peak memory: 192.61 MiB, increment: 4.49 MiB\n",
      "Wall time: 2.45 s\n",
      "peak memory: 192.61 MiB, increment: 0.00 MiB\n",
      "Wall time: 2.94 s\n"
     ]
    }
   ],
   "source": [
    "nan_vec = np.array([[np.NaN]*X_complete_test.shape[0]]).T\n",
    "complete_test_uknown_outcome = np.concatenate((X_complete_test.to_numpy(),nan_vec), axis=1)\n",
    "\n",
    "%time %memit y_pred_chow_liu = np.array(chow_liu_model.predict(complete_test_uknown_outcome))[:,19]\n",
    "%time %memit y_pred_greedy = np.array(greedy_model.predict(complete_test_uknown_outcome))[:,19]\n",
    "%time %memit y_pred_exact = np.array(exact_model.predict(complete_test_uknown_outcome))[:,19]"
   ]
  },
  {
   "cell_type": "code",
   "execution_count": 32,
   "metadata": {
    "scrolled": true
   },
   "outputs": [
    {
     "name": "stdout",
     "output_type": "stream",
     "text": [
      "Chow-Liu:\n",
      "               precision    recall  f1-score   support\n",
      "\n",
      "         bad       0.14      0.76      0.23        17\n",
      "        good       0.98      0.74      0.84       317\n",
      "\n",
      "    accuracy                           0.74       334\n",
      "   macro avg       0.56      0.75      0.54       334\n",
      "weighted avg       0.94      0.74      0.81       334\n",
      "\n",
      "Greedy:\n",
      "               precision    recall  f1-score   support\n",
      "\n",
      "         bad       0.00      0.00      0.00         0\n",
      "        good       1.00      0.71      0.83       334\n",
      "\n",
      "    accuracy                           0.71       334\n",
      "   macro avg       0.50      0.36      0.42       334\n",
      "weighted avg       1.00      0.71      0.83       334\n",
      "\n",
      "Exact:\n",
      "               precision    recall  f1-score   support\n",
      "\n",
      "         bad       0.12      0.57      0.21        21\n",
      "        good       0.96      0.73      0.83       313\n",
      "\n",
      "    accuracy                           0.72       334\n",
      "   macro avg       0.54      0.65      0.52       334\n",
      "weighted avg       0.91      0.72      0.79       334\n",
      "\n"
     ]
    }
   ],
   "source": [
    "print(\"Chow-Liu:\\n\", classification_report(list(y_pred_chow_liu), list(y_complete_test)))\n",
    "print(\"Greedy:\\n\", classification_report(list(y_pred_greedy), list(y_complete_test)))\n",
    "print(\"Exact:\\n\", classification_report(list(y_pred_exact), list(y_complete_test)))"
   ]
  }
 ],
 "metadata": {
  "kernelspec": {
   "display_name": "PGM",
   "language": "python",
   "name": "pgm"
  },
  "language_info": {
   "codemirror_mode": {
    "name": "ipython",
    "version": 3
   },
   "file_extension": ".py",
   "mimetype": "text/x-python",
   "name": "python",
   "nbconvert_exporter": "python",
   "pygments_lexer": "ipython3",
   "version": "3.7.7"
  }
 },
 "nbformat": 4,
 "nbformat_minor": 4
}
