{
 "cells": [
  {
   "cell_type": "markdown",
   "metadata": {},
   "source": [
    "# Importación de módulos generales"
   ]
  },
  {
   "cell_type": "code",
   "execution_count": null,
   "metadata": {
    "scrolled": true
   },
   "outputs": [],
   "source": [
    "%pylab inline\n",
    "%load_ext memory_profiler\n",
    "\n",
    "# %pylab\n",
    "\n",
    "import os\n",
    "import tempfile\n",
    "import pandas as pd\n",
    "# import numpy as np\n",
    "import networkx as nx\n",
    "# import matplotlib\n",
    "# import pylab  as plt\n",
    "import pygraphviz"
   ]
  },
  {
   "cell_type": "markdown",
   "metadata": {},
   "source": [
    "# Funciones auxiliares visualización"
   ]
  },
  {
   "cell_type": "markdown",
   "metadata": {},
   "source": [
    "Importamos las funciones auxiliares para visualizar redes que hemos definido:\n",
    "- **plot_pomegranate_bn_nx**(pgm, layout=None, node_size=2000, node_color='pink')\n",
    "- **plot_pomegranate_bn_pgvz**(pgm, filename=None, prog='dot', color='red')\n",
    "- **plot_pgm_bn**(pgm, layout=None, node_size=2000, node_color='pink'):"
   ]
  },
  {
   "cell_type": "code",
   "execution_count": null,
   "metadata": {},
   "outputs": [],
   "source": [
    "from funciones_auxiliares import *"
   ]
  },
  {
   "cell_type": "markdown",
   "metadata": {},
   "source": [
    "# Lectura de datos"
   ]
  },
  {
   "cell_type": "markdown",
   "metadata": {},
   "source": [
    "Podemos obtener los datos originales de http://archive.ics.uci.edu/ml/machine-learning-databases/statlog/german/german.data.\n",
    "\n",
    "Sin embargo, los valores de las variables no son muy descriptivos así que cargamos los datos convertidos a un formato más descriptivo de https://weka.8497.n7.nabble.com/file/n23121/credit_fruad.arff y convertidos a csv:"
   ]
  },
  {
   "cell_type": "code",
   "execution_count": null,
   "metadata": {
    "scrolled": true
   },
   "outputs": [],
   "source": [
    "data = pd.read_csv(\"data/credit_risk/german_credit_data_weka.csv\", index_col=0)\n",
    "data.head()"
   ]
  },
  {
   "cell_type": "markdown",
   "metadata": {},
   "source": [
    "Discretizamos las variables numéricas:"
   ]
  },
  {
   "cell_type": "code",
   "execution_count": null,
   "metadata": {},
   "outputs": [],
   "source": [
    "# TODO"
   ]
  },
  {
   "cell_type": "markdown",
   "metadata": {},
   "source": [
    "# Algoritmos de aprendizaje"
   ]
  },
  {
   "cell_type": "markdown",
   "metadata": {},
   "source": [
    "### Chow-Liu"
   ]
  },
  {
   "cell_type": "markdown",
   "metadata": {},
   "source": [
    "Aplicamos el algoritmo de Chow-Liu para aprender una estructura de árbol:"
   ]
  },
  {
   "cell_type": "code",
   "execution_count": null,
   "metadata": {},
   "outputs": [],
   "source": [
    "from pomegranate import BayesianNetwork\n",
    "\n",
    "%time %memit pomegranate_tree = BayesianNetwork.from_samples(data, algorithm='chow-liu', state_names=list(data))\n",
    "\n",
    "pomegranate_tree.bake()"
   ]
  },
  {
   "cell_type": "markdown",
   "metadata": {},
   "source": [
    "Visualizamos el árbol resultante:"
   ]
  },
  {
   "cell_type": "code",
   "execution_count": null,
   "metadata": {
    "scrolled": false
   },
   "outputs": [],
   "source": [
    "# plot_pomegranate_bn_pgvz(pomegranate_model, prog='dot')\n",
    "plot_pomegranate_bn_nx(pomegranate_tree, layout=nx.planar_layout, node_size=1000, node_color='pink')\n",
    "\n",
    "# from pomegranate.utils import plot_networkx\n",
    "# plot_networkx(pomegranate_tree)"
   ]
  },
  {
   "cell_type": "markdown",
   "metadata": {},
   "source": [
    "Podemos hacer inferencia:"
   ]
  },
  {
   "cell_type": "code",
   "execution_count": null,
   "metadata": {},
   "outputs": [],
   "source": [
    "pomegranate_tree.predict([{'purpose': 'education'}])"
   ]
  },
  {
   "cell_type": "code",
   "execution_count": null,
   "metadata": {},
   "outputs": [],
   "source": [
    "pomegranate_tree.predict_proba([{'purpose': 'education'}])"
   ]
  },
  {
   "cell_type": "code",
   "execution_count": null,
   "metadata": {},
   "outputs": [],
   "source": []
  }
 ],
 "metadata": {
  "kernelspec": {
   "display_name": "PGM",
   "language": "python",
   "name": "pgm"
  },
  "language_info": {
   "codemirror_mode": {
    "name": "ipython",
    "version": 3
   },
   "file_extension": ".py",
   "mimetype": "text/x-python",
   "name": "python",
   "nbconvert_exporter": "python",
   "pygments_lexer": "ipython3",
   "version": "3.7.7"
  }
 },
 "nbformat": 4,
 "nbformat_minor": 4
}
