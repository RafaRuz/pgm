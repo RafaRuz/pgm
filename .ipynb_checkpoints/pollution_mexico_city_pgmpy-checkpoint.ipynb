{
 "cells": [
  {
   "cell_type": "markdown",
   "metadata": {},
   "source": [
    "En este notebook se presenta el problema de predicción de la calidad del aire en Ciudad de México, utilizando para ello los niveles de ozono.\n",
    "\n",
    "- Aprendizaje de estructuras *estáticas* usando el algoritmo *Hill Climbing* con distintas funciones de puntuación.\n",
    "- Aprendizaje de estructura *estática* de árbol utilizando el algoritmo de Chow-Liu.\n",
    "- Aprendizaje de la estructura *dinámica* usando el algoritmo *Hill Climbing* y función de puntuación bayesiana *BDeu*.\n",
    "- Aprendizaje de parámetros utilizando u estimador bayesiano.\n",
    "- Inferencia utilizando el algoritmo de *eliminación de variables*.\n",
    "- Evaluación y comparación de los distintos modelos aprendidos."
   ]
  },
  {
   "cell_type": "markdown",
   "metadata": {},
   "source": [
    "# Importación de módulos generales"
   ]
  },
  {
   "cell_type": "code",
   "execution_count": 1,
   "metadata": {
    "scrolled": true
   },
   "outputs": [
    {
     "name": "stdout",
     "output_type": "stream",
     "text": [
      "Populating the interactive namespace from numpy and matplotlib\n"
     ]
    }
   ],
   "source": [
    "%pylab inline\n",
    "%load_ext memory_profiler\n",
    "\n",
    "# %pylab\n",
    "\n",
    "import os\n",
    "import tempfile\n",
    "import pandas as pd\n",
    "# import numpy as np\n",
    "import networkx as nx\n",
    "# import matplotlib\n",
    "# import pylab  as plt\n",
    "import pygraphviz\n",
    "\n",
    "from sklearn.metrics import classification_report, accuracy_score\n",
    "from sklearn.model_selection import train_test_split"
   ]
  },
  {
   "cell_type": "markdown",
   "metadata": {},
   "source": [
    "# Funciones auxiliares visualización"
   ]
  },
  {
   "cell_type": "markdown",
   "metadata": {},
   "source": [
    "Importamos las funciones auxiliares para visualizar redes que hemos definido:\n",
    "- **plot_pomegranate_bn_nx**(pgm, layout=None, node_size=2000, node_color='pink')\n",
    "- **plot_pomegranate_bn_pgvz**(pgm, filename=None, prog='dot', color='red')\n",
    "- **plot_pgm_bn**(pgm, layout=None, node_size=2000, node_color='pink'):"
   ]
  },
  {
   "cell_type": "code",
   "execution_count": 2,
   "metadata": {},
   "outputs": [],
   "source": [
    "from funciones_auxiliares import *"
   ]
  },
  {
   "cell_type": "markdown",
   "metadata": {},
   "source": [
    "# Parámetros "
   ]
  },
  {
   "cell_type": "code",
   "execution_count": 3,
   "metadata": {},
   "outputs": [],
   "source": [
    "# Número de bins o contenedores para discretizar los datos\n",
    "num_bins = 18\n",
    "\n",
    "\n",
    "# Estaciones y variables a usar en cada una\n",
    "variables = ['CO', 'NO2', 'NOX', 'SO2', 'O3', 'TMP', 'DV', 'VV', 'HR']\n",
    "stations = ['Merced', 'Pedregal', 'Tlalnepantla', 'Xalostoc']\n",
    "\n",
    "# variables = ['CO', 'NO2', 'NOX', 'SO2', 'O3']\n",
    "# stations = ['Merced', 'Pedregal']"
   ]
  },
  {
   "cell_type": "markdown",
   "metadata": {},
   "source": [
    "# Lectura de datos SINAICA"
   ]
  },
  {
   "cell_type": "code",
   "execution_count": 4,
   "metadata": {
    "scrolled": false
   },
   "outputs": [
    {
     "data": {
      "text/html": [
       "<div>\n",
       "<style scoped>\n",
       "    .dataframe tbody tr th:only-of-type {\n",
       "        vertical-align: middle;\n",
       "    }\n",
       "\n",
       "    .dataframe tbody tr th {\n",
       "        vertical-align: top;\n",
       "    }\n",
       "\n",
       "    .dataframe thead th {\n",
       "        text-align: right;\n",
       "    }\n",
       "</style>\n",
       "<table border=\"1\" class=\"dataframe\">\n",
       "  <thead>\n",
       "    <tr style=\"text-align: right;\">\n",
       "      <th></th>\n",
       "      <th>Hora_0</th>\n",
       "      <th>CO_M_0</th>\n",
       "      <th>NO2_M_0</th>\n",
       "      <th>NOx_M_0</th>\n",
       "      <th>SO2_M_0</th>\n",
       "      <th>O3_M_0</th>\n",
       "      <th>TMP_M_0</th>\n",
       "      <th>DV_M_0</th>\n",
       "      <th>VV_M_0</th>\n",
       "      <th>HR_M_0</th>\n",
       "      <th>...</th>\n",
       "      <th>HR_T_0</th>\n",
       "      <th>CO_X_0</th>\n",
       "      <th>NO2_X_0</th>\n",
       "      <th>NOx_X_0</th>\n",
       "      <th>SO2_X_0</th>\n",
       "      <th>O3_X_0</th>\n",
       "      <th>TMP_X_0</th>\n",
       "      <th>DV_X_0</th>\n",
       "      <th>VV_X_0</th>\n",
       "      <th>HR_X_0</th>\n",
       "    </tr>\n",
       "  </thead>\n",
       "  <tbody>\n",
       "    <tr>\n",
       "      <th>1</th>\n",
       "      <td>3:00 - 4:00</td>\n",
       "      <td>(1.678, 1.85]</td>\n",
       "      <td>(0.0332, 0.038]</td>\n",
       "      <td>(0.0729, 0.0891]</td>\n",
       "      <td>(0.000902, 0.00644]</td>\n",
       "      <td>(0.000889, 0.00717]</td>\n",
       "      <td>(10.189, 11.211]</td>\n",
       "      <td>(120.0, 140.0]</td>\n",
       "      <td>(2.172, 3.244]</td>\n",
       "      <td>(65.333, 70.278]</td>\n",
       "      <td>...</td>\n",
       "      <td>(65.333, 69.5]</td>\n",
       "      <td>(2.322, 2.611]</td>\n",
       "      <td>(0.0335, 0.039]</td>\n",
       "      <td>(0.102, 0.125]</td>\n",
       "      <td>(0.00578, 0.00956]</td>\n",
       "      <td>(0.00492, 0.00956]</td>\n",
       "      <td>(10.411, 11.389]</td>\n",
       "      <td>(60.833, 80.778]</td>\n",
       "      <td>(4.617, 6.089]</td>\n",
       "      <td>(58.667, 63.056]</td>\n",
       "    </tr>\n",
       "    <tr>\n",
       "      <th>2</th>\n",
       "      <td>4:00 - 5:00</td>\n",
       "      <td>(1.85, 2.022]</td>\n",
       "      <td>(0.038, 0.0428]</td>\n",
       "      <td>(0.0891, 0.105]</td>\n",
       "      <td>(0.00644, 0.0119]</td>\n",
       "      <td>(0.000889, 0.00717]</td>\n",
       "      <td>(9.167, 10.189]</td>\n",
       "      <td>(80.0, 100.0]</td>\n",
       "      <td>(3.244, 4.317]</td>\n",
       "      <td>(65.333, 70.278]</td>\n",
       "      <td>...</td>\n",
       "      <td>(65.333, 69.5]</td>\n",
       "      <td>(2.033, 2.322]</td>\n",
       "      <td>(0.028, 0.0335]</td>\n",
       "      <td>(0.0788, 0.102]</td>\n",
       "      <td>(0.00578, 0.00956]</td>\n",
       "      <td>(0.00492, 0.00956]</td>\n",
       "      <td>(9.433, 10.411]</td>\n",
       "      <td>(40.889, 60.833]</td>\n",
       "      <td>(1.672, 3.144]</td>\n",
       "      <td>(58.667, 63.056]</td>\n",
       "    </tr>\n",
       "    <tr>\n",
       "      <th>3</th>\n",
       "      <td>5:00 - 6:00</td>\n",
       "      <td>(1.678, 1.85]</td>\n",
       "      <td>(0.0332, 0.038]</td>\n",
       "      <td>(0.0891, 0.105]</td>\n",
       "      <td>(0.00644, 0.0119]</td>\n",
       "      <td>(0.000889, 0.00717]</td>\n",
       "      <td>(9.167, 10.189]</td>\n",
       "      <td>(60.0, 80.0]</td>\n",
       "      <td>(1.081, 2.172]</td>\n",
       "      <td>(65.333, 70.278]</td>\n",
       "      <td>...</td>\n",
       "      <td>(65.333, 69.5]</td>\n",
       "      <td>(2.9, 3.189]</td>\n",
       "      <td>(0.028, 0.0335]</td>\n",
       "      <td>(0.149, 0.172]</td>\n",
       "      <td>(0.00578, 0.00956]</td>\n",
       "      <td>(0.00492, 0.00956]</td>\n",
       "      <td>(9.433, 10.411]</td>\n",
       "      <td>(180.5, 200.444]</td>\n",
       "      <td>(0.174, 1.672]</td>\n",
       "      <td>(63.056, 67.444]</td>\n",
       "    </tr>\n",
       "    <tr>\n",
       "      <th>4</th>\n",
       "      <td>6:00 - 7:00</td>\n",
       "      <td>(2.194, 2.367]</td>\n",
       "      <td>(0.0332, 0.038]</td>\n",
       "      <td>(0.122, 0.138]</td>\n",
       "      <td>(0.000902, 0.00644]</td>\n",
       "      <td>(0.000889, 0.00717]</td>\n",
       "      <td>(8.144, 9.167]</td>\n",
       "      <td>(100.0, 120.0]</td>\n",
       "      <td>(2.172, 3.244]</td>\n",
       "      <td>(70.278, 75.222]</td>\n",
       "      <td>...</td>\n",
       "      <td>(65.333, 69.5]</td>\n",
       "      <td>(2.611, 2.9]</td>\n",
       "      <td>(0.0225, 0.028]</td>\n",
       "      <td>(0.102, 0.125]</td>\n",
       "      <td>(0.00578, 0.00956]</td>\n",
       "      <td>(0.00492, 0.00956]</td>\n",
       "      <td>(8.456, 9.433]</td>\n",
       "      <td>(80.778, 100.722]</td>\n",
       "      <td>(1.672, 3.144]</td>\n",
       "      <td>(63.056, 67.444]</td>\n",
       "    </tr>\n",
       "    <tr>\n",
       "      <th>5</th>\n",
       "      <td>7:00 - 8:00</td>\n",
       "      <td>(1.85, 2.022]</td>\n",
       "      <td>(0.0283, 0.0332]</td>\n",
       "      <td>(0.0891, 0.105]</td>\n",
       "      <td>(0.000902, 0.00644]</td>\n",
       "      <td>(0.000889, 0.00717]</td>\n",
       "      <td>(8.144, 9.167]</td>\n",
       "      <td>(160.0, 180.0]</td>\n",
       "      <td>(2.172, 3.244]</td>\n",
       "      <td>(65.333, 70.278]</td>\n",
       "      <td>...</td>\n",
       "      <td>(65.333, 69.5]</td>\n",
       "      <td>(2.322, 2.611]</td>\n",
       "      <td>(0.0225, 0.028]</td>\n",
       "      <td>(0.149, 0.172]</td>\n",
       "      <td>(0.00578, 0.00956]</td>\n",
       "      <td>(0.00492, 0.00956]</td>\n",
       "      <td>(8.456, 9.433]</td>\n",
       "      <td>(220.389, 240.333]</td>\n",
       "      <td>(0.174, 1.672]</td>\n",
       "      <td>(63.056, 67.444]</td>\n",
       "    </tr>\n",
       "  </tbody>\n",
       "</table>\n",
       "<p>5 rows × 37 columns</p>\n",
       "</div>"
      ],
      "text/plain": [
       "        Hora_0          CO_M_0           NO2_M_0           NOx_M_0  \\\n",
       "1  3:00 - 4:00   (1.678, 1.85]   (0.0332, 0.038]  (0.0729, 0.0891]   \n",
       "2  4:00 - 5:00   (1.85, 2.022]   (0.038, 0.0428]   (0.0891, 0.105]   \n",
       "3  5:00 - 6:00   (1.678, 1.85]   (0.0332, 0.038]   (0.0891, 0.105]   \n",
       "4  6:00 - 7:00  (2.194, 2.367]   (0.0332, 0.038]    (0.122, 0.138]   \n",
       "5  7:00 - 8:00   (1.85, 2.022]  (0.0283, 0.0332]   (0.0891, 0.105]   \n",
       "\n",
       "               SO2_M_0               O3_M_0           TMP_M_0          DV_M_0  \\\n",
       "1  (0.000902, 0.00644]  (0.000889, 0.00717]  (10.189, 11.211]  (120.0, 140.0]   \n",
       "2    (0.00644, 0.0119]  (0.000889, 0.00717]   (9.167, 10.189]   (80.0, 100.0]   \n",
       "3    (0.00644, 0.0119]  (0.000889, 0.00717]   (9.167, 10.189]    (60.0, 80.0]   \n",
       "4  (0.000902, 0.00644]  (0.000889, 0.00717]    (8.144, 9.167]  (100.0, 120.0]   \n",
       "5  (0.000902, 0.00644]  (0.000889, 0.00717]    (8.144, 9.167]  (160.0, 180.0]   \n",
       "\n",
       "           VV_M_0            HR_M_0  ...          HR_T_0          CO_X_0  \\\n",
       "1  (2.172, 3.244]  (65.333, 70.278]  ...  (65.333, 69.5]  (2.322, 2.611]   \n",
       "2  (3.244, 4.317]  (65.333, 70.278]  ...  (65.333, 69.5]  (2.033, 2.322]   \n",
       "3  (1.081, 2.172]  (65.333, 70.278]  ...  (65.333, 69.5]    (2.9, 3.189]   \n",
       "4  (2.172, 3.244]  (70.278, 75.222]  ...  (65.333, 69.5]    (2.611, 2.9]   \n",
       "5  (2.172, 3.244]  (65.333, 70.278]  ...  (65.333, 69.5]  (2.322, 2.611]   \n",
       "\n",
       "           NO2_X_0          NOx_X_0             SO2_X_0              O3_X_0  \\\n",
       "1  (0.0335, 0.039]   (0.102, 0.125]  (0.00578, 0.00956]  (0.00492, 0.00956]   \n",
       "2  (0.028, 0.0335]  (0.0788, 0.102]  (0.00578, 0.00956]  (0.00492, 0.00956]   \n",
       "3  (0.028, 0.0335]   (0.149, 0.172]  (0.00578, 0.00956]  (0.00492, 0.00956]   \n",
       "4  (0.0225, 0.028]   (0.102, 0.125]  (0.00578, 0.00956]  (0.00492, 0.00956]   \n",
       "5  (0.0225, 0.028]   (0.149, 0.172]  (0.00578, 0.00956]  (0.00492, 0.00956]   \n",
       "\n",
       "            TMP_X_0              DV_X_0          VV_X_0            HR_X_0  \n",
       "1  (10.411, 11.389]    (60.833, 80.778]  (4.617, 6.089]  (58.667, 63.056]  \n",
       "2   (9.433, 10.411]    (40.889, 60.833]  (1.672, 3.144]  (58.667, 63.056]  \n",
       "3   (9.433, 10.411]    (180.5, 200.444]  (0.174, 1.672]  (63.056, 67.444]  \n",
       "4    (8.456, 9.433]   (80.778, 100.722]  (1.672, 3.144]  (63.056, 67.444]  \n",
       "5    (8.456, 9.433]  (220.389, 240.333]  (0.174, 1.672]  (63.056, 67.444]  \n",
       "\n",
       "[5 rows x 37 columns]"
      ]
     },
     "execution_count": 4,
     "metadata": {},
     "output_type": "execute_result"
    }
   ],
   "source": [
    "data = pd.read_csv(\"data/pollution_mexico_city/sinaica/2019-01/Datos SINAICA - Merced - CO - 2019-01-01 - 2019-02-01.csv\")\n",
    "# print(data.columns)\n",
    "# print(data['Parámetro'][0])\n",
    "data = data.drop(columns=['Parámetro', 'Valor', 'Unidad'])\n",
    "\n",
    "y_continue = None\n",
    "\n",
    "# print('Initial data\\n')\n",
    "# print(data)\n",
    "\n",
    "for st in stations:\n",
    "    for var in variables:\n",
    "        df = pd.read_csv(\"data/pollution_mexico_city/sinaica/2019-01/Datos SINAICA - {} - {} - 2019-01-01 - 2019-02-01.csv\".format(st, var))\n",
    "        param = '{}_{}_0'.format(df['Parámetro'][0], st[0])\n",
    "        df.rename(columns={\"Valor\": param}, inplace=True)\n",
    "        \n",
    "        if param == 'O3_P_0':\n",
    "            y_continue = df.copy()\n",
    "            y_continue.rename(columns={param: 'O3_P_t_cont'}, inplace=True)\n",
    "            y_continue = y_continue.drop(columns=['Parámetro', 'Unidad'])\n",
    "            \n",
    "#             y_continue_t1 = y_continue_t.shift()\n",
    "            \n",
    "            data = data.merge(y_continue, how='outer', on=['Fecha', 'Hora'])\n",
    "            \n",
    "        \n",
    "        df[param] = pd.cut(df[param], bins=num_bins)\n",
    "        df = df.drop(columns=['Parámetro', 'Unidad'])\n",
    "        data = data.merge(df, how='outer', on=['Fecha', 'Hora'])\n",
    "        \n",
    "#         df.rename(columns={param: param+'+1'}, inplace=True)\n",
    "#         data = data.merge(df, how='outer', on=['Fecha','Hora'])\n",
    "#         data[param+'+1'] = data[param+'+1'].shift(1)\n",
    "        \n",
    "#         black_list.append((param+'+1', param))\n",
    "        \n",
    "\n",
    "# y_continue_t = data['O3_P_t_cont']\n",
    "# y_continue_t1 = y_continue_t.shift()\n",
    "\n",
    "data.rename(columns={'Hora': 'Hora_0'}, inplace=True)\n",
    "    \n",
    "complete_data = data.dropna().drop(columns=['Fecha'])\n",
    "\n",
    "y_complete_continue_t = complete_data['O3_P_t_cont']\n",
    "y_complete_continue_t1 = y_complete_continue_t.shift()\n",
    "\n",
    "data = data.drop(columns=['O3_P_t_cont'])\n",
    "complete_data = complete_data.drop(columns=['O3_P_t_cont'])\n",
    "\n",
    "# binned_data = complete_data\n",
    "\n",
    "# binned_data['CO_M'] = pd.cut(binned_data, bins=20)\n",
    "\n",
    "complete_data.head()"
   ]
  },
  {
   "cell_type": "code",
   "execution_count": 5,
   "metadata": {
    "scrolled": false
   },
   "outputs": [
    {
     "name": "stdout",
     "output_type": "stream",
     "text": [
      "Valores nulos en cada variable:\n",
      " Fecha       0\n",
      "Hora_0      0\n",
      "CO_M_0     23\n",
      "NO2_M_0    28\n",
      "NOx_M_0    28\n",
      "SO2_M_0    28\n",
      "O3_M_0     28\n",
      "TMP_M_0     1\n",
      "DV_M_0      1\n",
      "VV_M_0      2\n",
      "HR_M_0      1\n",
      "CO_P_0     33\n",
      "NO2_P_0    40\n",
      "NOx_P_0    40\n",
      "SO2_P_0    39\n",
      "O3_P_0     39\n",
      "TMP_P_0    14\n",
      "DV_P_0     12\n",
      "VV_P_0     12\n",
      "HR_P_0     14\n",
      "CO_T_0     28\n",
      "NO2_T_0    33\n",
      "NOx_T_0    33\n",
      "SO2_T_0    33\n",
      "O3_T_0     39\n",
      "TMP_T_0    41\n",
      "DV_T_0     41\n",
      "VV_T_0     40\n",
      "HR_T_0     41\n",
      "CO_X_0     35\n",
      "NO2_X_0    34\n",
      "NOx_X_0    35\n",
      "SO2_X_0    38\n",
      "O3_X_0     37\n",
      "TMP_X_0    19\n",
      "DV_X_0     19\n",
      "VV_X_0     19\n",
      "HR_X_0     19\n",
      "dtype: int64\n",
      "\n",
      "Número de registros completos:  646\n"
     ]
    }
   ],
   "source": [
    "print(\"Valores nulos en cada variable:\\n\", data.isnull().sum())\n",
    "\n",
    "print(\"\\nNúmero de registros completos: \", data.dropna().count()[0])"
   ]
  },
  {
   "cell_type": "markdown",
   "metadata": {},
   "source": [
    "# Agregación de variables en T+1"
   ]
  },
  {
   "cell_type": "code",
   "execution_count": 6,
   "metadata": {
    "scrolled": false
   },
   "outputs": [],
   "source": [
    "complete_data_t = complete_data.copy()\n",
    "\n",
    "for j, col in enumerate(complete_data_t.columns):\n",
    "    if col == 'Fecha':\n",
    "        continue\n",
    "        \n",
    "    complete_data_t.insert(j*2+1, col[:-1]+'1', complete_data_t[col].shift(1))"
   ]
  },
  {
   "cell_type": "markdown",
   "metadata": {},
   "source": [
    "# División del conjunto de entrenamiento y validación"
   ]
  },
  {
   "cell_type": "markdown",
   "metadata": {},
   "source": [
    "Dividimos los datos en conjunto de entrenamiento y validación"
   ]
  },
  {
   "cell_type": "code",
   "execution_count": 7,
   "metadata": {},
   "outputs": [
    {
     "name": "stdout",
     "output_type": "stream",
     "text": [
      "\n",
      "Particiones obtenidas sobre los datos con los registros completos:\n",
      "X_complete_train:  (430, 36)\n",
      "y_complete_train:  (430,)\n",
      "X_complete_test:   (216, 36)\n",
      "y_complete_test:   (216,)\n",
      "\n",
      "Particiones obtenidas sobre los datos completos continuos:\n",
      "y_complete_continue_train:  (430,)\n",
      "y_complete_continue_test:  (216,)\n"
     ]
    }
   ],
   "source": [
    "# X = data.drop(columns=['O3_P_1'])\n",
    "# y = data['O3_P_1']\n",
    "\n",
    "\n",
    "# X_complete = complete_data.drop(columns=['O3_P_0'])\n",
    "y_complete = complete_data['O3_P_0']\n",
    "\n",
    "# X_train, X_test, y_train, y_test = train_test_split(X, y, test_size=1/3)\n",
    "# X_complete_train, X_complete_test, y_complete_train, y_complete_test = train_test_split(X_complete, y_complete, test_size=1/3)\n",
    "\n",
    "complete_train, complete_test, y_complete_continue_train, y_complete_continue_test = train_test_split(complete_data, y_complete_continue_t, test_size=1/3)\n",
    "\n",
    "X_complete_train = complete_train.drop(columns=['O3_P_0'])\n",
    "y_complete_train = complete_train['O3_P_0']\n",
    "\n",
    "X_complete_test = complete_test.drop(columns=['O3_P_0'])\n",
    "y_complete_test = complete_test['O3_P_0']\n",
    "\n",
    "\n",
    "# print(\"Particiones obtenidas sobre los datos iniciales:\")\n",
    "# print(\"X_train: \", X_train.shape)\n",
    "# print(\"y_train: \", y_train.shape)\n",
    "# print(\"X_test:  \", X_test.shape)\n",
    "# print(\"y_test:  \", y_test.shape)\n",
    "print(\"\\nParticiones obtenidas sobre los datos con los registros completos:\")\n",
    "print(\"X_complete_train: \", X_complete_train.shape)\n",
    "print(\"y_complete_train: \", y_complete_train.shape)\n",
    "print(\"X_complete_test:  \", X_complete_test.shape)\n",
    "print(\"y_complete_test:  \", y_complete_test.shape)\n",
    "print(\"\\nParticiones obtenidas sobre los datos completos continuos:\")\n",
    "print(\"y_complete_continue_train: \", y_complete_continue_train.shape)\n",
    "print(\"y_complete_continue_test: \", y_complete_continue_test.shape)"
   ]
  },
  {
   "cell_type": "markdown",
   "metadata": {},
   "source": [
    "# Aprendizaje de la estructura estática para cada instante T"
   ]
  },
  {
   "cell_type": "code",
   "execution_count": 15,
   "metadata": {},
   "outputs": [],
   "source": [
    "from pgmpy.models import BayesianModel"
   ]
  },
  {
   "cell_type": "markdown",
   "metadata": {},
   "source": [
    "Definición de scores sobre el dataset:"
   ]
  },
  {
   "cell_type": "code",
   "execution_count": 16,
   "metadata": {},
   "outputs": [],
   "source": [
    "from pgmpy.estimators import BDeuScore, K2Score, BicScore\n",
    "\n",
    "bdeu = BDeuScore(complete_train, equivalent_sample_size=5)\n",
    "# k2 = K2Score(complete_train)\n",
    "bic = BicScore(complete_train)"
   ]
  },
  {
   "cell_type": "markdown",
   "metadata": {},
   "source": [
    "Si quisieramos usar un algoritmo exacto, tendriamos que iterar sobre los $2^{N(N-1)}$ siendo N el número de nodos, es decir:"
   ]
  },
  {
   "cell_type": "code",
   "execution_count": 17,
   "metadata": {},
   "outputs": [
    {
     "name": "stdout",
     "output_type": "stream",
     "text": [
      "Número de DAGs posibles con N=37 ---> 93746319107175952683864071964918454730461746778024627464635174121600584812748548703282543376385452193806936431137231560052128838065111583392770646215498841416082979442330648067511176282732199184911147558161483085919841893469290827996255650168474543134607110617533756037909735459668069833444196401816994512004002417933496313555598963173697952072590902286596238498989761054870081835578169164103256375296\n"
     ]
    }
   ],
   "source": [
    "N=len(list(complete_train))\n",
    "print(\"Número de DAGs posibles con N={} ---> {}\".format(N, 2**(N*(N-1))))"
   ]
  },
  {
   "cell_type": "code",
   "execution_count": 11,
   "metadata": {},
   "outputs": [
    {
     "name": "stdout",
     "output_type": "stream",
     "text": [
      "\n",
      "Hill Climb Search BDeu:\n",
      "peak memory: 612.00 MiB, increment: 425.31 MiB\n",
      "Wall time: 5h 56s\n"
     ]
    }
   ],
   "source": [
    "from pgmpy.estimators import HillClimbSearch\n",
    "\n",
    "# hc_bic = HillClimbSearch(complete_train, scoring_method=bic)\n",
    "# hc_k2 = HillClimbSearch(complete_train, scoring_method=k2)\n",
    "hc_bdeu = HillClimbSearch(complete_train, scoring_method=bdeu)\n",
    "\n",
    "# Aprendizaje de las redes\n",
    "# print(\"Hill Climb Search BIC:\")\n",
    "# %time %memit hc_bic_structure = hc_bic.estimate()\n",
    "# print(\"\\nHill Climb Search K2:\")\n",
    "# %time %memit hc_k2_structure = hc_k2.estimate()\n",
    "print(\"\\nHill Climb Search BDeu:\")\n",
    "%time %memit hc_bdeu_structure = hc_bdeu.estimate()"
   ]
  },
  {
   "cell_type": "markdown",
   "metadata": {},
   "source": [
    "## DAGs resultantes"
   ]
  },
  {
   "cell_type": "markdown",
   "metadata": {},
   "source": [
    "DAG obtenido usando Hill Climb BIC"
   ]
  },
  {
   "cell_type": "code",
   "execution_count": 12,
   "metadata": {
    "scrolled": true
   },
   "outputs": [],
   "source": [
    "# plot_pgmpy_bn(hc_bic_structure)"
   ]
  },
  {
   "cell_type": "markdown",
   "metadata": {},
   "source": [
    "DAG obtenido usando Hill Climb K2"
   ]
  },
  {
   "cell_type": "code",
   "execution_count": 13,
   "metadata": {},
   "outputs": [],
   "source": [
    "# plot_pgmpy_bn(hc_k2_structure)"
   ]
  },
  {
   "cell_type": "markdown",
   "metadata": {},
   "source": [
    "DAG obtenido usando Hill Climb Bdeu"
   ]
  },
  {
   "cell_type": "code",
   "execution_count": 14,
   "metadata": {},
   "outputs": [
    {
     "data": {
      "image/png": "[encoded data removed]",
      "text/plain": [
       "<Figure size 432x288 with 1 Axes>"
      ]
     },
     "metadata": {},
     "output_type": "display_data"
    }
   ],
   "source": [
    "plot_pgmpy_bn(hc_bdeu_structure)"
   ]
  },
  {
   "cell_type": "markdown",
   "metadata": {},
   "source": [
    "A la hora de estimar, podemos indicar el número máximo de padres por variable. Por ejemplo, si exigimos que sea 1, aprenderemos estructuras de árbol y el aprendizaje será más rápido:"
   ]
  },
  {
   "cell_type": "code",
   "execution_count": 15,
   "metadata": {
    "scrolled": true
   },
   "outputs": [],
   "source": [
    "# print(\"Hill Climb Search BIC:\")\n",
    "# %time %memit hc_bic_tree = hc_bic.estimate(max_indegree=1)\n",
    "# print(\"\\nHill Climb Search K2:\")\n",
    "# %time %memit hc_k2_tree = hc_k2.estimate(max_indegree=1)\n",
    "# print(\"\\nHill Climb Search BDeu:\")\n",
    "# %time %memit hc_bdeu_tree = hc_bdeu.estimate(max_indegree=1)"
   ]
  },
  {
   "cell_type": "markdown",
   "metadata": {},
   "source": [
    "Estructura de árbol obtenida usando Hill Climb BIC"
   ]
  },
  {
   "cell_type": "code",
   "execution_count": 16,
   "metadata": {},
   "outputs": [],
   "source": [
    "# plot_pgmpy_bn(hc_bic_tree)"
   ]
  },
  {
   "cell_type": "markdown",
   "metadata": {},
   "source": [
    "Estructura de árbol obtenida usando Hill Climb K2"
   ]
  },
  {
   "cell_type": "code",
   "execution_count": 17,
   "metadata": {},
   "outputs": [],
   "source": [
    "# plot_pgmpy_bn(hc_k2_tree)"
   ]
  },
  {
   "cell_type": "markdown",
   "metadata": {},
   "source": [
    "Estructura de árbol obtenida usando Hill Climb Bdeu"
   ]
  },
  {
   "cell_type": "code",
   "execution_count": 18,
   "metadata": {
    "scrolled": true
   },
   "outputs": [],
   "source": [
    "# plot_pgmpy_bn(hc_bdeu_tree)"
   ]
  },
  {
   "cell_type": "markdown",
   "metadata": {},
   "source": [
    "# Algoritmos locales mediante tests de independencia"
   ]
  },
  {
   "cell_type": "code",
   "execution_count": 19,
   "metadata": {
    "scrolled": false
   },
   "outputs": [],
   "source": [
    "# from pgmpy.estimators import ConstraintBasedEstimator\n",
    "\n",
    "# constraint_estimator = ConstraintBasedEstimator(data)\n",
    "\n",
    "# print(\"Constraint Estimation:\")\n",
    "# %time %memit constraint_structure = constraint_estimator.estimate(significance_level=0.01)"
   ]
  },
  {
   "cell_type": "markdown",
   "metadata": {},
   "source": [
    "# Comparación accuracy distintas estructuras"
   ]
  },
  {
   "cell_type": "markdown",
   "metadata": {},
   "source": [
    "## Inicialización estructuras"
   ]
  },
  {
   "cell_type": "markdown",
   "metadata": {},
   "source": [
    "Creamos los modelos a partir de las estructuras:"
   ]
  },
  {
   "cell_type": "code",
   "execution_count": 20,
   "metadata": {},
   "outputs": [],
   "source": [
    "from pgmpy.models import BayesianModel\n",
    "\n",
    "hc_bdeu_model = BayesianModel()\n",
    "hc_bdeu_model.add_nodes_from(hc_bdeu_structure.nodes)\n",
    "hc_bdeu_model.add_edges_from(hc_bdeu_structure.edges)\n",
    "\n",
    "# hc_k2_model = BayesianModel()\n",
    "# hc_k2_model.add_nodes_from(hc_k2_structure.nodes)\n",
    "# hc_k2_model.add_edges_from(hc_k2_structure.edges)\n",
    "\n",
    "# hc_bic_model = BayesianModel()\n",
    "# hc_bic_model.add_nodes_from(hc_bic_structure.nodes)\n",
    "# hc_bic_model.add_edges_from(hc_bic_structure.edges)\n",
    "\n",
    "# constraint_model = BayesianModel()\n",
    "# constraint_model.add_nodes_from(constraint_structure.nodes)\n",
    "# constraint_model.add_edges_from(constraint_structure.edges)"
   ]
  },
  {
   "cell_type": "markdown",
   "metadata": {},
   "source": [
    "## Estimación de parámetros"
   ]
  },
  {
   "cell_type": "markdown",
   "metadata": {},
   "source": [
    "Podemos estimar los parámetros usando un estimador máximo verosimil o uno bayesiano con a priori uniforme, el cual vamos a elegir en este caso:"
   ]
  },
  {
   "cell_type": "markdown",
   "metadata": {},
   "source": [
    "Podemos estimar los parámetros usando un estimador máximo verosimil o uno bayesiano con a priori uniforme, el cual vamos a elegir en este caso:"
   ]
  },
  {
   "cell_type": "code",
   "execution_count": 21,
   "metadata": {
    "scrolled": false
   },
   "outputs": [],
   "source": [
    "from pgmpy.estimators import BayesianEstimator, MaximumLikelihoodEstimator\n",
    "\n",
    "########### Estimador máximo verosimil\n",
    "# hc_bdeu_model.fit(complete_data, estimator=MaximumLikelihoodEstimator)\n",
    "# hc_k2_model.fit(data, estimator=BayesianEstimator)\n",
    "# hc_bic_model.fit(complete_data, estimator=BayesianEstimator)\n",
    "# constraint_model.fit(data, estimator=BayesianEstimator)\n",
    "\n",
    "########### Estimador Bayesiano\n",
    "hc_bdeu_model.fit(complete_data, estimator=BayesianEstimator, prior_type=\"BDeu\")  # default equivalent_sample_size=5\n",
    "# hc_k2_model.fit(data, estimator=BayesianEstimator, prior_type=\"BDeu\")           # default equivalent_sample_size=5\n",
    "# hc_bic_model.fit(complete_data, estimator=BayesianEstimator, prior_type=\"BDeu\") # default equivalent_sample_size=5\n",
    "# constraint_model.fit(data, estimator=BayesianEstimator, prior_type=\"BDeu\")      # default equivalent_sample_size=5"
   ]
  },
  {
   "cell_type": "markdown",
   "metadata": {},
   "source": [
    "# Sobre el dataset de entrenamiento"
   ]
  },
  {
   "cell_type": "markdown",
   "metadata": {},
   "source": [
    "### Inferencia"
   ]
  },
  {
   "cell_type": "markdown",
   "metadata": {},
   "source": [
    "Ejecutamos la inferencia sobre el dataset de entrenamiento usando el algoritmo por defecto de eliminación de variable:"
   ]
  },
  {
   "cell_type": "code",
   "execution_count": 22,
   "metadata": {},
   "outputs": [
    {
     "name": "stderr",
     "output_type": "stream",
     "text": [
      "100%|████████████████████████████████████████████████████████████████████████████████| 430/430 [00:55<00:00,  7.69it/s]\n"
     ]
    },
    {
     "name": "stdout",
     "output_type": "stream",
     "text": [
      "peak memory: 617.76 MiB, increment: 3.50 MiB\n",
      "Wall time: 59.1 s\n"
     ]
    }
   ],
   "source": [
    "%time %memit y_pred_hc_bdeu = hc_bdeu_model.predict(X_complete_train)\n",
    "# %time %memit y_pred_hc_k2 = hc_k2_model.predict(X_complete_train)\n",
    "# %time %memit y_pred_hc_bic = hc_bic_model.predict(X_complete_train)\n",
    "# %time %memit y_pred_constraint = constraint_model.predict(X_complete_train)"
   ]
  },
  {
   "cell_type": "markdown",
   "metadata": {},
   "source": [
    "### Accuracy"
   ]
  },
  {
   "cell_type": "markdown",
   "metadata": {},
   "source": [
    "Medimos el accuracy desde el puntos de vista de intervalos como variables categóricas:"
   ]
  },
  {
   "cell_type": "code",
   "execution_count": 26,
   "metadata": {},
   "outputs": [
    {
     "name": "stdout",
     "output_type": "stream",
     "text": [
      "HC BDeu:\n",
      "               precision    recall  f1-score   support\n",
      "\n",
      "           0       0.34      0.18      0.23       123\n",
      "           1       0.11      0.11      0.11        54\n",
      "           2       0.07      0.09      0.07        46\n",
      "           3       0.13      0.09      0.11        66\n",
      "           4       0.00      0.00      0.00         0\n",
      "           5       0.00      0.00      0.00         0\n",
      "           6       0.15      0.06      0.09        49\n",
      "           7       0.04      0.03      0.04        30\n",
      "           8       0.06      0.08      0.07        13\n",
      "           9       0.00      0.00      0.00         0\n",
      "          10       0.00      0.00      0.00        15\n",
      "          11       0.00      0.00      0.00        14\n",
      "          12       0.00      0.00      0.00         8\n",
      "          13       0.00      0.00      0.00         2\n",
      "          14       0.00      0.00      0.00         3\n",
      "          16       0.00      0.00      0.00         0\n",
      "          17       0.00      0.00      0.00         7\n",
      "\n",
      "    accuracy                           0.10       430\n",
      "   macro avg       0.05      0.04      0.04       430\n",
      "weighted avg       0.16      0.10      0.12       430\n",
      "\n"
     ]
    },
    {
     "name": "stderr",
     "output_type": "stream",
     "text": [
      "C:\\Users\\usuario\\.conda\\envs\\PGM\\lib\\site-packages\\sklearn\\metrics\\_classification.py:1221: UndefinedMetricWarning: Recall and F-score are ill-defined and being set to 0.0 in labels with no true samples. Use `zero_division` parameter to control this behavior.\n",
      "  _warn_prf(average, modifier, msg_start, len(result))\n"
     ]
    }
   ],
   "source": [
    "from sklearn import preprocessing\n",
    "le = preprocessing.LabelEncoder()\n",
    "le.fit(y_complete)\n",
    "\n",
    "print(\"HC BDeu:\\n\", classification_report(le.transform(y_pred_hc_bdeu['O3_P_0']), le.transform(y_complete_train)))\n",
    "# print(\"HC K2:\\n\", classification_report(le.transform(y_pred_hc_k2['O3_P_0']), le.transform(y_complete_train)))\n",
    "# print(\"HC BIC:\\n\", classification_report(le.transform(y_pred_hc_bic['O3_P_0']), le.transform(y_complete_train)))\n",
    "# print(\"Constraint:\\n\", classification_report(le.transform(y_pred_constraint['O3_P_0']), le.transform(y_complete_train)))"
   ]
  },
  {
   "cell_type": "markdown",
   "metadata": {},
   "source": [
    "### Diferencia media en IMECAs"
   ]
  },
  {
   "cell_type": "markdown",
   "metadata": {},
   "source": [
    "El cálculo de IMECAs para el O3 viene dado por la fórmula $$I(O3) = C(O3) * 100 / 0.11$$\n",
    "\n",
    "donde:\n",
    "- C(O3) es la concentración de ozono\n"
   ]
  },
  {
   "cell_type": "markdown",
   "metadata": {},
   "source": [
    "Nos definimos una función para calcular la diferencia absoluta media de IMECAs entre nuestras predicciones y el valor real, tomando como predicción el centro del intervalo:"
   ]
  },
  {
   "cell_type": "code",
   "execution_count": 23,
   "metadata": {},
   "outputs": [],
   "source": [
    "def mean_imeca_diff(pred, truth):\n",
    "    if pred.shape != truth.shape:\n",
    "        raise ValueError(\"Predicted values {} and true values {} must have the same dimensions\".format(pred.shape, truth.shape))\n",
    "        \n",
    "    pred_centers = [(interval.left + interval.right) / 2 for interval in pred]\n",
    "    \n",
    "    O3_diff = 0\n",
    "    \n",
    "    for i in range(len(pred_centers)):\n",
    "        O3_diff += abs(truth.iloc[i] - pred_centers[i])\n",
    "        \n",
    "    return (O3_diff/len(pred_centers))*100/0.11             # IMECA[O3] = CONCENTRACIÓN[O3] * 100 / 0.11                "
   ]
  },
  {
   "cell_type": "code",
   "execution_count": 28,
   "metadata": {},
   "outputs": [
    {
     "data": {
      "text/plain": [
       "27.709883720930215"
      ]
     },
     "execution_count": 28,
     "metadata": {},
     "output_type": "execute_result"
    }
   ],
   "source": [
    "mean_imeca_diff(y_pred_hc_bdeu['O3_P_0'], y_complete_continue_train)"
   ]
  },
  {
   "cell_type": "markdown",
   "metadata": {},
   "source": [
    "# Sobre el dataset de validación"
   ]
  },
  {
   "cell_type": "markdown",
   "metadata": {},
   "source": [
    "### Inferencia"
   ]
  },
  {
   "cell_type": "code",
   "execution_count": 29,
   "metadata": {},
   "outputs": [
    {
     "name": "stderr",
     "output_type": "stream",
     "text": [
      "100%|████████████████████████████████████████████████████████████████████████████████| 216/216 [00:31<00:00,  6.76it/s]\n"
     ]
    },
    {
     "name": "stdout",
     "output_type": "stream",
     "text": [
      "peak memory: 541.89 MiB, increment: 8.01 MiB\n",
      "Wall time: 37.6 s\n"
     ]
    }
   ],
   "source": [
    "%time %memit y_pred_hc_bdeu_val = hc_bdeu_model.predict(X_complete_test)\n",
    "# %time %memit y_pred_hc_k2 = hc_k2_model.predict(X_complete_test)\n",
    "# %time %memit y_pred_hc_bic = hc_bic_model.predict(X_complete_test)\n",
    "# %time %memit y_pred_constraint = constraint_model.predict(X_complete_test)"
   ]
  },
  {
   "cell_type": "markdown",
   "metadata": {},
   "source": [
    "### Accuracy (desde el punto de vista de variables categóricas):"
   ]
  },
  {
   "cell_type": "code",
   "execution_count": 30,
   "metadata": {
    "scrolled": false
   },
   "outputs": [
    {
     "name": "stdout",
     "output_type": "stream",
     "text": [
      "HC BDeu:\n",
      "               precision    recall  f1-score   support\n",
      "\n",
      "           0       0.82      0.38      0.52        60\n",
      "           1       0.33      0.33      0.33        30\n",
      "           2       0.10      0.19      0.13        16\n",
      "           3       0.57      0.50      0.53        34\n",
      "           4       0.00      0.00      0.00         0\n",
      "           5       0.00      0.00      0.00         0\n",
      "           6       0.92      0.44      0.60        27\n",
      "           7       0.45      0.31      0.37        16\n",
      "           8       0.50      0.50      0.50         8\n",
      "           9       0.00      0.00      0.00         0\n",
      "          10       0.25      0.17      0.20         6\n",
      "          11       0.20      0.50      0.29         4\n",
      "          12       0.40      0.29      0.33         7\n",
      "          13       0.00      0.00      0.00         0\n",
      "          14       0.60      1.00      0.75         3\n",
      "          15       0.00      0.00      0.00         0\n",
      "          16       0.00      0.00      0.00         0\n",
      "          17       1.00      0.20      0.33         5\n",
      "\n",
      "    accuracy                           0.38       216\n",
      "   macro avg       0.34      0.27      0.27       216\n",
      "weighted avg       0.59      0.38      0.45       216\n",
      "\n"
     ]
    }
   ],
   "source": [
    "from sklearn import preprocessing\n",
    "le = preprocessing.LabelEncoder()\n",
    "le.fit(y_complete)\n",
    "\n",
    "print(\"HC BDeu:\\n\", classification_report(le.transform(y_pred_hc_bdeu_val['O3_P_0']), le.transform(y_complete_test)))\n",
    "# print(\"HC K2:\\n\", classification_report(le.transform(y_pred_hc_k2['O3_P_0']), le.transform(y_complete_test)))\n",
    "# print(\"HC BIC:\\n\", classification_report(le.transform(y_pred_hc_bic['O3_P_0']), le.transform(y_complete_test)))\n",
    "# print(\"Constraint:\\n\", classification_report(le.transform(y_pred_constraint['O3_P_0']), le.transform(y_complete_test)))"
   ]
  },
  {
   "cell_type": "markdown",
   "metadata": {},
   "source": [
    "### Diferencia media en IMECAs"
   ]
  },
  {
   "cell_type": "code",
   "execution_count": 31,
   "metadata": {
    "scrolled": true
   },
   "outputs": [
    {
     "data": {
      "text/plain": [
       "7.628787878787879"
      ]
     },
     "execution_count": 31,
     "metadata": {},
     "output_type": "execute_result"
    }
   ],
   "source": [
    "mean_imeca_diff(y_pred_hc_bdeu_val['O3_P_0'], y_complete_continue_test)"
   ]
  },
  {
   "cell_type": "markdown",
   "metadata": {},
   "source": [
    "# Aprendizaje de la estructura dinámica entre capas t+1 y t"
   ]
  },
  {
   "cell_type": "markdown",
   "metadata": {},
   "source": [
    "Para ello usamos la **white_list**, que indica posibles dependencias que pueden darse. Como queremos aprender las relaciones entre las variables en t y t+1, añadimos a esta lista todas las aristas entre variables en t y t+1 y aprendemos la estructura de dependencia entre ambos momentos temporales."
   ]
  },
  {
   "cell_type": "code",
   "execution_count": 32,
   "metadata": {},
   "outputs": [
    {
     "data": {
      "text/plain": [
       "[('Hora_0', 'Hora_1'),\n",
       " ('Hora_0', 'CO_M_1'),\n",
       " ('Hora_0', 'NO2_M_1'),\n",
       " ('Hora_0', 'NOx_M_1'),\n",
       " ('Hora_0', 'SO2_M_1'),\n",
       " ('Hora_0', 'O3_M_1'),\n",
       " ('Hora_0', 'TMP_M_1'),\n",
       " ('Hora_0', 'DV_M_1'),\n",
       " ('Hora_0', 'VV_M_1'),\n",
       " ('Hora_0', 'HR_M_1'),\n",
       " ('Hora_0', 'CO_P_1'),\n",
       " ('Hora_0', 'NO2_P_1'),\n",
       " ('Hora_0', 'NOx_P_1'),\n",
       " ('Hora_0', 'SO2_P_1'),\n",
       " ('Hora_0', 'O3_P_1'),\n",
       " ('Hora_0', 'TMP_P_1'),\n",
       " ('Hora_0', 'DV_P_1'),\n",
       " ('Hora_0', 'VV_P_1'),\n",
       " ('Hora_0', 'HR_P_1'),\n",
       " ('Hora_0', 'CO_T_1'),\n",
       " ('Hora_0', 'NO2_T_1'),\n",
       " ('Hora_0', 'NOx_T_1'),\n",
       " ('Hora_0', 'SO2_T_1'),\n",
       " ('Hora_0', 'O3_T_1'),\n",
       " ('Hora_0', 'TMP_T_1'),\n",
       " ('Hora_0', 'DV_T_1'),\n",
       " ('Hora_0', 'VV_T_1'),\n",
       " ('Hora_0', 'HR_T_1'),\n",
       " ('Hora_0', 'CO_X_1'),\n",
       " ('Hora_0', 'NO2_X_1'),\n",
       " ('Hora_0', 'NOx_X_1'),\n",
       " ('Hora_0', 'SO2_X_1'),\n",
       " ('Hora_0', 'O3_X_1'),\n",
       " ('Hora_0', 'TMP_X_1'),\n",
       " ('Hora_0', 'DV_X_1'),\n",
       " ('Hora_0', 'VV_X_1'),\n",
       " ('Hora_0', 'HR_X_1'),\n",
       " ('CO_M_0', 'Hora_1'),\n",
       " ('CO_M_0', 'CO_M_1'),\n",
       " ('CO_M_0', 'NO2_M_1'),\n",
       " ('CO_M_0', 'NOx_M_1'),\n",
       " ('CO_M_0', 'SO2_M_1'),\n",
       " ('CO_M_0', 'O3_M_1'),\n",
       " ('CO_M_0', 'TMP_M_1'),\n",
       " ('CO_M_0', 'DV_M_1'),\n",
       " ('CO_M_0', 'VV_M_1'),\n",
       " ('CO_M_0', 'HR_M_1'),\n",
       " ('CO_M_0', 'CO_P_1'),\n",
       " ('CO_M_0', 'NO2_P_1'),\n",
       " ('CO_M_0', 'NOx_P_1'),\n",
       " ('CO_M_0', 'SO2_P_1'),\n",
       " ('CO_M_0', 'O3_P_1'),\n",
       " ('CO_M_0', 'TMP_P_1'),\n",
       " ('CO_M_0', 'DV_P_1'),\n",
       " ('CO_M_0', 'VV_P_1'),\n",
       " ('CO_M_0', 'HR_P_1'),\n",
       " ('CO_M_0', 'CO_T_1'),\n",
       " ('CO_M_0', 'NO2_T_1'),\n",
       " ('CO_M_0', 'NOx_T_1'),\n",
       " ('CO_M_0', 'SO2_T_1'),\n",
       " ('CO_M_0', 'O3_T_1'),\n",
       " ('CO_M_0', 'TMP_T_1'),\n",
       " ('CO_M_0', 'DV_T_1'),\n",
       " ('CO_M_0', 'VV_T_1'),\n",
       " ('CO_M_0', 'HR_T_1'),\n",
       " ('CO_M_0', 'CO_X_1'),\n",
       " ('CO_M_0', 'NO2_X_1'),\n",
       " ('CO_M_0', 'NOx_X_1'),\n",
       " ('CO_M_0', 'SO2_X_1'),\n",
       " ('CO_M_0', 'O3_X_1'),\n",
       " ('CO_M_0', 'TMP_X_1'),\n",
       " ('CO_M_0', 'DV_X_1'),\n",
       " ('CO_M_0', 'VV_X_1'),\n",
       " ('CO_M_0', 'HR_X_1'),\n",
       " ('NO2_M_0', 'Hora_1'),\n",
       " ('NO2_M_0', 'CO_M_1'),\n",
       " ('NO2_M_0', 'NO2_M_1'),\n",
       " ('NO2_M_0', 'NOx_M_1'),\n",
       " ('NO2_M_0', 'SO2_M_1'),\n",
       " ('NO2_M_0', 'O3_M_1'),\n",
       " ('NO2_M_0', 'TMP_M_1'),\n",
       " ('NO2_M_0', 'DV_M_1'),\n",
       " ('NO2_M_0', 'VV_M_1'),\n",
       " ('NO2_M_0', 'HR_M_1'),\n",
       " ('NO2_M_0', 'CO_P_1'),\n",
       " ('NO2_M_0', 'NO2_P_1'),\n",
       " ('NO2_M_0', 'NOx_P_1'),\n",
       " ('NO2_M_0', 'SO2_P_1'),\n",
       " ('NO2_M_0', 'O3_P_1'),\n",
       " ('NO2_M_0', 'TMP_P_1'),\n",
       " ('NO2_M_0', 'DV_P_1'),\n",
       " ('NO2_M_0', 'VV_P_1'),\n",
       " ('NO2_M_0', 'HR_P_1'),\n",
       " ('NO2_M_0', 'CO_T_1'),\n",
       " ('NO2_M_0', 'NO2_T_1'),\n",
       " ('NO2_M_0', 'NOx_T_1'),\n",
       " ('NO2_M_0', 'SO2_T_1'),\n",
       " ('NO2_M_0', 'O3_T_1'),\n",
       " ('NO2_M_0', 'TMP_T_1'),\n",
       " ('NO2_M_0', 'DV_T_1'),\n",
       " ('NO2_M_0', 'VV_T_1'),\n",
       " ('NO2_M_0', 'HR_T_1'),\n",
       " ('NO2_M_0', 'CO_X_1'),\n",
       " ('NO2_M_0', 'NO2_X_1'),\n",
       " ('NO2_M_0', 'NOx_X_1'),\n",
       " ('NO2_M_0', 'SO2_X_1'),\n",
       " ('NO2_M_0', 'O3_X_1'),\n",
       " ('NO2_M_0', 'TMP_X_1'),\n",
       " ('NO2_M_0', 'DV_X_1'),\n",
       " ('NO2_M_0', 'VV_X_1'),\n",
       " ('NO2_M_0', 'HR_X_1'),\n",
       " ('NOx_M_0', 'Hora_1'),\n",
       " ('NOx_M_0', 'CO_M_1'),\n",
       " ('NOx_M_0', 'NO2_M_1'),\n",
       " ('NOx_M_0', 'NOx_M_1'),\n",
       " ('NOx_M_0', 'SO2_M_1'),\n",
       " ('NOx_M_0', 'O3_M_1'),\n",
       " ('NOx_M_0', 'TMP_M_1'),\n",
       " ('NOx_M_0', 'DV_M_1'),\n",
       " ('NOx_M_0', 'VV_M_1'),\n",
       " ('NOx_M_0', 'HR_M_1'),\n",
       " ('NOx_M_0', 'CO_P_1'),\n",
       " ('NOx_M_0', 'NO2_P_1'),\n",
       " ('NOx_M_0', 'NOx_P_1'),\n",
       " ('NOx_M_0', 'SO2_P_1'),\n",
       " ('NOx_M_0', 'O3_P_1'),\n",
       " ('NOx_M_0', 'TMP_P_1'),\n",
       " ('NOx_M_0', 'DV_P_1'),\n",
       " ('NOx_M_0', 'VV_P_1'),\n",
       " ('NOx_M_0', 'HR_P_1'),\n",
       " ('NOx_M_0', 'CO_T_1'),\n",
       " ('NOx_M_0', 'NO2_T_1'),\n",
       " ('NOx_M_0', 'NOx_T_1'),\n",
       " ('NOx_M_0', 'SO2_T_1'),\n",
       " ('NOx_M_0', 'O3_T_1'),\n",
       " ('NOx_M_0', 'TMP_T_1'),\n",
       " ('NOx_M_0', 'DV_T_1'),\n",
       " ('NOx_M_0', 'VV_T_1'),\n",
       " ('NOx_M_0', 'HR_T_1'),\n",
       " ('NOx_M_0', 'CO_X_1'),\n",
       " ('NOx_M_0', 'NO2_X_1'),\n",
       " ('NOx_M_0', 'NOx_X_1'),\n",
       " ('NOx_M_0', 'SO2_X_1'),\n",
       " ('NOx_M_0', 'O3_X_1'),\n",
       " ('NOx_M_0', 'TMP_X_1'),\n",
       " ('NOx_M_0', 'DV_X_1'),\n",
       " ('NOx_M_0', 'VV_X_1'),\n",
       " ('NOx_M_0', 'HR_X_1'),\n",
       " ('SO2_M_0', 'Hora_1'),\n",
       " ('SO2_M_0', 'CO_M_1'),\n",
       " ('SO2_M_0', 'NO2_M_1'),\n",
       " ('SO2_M_0', 'NOx_M_1'),\n",
       " ('SO2_M_0', 'SO2_M_1'),\n",
       " ('SO2_M_0', 'O3_M_1'),\n",
       " ('SO2_M_0', 'TMP_M_1'),\n",
       " ('SO2_M_0', 'DV_M_1'),\n",
       " ('SO2_M_0', 'VV_M_1'),\n",
       " ('SO2_M_0', 'HR_M_1'),\n",
       " ('SO2_M_0', 'CO_P_1'),\n",
       " ('SO2_M_0', 'NO2_P_1'),\n",
       " ('SO2_M_0', 'NOx_P_1'),\n",
       " ('SO2_M_0', 'SO2_P_1'),\n",
       " ('SO2_M_0', 'O3_P_1'),\n",
       " ('SO2_M_0', 'TMP_P_1'),\n",
       " ('SO2_M_0', 'DV_P_1'),\n",
       " ('SO2_M_0', 'VV_P_1'),\n",
       " ('SO2_M_0', 'HR_P_1'),\n",
       " ('SO2_M_0', 'CO_T_1'),\n",
       " ('SO2_M_0', 'NO2_T_1'),\n",
       " ('SO2_M_0', 'NOx_T_1'),\n",
       " ('SO2_M_0', 'SO2_T_1'),\n",
       " ('SO2_M_0', 'O3_T_1'),\n",
       " ('SO2_M_0', 'TMP_T_1'),\n",
       " ('SO2_M_0', 'DV_T_1'),\n",
       " ('SO2_M_0', 'VV_T_1'),\n",
       " ('SO2_M_0', 'HR_T_1'),\n",
       " ('SO2_M_0', 'CO_X_1'),\n",
       " ('SO2_M_0', 'NO2_X_1'),\n",
       " ('SO2_M_0', 'NOx_X_1'),\n",
       " ('SO2_M_0', 'SO2_X_1'),\n",
       " ('SO2_M_0', 'O3_X_1'),\n",
       " ('SO2_M_0', 'TMP_X_1'),\n",
       " ('SO2_M_0', 'DV_X_1'),\n",
       " ('SO2_M_0', 'VV_X_1'),\n",
       " ('SO2_M_0', 'HR_X_1'),\n",
       " ('O3_M_0', 'Hora_1'),\n",
       " ('O3_M_0', 'CO_M_1'),\n",
       " ('O3_M_0', 'NO2_M_1'),\n",
       " ('O3_M_0', 'NOx_M_1'),\n",
       " ('O3_M_0', 'SO2_M_1'),\n",
       " ('O3_M_0', 'O3_M_1'),\n",
       " ('O3_M_0', 'TMP_M_1'),\n",
       " ('O3_M_0', 'DV_M_1'),\n",
       " ('O3_M_0', 'VV_M_1'),\n",
       " ('O3_M_0', 'HR_M_1'),\n",
       " ('O3_M_0', 'CO_P_1'),\n",
       " ('O3_M_0', 'NO2_P_1'),\n",
       " ('O3_M_0', 'NOx_P_1'),\n",
       " ('O3_M_0', 'SO2_P_1'),\n",
       " ('O3_M_0', 'O3_P_1'),\n",
       " ('O3_M_0', 'TMP_P_1'),\n",
       " ('O3_M_0', 'DV_P_1'),\n",
       " ('O3_M_0', 'VV_P_1'),\n",
       " ('O3_M_0', 'HR_P_1'),\n",
       " ('O3_M_0', 'CO_T_1'),\n",
       " ('O3_M_0', 'NO2_T_1'),\n",
       " ('O3_M_0', 'NOx_T_1'),\n",
       " ('O3_M_0', 'SO2_T_1'),\n",
       " ('O3_M_0', 'O3_T_1'),\n",
       " ('O3_M_0', 'TMP_T_1'),\n",
       " ('O3_M_0', 'DV_T_1'),\n",
       " ('O3_M_0', 'VV_T_1'),\n",
       " ('O3_M_0', 'HR_T_1'),\n",
       " ('O3_M_0', 'CO_X_1'),\n",
       " ('O3_M_0', 'NO2_X_1'),\n",
       " ('O3_M_0', 'NOx_X_1'),\n",
       " ('O3_M_0', 'SO2_X_1'),\n",
       " ('O3_M_0', 'O3_X_1'),\n",
       " ('O3_M_0', 'TMP_X_1'),\n",
       " ('O3_M_0', 'DV_X_1'),\n",
       " ('O3_M_0', 'VV_X_1'),\n",
       " ('O3_M_0', 'HR_X_1'),\n",
       " ('TMP_M_0', 'Hora_1'),\n",
       " ('TMP_M_0', 'CO_M_1'),\n",
       " ('TMP_M_0', 'NO2_M_1'),\n",
       " ('TMP_M_0', 'NOx_M_1'),\n",
       " ('TMP_M_0', 'SO2_M_1'),\n",
       " ('TMP_M_0', 'O3_M_1'),\n",
       " ('TMP_M_0', 'TMP_M_1'),\n",
       " ('TMP_M_0', 'DV_M_1'),\n",
       " ('TMP_M_0', 'VV_M_1'),\n",
       " ('TMP_M_0', 'HR_M_1'),\n",
       " ('TMP_M_0', 'CO_P_1'),\n",
       " ('TMP_M_0', 'NO2_P_1'),\n",
       " ('TMP_M_0', 'NOx_P_1'),\n",
       " ('TMP_M_0', 'SO2_P_1'),\n",
       " ('TMP_M_0', 'O3_P_1'),\n",
       " ('TMP_M_0', 'TMP_P_1'),\n",
       " ('TMP_M_0', 'DV_P_1'),\n",
       " ('TMP_M_0', 'VV_P_1'),\n",
       " ('TMP_M_0', 'HR_P_1'),\n",
       " ('TMP_M_0', 'CO_T_1'),\n",
       " ('TMP_M_0', 'NO2_T_1'),\n",
       " ('TMP_M_0', 'NOx_T_1'),\n",
       " ('TMP_M_0', 'SO2_T_1'),\n",
       " ('TMP_M_0', 'O3_T_1'),\n",
       " ('TMP_M_0', 'TMP_T_1'),\n",
       " ('TMP_M_0', 'DV_T_1'),\n",
       " ('TMP_M_0', 'VV_T_1'),\n",
       " ('TMP_M_0', 'HR_T_1'),\n",
       " ('TMP_M_0', 'CO_X_1'),\n",
       " ('TMP_M_0', 'NO2_X_1'),\n",
       " ('TMP_M_0', 'NOx_X_1'),\n",
       " ('TMP_M_0', 'SO2_X_1'),\n",
       " ('TMP_M_0', 'O3_X_1'),\n",
       " ('TMP_M_0', 'TMP_X_1'),\n",
       " ('TMP_M_0', 'DV_X_1'),\n",
       " ('TMP_M_0', 'VV_X_1'),\n",
       " ('TMP_M_0', 'HR_X_1'),\n",
       " ('DV_M_0', 'Hora_1'),\n",
       " ('DV_M_0', 'CO_M_1'),\n",
       " ('DV_M_0', 'NO2_M_1'),\n",
       " ('DV_M_0', 'NOx_M_1'),\n",
       " ('DV_M_0', 'SO2_M_1'),\n",
       " ('DV_M_0', 'O3_M_1'),\n",
       " ('DV_M_0', 'TMP_M_1'),\n",
       " ('DV_M_0', 'DV_M_1'),\n",
       " ('DV_M_0', 'VV_M_1'),\n",
       " ('DV_M_0', 'HR_M_1'),\n",
       " ('DV_M_0', 'CO_P_1'),\n",
       " ('DV_M_0', 'NO2_P_1'),\n",
       " ('DV_M_0', 'NOx_P_1'),\n",
       " ('DV_M_0', 'SO2_P_1'),\n",
       " ('DV_M_0', 'O3_P_1'),\n",
       " ('DV_M_0', 'TMP_P_1'),\n",
       " ('DV_M_0', 'DV_P_1'),\n",
       " ('DV_M_0', 'VV_P_1'),\n",
       " ('DV_M_0', 'HR_P_1'),\n",
       " ('DV_M_0', 'CO_T_1'),\n",
       " ('DV_M_0', 'NO2_T_1'),\n",
       " ('DV_M_0', 'NOx_T_1'),\n",
       " ('DV_M_0', 'SO2_T_1'),\n",
       " ('DV_M_0', 'O3_T_1'),\n",
       " ('DV_M_0', 'TMP_T_1'),\n",
       " ('DV_M_0', 'DV_T_1'),\n",
       " ('DV_M_0', 'VV_T_1'),\n",
       " ('DV_M_0', 'HR_T_1'),\n",
       " ('DV_M_0', 'CO_X_1'),\n",
       " ('DV_M_0', 'NO2_X_1'),\n",
       " ('DV_M_0', 'NOx_X_1'),\n",
       " ('DV_M_0', 'SO2_X_1'),\n",
       " ('DV_M_0', 'O3_X_1'),\n",
       " ('DV_M_0', 'TMP_X_1'),\n",
       " ('DV_M_0', 'DV_X_1'),\n",
       " ('DV_M_0', 'VV_X_1'),\n",
       " ('DV_M_0', 'HR_X_1'),\n",
       " ('VV_M_0', 'Hora_1'),\n",
       " ('VV_M_0', 'CO_M_1'),\n",
       " ('VV_M_0', 'NO2_M_1'),\n",
       " ('VV_M_0', 'NOx_M_1'),\n",
       " ('VV_M_0', 'SO2_M_1'),\n",
       " ('VV_M_0', 'O3_M_1'),\n",
       " ('VV_M_0', 'TMP_M_1'),\n",
       " ('VV_M_0', 'DV_M_1'),\n",
       " ('VV_M_0', 'VV_M_1'),\n",
       " ('VV_M_0', 'HR_M_1'),\n",
       " ('VV_M_0', 'CO_P_1'),\n",
       " ('VV_M_0', 'NO2_P_1'),\n",
       " ('VV_M_0', 'NOx_P_1'),\n",
       " ('VV_M_0', 'SO2_P_1'),\n",
       " ('VV_M_0', 'O3_P_1'),\n",
       " ('VV_M_0', 'TMP_P_1'),\n",
       " ('VV_M_0', 'DV_P_1'),\n",
       " ('VV_M_0', 'VV_P_1'),\n",
       " ('VV_M_0', 'HR_P_1'),\n",
       " ('VV_M_0', 'CO_T_1'),\n",
       " ('VV_M_0', 'NO2_T_1'),\n",
       " ('VV_M_0', 'NOx_T_1'),\n",
       " ('VV_M_0', 'SO2_T_1'),\n",
       " ('VV_M_0', 'O3_T_1'),\n",
       " ('VV_M_0', 'TMP_T_1'),\n",
       " ('VV_M_0', 'DV_T_1'),\n",
       " ('VV_M_0', 'VV_T_1'),\n",
       " ('VV_M_0', 'HR_T_1'),\n",
       " ('VV_M_0', 'CO_X_1'),\n",
       " ('VV_M_0', 'NO2_X_1'),\n",
       " ('VV_M_0', 'NOx_X_1'),\n",
       " ('VV_M_0', 'SO2_X_1'),\n",
       " ('VV_M_0', 'O3_X_1'),\n",
       " ('VV_M_0', 'TMP_X_1'),\n",
       " ('VV_M_0', 'DV_X_1'),\n",
       " ('VV_M_0', 'VV_X_1'),\n",
       " ('VV_M_0', 'HR_X_1'),\n",
       " ('HR_M_0', 'Hora_1'),\n",
       " ('HR_M_0', 'CO_M_1'),\n",
       " ('HR_M_0', 'NO2_M_1'),\n",
       " ('HR_M_0', 'NOx_M_1'),\n",
       " ('HR_M_0', 'SO2_M_1'),\n",
       " ('HR_M_0', 'O3_M_1'),\n",
       " ('HR_M_0', 'TMP_M_1'),\n",
       " ('HR_M_0', 'DV_M_1'),\n",
       " ('HR_M_0', 'VV_M_1'),\n",
       " ('HR_M_0', 'HR_M_1'),\n",
       " ('HR_M_0', 'CO_P_1'),\n",
       " ('HR_M_0', 'NO2_P_1'),\n",
       " ('HR_M_0', 'NOx_P_1'),\n",
       " ('HR_M_0', 'SO2_P_1'),\n",
       " ('HR_M_0', 'O3_P_1'),\n",
       " ('HR_M_0', 'TMP_P_1'),\n",
       " ('HR_M_0', 'DV_P_1'),\n",
       " ('HR_M_0', 'VV_P_1'),\n",
       " ('HR_M_0', 'HR_P_1'),\n",
       " ('HR_M_0', 'CO_T_1'),\n",
       " ('HR_M_0', 'NO2_T_1'),\n",
       " ('HR_M_0', 'NOx_T_1'),\n",
       " ('HR_M_0', 'SO2_T_1'),\n",
       " ('HR_M_0', 'O3_T_1'),\n",
       " ('HR_M_0', 'TMP_T_1'),\n",
       " ('HR_M_0', 'DV_T_1'),\n",
       " ('HR_M_0', 'VV_T_1'),\n",
       " ('HR_M_0', 'HR_T_1'),\n",
       " ('HR_M_0', 'CO_X_1'),\n",
       " ('HR_M_0', 'NO2_X_1'),\n",
       " ('HR_M_0', 'NOx_X_1'),\n",
       " ('HR_M_0', 'SO2_X_1'),\n",
       " ('HR_M_0', 'O3_X_1'),\n",
       " ('HR_M_0', 'TMP_X_1'),\n",
       " ('HR_M_0', 'DV_X_1'),\n",
       " ('HR_M_0', 'VV_X_1'),\n",
       " ('HR_M_0', 'HR_X_1'),\n",
       " ('CO_P_0', 'Hora_1'),\n",
       " ('CO_P_0', 'CO_M_1'),\n",
       " ('CO_P_0', 'NO2_M_1'),\n",
       " ('CO_P_0', 'NOx_M_1'),\n",
       " ('CO_P_0', 'SO2_M_1'),\n",
       " ('CO_P_0', 'O3_M_1'),\n",
       " ('CO_P_0', 'TMP_M_1'),\n",
       " ('CO_P_0', 'DV_M_1'),\n",
       " ('CO_P_0', 'VV_M_1'),\n",
       " ('CO_P_0', 'HR_M_1'),\n",
       " ('CO_P_0', 'CO_P_1'),\n",
       " ('CO_P_0', 'NO2_P_1'),\n",
       " ('CO_P_0', 'NOx_P_1'),\n",
       " ('CO_P_0', 'SO2_P_1'),\n",
       " ('CO_P_0', 'O3_P_1'),\n",
       " ('CO_P_0', 'TMP_P_1'),\n",
       " ('CO_P_0', 'DV_P_1'),\n",
       " ('CO_P_0', 'VV_P_1'),\n",
       " ('CO_P_0', 'HR_P_1'),\n",
       " ('CO_P_0', 'CO_T_1'),\n",
       " ('CO_P_0', 'NO2_T_1'),\n",
       " ('CO_P_0', 'NOx_T_1'),\n",
       " ('CO_P_0', 'SO2_T_1'),\n",
       " ('CO_P_0', 'O3_T_1'),\n",
       " ('CO_P_0', 'TMP_T_1'),\n",
       " ('CO_P_0', 'DV_T_1'),\n",
       " ('CO_P_0', 'VV_T_1'),\n",
       " ('CO_P_0', 'HR_T_1'),\n",
       " ('CO_P_0', 'CO_X_1'),\n",
       " ('CO_P_0', 'NO2_X_1'),\n",
       " ('CO_P_0', 'NOx_X_1'),\n",
       " ('CO_P_0', 'SO2_X_1'),\n",
       " ('CO_P_0', 'O3_X_1'),\n",
       " ('CO_P_0', 'TMP_X_1'),\n",
       " ('CO_P_0', 'DV_X_1'),\n",
       " ('CO_P_0', 'VV_X_1'),\n",
       " ('CO_P_0', 'HR_X_1'),\n",
       " ('NO2_P_0', 'Hora_1'),\n",
       " ('NO2_P_0', 'CO_M_1'),\n",
       " ('NO2_P_0', 'NO2_M_1'),\n",
       " ('NO2_P_0', 'NOx_M_1'),\n",
       " ('NO2_P_0', 'SO2_M_1'),\n",
       " ('NO2_P_0', 'O3_M_1'),\n",
       " ('NO2_P_0', 'TMP_M_1'),\n",
       " ('NO2_P_0', 'DV_M_1'),\n",
       " ('NO2_P_0', 'VV_M_1'),\n",
       " ('NO2_P_0', 'HR_M_1'),\n",
       " ('NO2_P_0', 'CO_P_1'),\n",
       " ('NO2_P_0', 'NO2_P_1'),\n",
       " ('NO2_P_0', 'NOx_P_1'),\n",
       " ('NO2_P_0', 'SO2_P_1'),\n",
       " ('NO2_P_0', 'O3_P_1'),\n",
       " ('NO2_P_0', 'TMP_P_1'),\n",
       " ('NO2_P_0', 'DV_P_1'),\n",
       " ('NO2_P_0', 'VV_P_1'),\n",
       " ('NO2_P_0', 'HR_P_1'),\n",
       " ('NO2_P_0', 'CO_T_1'),\n",
       " ('NO2_P_0', 'NO2_T_1'),\n",
       " ('NO2_P_0', 'NOx_T_1'),\n",
       " ('NO2_P_0', 'SO2_T_1'),\n",
       " ('NO2_P_0', 'O3_T_1'),\n",
       " ('NO2_P_0', 'TMP_T_1'),\n",
       " ('NO2_P_0', 'DV_T_1'),\n",
       " ('NO2_P_0', 'VV_T_1'),\n",
       " ('NO2_P_0', 'HR_T_1'),\n",
       " ('NO2_P_0', 'CO_X_1'),\n",
       " ('NO2_P_0', 'NO2_X_1'),\n",
       " ('NO2_P_0', 'NOx_X_1'),\n",
       " ('NO2_P_0', 'SO2_X_1'),\n",
       " ('NO2_P_0', 'O3_X_1'),\n",
       " ('NO2_P_0', 'TMP_X_1'),\n",
       " ('NO2_P_0', 'DV_X_1'),\n",
       " ('NO2_P_0', 'VV_X_1'),\n",
       " ('NO2_P_0', 'HR_X_1'),\n",
       " ('NOx_P_0', 'Hora_1'),\n",
       " ('NOx_P_0', 'CO_M_1'),\n",
       " ('NOx_P_0', 'NO2_M_1'),\n",
       " ('NOx_P_0', 'NOx_M_1'),\n",
       " ('NOx_P_0', 'SO2_M_1'),\n",
       " ('NOx_P_0', 'O3_M_1'),\n",
       " ('NOx_P_0', 'TMP_M_1'),\n",
       " ('NOx_P_0', 'DV_M_1'),\n",
       " ('NOx_P_0', 'VV_M_1'),\n",
       " ('NOx_P_0', 'HR_M_1'),\n",
       " ('NOx_P_0', 'CO_P_1'),\n",
       " ('NOx_P_0', 'NO2_P_1'),\n",
       " ('NOx_P_0', 'NOx_P_1'),\n",
       " ('NOx_P_0', 'SO2_P_1'),\n",
       " ('NOx_P_0', 'O3_P_1'),\n",
       " ('NOx_P_0', 'TMP_P_1'),\n",
       " ('NOx_P_0', 'DV_P_1'),\n",
       " ('NOx_P_0', 'VV_P_1'),\n",
       " ('NOx_P_0', 'HR_P_1'),\n",
       " ('NOx_P_0', 'CO_T_1'),\n",
       " ('NOx_P_0', 'NO2_T_1'),\n",
       " ('NOx_P_0', 'NOx_T_1'),\n",
       " ('NOx_P_0', 'SO2_T_1'),\n",
       " ('NOx_P_0', 'O3_T_1'),\n",
       " ('NOx_P_0', 'TMP_T_1'),\n",
       " ('NOx_P_0', 'DV_T_1'),\n",
       " ('NOx_P_0', 'VV_T_1'),\n",
       " ('NOx_P_0', 'HR_T_1'),\n",
       " ('NOx_P_0', 'CO_X_1'),\n",
       " ('NOx_P_0', 'NO2_X_1'),\n",
       " ('NOx_P_0', 'NOx_X_1'),\n",
       " ('NOx_P_0', 'SO2_X_1'),\n",
       " ('NOx_P_0', 'O3_X_1'),\n",
       " ('NOx_P_0', 'TMP_X_1'),\n",
       " ('NOx_P_0', 'DV_X_1'),\n",
       " ('NOx_P_0', 'VV_X_1'),\n",
       " ('NOx_P_0', 'HR_X_1'),\n",
       " ('SO2_P_0', 'Hora_1'),\n",
       " ('SO2_P_0', 'CO_M_1'),\n",
       " ('SO2_P_0', 'NO2_M_1'),\n",
       " ('SO2_P_0', 'NOx_M_1'),\n",
       " ('SO2_P_0', 'SO2_M_1'),\n",
       " ('SO2_P_0', 'O3_M_1'),\n",
       " ('SO2_P_0', 'TMP_M_1'),\n",
       " ('SO2_P_0', 'DV_M_1'),\n",
       " ('SO2_P_0', 'VV_M_1'),\n",
       " ('SO2_P_0', 'HR_M_1'),\n",
       " ('SO2_P_0', 'CO_P_1'),\n",
       " ('SO2_P_0', 'NO2_P_1'),\n",
       " ('SO2_P_0', 'NOx_P_1'),\n",
       " ('SO2_P_0', 'SO2_P_1'),\n",
       " ('SO2_P_0', 'O3_P_1'),\n",
       " ('SO2_P_0', 'TMP_P_1'),\n",
       " ('SO2_P_0', 'DV_P_1'),\n",
       " ('SO2_P_0', 'VV_P_1'),\n",
       " ('SO2_P_0', 'HR_P_1'),\n",
       " ('SO2_P_0', 'CO_T_1'),\n",
       " ('SO2_P_0', 'NO2_T_1'),\n",
       " ('SO2_P_0', 'NOx_T_1'),\n",
       " ('SO2_P_0', 'SO2_T_1'),\n",
       " ('SO2_P_0', 'O3_T_1'),\n",
       " ('SO2_P_0', 'TMP_T_1'),\n",
       " ('SO2_P_0', 'DV_T_1'),\n",
       " ('SO2_P_0', 'VV_T_1'),\n",
       " ('SO2_P_0', 'HR_T_1'),\n",
       " ('SO2_P_0', 'CO_X_1'),\n",
       " ('SO2_P_0', 'NO2_X_1'),\n",
       " ('SO2_P_0', 'NOx_X_1'),\n",
       " ('SO2_P_0', 'SO2_X_1'),\n",
       " ('SO2_P_0', 'O3_X_1'),\n",
       " ('SO2_P_0', 'TMP_X_1'),\n",
       " ('SO2_P_0', 'DV_X_1'),\n",
       " ('SO2_P_0', 'VV_X_1'),\n",
       " ('SO2_P_0', 'HR_X_1'),\n",
       " ('O3_P_0', 'Hora_1'),\n",
       " ('O3_P_0', 'CO_M_1'),\n",
       " ('O3_P_0', 'NO2_M_1'),\n",
       " ('O3_P_0', 'NOx_M_1'),\n",
       " ('O3_P_0', 'SO2_M_1'),\n",
       " ('O3_P_0', 'O3_M_1'),\n",
       " ('O3_P_0', 'TMP_M_1'),\n",
       " ('O3_P_0', 'DV_M_1'),\n",
       " ('O3_P_0', 'VV_M_1'),\n",
       " ('O3_P_0', 'HR_M_1'),\n",
       " ('O3_P_0', 'CO_P_1'),\n",
       " ('O3_P_0', 'NO2_P_1'),\n",
       " ('O3_P_0', 'NOx_P_1'),\n",
       " ('O3_P_0', 'SO2_P_1'),\n",
       " ('O3_P_0', 'O3_P_1'),\n",
       " ('O3_P_0', 'TMP_P_1'),\n",
       " ('O3_P_0', 'DV_P_1'),\n",
       " ('O3_P_0', 'VV_P_1'),\n",
       " ('O3_P_0', 'HR_P_1'),\n",
       " ('O3_P_0', 'CO_T_1'),\n",
       " ('O3_P_0', 'NO2_T_1'),\n",
       " ('O3_P_0', 'NOx_T_1'),\n",
       " ('O3_P_0', 'SO2_T_1'),\n",
       " ('O3_P_0', 'O3_T_1'),\n",
       " ('O3_P_0', 'TMP_T_1'),\n",
       " ('O3_P_0', 'DV_T_1'),\n",
       " ('O3_P_0', 'VV_T_1'),\n",
       " ('O3_P_0', 'HR_T_1'),\n",
       " ('O3_P_0', 'CO_X_1'),\n",
       " ('O3_P_0', 'NO2_X_1'),\n",
       " ('O3_P_0', 'NOx_X_1'),\n",
       " ('O3_P_0', 'SO2_X_1'),\n",
       " ('O3_P_0', 'O3_X_1'),\n",
       " ('O3_P_0', 'TMP_X_1'),\n",
       " ('O3_P_0', 'DV_X_1'),\n",
       " ('O3_P_0', 'VV_X_1'),\n",
       " ('O3_P_0', 'HR_X_1'),\n",
       " ('TMP_P_0', 'Hora_1'),\n",
       " ('TMP_P_0', 'CO_M_1'),\n",
       " ('TMP_P_0', 'NO2_M_1'),\n",
       " ('TMP_P_0', 'NOx_M_1'),\n",
       " ('TMP_P_0', 'SO2_M_1'),\n",
       " ('TMP_P_0', 'O3_M_1'),\n",
       " ('TMP_P_0', 'TMP_M_1'),\n",
       " ('TMP_P_0', 'DV_M_1'),\n",
       " ('TMP_P_0', 'VV_M_1'),\n",
       " ('TMP_P_0', 'HR_M_1'),\n",
       " ('TMP_P_0', 'CO_P_1'),\n",
       " ('TMP_P_0', 'NO2_P_1'),\n",
       " ('TMP_P_0', 'NOx_P_1'),\n",
       " ('TMP_P_0', 'SO2_P_1'),\n",
       " ('TMP_P_0', 'O3_P_1'),\n",
       " ('TMP_P_0', 'TMP_P_1'),\n",
       " ('TMP_P_0', 'DV_P_1'),\n",
       " ('TMP_P_0', 'VV_P_1'),\n",
       " ('TMP_P_0', 'HR_P_1'),\n",
       " ('TMP_P_0', 'CO_T_1'),\n",
       " ('TMP_P_0', 'NO2_T_1'),\n",
       " ('TMP_P_0', 'NOx_T_1'),\n",
       " ('TMP_P_0', 'SO2_T_1'),\n",
       " ('TMP_P_0', 'O3_T_1'),\n",
       " ('TMP_P_0', 'TMP_T_1'),\n",
       " ('TMP_P_0', 'DV_T_1'),\n",
       " ('TMP_P_0', 'VV_T_1'),\n",
       " ('TMP_P_0', 'HR_T_1'),\n",
       " ('TMP_P_0', 'CO_X_1'),\n",
       " ('TMP_P_0', 'NO2_X_1'),\n",
       " ('TMP_P_0', 'NOx_X_1'),\n",
       " ('TMP_P_0', 'SO2_X_1'),\n",
       " ('TMP_P_0', 'O3_X_1'),\n",
       " ('TMP_P_0', 'TMP_X_1'),\n",
       " ('TMP_P_0', 'DV_X_1'),\n",
       " ('TMP_P_0', 'VV_X_1'),\n",
       " ('TMP_P_0', 'HR_X_1'),\n",
       " ('DV_P_0', 'Hora_1'),\n",
       " ('DV_P_0', 'CO_M_1'),\n",
       " ('DV_P_0', 'NO2_M_1'),\n",
       " ('DV_P_0', 'NOx_M_1'),\n",
       " ('DV_P_0', 'SO2_M_1'),\n",
       " ('DV_P_0', 'O3_M_1'),\n",
       " ('DV_P_0', 'TMP_M_1'),\n",
       " ('DV_P_0', 'DV_M_1'),\n",
       " ('DV_P_0', 'VV_M_1'),\n",
       " ('DV_P_0', 'HR_M_1'),\n",
       " ('DV_P_0', 'CO_P_1'),\n",
       " ('DV_P_0', 'NO2_P_1'),\n",
       " ('DV_P_0', 'NOx_P_1'),\n",
       " ('DV_P_0', 'SO2_P_1'),\n",
       " ('DV_P_0', 'O3_P_1'),\n",
       " ('DV_P_0', 'TMP_P_1'),\n",
       " ('DV_P_0', 'DV_P_1'),\n",
       " ('DV_P_0', 'VV_P_1'),\n",
       " ('DV_P_0', 'HR_P_1'),\n",
       " ('DV_P_0', 'CO_T_1'),\n",
       " ('DV_P_0', 'NO2_T_1'),\n",
       " ('DV_P_0', 'NOx_T_1'),\n",
       " ('DV_P_0', 'SO2_T_1'),\n",
       " ('DV_P_0', 'O3_T_1'),\n",
       " ('DV_P_0', 'TMP_T_1'),\n",
       " ('DV_P_0', 'DV_T_1'),\n",
       " ('DV_P_0', 'VV_T_1'),\n",
       " ('DV_P_0', 'HR_T_1'),\n",
       " ('DV_P_0', 'CO_X_1'),\n",
       " ('DV_P_0', 'NO2_X_1'),\n",
       " ('DV_P_0', 'NOx_X_1'),\n",
       " ('DV_P_0', 'SO2_X_1'),\n",
       " ('DV_P_0', 'O3_X_1'),\n",
       " ('DV_P_0', 'TMP_X_1'),\n",
       " ('DV_P_0', 'DV_X_1'),\n",
       " ('DV_P_0', 'VV_X_1'),\n",
       " ('DV_P_0', 'HR_X_1'),\n",
       " ('VV_P_0', 'Hora_1'),\n",
       " ('VV_P_0', 'CO_M_1'),\n",
       " ('VV_P_0', 'NO2_M_1'),\n",
       " ('VV_P_0', 'NOx_M_1'),\n",
       " ('VV_P_0', 'SO2_M_1'),\n",
       " ('VV_P_0', 'O3_M_1'),\n",
       " ('VV_P_0', 'TMP_M_1'),\n",
       " ('VV_P_0', 'DV_M_1'),\n",
       " ('VV_P_0', 'VV_M_1'),\n",
       " ('VV_P_0', 'HR_M_1'),\n",
       " ('VV_P_0', 'CO_P_1'),\n",
       " ('VV_P_0', 'NO2_P_1'),\n",
       " ('VV_P_0', 'NOx_P_1'),\n",
       " ('VV_P_0', 'SO2_P_1'),\n",
       " ('VV_P_0', 'O3_P_1'),\n",
       " ('VV_P_0', 'TMP_P_1'),\n",
       " ('VV_P_0', 'DV_P_1'),\n",
       " ('VV_P_0', 'VV_P_1'),\n",
       " ('VV_P_0', 'HR_P_1'),\n",
       " ('VV_P_0', 'CO_T_1'),\n",
       " ('VV_P_0', 'NO2_T_1'),\n",
       " ('VV_P_0', 'NOx_T_1'),\n",
       " ('VV_P_0', 'SO2_T_1'),\n",
       " ('VV_P_0', 'O3_T_1'),\n",
       " ('VV_P_0', 'TMP_T_1'),\n",
       " ('VV_P_0', 'DV_T_1'),\n",
       " ('VV_P_0', 'VV_T_1'),\n",
       " ('VV_P_0', 'HR_T_1'),\n",
       " ('VV_P_0', 'CO_X_1'),\n",
       " ('VV_P_0', 'NO2_X_1'),\n",
       " ('VV_P_0', 'NOx_X_1'),\n",
       " ('VV_P_0', 'SO2_X_1'),\n",
       " ('VV_P_0', 'O3_X_1'),\n",
       " ('VV_P_0', 'TMP_X_1'),\n",
       " ('VV_P_0', 'DV_X_1'),\n",
       " ('VV_P_0', 'VV_X_1'),\n",
       " ('VV_P_0', 'HR_X_1'),\n",
       " ('HR_P_0', 'Hora_1'),\n",
       " ('HR_P_0', 'CO_M_1'),\n",
       " ('HR_P_0', 'NO2_M_1'),\n",
       " ('HR_P_0', 'NOx_M_1'),\n",
       " ('HR_P_0', 'SO2_M_1'),\n",
       " ('HR_P_0', 'O3_M_1'),\n",
       " ('HR_P_0', 'TMP_M_1'),\n",
       " ('HR_P_0', 'DV_M_1'),\n",
       " ('HR_P_0', 'VV_M_1'),\n",
       " ('HR_P_0', 'HR_M_1'),\n",
       " ('HR_P_0', 'CO_P_1'),\n",
       " ('HR_P_0', 'NO2_P_1'),\n",
       " ('HR_P_0', 'NOx_P_1'),\n",
       " ('HR_P_0', 'SO2_P_1'),\n",
       " ('HR_P_0', 'O3_P_1'),\n",
       " ('HR_P_0', 'TMP_P_1'),\n",
       " ('HR_P_0', 'DV_P_1'),\n",
       " ('HR_P_0', 'VV_P_1'),\n",
       " ('HR_P_0', 'HR_P_1'),\n",
       " ('HR_P_0', 'CO_T_1'),\n",
       " ('HR_P_0', 'NO2_T_1'),\n",
       " ('HR_P_0', 'NOx_T_1'),\n",
       " ('HR_P_0', 'SO2_T_1'),\n",
       " ('HR_P_0', 'O3_T_1'),\n",
       " ('HR_P_0', 'TMP_T_1'),\n",
       " ('HR_P_0', 'DV_T_1'),\n",
       " ('HR_P_0', 'VV_T_1'),\n",
       " ('HR_P_0', 'HR_T_1'),\n",
       " ('HR_P_0', 'CO_X_1'),\n",
       " ('HR_P_0', 'NO2_X_1'),\n",
       " ('HR_P_0', 'NOx_X_1'),\n",
       " ('HR_P_0', 'SO2_X_1'),\n",
       " ('HR_P_0', 'O3_X_1'),\n",
       " ('HR_P_0', 'TMP_X_1'),\n",
       " ('HR_P_0', 'DV_X_1'),\n",
       " ('HR_P_0', 'VV_X_1'),\n",
       " ('HR_P_0', 'HR_X_1'),\n",
       " ('CO_T_0', 'Hora_1'),\n",
       " ('CO_T_0', 'CO_M_1'),\n",
       " ('CO_T_0', 'NO2_M_1'),\n",
       " ('CO_T_0', 'NOx_M_1'),\n",
       " ('CO_T_0', 'SO2_M_1'),\n",
       " ('CO_T_0', 'O3_M_1'),\n",
       " ('CO_T_0', 'TMP_M_1'),\n",
       " ('CO_T_0', 'DV_M_1'),\n",
       " ('CO_T_0', 'VV_M_1'),\n",
       " ('CO_T_0', 'HR_M_1'),\n",
       " ('CO_T_0', 'CO_P_1'),\n",
       " ('CO_T_0', 'NO2_P_1'),\n",
       " ('CO_T_0', 'NOx_P_1'),\n",
       " ('CO_T_0', 'SO2_P_1'),\n",
       " ('CO_T_0', 'O3_P_1'),\n",
       " ('CO_T_0', 'TMP_P_1'),\n",
       " ('CO_T_0', 'DV_P_1'),\n",
       " ('CO_T_0', 'VV_P_1'),\n",
       " ('CO_T_0', 'HR_P_1'),\n",
       " ('CO_T_0', 'CO_T_1'),\n",
       " ('CO_T_0', 'NO2_T_1'),\n",
       " ('CO_T_0', 'NOx_T_1'),\n",
       " ('CO_T_0', 'SO2_T_1'),\n",
       " ('CO_T_0', 'O3_T_1'),\n",
       " ('CO_T_0', 'TMP_T_1'),\n",
       " ('CO_T_0', 'DV_T_1'),\n",
       " ('CO_T_0', 'VV_T_1'),\n",
       " ('CO_T_0', 'HR_T_1'),\n",
       " ('CO_T_0', 'CO_X_1'),\n",
       " ('CO_T_0', 'NO2_X_1'),\n",
       " ('CO_T_0', 'NOx_X_1'),\n",
       " ('CO_T_0', 'SO2_X_1'),\n",
       " ('CO_T_0', 'O3_X_1'),\n",
       " ('CO_T_0', 'TMP_X_1'),\n",
       " ('CO_T_0', 'DV_X_1'),\n",
       " ('CO_T_0', 'VV_X_1'),\n",
       " ('CO_T_0', 'HR_X_1'),\n",
       " ('NO2_T_0', 'Hora_1'),\n",
       " ('NO2_T_0', 'CO_M_1'),\n",
       " ('NO2_T_0', 'NO2_M_1'),\n",
       " ('NO2_T_0', 'NOx_M_1'),\n",
       " ('NO2_T_0', 'SO2_M_1'),\n",
       " ('NO2_T_0', 'O3_M_1'),\n",
       " ('NO2_T_0', 'TMP_M_1'),\n",
       " ('NO2_T_0', 'DV_M_1'),\n",
       " ('NO2_T_0', 'VV_M_1'),\n",
       " ('NO2_T_0', 'HR_M_1'),\n",
       " ('NO2_T_0', 'CO_P_1'),\n",
       " ('NO2_T_0', 'NO2_P_1'),\n",
       " ('NO2_T_0', 'NOx_P_1'),\n",
       " ('NO2_T_0', 'SO2_P_1'),\n",
       " ('NO2_T_0', 'O3_P_1'),\n",
       " ('NO2_T_0', 'TMP_P_1'),\n",
       " ('NO2_T_0', 'DV_P_1'),\n",
       " ('NO2_T_0', 'VV_P_1'),\n",
       " ('NO2_T_0', 'HR_P_1'),\n",
       " ('NO2_T_0', 'CO_T_1'),\n",
       " ('NO2_T_0', 'NO2_T_1'),\n",
       " ('NO2_T_0', 'NOx_T_1'),\n",
       " ('NO2_T_0', 'SO2_T_1'),\n",
       " ('NO2_T_0', 'O3_T_1'),\n",
       " ('NO2_T_0', 'TMP_T_1'),\n",
       " ('NO2_T_0', 'DV_T_1'),\n",
       " ('NO2_T_0', 'VV_T_1'),\n",
       " ('NO2_T_0', 'HR_T_1'),\n",
       " ('NO2_T_0', 'CO_X_1'),\n",
       " ('NO2_T_0', 'NO2_X_1'),\n",
       " ('NO2_T_0', 'NOx_X_1'),\n",
       " ('NO2_T_0', 'SO2_X_1'),\n",
       " ('NO2_T_0', 'O3_X_1'),\n",
       " ('NO2_T_0', 'TMP_X_1'),\n",
       " ('NO2_T_0', 'DV_X_1'),\n",
       " ('NO2_T_0', 'VV_X_1'),\n",
       " ('NO2_T_0', 'HR_X_1'),\n",
       " ('NOx_T_0', 'Hora_1'),\n",
       " ('NOx_T_0', 'CO_M_1'),\n",
       " ('NOx_T_0', 'NO2_M_1'),\n",
       " ('NOx_T_0', 'NOx_M_1'),\n",
       " ('NOx_T_0', 'SO2_M_1'),\n",
       " ('NOx_T_0', 'O3_M_1'),\n",
       " ('NOx_T_0', 'TMP_M_1'),\n",
       " ('NOx_T_0', 'DV_M_1'),\n",
       " ('NOx_T_0', 'VV_M_1'),\n",
       " ('NOx_T_0', 'HR_M_1'),\n",
       " ('NOx_T_0', 'CO_P_1'),\n",
       " ('NOx_T_0', 'NO2_P_1'),\n",
       " ('NOx_T_0', 'NOx_P_1'),\n",
       " ('NOx_T_0', 'SO2_P_1'),\n",
       " ('NOx_T_0', 'O3_P_1'),\n",
       " ('NOx_T_0', 'TMP_P_1'),\n",
       " ('NOx_T_0', 'DV_P_1'),\n",
       " ('NOx_T_0', 'VV_P_1'),\n",
       " ('NOx_T_0', 'HR_P_1'),\n",
       " ('NOx_T_0', 'CO_T_1'),\n",
       " ('NOx_T_0', 'NO2_T_1'),\n",
       " ('NOx_T_0', 'NOx_T_1'),\n",
       " ('NOx_T_0', 'SO2_T_1'),\n",
       " ('NOx_T_0', 'O3_T_1'),\n",
       " ('NOx_T_0', 'TMP_T_1'),\n",
       " ('NOx_T_0', 'DV_T_1'),\n",
       " ('NOx_T_0', 'VV_T_1'),\n",
       " ('NOx_T_0', 'HR_T_1'),\n",
       " ('NOx_T_0', 'CO_X_1'),\n",
       " ('NOx_T_0', 'NO2_X_1'),\n",
       " ('NOx_T_0', 'NOx_X_1'),\n",
       " ('NOx_T_0', 'SO2_X_1'),\n",
       " ('NOx_T_0', 'O3_X_1'),\n",
       " ('NOx_T_0', 'TMP_X_1'),\n",
       " ('NOx_T_0', 'DV_X_1'),\n",
       " ('NOx_T_0', 'VV_X_1'),\n",
       " ('NOx_T_0', 'HR_X_1'),\n",
       " ('SO2_T_0', 'Hora_1'),\n",
       " ('SO2_T_0', 'CO_M_1'),\n",
       " ('SO2_T_0', 'NO2_M_1'),\n",
       " ('SO2_T_0', 'NOx_M_1'),\n",
       " ('SO2_T_0', 'SO2_M_1'),\n",
       " ('SO2_T_0', 'O3_M_1'),\n",
       " ('SO2_T_0', 'TMP_M_1'),\n",
       " ('SO2_T_0', 'DV_M_1'),\n",
       " ('SO2_T_0', 'VV_M_1'),\n",
       " ('SO2_T_0', 'HR_M_1'),\n",
       " ('SO2_T_0', 'CO_P_1'),\n",
       " ('SO2_T_0', 'NO2_P_1'),\n",
       " ('SO2_T_0', 'NOx_P_1'),\n",
       " ('SO2_T_0', 'SO2_P_1'),\n",
       " ('SO2_T_0', 'O3_P_1'),\n",
       " ('SO2_T_0', 'TMP_P_1'),\n",
       " ('SO2_T_0', 'DV_P_1'),\n",
       " ('SO2_T_0', 'VV_P_1'),\n",
       " ('SO2_T_0', 'HR_P_1'),\n",
       " ('SO2_T_0', 'CO_T_1'),\n",
       " ('SO2_T_0', 'NO2_T_1'),\n",
       " ('SO2_T_0', 'NOx_T_1'),\n",
       " ('SO2_T_0', 'SO2_T_1'),\n",
       " ('SO2_T_0', 'O3_T_1'),\n",
       " ('SO2_T_0', 'TMP_T_1'),\n",
       " ('SO2_T_0', 'DV_T_1'),\n",
       " ('SO2_T_0', 'VV_T_1'),\n",
       " ('SO2_T_0', 'HR_T_1'),\n",
       " ('SO2_T_0', 'CO_X_1'),\n",
       " ('SO2_T_0', 'NO2_X_1'),\n",
       " ('SO2_T_0', 'NOx_X_1'),\n",
       " ('SO2_T_0', 'SO2_X_1'),\n",
       " ('SO2_T_0', 'O3_X_1'),\n",
       " ('SO2_T_0', 'TMP_X_1'),\n",
       " ('SO2_T_0', 'DV_X_1'),\n",
       " ('SO2_T_0', 'VV_X_1'),\n",
       " ('SO2_T_0', 'HR_X_1'),\n",
       " ('O3_T_0', 'Hora_1'),\n",
       " ('O3_T_0', 'CO_M_1'),\n",
       " ('O3_T_0', 'NO2_M_1'),\n",
       " ('O3_T_0', 'NOx_M_1'),\n",
       " ('O3_T_0', 'SO2_M_1'),\n",
       " ('O3_T_0', 'O3_M_1'),\n",
       " ('O3_T_0', 'TMP_M_1'),\n",
       " ('O3_T_0', 'DV_M_1'),\n",
       " ('O3_T_0', 'VV_M_1'),\n",
       " ('O3_T_0', 'HR_M_1'),\n",
       " ('O3_T_0', 'CO_P_1'),\n",
       " ('O3_T_0', 'NO2_P_1'),\n",
       " ('O3_T_0', 'NOx_P_1'),\n",
       " ('O3_T_0', 'SO2_P_1'),\n",
       " ('O3_T_0', 'O3_P_1'),\n",
       " ('O3_T_0', 'TMP_P_1'),\n",
       " ('O3_T_0', 'DV_P_1'),\n",
       " ('O3_T_0', 'VV_P_1'),\n",
       " ('O3_T_0', 'HR_P_1'),\n",
       " ('O3_T_0', 'CO_T_1'),\n",
       " ('O3_T_0', 'NO2_T_1'),\n",
       " ('O3_T_0', 'NOx_T_1'),\n",
       " ('O3_T_0', 'SO2_T_1'),\n",
       " ('O3_T_0', 'O3_T_1'),\n",
       " ('O3_T_0', 'TMP_T_1'),\n",
       " ('O3_T_0', 'DV_T_1'),\n",
       " ('O3_T_0', 'VV_T_1'),\n",
       " ('O3_T_0', 'HR_T_1'),\n",
       " ('O3_T_0', 'CO_X_1'),\n",
       " ('O3_T_0', 'NO2_X_1'),\n",
       " ('O3_T_0', 'NOx_X_1'),\n",
       " ('O3_T_0', 'SO2_X_1'),\n",
       " ('O3_T_0', 'O3_X_1'),\n",
       " ('O3_T_0', 'TMP_X_1'),\n",
       " ('O3_T_0', 'DV_X_1'),\n",
       " ('O3_T_0', 'VV_X_1'),\n",
       " ('O3_T_0', 'HR_X_1'),\n",
       " ('TMP_T_0', 'Hora_1'),\n",
       " ('TMP_T_0', 'CO_M_1'),\n",
       " ('TMP_T_0', 'NO2_M_1'),\n",
       " ('TMP_T_0', 'NOx_M_1'),\n",
       " ('TMP_T_0', 'SO2_M_1'),\n",
       " ('TMP_T_0', 'O3_M_1'),\n",
       " ('TMP_T_0', 'TMP_M_1'),\n",
       " ('TMP_T_0', 'DV_M_1'),\n",
       " ('TMP_T_0', 'VV_M_1'),\n",
       " ('TMP_T_0', 'HR_M_1'),\n",
       " ('TMP_T_0', 'CO_P_1'),\n",
       " ('TMP_T_0', 'NO2_P_1'),\n",
       " ('TMP_T_0', 'NOx_P_1'),\n",
       " ('TMP_T_0', 'SO2_P_1'),\n",
       " ('TMP_T_0', 'O3_P_1'),\n",
       " ('TMP_T_0', 'TMP_P_1'),\n",
       " ('TMP_T_0', 'DV_P_1'),\n",
       " ('TMP_T_0', 'VV_P_1'),\n",
       " ('TMP_T_0', 'HR_P_1'),\n",
       " ('TMP_T_0', 'CO_T_1'),\n",
       " ('TMP_T_0', 'NO2_T_1'),\n",
       " ('TMP_T_0', 'NOx_T_1'),\n",
       " ('TMP_T_0', 'SO2_T_1'),\n",
       " ('TMP_T_0', 'O3_T_1'),\n",
       " ('TMP_T_0', 'TMP_T_1'),\n",
       " ('TMP_T_0', 'DV_T_1'),\n",
       " ('TMP_T_0', 'VV_T_1'),\n",
       " ('TMP_T_0', 'HR_T_1'),\n",
       " ('TMP_T_0', 'CO_X_1'),\n",
       " ('TMP_T_0', 'NO2_X_1'),\n",
       " ('TMP_T_0', 'NOx_X_1'),\n",
       " ('TMP_T_0', 'SO2_X_1'),\n",
       " ('TMP_T_0', 'O3_X_1'),\n",
       " ('TMP_T_0', 'TMP_X_1'),\n",
       " ('TMP_T_0', 'DV_X_1'),\n",
       " ('TMP_T_0', 'VV_X_1'),\n",
       " ('TMP_T_0', 'HR_X_1'),\n",
       " ('DV_T_0', 'Hora_1'),\n",
       " ('DV_T_0', 'CO_M_1'),\n",
       " ('DV_T_0', 'NO2_M_1'),\n",
       " ('DV_T_0', 'NOx_M_1'),\n",
       " ('DV_T_0', 'SO2_M_1'),\n",
       " ('DV_T_0', 'O3_M_1'),\n",
       " ('DV_T_0', 'TMP_M_1'),\n",
       " ('DV_T_0', 'DV_M_1'),\n",
       " ('DV_T_0', 'VV_M_1'),\n",
       " ('DV_T_0', 'HR_M_1'),\n",
       " ('DV_T_0', 'CO_P_1'),\n",
       " ('DV_T_0', 'NO2_P_1'),\n",
       " ('DV_T_0', 'NOx_P_1'),\n",
       " ('DV_T_0', 'SO2_P_1'),\n",
       " ('DV_T_0', 'O3_P_1'),\n",
       " ('DV_T_0', 'TMP_P_1'),\n",
       " ('DV_T_0', 'DV_P_1'),\n",
       " ('DV_T_0', 'VV_P_1'),\n",
       " ('DV_T_0', 'HR_P_1'),\n",
       " ('DV_T_0', 'CO_T_1'),\n",
       " ('DV_T_0', 'NO2_T_1'),\n",
       " ('DV_T_0', 'NOx_T_1'),\n",
       " ('DV_T_0', 'SO2_T_1'),\n",
       " ('DV_T_0', 'O3_T_1'),\n",
       " ('DV_T_0', 'TMP_T_1'),\n",
       " ('DV_T_0', 'DV_T_1'),\n",
       " ('DV_T_0', 'VV_T_1'),\n",
       " ('DV_T_0', 'HR_T_1'),\n",
       " ('DV_T_0', 'CO_X_1'),\n",
       " ('DV_T_0', 'NO2_X_1'),\n",
       " ('DV_T_0', 'NOx_X_1'),\n",
       " ('DV_T_0', 'SO2_X_1'),\n",
       " ('DV_T_0', 'O3_X_1'),\n",
       " ('DV_T_0', 'TMP_X_1'),\n",
       " ('DV_T_0', 'DV_X_1'),\n",
       " ('DV_T_0', 'VV_X_1'),\n",
       " ('DV_T_0', 'HR_X_1'),\n",
       " ('VV_T_0', 'Hora_1'),\n",
       " ('VV_T_0', 'CO_M_1'),\n",
       " ('VV_T_0', 'NO2_M_1'),\n",
       " ('VV_T_0', 'NOx_M_1'),\n",
       " ('VV_T_0', 'SO2_M_1'),\n",
       " ('VV_T_0', 'O3_M_1'),\n",
       " ('VV_T_0', 'TMP_M_1'),\n",
       " ('VV_T_0', 'DV_M_1'),\n",
       " ('VV_T_0', 'VV_M_1'),\n",
       " ('VV_T_0', 'HR_M_1'),\n",
       " ('VV_T_0', 'CO_P_1'),\n",
       " ('VV_T_0', 'NO2_P_1'),\n",
       " ('VV_T_0', 'NOx_P_1'),\n",
       " ('VV_T_0', 'SO2_P_1'),\n",
       " ('VV_T_0', 'O3_P_1'),\n",
       " ('VV_T_0', 'TMP_P_1'),\n",
       " ('VV_T_0', 'DV_P_1'),\n",
       " ('VV_T_0', 'VV_P_1'),\n",
       " ('VV_T_0', 'HR_P_1'),\n",
       " ('VV_T_0', 'CO_T_1'),\n",
       " ('VV_T_0', 'NO2_T_1'),\n",
       " ('VV_T_0', 'NOx_T_1'),\n",
       " ('VV_T_0', 'SO2_T_1'),\n",
       " ('VV_T_0', 'O3_T_1'),\n",
       " ('VV_T_0', 'TMP_T_1'),\n",
       " ('VV_T_0', 'DV_T_1'),\n",
       " ('VV_T_0', 'VV_T_1'),\n",
       " ('VV_T_0', 'HR_T_1'),\n",
       " ('VV_T_0', 'CO_X_1'),\n",
       " ('VV_T_0', 'NO2_X_1'),\n",
       " ('VV_T_0', 'NOx_X_1'),\n",
       " ('VV_T_0', 'SO2_X_1'),\n",
       " ('VV_T_0', 'O3_X_1'),\n",
       " ('VV_T_0', 'TMP_X_1'),\n",
       " ('VV_T_0', 'DV_X_1'),\n",
       " ('VV_T_0', 'VV_X_1'),\n",
       " ('VV_T_0', 'HR_X_1'),\n",
       " ('HR_T_0', 'Hora_1'),\n",
       " ...]"
      ]
     },
     "execution_count": 32,
     "metadata": {},
     "output_type": "execute_result"
    }
   ],
   "source": [
    "white_list = []\n",
    "\n",
    "for col in complete_data.columns:\n",
    "    if col == 'Fecha' or col == 'Hora':\n",
    "        continue\n",
    "        \n",
    "    for col2 in complete_data.columns:\n",
    "        white_list.append((col, col2[:-1]+'1'))\n",
    "#         white_list.append(((col[0], 1), (col[0], 1)))\n",
    "        \n",
    "white_list"
   ]
  },
  {
   "cell_type": "markdown",
   "metadata": {},
   "source": [
    "Tenemos el dataset conjunto de ambos momentos temporales"
   ]
  },
  {
   "cell_type": "code",
   "execution_count": 33,
   "metadata": {},
   "outputs": [
    {
     "data": {
      "text/html": [
       "<div>\n",
       "<style scoped>\n",
       "    .dataframe tbody tr th:only-of-type {\n",
       "        vertical-align: middle;\n",
       "    }\n",
       "\n",
       "    .dataframe tbody tr th {\n",
       "        vertical-align: top;\n",
       "    }\n",
       "\n",
       "    .dataframe thead th {\n",
       "        text-align: right;\n",
       "    }\n",
       "</style>\n",
       "<table border=\"1\" class=\"dataframe\">\n",
       "  <thead>\n",
       "    <tr style=\"text-align: right;\">\n",
       "      <th></th>\n",
       "      <th>Hora_0</th>\n",
       "      <th>Hora_1</th>\n",
       "      <th>CO_M_0</th>\n",
       "      <th>CO_M_1</th>\n",
       "      <th>NO2_M_0</th>\n",
       "      <th>NO2_M_1</th>\n",
       "      <th>NOx_M_0</th>\n",
       "      <th>NOx_M_1</th>\n",
       "      <th>SO2_M_0</th>\n",
       "      <th>SO2_M_1</th>\n",
       "      <th>...</th>\n",
       "      <th>O3_X_0</th>\n",
       "      <th>O3_X_1</th>\n",
       "      <th>TMP_X_0</th>\n",
       "      <th>TMP_X_1</th>\n",
       "      <th>DV_X_0</th>\n",
       "      <th>DV_X_1</th>\n",
       "      <th>VV_X_0</th>\n",
       "      <th>VV_X_1</th>\n",
       "      <th>HR_X_0</th>\n",
       "      <th>HR_X_1</th>\n",
       "    </tr>\n",
       "  </thead>\n",
       "  <tbody>\n",
       "    <tr>\n",
       "      <th>1</th>\n",
       "      <td>3:00 - 4:00</td>\n",
       "      <td>NaN</td>\n",
       "      <td>(1.678, 1.85]</td>\n",
       "      <td>NaN</td>\n",
       "      <td>(0.0332, 0.038]</td>\n",
       "      <td>NaN</td>\n",
       "      <td>(0.0729, 0.0891]</td>\n",
       "      <td>NaN</td>\n",
       "      <td>(0.000902, 0.00644]</td>\n",
       "      <td>NaN</td>\n",
       "      <td>...</td>\n",
       "      <td>(0.00492, 0.00956]</td>\n",
       "      <td>NaN</td>\n",
       "      <td>(10.411, 11.389]</td>\n",
       "      <td>NaN</td>\n",
       "      <td>(60.833, 80.778]</td>\n",
       "      <td>NaN</td>\n",
       "      <td>(4.617, 6.089]</td>\n",
       "      <td>NaN</td>\n",
       "      <td>(58.667, 63.056]</td>\n",
       "      <td>NaN</td>\n",
       "    </tr>\n",
       "    <tr>\n",
       "      <th>2</th>\n",
       "      <td>4:00 - 5:00</td>\n",
       "      <td>3:00 - 4:00</td>\n",
       "      <td>(1.85, 2.022]</td>\n",
       "      <td>(1.678, 1.85]</td>\n",
       "      <td>(0.038, 0.0428]</td>\n",
       "      <td>(0.0332, 0.038]</td>\n",
       "      <td>(0.0891, 0.105]</td>\n",
       "      <td>(0.0729, 0.0891]</td>\n",
       "      <td>(0.00644, 0.0119]</td>\n",
       "      <td>(0.000902, 0.00644]</td>\n",
       "      <td>...</td>\n",
       "      <td>(0.00492, 0.00956]</td>\n",
       "      <td>(0.00492, 0.00956]</td>\n",
       "      <td>(9.433, 10.411]</td>\n",
       "      <td>(10.411, 11.389]</td>\n",
       "      <td>(40.889, 60.833]</td>\n",
       "      <td>(60.833, 80.778]</td>\n",
       "      <td>(1.672, 3.144]</td>\n",
       "      <td>(4.617, 6.089]</td>\n",
       "      <td>(58.667, 63.056]</td>\n",
       "      <td>(58.667, 63.056]</td>\n",
       "    </tr>\n",
       "    <tr>\n",
       "      <th>3</th>\n",
       "      <td>5:00 - 6:00</td>\n",
       "      <td>4:00 - 5:00</td>\n",
       "      <td>(1.678, 1.85]</td>\n",
       "      <td>(1.85, 2.022]</td>\n",
       "      <td>(0.0332, 0.038]</td>\n",
       "      <td>(0.038, 0.0428]</td>\n",
       "      <td>(0.0891, 0.105]</td>\n",
       "      <td>(0.0891, 0.105]</td>\n",
       "      <td>(0.00644, 0.0119]</td>\n",
       "      <td>(0.00644, 0.0119]</td>\n",
       "      <td>...</td>\n",
       "      <td>(0.00492, 0.00956]</td>\n",
       "      <td>(0.00492, 0.00956]</td>\n",
       "      <td>(9.433, 10.411]</td>\n",
       "      <td>(9.433, 10.411]</td>\n",
       "      <td>(180.5, 200.444]</td>\n",
       "      <td>(40.889, 60.833]</td>\n",
       "      <td>(0.174, 1.672]</td>\n",
       "      <td>(1.672, 3.144]</td>\n",
       "      <td>(63.056, 67.444]</td>\n",
       "      <td>(58.667, 63.056]</td>\n",
       "    </tr>\n",
       "    <tr>\n",
       "      <th>4</th>\n",
       "      <td>6:00 - 7:00</td>\n",
       "      <td>5:00 - 6:00</td>\n",
       "      <td>(2.194, 2.367]</td>\n",
       "      <td>(1.678, 1.85]</td>\n",
       "      <td>(0.0332, 0.038]</td>\n",
       "      <td>(0.0332, 0.038]</td>\n",
       "      <td>(0.122, 0.138]</td>\n",
       "      <td>(0.0891, 0.105]</td>\n",
       "      <td>(0.000902, 0.00644]</td>\n",
       "      <td>(0.00644, 0.0119]</td>\n",
       "      <td>...</td>\n",
       "      <td>(0.00492, 0.00956]</td>\n",
       "      <td>(0.00492, 0.00956]</td>\n",
       "      <td>(8.456, 9.433]</td>\n",
       "      <td>(9.433, 10.411]</td>\n",
       "      <td>(80.778, 100.722]</td>\n",
       "      <td>(180.5, 200.444]</td>\n",
       "      <td>(1.672, 3.144]</td>\n",
       "      <td>(0.174, 1.672]</td>\n",
       "      <td>(63.056, 67.444]</td>\n",
       "      <td>(63.056, 67.444]</td>\n",
       "    </tr>\n",
       "    <tr>\n",
       "      <th>5</th>\n",
       "      <td>7:00 - 8:00</td>\n",
       "      <td>6:00 - 7:00</td>\n",
       "      <td>(1.85, 2.022]</td>\n",
       "      <td>(2.194, 2.367]</td>\n",
       "      <td>(0.0283, 0.0332]</td>\n",
       "      <td>(0.0332, 0.038]</td>\n",
       "      <td>(0.0891, 0.105]</td>\n",
       "      <td>(0.122, 0.138]</td>\n",
       "      <td>(0.000902, 0.00644]</td>\n",
       "      <td>(0.000902, 0.00644]</td>\n",
       "      <td>...</td>\n",
       "      <td>(0.00492, 0.00956]</td>\n",
       "      <td>(0.00492, 0.00956]</td>\n",
       "      <td>(8.456, 9.433]</td>\n",
       "      <td>(8.456, 9.433]</td>\n",
       "      <td>(220.389, 240.333]</td>\n",
       "      <td>(80.778, 100.722]</td>\n",
       "      <td>(0.174, 1.672]</td>\n",
       "      <td>(1.672, 3.144]</td>\n",
       "      <td>(63.056, 67.444]</td>\n",
       "      <td>(63.056, 67.444]</td>\n",
       "    </tr>\n",
       "  </tbody>\n",
       "</table>\n",
       "<p>5 rows × 74 columns</p>\n",
       "</div>"
      ],
      "text/plain": [
       "        Hora_0       Hora_1          CO_M_0          CO_M_1           NO2_M_0  \\\n",
       "1  3:00 - 4:00          NaN   (1.678, 1.85]             NaN   (0.0332, 0.038]   \n",
       "2  4:00 - 5:00  3:00 - 4:00   (1.85, 2.022]   (1.678, 1.85]   (0.038, 0.0428]   \n",
       "3  5:00 - 6:00  4:00 - 5:00   (1.678, 1.85]   (1.85, 2.022]   (0.0332, 0.038]   \n",
       "4  6:00 - 7:00  5:00 - 6:00  (2.194, 2.367]   (1.678, 1.85]   (0.0332, 0.038]   \n",
       "5  7:00 - 8:00  6:00 - 7:00   (1.85, 2.022]  (2.194, 2.367]  (0.0283, 0.0332]   \n",
       "\n",
       "           NO2_M_1           NOx_M_0           NOx_M_1              SO2_M_0  \\\n",
       "1              NaN  (0.0729, 0.0891]               NaN  (0.000902, 0.00644]   \n",
       "2  (0.0332, 0.038]   (0.0891, 0.105]  (0.0729, 0.0891]    (0.00644, 0.0119]   \n",
       "3  (0.038, 0.0428]   (0.0891, 0.105]   (0.0891, 0.105]    (0.00644, 0.0119]   \n",
       "4  (0.0332, 0.038]    (0.122, 0.138]   (0.0891, 0.105]  (0.000902, 0.00644]   \n",
       "5  (0.0332, 0.038]   (0.0891, 0.105]    (0.122, 0.138]  (0.000902, 0.00644]   \n",
       "\n",
       "               SO2_M_1  ...              O3_X_0              O3_X_1  \\\n",
       "1                  NaN  ...  (0.00492, 0.00956]                 NaN   \n",
       "2  (0.000902, 0.00644]  ...  (0.00492, 0.00956]  (0.00492, 0.00956]   \n",
       "3    (0.00644, 0.0119]  ...  (0.00492, 0.00956]  (0.00492, 0.00956]   \n",
       "4    (0.00644, 0.0119]  ...  (0.00492, 0.00956]  (0.00492, 0.00956]   \n",
       "5  (0.000902, 0.00644]  ...  (0.00492, 0.00956]  (0.00492, 0.00956]   \n",
       "\n",
       "            TMP_X_0           TMP_X_1              DV_X_0             DV_X_1  \\\n",
       "1  (10.411, 11.389]               NaN    (60.833, 80.778]                NaN   \n",
       "2   (9.433, 10.411]  (10.411, 11.389]    (40.889, 60.833]   (60.833, 80.778]   \n",
       "3   (9.433, 10.411]   (9.433, 10.411]    (180.5, 200.444]   (40.889, 60.833]   \n",
       "4    (8.456, 9.433]   (9.433, 10.411]   (80.778, 100.722]   (180.5, 200.444]   \n",
       "5    (8.456, 9.433]    (8.456, 9.433]  (220.389, 240.333]  (80.778, 100.722]   \n",
       "\n",
       "           VV_X_0          VV_X_1            HR_X_0            HR_X_1  \n",
       "1  (4.617, 6.089]             NaN  (58.667, 63.056]               NaN  \n",
       "2  (1.672, 3.144]  (4.617, 6.089]  (58.667, 63.056]  (58.667, 63.056]  \n",
       "3  (0.174, 1.672]  (1.672, 3.144]  (63.056, 67.444]  (58.667, 63.056]  \n",
       "4  (1.672, 3.144]  (0.174, 1.672]  (63.056, 67.444]  (63.056, 67.444]  \n",
       "5  (0.174, 1.672]  (1.672, 3.144]  (63.056, 67.444]  (63.056, 67.444]  \n",
       "\n",
       "[5 rows x 74 columns]"
      ]
     },
     "execution_count": 33,
     "metadata": {},
     "output_type": "execute_result"
    }
   ],
   "source": [
    "complete_data_t.head()"
   ]
  },
  {
   "cell_type": "markdown",
   "metadata": {},
   "source": [
    "Eliminamos los valores nulos"
   ]
  },
  {
   "cell_type": "code",
   "execution_count": 34,
   "metadata": {},
   "outputs": [],
   "source": [
    "complete_data_t.dropna(inplace=True)"
   ]
  },
  {
   "cell_type": "markdown",
   "metadata": {},
   "source": [
    "### Test"
   ]
  },
  {
   "cell_type": "code",
   "execution_count": null,
   "metadata": {},
   "outputs": [],
   "source": [
    "# complete_data_t.columns = ['{}_{}'.format(col[0], col[1]) for col in complete_data_t.columns]"
   ]
  },
  {
   "cell_type": "code",
   "execution_count": 35,
   "metadata": {},
   "outputs": [
    {
     "data": {
      "text/plain": [
       "Index(['Hora_0', 'Hora_1', 'CO_M_0', 'CO_M_1', 'NO2_M_0', 'NO2_M_1', 'NOx_M_0',\n",
       "       'NOx_M_1', 'SO2_M_0', 'SO2_M_1', 'O3_M_0', 'O3_M_1', 'TMP_M_0',\n",
       "       'TMP_M_1', 'DV_M_0', 'DV_M_1', 'VV_M_0', 'VV_M_1', 'HR_M_0', 'HR_M_1',\n",
       "       'CO_P_0', 'CO_P_1', 'NO2_P_0', 'NO2_P_1', 'NOx_P_0', 'NOx_P_1',\n",
       "       'SO2_P_0', 'SO2_P_1', 'O3_P_0', 'O3_P_1', 'TMP_P_0', 'TMP_P_1',\n",
       "       'DV_P_0', 'DV_P_1', 'VV_P_0', 'VV_P_1', 'HR_P_0', 'HR_P_1', 'CO_T_0',\n",
       "       'CO_T_1', 'NO2_T_0', 'NO2_T_1', 'NOx_T_0', 'NOx_T_1', 'SO2_T_0',\n",
       "       'SO2_T_1', 'O3_T_0', 'O3_T_1', 'TMP_T_0', 'TMP_T_1', 'DV_T_0', 'DV_T_1',\n",
       "       'VV_T_0', 'VV_T_1', 'HR_T_0', 'HR_T_1', 'CO_X_0', 'CO_X_1', 'NO2_X_0',\n",
       "       'NO2_X_1', 'NOx_X_0', 'NOx_X_1', 'SO2_X_0', 'SO2_X_1', 'O3_X_0',\n",
       "       'O3_X_1', 'TMP_X_0', 'TMP_X_1', 'DV_X_0', 'DV_X_1', 'VV_X_0', 'VV_X_1',\n",
       "       'HR_X_0', 'HR_X_1'],\n",
       "      dtype='object')"
      ]
     },
     "execution_count": 35,
     "metadata": {},
     "output_type": "execute_result"
    }
   ],
   "source": [
    "complete_data_t.columns"
   ]
  },
  {
   "cell_type": "code",
   "execution_count": 36,
   "metadata": {},
   "outputs": [],
   "source": [
    "complete_t_train, complete_t_test = train_test_split(complete_data_t, test_size=1/3)\n",
    "\n",
    "# TODO:\n",
    "# X_complete_t_train = complete_train.drop(columns=['O3_P_0'])\n",
    "# y_complete_t_train = complete_train['O3_P_0']\n",
    "\n",
    "# X_complete_test = complete_test.drop(columns=['O3_P_0'])\n",
    "# y_complete_test = complete_test['O3_P_0']"
   ]
  },
  {
   "cell_type": "code",
   "execution_count": 37,
   "metadata": {},
   "outputs": [],
   "source": [
    "test = complete_t_train"
   ]
  },
  {
   "cell_type": "code",
   "execution_count": 38,
   "metadata": {
    "scrolled": true
   },
   "outputs": [],
   "source": [
    "from pgmpy.estimators import BDeuScore, K2Score, BicScore\n",
    "\n",
    "bdeu = BDeuScore(test, equivalent_sample_size=5)\n",
    "k2 = K2Score(test)\n",
    "bic = BicScore(test)\n",
    "\n",
    "from pgmpy.estimators import HillClimbSearch\n",
    "\n",
    "hc_bic = HillClimbSearch(test, scoring_method=bic)\n",
    "hc_bdeu = HillClimbSearch(test, scoring_method=bdeu)\n",
    "hc_k2 = HillClimbSearch(test, scoring_method=k2)"
   ]
  },
  {
   "cell_type": "markdown",
   "metadata": {},
   "source": [
    "### Aprendizaje de las estructuras"
   ]
  },
  {
   "cell_type": "code",
   "execution_count": null,
   "metadata": {},
   "outputs": [],
   "source": [
    "# print(\"Hill Climb Search BIC:\")\n",
    "# %time %memit hc_bic_temporal_structure = hc_bic.estimate(white_list=white_list)"
   ]
  },
  {
   "cell_type": "code",
   "execution_count": 39,
   "metadata": {},
   "outputs": [
    {
     "name": "stdout",
     "output_type": "stream",
     "text": [
      "\n",
      "Hill Climb Search BDeu:\n",
      "peak memory: 678.03 MiB, increment: 134.98 MiB\n",
      "Wall time: 9h 7min 38s\n"
     ]
    }
   ],
   "source": [
    "print(\"\\nHill Climb Search BDeu:\")\n",
    "%time %memit hc_bdeu_temporal_structure = hc_bdeu.estimate(white_list=white_list)"
   ]
  },
  {
   "cell_type": "code",
   "execution_count": null,
   "metadata": {},
   "outputs": [],
   "source": [
    "# plot_pgmpy_bn(hc_bic_temporal_structure)"
   ]
  },
  {
   "cell_type": "code",
   "execution_count": 40,
   "metadata": {},
   "outputs": [
    {
     "data": {
      "image/png": "[encoded data removed]",
      "text/plain": [
       "<Figure size 432x288 with 1 Axes>"
      ]
     },
     "metadata": {},
     "output_type": "display_data"
    }
   ],
   "source": [
    "plot_pgmpy_bn(hc_bdeu_temporal_structure)"
   ]
  },
  {
   "cell_type": "code",
   "execution_count": 41,
   "metadata": {
    "scrolled": false
   },
   "outputs": [
    {
     "data": {
      "text/plain": [
       "OutEdgeView([('Hora_0', 'Hora_1'), ('CO_M_0', 'CO_M_1'), ('NO2_M_0', 'NO2_M_1'), ('NOx_M_0', 'NOx_M_1'), ('SO2_M_0', 'SO2_M_1'), ('O3_M_0', 'O3_M_1'), ('TMP_M_0', 'TMP_M_1'), ('HR_M_0', 'HR_M_1'), ('HR_M_0', 'HR_X_1'), ('CO_P_0', 'CO_P_1'), ('NOx_P_0', 'NOx_P_1'), ('SO2_P_0', 'SO2_P_1'), ('O3_P_0', 'O3_P_1'), ('TMP_P_0', 'TMP_P_1'), ('HR_P_0', 'HR_P_1'), ('CO_T_0', 'CO_T_1'), ('NOx_T_0', 'NOx_T_1'), ('SO2_T_0', 'SO2_T_1'), ('O3_T_0', 'O3_T_1'), ('TMP_T_0', 'TMP_T_1'), ('HR_T_0', 'HR_T_1'), ('CO_X_0', 'CO_X_1'), ('CO_X_0', 'NOx_X_1'), ('NO2_X_0', 'NO2_X_1'), ('SO2_X_0', 'SO2_X_1'), ('O3_X_0', 'O3_X_1'), ('TMP_X_0', 'TMP_X_1')])"
      ]
     },
     "execution_count": 41,
     "metadata": {},
     "output_type": "execute_result"
    }
   ],
   "source": [
    "hc_bdeu_temporal_structure.edges"
   ]
  },
  {
   "cell_type": "markdown",
   "metadata": {},
   "source": [
    "# Modelo final"
   ]
  },
  {
   "cell_type": "code",
   "execution_count": 92,
   "metadata": {},
   "outputs": [],
   "source": [
    "# new_edges_0 = []\n",
    "\n",
    "# for edge in hc_bdeu_structure.edges:\n",
    "#     izq = edge[0][:-1]+'0' if edge[0] != 'Hora' else 'Hora_0'\n",
    "#     der = edge[1][:-1]+'0' if edge[1] != 'Hora' else 'Hora_0'\n",
    "    \n",
    "#     new_edges_0.append((izq, der))\n",
    "    \n",
    "# new_edges_1 = [(e[0][:-1]+'1', e[1][:-1]+'1') for e in new_edges_0]"
   ]
  },
  {
   "cell_type": "code",
   "execution_count": 110,
   "metadata": {},
   "outputs": [],
   "source": [
    "variable_names = [n[:-2] for n in complete_data_t if n[-1] == '0']\n",
    "first_slice_nodes = [n for n in complete_data_t if n[-1] == '0']\n",
    "second_slice_nodes = [n for n in complete_data_t if n[-1] == '1']"
   ]
  },
  {
   "cell_type": "code",
   "execution_count": 93,
   "metadata": {},
   "outputs": [],
   "source": [
    "from pgmpy.models import BayesianModel\n",
    "\n",
    "hc_bdeu_temporal_model = BayesianModel()\n",
    "hc_bdeu_temporal_model.add_nodes_from(hc_bdeu_temporal_structure.nodes)\n",
    "hc_bdeu_temporal_model.add_edges_from(new_edges_0)\n",
    "hc_bdeu_temporal_model.add_edges_from(new_edges_1)\n",
    "hc_bdeu_temporal_model.add_edges_from(hc_bdeu_temporal_structure.edges)\n",
    "\n",
    "# hc_bic_model = BayesianModel()\n",
    "# hc_bic_model.add_nodes_from(hc_bic_structure.nodes)\n",
    "# hc_bic_model.add_edges_from(hc_bic_structure.edges)"
   ]
  },
  {
   "cell_type": "code",
   "execution_count": 94,
   "metadata": {},
   "outputs": [
    {
     "data": {
      "text/plain": [
       "OutEdgeView([('Hora_0', 'Hora_1'), ('CO_M_0', 'NOx_M_0'), ('CO_M_0', 'CO_M_1'), ('CO_M_1', 'NOx_M_1'), ('NO2_M_0', 'NO2_M_1'), ('NOx_M_0', 'NO2_M_0'), ('NOx_M_0', 'NOx_M_1'), ('NOx_M_1', 'NO2_M_1'), ('SO2_M_0', 'SO2_X_0'), ('SO2_M_0', 'SO2_T_0'), ('SO2_M_0', 'SO2_M_1'), ('SO2_M_1', 'SO2_X_1'), ('SO2_M_1', 'SO2_T_1'), ('O3_M_0', 'O3_X_0'), ('O3_M_0', 'O3_M_1'), ('O3_M_1', 'O3_X_1'), ('TMP_M_0', 'TMP_M_1'), ('HR_M_0', 'HR_X_0'), ('HR_M_0', 'HR_P_0'), ('HR_M_0', 'HR_M_1'), ('HR_M_0', 'HR_X_1'), ('HR_M_1', 'HR_X_1'), ('HR_M_1', 'HR_P_1'), ('CO_P_0', 'NOx_P_0'), ('CO_P_0', 'CO_P_1'), ('CO_P_1', 'NOx_P_1'), ('NOx_P_0', 'NO2_P_0'), ('NOx_P_0', 'NOx_P_1'), ('NOx_P_1', 'NO2_P_1'), ('SO2_P_0', 'SO2_M_0'), ('SO2_P_0', 'SO2_P_1'), ('SO2_P_1', 'SO2_M_1'), ('O3_P_0', 'O3_P_1'), ('TMP_P_0', 'TMP_T_0'), ('TMP_P_0', 'TMP_P_1'), ('TMP_P_1', 'TMP_T_1'), ('HR_P_0', 'HR_P_1'), ('CO_T_0', 'CO_T_1'), ('NOx_T_0', 'CO_T_0'), ('NOx_T_0', 'NO2_T_0'), ('NOx_T_0', 'NOx_T_1'), ('NOx_T_1', 'CO_T_1'), ('NOx_T_1', 'NO2_T_1'), ('SO2_T_0', 'SO2_T_1'), ('O3_T_0', 'O3_M_0'), ('O3_T_0', 'O3_P_0'), ('O3_T_0', 'O3_T_1'), ('O3_T_1', 'O3_M_1'), ('O3_T_1', 'O3_P_1'), ('TMP_T_0', 'TMP_X_0'), ('TMP_T_0', 'TMP_T_1'), ('TMP_T_1', 'TMP_X_1'), ('HR_T_0', 'HR_M_0'), ('HR_T_0', 'HR_T_1'), ('HR_T_1', 'HR_M_1'), ('CO_X_0', 'CO_M_0'), ('CO_X_0', 'NOx_T_0'), ('CO_X_0', 'CO_X_1'), ('CO_X_0', 'NOx_X_1'), ('CO_X_1', 'CO_M_1'), ('CO_X_1', 'NOx_T_1'), ('NO2_X_0', 'NOx_X_0'), ('NO2_X_0', 'NO2_X_1'), ('NO2_X_1', 'NOx_X_1'), ('NOx_X_0', 'CO_X_0'), ('NOx_X_1', 'CO_X_1'), ('SO2_X_0', 'SO2_X_1'), ('O3_X_0', 'O3_X_1'), ('TMP_X_0', 'TMP_M_0'), ('TMP_X_0', 'TMP_X_1'), ('TMP_X_1', 'TMP_M_1')])"
      ]
     },
     "execution_count": 94,
     "metadata": {},
     "output_type": "execute_result"
    }
   ],
   "source": [
    "hc_bdeu_temporal_model.edges"
   ]
  },
  {
   "cell_type": "code",
   "execution_count": 95,
   "metadata": {
    "scrolled": true
   },
   "outputs": [],
   "source": [
    "from pgmpy.estimators import BayesianEstimator\n",
    "\n",
    "hc_bdeu_temporal_model.fit(test, estimator=BayesianEstimator, prior_type=\"BDeu\")  # default equivalent_sample_size=5\n",
    "# hc_bic_temporal_model.fit(test, estimator=BayesianEstimator)"
   ]
  },
  {
   "cell_type": "markdown",
   "metadata": {},
   "source": [
    "# Inferencia"
   ]
  },
  {
   "cell_type": "code",
   "execution_count": 96,
   "metadata": {},
   "outputs": [
    {
     "name": "stdout",
     "output_type": "stream",
     "text": [
      "('O3_P_0', 'O3_P_1')\n",
      "('O3_T_0', 'O3_P_0')\n",
      "('O3_T_1', 'O3_P_1')\n"
     ]
    }
   ],
   "source": [
    "for e in hc_bdeu_temporal_model.edges:\n",
    "    if 'O3_P' in e[0] or 'O3_P' in e[1]:\n",
    "        print(e)"
   ]
  },
  {
   "cell_type": "code",
   "execution_count": 98,
   "metadata": {},
   "outputs": [
    {
     "name": "stdout",
     "output_type": "stream",
     "text": [
      "('O3_T_0', 'O3_T_1')\n"
     ]
    }
   ],
   "source": [
    "for e in hc_bdeu_temporal_model.edges:\n",
    "    if 'O3_T_1' in e[1]:\n",
    "        print(e)"
   ]
  },
  {
   "cell_type": "code",
   "execution_count": 114,
   "metadata": {},
   "outputs": [],
   "source": [
    "columns_to_drop = ['O3_P_1', 'O3_T_1']\n",
    "X_train = complete_t_train.drop(columns=columns_to_drop)\n",
    "y_train_cont = y_complete_continue_t[complete_t_train.index]"
   ]
  },
  {
   "cell_type": "code",
   "execution_count": 115,
   "metadata": {},
   "outputs": [
    {
     "name": "stderr",
     "output_type": "stream",
     "text": [
      "100%|████████████████████████████████████████████████████████████████████████████████| 430/430 [02:59<00:00,  2.39it/s]\n"
     ]
    },
    {
     "name": "stdout",
     "output_type": "stream",
     "text": [
      "peak memory: 645.29 MiB, increment: 3.36 MiB\n",
      "Wall time: 3min 5s\n"
     ]
    }
   ],
   "source": [
    "%time %memit y_pred = hc_bdeu_temporal_model.predict(X_train)"
   ]
  },
  {
   "cell_type": "markdown",
   "metadata": {},
   "source": [
    "Accuracy: diferencia media de IMECAs"
   ]
  },
  {
   "cell_type": "code",
   "execution_count": 116,
   "metadata": {
    "scrolled": true
   },
   "outputs": [
    {
     "data": {
      "text/plain": [
       "8.667050739957721"
      ]
     },
     "execution_count": 116,
     "metadata": {},
     "output_type": "execute_result"
    }
   ],
   "source": [
    "mean_imeca_diff(y_pred['O3_P_1'], y_train_cont)"
   ]
  },
  {
   "cell_type": "markdown",
   "metadata": {},
   "source": [
    "### Dataset evaluacion"
   ]
  },
  {
   "cell_type": "code",
   "execution_count": 122,
   "metadata": {},
   "outputs": [
    {
     "name": "stderr",
     "output_type": "stream",
     "text": [
      "\n",
      "\n",
      "\n",
      "  0%|                                                                                          | 0/215 [00:00<?, ?it/s]\u001b[A\u001b[A\u001b[A\n",
      "\n",
      "\n",
      "  0%|▍                                                                                 | 1/215 [00:00<00:28,  7.43it/s]\u001b[A\u001b[A\u001b[A"
     ]
    },
    {
     "ename": "OSError",
     "evalue": "[Errno 22] Invalid argument",
     "output_type": "error",
     "traceback": [
      "\u001b[1;31m---------------------------------------------------------------------------\u001b[0m",
      "\u001b[1;31mOSError\u001b[0m                                   Traceback (most recent call last)",
      "\u001b[1;32m<ipython-input-122-ac7ba00f5873>\u001b[0m in \u001b[0;36m<module>\u001b[1;34m\u001b[0m\n\u001b[0;32m      3\u001b[0m \u001b[0my_test_cont\u001b[0m \u001b[1;33m=\u001b[0m \u001b[0my_complete_continue_t\u001b[0m\u001b[1;33m[\u001b[0m\u001b[0mcomplete_t_test\u001b[0m\u001b[1;33m.\u001b[0m\u001b[0mindex\u001b[0m\u001b[1;33m]\u001b[0m\u001b[1;33m\u001b[0m\u001b[1;33m\u001b[0m\u001b[0m\n\u001b[0;32m      4\u001b[0m \u001b[1;33m\u001b[0m\u001b[0m\n\u001b[1;32m----> 5\u001b[1;33m \u001b[0my_pred\u001b[0m \u001b[1;33m=\u001b[0m \u001b[0mhc_bdeu_temporal_model\u001b[0m\u001b[1;33m.\u001b[0m\u001b[0mpredict\u001b[0m\u001b[1;33m(\u001b[0m\u001b[0mX_test\u001b[0m\u001b[1;33m)\u001b[0m\u001b[1;33m\u001b[0m\u001b[1;33m\u001b[0m\u001b[0m\n\u001b[0m",
      "\u001b[1;32m~\\.conda\\envs\\PGM\\lib\\site-packages\\pgmpy\\models\\BayesianModel.py\u001b[0m in \u001b[0;36mpredict\u001b[1;34m(self, data, n_jobs)\u001b[0m\n\u001b[0;32m    592\u001b[0m             )\n\u001b[0;32m    593\u001b[0m             for index, data_point in tqdm(\n\u001b[1;32m--> 594\u001b[1;33m                 \u001b[0mdata_unique\u001b[0m\u001b[1;33m.\u001b[0m\u001b[0miterrows\u001b[0m\u001b[1;33m(\u001b[0m\u001b[1;33m)\u001b[0m\u001b[1;33m,\u001b[0m \u001b[0mtotal\u001b[0m\u001b[1;33m=\u001b[0m\u001b[0mdata_unique\u001b[0m\u001b[1;33m.\u001b[0m\u001b[0mshape\u001b[0m\u001b[1;33m[\u001b[0m\u001b[1;36m0\u001b[0m\u001b[1;33m]\u001b[0m\u001b[1;33m\u001b[0m\u001b[1;33m\u001b[0m\u001b[0m\n\u001b[0m\u001b[0;32m    595\u001b[0m             )\n\u001b[0;32m    596\u001b[0m         )\n",
      "\u001b[1;32m~\\.conda\\envs\\PGM\\lib\\site-packages\\joblib\\parallel.py\u001b[0m in \u001b[0;36m__call__\u001b[1;34m(self, iterable)\u001b[0m\n\u001b[0;32m   1002\u001b[0m             \u001b[1;31m# remaining jobs.\u001b[0m\u001b[1;33m\u001b[0m\u001b[1;33m\u001b[0m\u001b[1;33m\u001b[0m\u001b[0m\n\u001b[0;32m   1003\u001b[0m             \u001b[0mself\u001b[0m\u001b[1;33m.\u001b[0m\u001b[0m_iterating\u001b[0m \u001b[1;33m=\u001b[0m \u001b[1;32mFalse\u001b[0m\u001b[1;33m\u001b[0m\u001b[1;33m\u001b[0m\u001b[0m\n\u001b[1;32m-> 1004\u001b[1;33m             \u001b[1;32mif\u001b[0m \u001b[0mself\u001b[0m\u001b[1;33m.\u001b[0m\u001b[0mdispatch_one_batch\u001b[0m\u001b[1;33m(\u001b[0m\u001b[0miterator\u001b[0m\u001b[1;33m)\u001b[0m\u001b[1;33m:\u001b[0m\u001b[1;33m\u001b[0m\u001b[1;33m\u001b[0m\u001b[0m\n\u001b[0m\u001b[0;32m   1005\u001b[0m                 \u001b[0mself\u001b[0m\u001b[1;33m.\u001b[0m\u001b[0m_iterating\u001b[0m \u001b[1;33m=\u001b[0m \u001b[0mself\u001b[0m\u001b[1;33m.\u001b[0m\u001b[0m_original_iterator\u001b[0m \u001b[1;32mis\u001b[0m \u001b[1;32mnot\u001b[0m \u001b[1;32mNone\u001b[0m\u001b[1;33m\u001b[0m\u001b[1;33m\u001b[0m\u001b[0m\n\u001b[0;32m   1006\u001b[0m \u001b[1;33m\u001b[0m\u001b[0m\n",
      "\u001b[1;32m~\\.conda\\envs\\PGM\\lib\\site-packages\\joblib\\parallel.py\u001b[0m in \u001b[0;36mdispatch_one_batch\u001b[1;34m(self, iterator)\u001b[0m\n\u001b[0;32m    833\u001b[0m                 \u001b[1;32mreturn\u001b[0m \u001b[1;32mFalse\u001b[0m\u001b[1;33m\u001b[0m\u001b[1;33m\u001b[0m\u001b[0m\n\u001b[0;32m    834\u001b[0m             \u001b[1;32melse\u001b[0m\u001b[1;33m:\u001b[0m\u001b[1;33m\u001b[0m\u001b[1;33m\u001b[0m\u001b[0m\n\u001b[1;32m--> 835\u001b[1;33m                 \u001b[0mself\u001b[0m\u001b[1;33m.\u001b[0m\u001b[0m_dispatch\u001b[0m\u001b[1;33m(\u001b[0m\u001b[0mtasks\u001b[0m\u001b[1;33m)\u001b[0m\u001b[1;33m\u001b[0m\u001b[1;33m\u001b[0m\u001b[0m\n\u001b[0m\u001b[0;32m    836\u001b[0m                 \u001b[1;32mreturn\u001b[0m \u001b[1;32mTrue\u001b[0m\u001b[1;33m\u001b[0m\u001b[1;33m\u001b[0m\u001b[0m\n\u001b[0;32m    837\u001b[0m \u001b[1;33m\u001b[0m\u001b[0m\n",
      "\u001b[1;32m~\\.conda\\envs\\PGM\\lib\\site-packages\\joblib\\parallel.py\u001b[0m in \u001b[0;36m_dispatch\u001b[1;34m(self, batch)\u001b[0m\n\u001b[0;32m    752\u001b[0m         \u001b[1;32mwith\u001b[0m \u001b[0mself\u001b[0m\u001b[1;33m.\u001b[0m\u001b[0m_lock\u001b[0m\u001b[1;33m:\u001b[0m\u001b[1;33m\u001b[0m\u001b[1;33m\u001b[0m\u001b[0m\n\u001b[0;32m    753\u001b[0m             \u001b[0mjob_idx\u001b[0m \u001b[1;33m=\u001b[0m \u001b[0mlen\u001b[0m\u001b[1;33m(\u001b[0m\u001b[0mself\u001b[0m\u001b[1;33m.\u001b[0m\u001b[0m_jobs\u001b[0m\u001b[1;33m)\u001b[0m\u001b[1;33m\u001b[0m\u001b[1;33m\u001b[0m\u001b[0m\n\u001b[1;32m--> 754\u001b[1;33m             \u001b[0mjob\u001b[0m \u001b[1;33m=\u001b[0m \u001b[0mself\u001b[0m\u001b[1;33m.\u001b[0m\u001b[0m_backend\u001b[0m\u001b[1;33m.\u001b[0m\u001b[0mapply_async\u001b[0m\u001b[1;33m(\u001b[0m\u001b[0mbatch\u001b[0m\u001b[1;33m,\u001b[0m \u001b[0mcallback\u001b[0m\u001b[1;33m=\u001b[0m\u001b[0mcb\u001b[0m\u001b[1;33m)\u001b[0m\u001b[1;33m\u001b[0m\u001b[1;33m\u001b[0m\u001b[0m\n\u001b[0m\u001b[0;32m    755\u001b[0m             \u001b[1;31m# A job can complete so quickly than its callback is\u001b[0m\u001b[1;33m\u001b[0m\u001b[1;33m\u001b[0m\u001b[1;33m\u001b[0m\u001b[0m\n\u001b[0;32m    756\u001b[0m             \u001b[1;31m# called before we get here, causing self._jobs to\u001b[0m\u001b[1;33m\u001b[0m\u001b[1;33m\u001b[0m\u001b[1;33m\u001b[0m\u001b[0m\n",
      "\u001b[1;32m~\\.conda\\envs\\PGM\\lib\\site-packages\\joblib\\_parallel_backends.py\u001b[0m in \u001b[0;36mapply_async\u001b[1;34m(self, func, callback)\u001b[0m\n\u001b[0;32m    549\u001b[0m     \u001b[1;32mdef\u001b[0m \u001b[0mapply_async\u001b[0m\u001b[1;33m(\u001b[0m\u001b[0mself\u001b[0m\u001b[1;33m,\u001b[0m \u001b[0mfunc\u001b[0m\u001b[1;33m,\u001b[0m \u001b[0mcallback\u001b[0m\u001b[1;33m=\u001b[0m\u001b[1;32mNone\u001b[0m\u001b[1;33m)\u001b[0m\u001b[1;33m:\u001b[0m\u001b[1;33m\u001b[0m\u001b[1;33m\u001b[0m\u001b[0m\n\u001b[0;32m    550\u001b[0m         \u001b[1;34m\"\"\"Schedule a func to be run\"\"\"\u001b[0m\u001b[1;33m\u001b[0m\u001b[1;33m\u001b[0m\u001b[0m\n\u001b[1;32m--> 551\u001b[1;33m         \u001b[0mfuture\u001b[0m \u001b[1;33m=\u001b[0m \u001b[0mself\u001b[0m\u001b[1;33m.\u001b[0m\u001b[0m_workers\u001b[0m\u001b[1;33m.\u001b[0m\u001b[0msubmit\u001b[0m\u001b[1;33m(\u001b[0m\u001b[0mSafeFunction\u001b[0m\u001b[1;33m(\u001b[0m\u001b[0mfunc\u001b[0m\u001b[1;33m)\u001b[0m\u001b[1;33m)\u001b[0m\u001b[1;33m\u001b[0m\u001b[1;33m\u001b[0m\u001b[0m\n\u001b[0m\u001b[0;32m    552\u001b[0m         \u001b[0mfuture\u001b[0m\u001b[1;33m.\u001b[0m\u001b[0mget\u001b[0m \u001b[1;33m=\u001b[0m \u001b[0mfunctools\u001b[0m\u001b[1;33m.\u001b[0m\u001b[0mpartial\u001b[0m\u001b[1;33m(\u001b[0m\u001b[0mself\u001b[0m\u001b[1;33m.\u001b[0m\u001b[0mwrap_future_result\u001b[0m\u001b[1;33m,\u001b[0m \u001b[0mfuture\u001b[0m\u001b[1;33m)\u001b[0m\u001b[1;33m\u001b[0m\u001b[1;33m\u001b[0m\u001b[0m\n\u001b[0;32m    553\u001b[0m         \u001b[1;32mif\u001b[0m \u001b[0mcallback\u001b[0m \u001b[1;32mis\u001b[0m \u001b[1;32mnot\u001b[0m \u001b[1;32mNone\u001b[0m\u001b[1;33m:\u001b[0m\u001b[1;33m\u001b[0m\u001b[1;33m\u001b[0m\u001b[0m\n",
      "\u001b[1;32m~\\.conda\\envs\\PGM\\lib\\site-packages\\joblib\\externals\\loky\\reusable_executor.py\u001b[0m in \u001b[0;36msubmit\u001b[1;34m(self, fn, *args, **kwargs)\u001b[0m\n\u001b[0;32m    158\u001b[0m         \u001b[1;32mwith\u001b[0m \u001b[0mself\u001b[0m\u001b[1;33m.\u001b[0m\u001b[0m_submit_resize_lock\u001b[0m\u001b[1;33m:\u001b[0m\u001b[1;33m\u001b[0m\u001b[1;33m\u001b[0m\u001b[0m\n\u001b[0;32m    159\u001b[0m             return super(_ReusablePoolExecutor, self).submit(\n\u001b[1;32m--> 160\u001b[1;33m                 fn, *args, **kwargs)\n\u001b[0m\u001b[0;32m    161\u001b[0m \u001b[1;33m\u001b[0m\u001b[0m\n\u001b[0;32m    162\u001b[0m     \u001b[1;32mdef\u001b[0m \u001b[0m_resize\u001b[0m\u001b[1;33m(\u001b[0m\u001b[0mself\u001b[0m\u001b[1;33m,\u001b[0m \u001b[0mmax_workers\u001b[0m\u001b[1;33m)\u001b[0m\u001b[1;33m:\u001b[0m\u001b[1;33m\u001b[0m\u001b[1;33m\u001b[0m\u001b[0m\n",
      "\u001b[1;32m~\\.conda\\envs\\PGM\\lib\\site-packages\\joblib\\externals\\loky\\process_executor.py\u001b[0m in \u001b[0;36msubmit\u001b[1;34m(self, fn, *args, **kwargs)\u001b[0m\n\u001b[0;32m   1045\u001b[0m             \u001b[0mself\u001b[0m\u001b[1;33m.\u001b[0m\u001b[0m_queue_management_thread_wakeup\u001b[0m\u001b[1;33m.\u001b[0m\u001b[0mwakeup\u001b[0m\u001b[1;33m(\u001b[0m\u001b[1;33m)\u001b[0m\u001b[1;33m\u001b[0m\u001b[1;33m\u001b[0m\u001b[0m\n\u001b[0;32m   1046\u001b[0m \u001b[1;33m\u001b[0m\u001b[0m\n\u001b[1;32m-> 1047\u001b[1;33m             \u001b[0mself\u001b[0m\u001b[1;33m.\u001b[0m\u001b[0m_ensure_executor_running\u001b[0m\u001b[1;33m(\u001b[0m\u001b[1;33m)\u001b[0m\u001b[1;33m\u001b[0m\u001b[1;33m\u001b[0m\u001b[0m\n\u001b[0m\u001b[0;32m   1048\u001b[0m             \u001b[1;32mreturn\u001b[0m \u001b[0mf\u001b[0m\u001b[1;33m\u001b[0m\u001b[1;33m\u001b[0m\u001b[0m\n\u001b[0;32m   1049\u001b[0m     \u001b[0msubmit\u001b[0m\u001b[1;33m.\u001b[0m\u001b[0m__doc__\u001b[0m \u001b[1;33m=\u001b[0m \u001b[0m_base\u001b[0m\u001b[1;33m.\u001b[0m\u001b[0mExecutor\u001b[0m\u001b[1;33m.\u001b[0m\u001b[0msubmit\u001b[0m\u001b[1;33m.\u001b[0m\u001b[0m__doc__\u001b[0m\u001b[1;33m\u001b[0m\u001b[1;33m\u001b[0m\u001b[0m\n",
      "\u001b[1;32m~\\.conda\\envs\\PGM\\lib\\site-packages\\joblib\\externals\\loky\\process_executor.py\u001b[0m in \u001b[0;36m_ensure_executor_running\u001b[1;34m(self)\u001b[0m\n\u001b[0;32m   1019\u001b[0m         \u001b[1;32mwith\u001b[0m \u001b[0mself\u001b[0m\u001b[1;33m.\u001b[0m\u001b[0m_processes_management_lock\u001b[0m\u001b[1;33m:\u001b[0m\u001b[1;33m\u001b[0m\u001b[1;33m\u001b[0m\u001b[0m\n\u001b[0;32m   1020\u001b[0m             \u001b[1;32mif\u001b[0m \u001b[0mlen\u001b[0m\u001b[1;33m(\u001b[0m\u001b[0mself\u001b[0m\u001b[1;33m.\u001b[0m\u001b[0m_processes\u001b[0m\u001b[1;33m)\u001b[0m \u001b[1;33m!=\u001b[0m \u001b[0mself\u001b[0m\u001b[1;33m.\u001b[0m\u001b[0m_max_workers\u001b[0m\u001b[1;33m:\u001b[0m\u001b[1;33m\u001b[0m\u001b[1;33m\u001b[0m\u001b[0m\n\u001b[1;32m-> 1021\u001b[1;33m                 \u001b[0mself\u001b[0m\u001b[1;33m.\u001b[0m\u001b[0m_adjust_process_count\u001b[0m\u001b[1;33m(\u001b[0m\u001b[1;33m)\u001b[0m\u001b[1;33m\u001b[0m\u001b[1;33m\u001b[0m\u001b[0m\n\u001b[0m\u001b[0;32m   1022\u001b[0m             \u001b[0mself\u001b[0m\u001b[1;33m.\u001b[0m\u001b[0m_start_queue_management_thread\u001b[0m\u001b[1;33m(\u001b[0m\u001b[1;33m)\u001b[0m\u001b[1;33m\u001b[0m\u001b[1;33m\u001b[0m\u001b[0m\n\u001b[0;32m   1023\u001b[0m \u001b[1;33m\u001b[0m\u001b[0m\n",
      "\u001b[1;32m~\\.conda\\envs\\PGM\\lib\\site-packages\\joblib\\externals\\loky\\process_executor.py\u001b[0m in \u001b[0;36m_adjust_process_count\u001b[1;34m(self)\u001b[0m\n\u001b[0;32m   1010\u001b[0m                 \u001b[0mp\u001b[0m \u001b[1;33m=\u001b[0m \u001b[0mself\u001b[0m\u001b[1;33m.\u001b[0m\u001b[0m_context\u001b[0m\u001b[1;33m.\u001b[0m\u001b[0mProcess\u001b[0m\u001b[1;33m(\u001b[0m\u001b[0mtarget\u001b[0m\u001b[1;33m=\u001b[0m\u001b[0m_process_worker\u001b[0m\u001b[1;33m,\u001b[0m \u001b[0margs\u001b[0m\u001b[1;33m=\u001b[0m\u001b[0margs\u001b[0m\u001b[1;33m)\u001b[0m\u001b[1;33m\u001b[0m\u001b[1;33m\u001b[0m\u001b[0m\n\u001b[0;32m   1011\u001b[0m             \u001b[0mp\u001b[0m\u001b[1;33m.\u001b[0m\u001b[0m_worker_exit_lock\u001b[0m \u001b[1;33m=\u001b[0m \u001b[0mworker_exit_lock\u001b[0m\u001b[1;33m\u001b[0m\u001b[1;33m\u001b[0m\u001b[0m\n\u001b[1;32m-> 1012\u001b[1;33m             \u001b[0mp\u001b[0m\u001b[1;33m.\u001b[0m\u001b[0mstart\u001b[0m\u001b[1;33m(\u001b[0m\u001b[1;33m)\u001b[0m\u001b[1;33m\u001b[0m\u001b[1;33m\u001b[0m\u001b[0m\n\u001b[0m\u001b[0;32m   1013\u001b[0m             \u001b[0mself\u001b[0m\u001b[1;33m.\u001b[0m\u001b[0m_processes\u001b[0m\u001b[1;33m[\u001b[0m\u001b[0mp\u001b[0m\u001b[1;33m.\u001b[0m\u001b[0mpid\u001b[0m\u001b[1;33m]\u001b[0m \u001b[1;33m=\u001b[0m \u001b[0mp\u001b[0m\u001b[1;33m\u001b[0m\u001b[1;33m\u001b[0m\u001b[0m\n\u001b[0;32m   1014\u001b[0m         \u001b[0mmp\u001b[0m\u001b[1;33m.\u001b[0m\u001b[0mutil\u001b[0m\u001b[1;33m.\u001b[0m\u001b[0mdebug\u001b[0m\u001b[1;33m(\u001b[0m\u001b[1;34m'Adjust process count : {}'\u001b[0m\u001b[1;33m.\u001b[0m\u001b[0mformat\u001b[0m\u001b[1;33m(\u001b[0m\u001b[0mself\u001b[0m\u001b[1;33m.\u001b[0m\u001b[0m_processes\u001b[0m\u001b[1;33m)\u001b[0m\u001b[1;33m)\u001b[0m\u001b[1;33m\u001b[0m\u001b[1;33m\u001b[0m\u001b[0m\n",
      "\u001b[1;32m~\\.conda\\envs\\PGM\\lib\\multiprocessing\\process.py\u001b[0m in \u001b[0;36mstart\u001b[1;34m(self)\u001b[0m\n\u001b[0;32m    110\u001b[0m                \u001b[1;34m'daemonic processes are not allowed to have children'\u001b[0m\u001b[1;33m\u001b[0m\u001b[1;33m\u001b[0m\u001b[0m\n\u001b[0;32m    111\u001b[0m         \u001b[0m_cleanup\u001b[0m\u001b[1;33m(\u001b[0m\u001b[1;33m)\u001b[0m\u001b[1;33m\u001b[0m\u001b[1;33m\u001b[0m\u001b[0m\n\u001b[1;32m--> 112\u001b[1;33m         \u001b[0mself\u001b[0m\u001b[1;33m.\u001b[0m\u001b[0m_popen\u001b[0m \u001b[1;33m=\u001b[0m \u001b[0mself\u001b[0m\u001b[1;33m.\u001b[0m\u001b[0m_Popen\u001b[0m\u001b[1;33m(\u001b[0m\u001b[0mself\u001b[0m\u001b[1;33m)\u001b[0m\u001b[1;33m\u001b[0m\u001b[1;33m\u001b[0m\u001b[0m\n\u001b[0m\u001b[0;32m    113\u001b[0m         \u001b[0mself\u001b[0m\u001b[1;33m.\u001b[0m\u001b[0m_sentinel\u001b[0m \u001b[1;33m=\u001b[0m \u001b[0mself\u001b[0m\u001b[1;33m.\u001b[0m\u001b[0m_popen\u001b[0m\u001b[1;33m.\u001b[0m\u001b[0msentinel\u001b[0m\u001b[1;33m\u001b[0m\u001b[1;33m\u001b[0m\u001b[0m\n\u001b[0;32m    114\u001b[0m         \u001b[1;31m# Avoid a refcycle if the target function holds an indirect\u001b[0m\u001b[1;33m\u001b[0m\u001b[1;33m\u001b[0m\u001b[1;33m\u001b[0m\u001b[0m\n",
      "\u001b[1;32m~\\.conda\\envs\\PGM\\lib\\site-packages\\joblib\\externals\\loky\\backend\\process.py\u001b[0m in \u001b[0;36m_Popen\u001b[1;34m(process_obj)\u001b[0m\n\u001b[0;32m     37\u001b[0m         \u001b[1;32melse\u001b[0m\u001b[1;33m:\u001b[0m\u001b[1;33m\u001b[0m\u001b[1;33m\u001b[0m\u001b[0m\n\u001b[0;32m     38\u001b[0m             \u001b[1;32mfrom\u001b[0m \u001b[1;33m.\u001b[0m\u001b[0mpopen_loky_posix\u001b[0m \u001b[1;32mimport\u001b[0m \u001b[0mPopen\u001b[0m\u001b[1;33m\u001b[0m\u001b[1;33m\u001b[0m\u001b[0m\n\u001b[1;32m---> 39\u001b[1;33m         \u001b[1;32mreturn\u001b[0m \u001b[0mPopen\u001b[0m\u001b[1;33m(\u001b[0m\u001b[0mprocess_obj\u001b[0m\u001b[1;33m)\u001b[0m\u001b[1;33m\u001b[0m\u001b[1;33m\u001b[0m\u001b[0m\n\u001b[0m\u001b[0;32m     40\u001b[0m \u001b[1;33m\u001b[0m\u001b[0m\n\u001b[0;32m     41\u001b[0m     \u001b[1;32mif\u001b[0m \u001b[0msys\u001b[0m\u001b[1;33m.\u001b[0m\u001b[0mversion_info\u001b[0m \u001b[1;33m<\u001b[0m \u001b[1;33m(\u001b[0m\u001b[1;36m3\u001b[0m\u001b[1;33m,\u001b[0m \u001b[1;36m3\u001b[0m\u001b[1;33m)\u001b[0m\u001b[1;33m:\u001b[0m\u001b[1;33m\u001b[0m\u001b[1;33m\u001b[0m\u001b[0m\n",
      "\u001b[1;32m~\\.conda\\envs\\PGM\\lib\\site-packages\\joblib\\externals\\loky\\backend\\popen_loky_win32.py\u001b[0m in \u001b[0;36m__init__\u001b[1;34m(self, process_obj)\u001b[0m\n\u001b[0;32m     53\u001b[0m     \u001b[1;32mdef\u001b[0m \u001b[0m__init__\u001b[0m\u001b[1;33m(\u001b[0m\u001b[0mself\u001b[0m\u001b[1;33m,\u001b[0m \u001b[0mprocess_obj\u001b[0m\u001b[1;33m)\u001b[0m\u001b[1;33m:\u001b[0m\u001b[1;33m\u001b[0m\u001b[1;33m\u001b[0m\u001b[0m\n\u001b[0;32m     54\u001b[0m         prep_data = spawn.get_preparation_data(\n\u001b[1;32m---> 55\u001b[1;33m             process_obj._name, getattr(process_obj, \"init_main_module\", True))\n\u001b[0m\u001b[0;32m     56\u001b[0m \u001b[1;33m\u001b[0m\u001b[0m\n\u001b[0;32m     57\u001b[0m         \u001b[1;31m# read end of pipe will be \"stolen\" by the child process\u001b[0m\u001b[1;33m\u001b[0m\u001b[1;33m\u001b[0m\u001b[1;33m\u001b[0m\u001b[0m\n",
      "\u001b[1;32m~\\.conda\\envs\\PGM\\lib\\site-packages\\joblib\\externals\\loky\\backend\\spawn.py\u001b[0m in \u001b[0;36mget_preparation_data\u001b[1;34m(name, init_main_module)\u001b[0m\n\u001b[0;32m     84\u001b[0m     \u001b[1;31m# Tell the child how to communicate with the resource_tracker\u001b[0m\u001b[1;33m\u001b[0m\u001b[1;33m\u001b[0m\u001b[1;33m\u001b[0m\u001b[0m\n\u001b[0;32m     85\u001b[0m     \u001b[1;32mfrom\u001b[0m \u001b[1;33m.\u001b[0m\u001b[0mresource_tracker\u001b[0m \u001b[1;32mimport\u001b[0m \u001b[0m_resource_tracker\u001b[0m\u001b[1;33m\u001b[0m\u001b[1;33m\u001b[0m\u001b[0m\n\u001b[1;32m---> 86\u001b[1;33m     \u001b[0m_resource_tracker\u001b[0m\u001b[1;33m.\u001b[0m\u001b[0mensure_running\u001b[0m\u001b[1;33m(\u001b[0m\u001b[1;33m)\u001b[0m\u001b[1;33m\u001b[0m\u001b[1;33m\u001b[0m\u001b[0m\n\u001b[0m\u001b[0;32m     87\u001b[0m     \u001b[0md\u001b[0m\u001b[1;33m[\u001b[0m\u001b[1;34m\"tracker_args\"\u001b[0m\u001b[1;33m]\u001b[0m \u001b[1;33m=\u001b[0m \u001b[1;33m{\u001b[0m\u001b[1;34m\"pid\"\u001b[0m\u001b[1;33m:\u001b[0m \u001b[0m_resource_tracker\u001b[0m\u001b[1;33m.\u001b[0m\u001b[0m_pid\u001b[0m\u001b[1;33m}\u001b[0m\u001b[1;33m\u001b[0m\u001b[1;33m\u001b[0m\u001b[0m\n\u001b[0;32m     88\u001b[0m     \u001b[1;32mif\u001b[0m \u001b[0msys\u001b[0m\u001b[1;33m.\u001b[0m\u001b[0mplatform\u001b[0m \u001b[1;33m==\u001b[0m \u001b[1;34m\"win32\"\u001b[0m\u001b[1;33m:\u001b[0m\u001b[1;33m\u001b[0m\u001b[1;33m\u001b[0m\u001b[0m\n",
      "\u001b[1;32m~\\.conda\\envs\\PGM\\lib\\site-packages\\joblib\\externals\\loky\\backend\\resource_tracker.py\u001b[0m in \u001b[0;36mensure_running\u001b[1;34m(self)\u001b[0m\n\u001b[0;32m     81\u001b[0m             \u001b[1;32mif\u001b[0m \u001b[0mself\u001b[0m\u001b[1;33m.\u001b[0m\u001b[0m_fd\u001b[0m \u001b[1;32mis\u001b[0m \u001b[1;32mnot\u001b[0m \u001b[1;32mNone\u001b[0m\u001b[1;33m:\u001b[0m\u001b[1;33m\u001b[0m\u001b[1;33m\u001b[0m\u001b[0m\n\u001b[0;32m     82\u001b[0m                 \u001b[1;31m# resource tracker was launched before, is it still running?\u001b[0m\u001b[1;33m\u001b[0m\u001b[1;33m\u001b[0m\u001b[1;33m\u001b[0m\u001b[0m\n\u001b[1;32m---> 83\u001b[1;33m                 \u001b[1;32mif\u001b[0m \u001b[0mself\u001b[0m\u001b[1;33m.\u001b[0m\u001b[0m_check_alive\u001b[0m\u001b[1;33m(\u001b[0m\u001b[1;33m)\u001b[0m\u001b[1;33m:\u001b[0m\u001b[1;33m\u001b[0m\u001b[1;33m\u001b[0m\u001b[0m\n\u001b[0m\u001b[0;32m     84\u001b[0m                     \u001b[1;31m# => still alive\u001b[0m\u001b[1;33m\u001b[0m\u001b[1;33m\u001b[0m\u001b[1;33m\u001b[0m\u001b[0m\n\u001b[0;32m     85\u001b[0m                     \u001b[1;32mreturn\u001b[0m\u001b[1;33m\u001b[0m\u001b[1;33m\u001b[0m\u001b[0m\n",
      "\u001b[1;32m~\\.conda\\envs\\PGM\\lib\\site-packages\\joblib\\externals\\loky\\backend\\resource_tracker.py\u001b[0m in \u001b[0;36m_check_alive\u001b[1;34m(self)\u001b[0m\n\u001b[0;32m    161\u001b[0m         \u001b[1;34m'''Check for the existence of the resource tracker process.'''\u001b[0m\u001b[1;33m\u001b[0m\u001b[1;33m\u001b[0m\u001b[0m\n\u001b[0;32m    162\u001b[0m         \u001b[1;32mtry\u001b[0m\u001b[1;33m:\u001b[0m\u001b[1;33m\u001b[0m\u001b[1;33m\u001b[0m\u001b[0m\n\u001b[1;32m--> 163\u001b[1;33m             \u001b[0mself\u001b[0m\u001b[1;33m.\u001b[0m\u001b[0m_send\u001b[0m\u001b[1;33m(\u001b[0m\u001b[1;34m'PROBE'\u001b[0m\u001b[1;33m,\u001b[0m \u001b[1;34m''\u001b[0m\u001b[1;33m,\u001b[0m \u001b[1;34m''\u001b[0m\u001b[1;33m)\u001b[0m\u001b[1;33m\u001b[0m\u001b[1;33m\u001b[0m\u001b[0m\n\u001b[0m\u001b[0;32m    164\u001b[0m         \u001b[1;32mexcept\u001b[0m \u001b[0mBrokenPipeError\u001b[0m\u001b[1;33m:\u001b[0m\u001b[1;33m\u001b[0m\u001b[1;33m\u001b[0m\u001b[0m\n\u001b[0;32m    165\u001b[0m             \u001b[1;32mreturn\u001b[0m \u001b[1;32mFalse\u001b[0m\u001b[1;33m\u001b[0m\u001b[1;33m\u001b[0m\u001b[0m\n",
      "\u001b[1;32m~\\.conda\\envs\\PGM\\lib\\site-packages\\joblib\\externals\\loky\\backend\\resource_tracker.py\u001b[0m in \u001b[0;36m_send\u001b[1;34m(self, cmd, name, rtype)\u001b[0m\n\u001b[0;32m    183\u001b[0m             \u001b[1;31m# bytes are atomic, and that PIPE_BUF >= 512\u001b[0m\u001b[1;33m\u001b[0m\u001b[1;33m\u001b[0m\u001b[1;33m\u001b[0m\u001b[0m\n\u001b[0;32m    184\u001b[0m             \u001b[1;32mraise\u001b[0m \u001b[0mValueError\u001b[0m\u001b[1;33m(\u001b[0m\u001b[1;34m'name too long'\u001b[0m\u001b[1;33m)\u001b[0m\u001b[1;33m\u001b[0m\u001b[1;33m\u001b[0m\u001b[0m\n\u001b[1;32m--> 185\u001b[1;33m         \u001b[0mnbytes\u001b[0m \u001b[1;33m=\u001b[0m \u001b[0mos\u001b[0m\u001b[1;33m.\u001b[0m\u001b[0mwrite\u001b[0m\u001b[1;33m(\u001b[0m\u001b[0mself\u001b[0m\u001b[1;33m.\u001b[0m\u001b[0m_fd\u001b[0m\u001b[1;33m,\u001b[0m \u001b[0mmsg\u001b[0m\u001b[1;33m)\u001b[0m\u001b[1;33m\u001b[0m\u001b[1;33m\u001b[0m\u001b[0m\n\u001b[0m\u001b[0;32m    186\u001b[0m         \u001b[1;32massert\u001b[0m \u001b[0mnbytes\u001b[0m \u001b[1;33m==\u001b[0m \u001b[0mlen\u001b[0m\u001b[1;33m(\u001b[0m\u001b[0mmsg\u001b[0m\u001b[1;33m)\u001b[0m\u001b[1;33m\u001b[0m\u001b[1;33m\u001b[0m\u001b[0m\n\u001b[0;32m    187\u001b[0m \u001b[1;33m\u001b[0m\u001b[0m\n",
      "\u001b[1;31mOSError\u001b[0m: [Errno 22] Invalid argument"
     ]
    }
   ],
   "source": [
    "columns_to_drop = ['O3_P_1', 'O3_T_1']\n",
    "X_test = complete_t_test.drop(columns=columns_to_drop)\n",
    "y_test_cont = y_complete_continue_t[complete_t_test.index]\n",
    "\n",
    "y_pred = hc_bdeu_temporal_model.predict(X_test)"
   ]
  },
  {
   "cell_type": "code",
   "execution_count": 118,
   "metadata": {},
   "outputs": [
    {
     "data": {
      "text/plain": [
       "8.667050739957721"
      ]
     },
     "execution_count": 118,
     "metadata": {},
     "output_type": "execute_result"
    }
   ],
   "source": [
    "mean_imeca_diff(y_pred['O3_P_1'], y_train_cont)"
   ]
  },
  {
   "cell_type": "markdown",
   "metadata": {},
   "source": [
    "### 2 horas en el tiempo"
   ]
  },
  {
   "cell_type": "code",
   "execution_count": 119,
   "metadata": {},
   "outputs": [
    {
     "data": {
      "text/plain": [
       "Int64Index([292,  59, 435, 520, 533, 581, 160, 113, 503, 403,\n",
       "            ...\n",
       "            163, 124, 341, 314,  24, 513,  87, 249,  80, 394],\n",
       "           dtype='int64', length=215)"
      ]
     },
     "execution_count": 119,
     "metadata": {},
     "output_type": "execute_result"
    }
   ],
   "source": [
    "complete_t_test.index"
   ]
  },
  {
   "cell_type": "code",
   "execution_count": 113,
   "metadata": {},
   "outputs": [
    {
     "name": "stderr",
     "output_type": "stream",
     "text": [
      "100%|████████████████████████████████████████████████████████████████████████████████| 430/430 [02:49<00:00,  2.53it/s]\n",
      "100%|████████████████████████████████████████████████████████████████████████████████| 430/430 [02:50<00:00,  2.53it/s]\n"
     ]
    }
   ],
   "source": [
    "n = 2\n",
    "columns_to_drop = ['O3_P_1', 'O3_T_1']\n",
    "\n",
    "X_test = complete_t_test.drop(columns=columns_to_drop)\n",
    "X = X_test.copy()\n",
    "\n",
    "y_test_cont = y_complete_continue_t[complete_t_test.index]\n",
    "\n",
    "for i in range(n):\n",
    "    y_pred = hc_bdeu_temporal_model.predict(X_test)\n",
    "    \n",
    "    for node in variable_names:\n",
    "        if not node in ['O3_P_1', 'O3_T_1']\n",
    "            X[node+'_0'] = X[node+'_1']\n",
    "            \n",
    "    X['O3_P_0'] = y_pred['O3_P_1']\n",
    "    X['O3_T_0'] = y_pred['O3_T_1']\n",
    "    \n",
    "    X_test = test.drop(columns=['O3_P_1'])"
   ]
  },
  {
   "cell_type": "markdown",
   "metadata": {},
   "source": [
    "# Chow-Liu"
   ]
  },
  {
   "cell_type": "code",
   "execution_count": 9,
   "metadata": {},
   "outputs": [],
   "source": [
    "from pomegranate import BayesianNetwork"
   ]
  },
  {
   "cell_type": "code",
   "execution_count": 10,
   "metadata": {},
   "outputs": [
    {
     "name": "stdout",
     "output_type": "stream",
     "text": [
      "peak memory: 152.79 MiB, increment: 11.52 MiB\n",
      "Wall time: 1.39 s\n"
     ]
    }
   ],
   "source": [
    "%time %memit pomegranate_tree = BayesianNetwork.from_samples(complete_train, algorithm='chow-liu', root=14, \\\n",
    "                                                             state_names=list(complete_train), max_parents=1)\n",
    "\n",
    "pomegranate_tree.bake()"
   ]
  },
  {
   "cell_type": "code",
   "execution_count": 11,
   "metadata": {},
   "outputs": [
    {
     "data": {
      "image/png": "[encoded data removed]",
      "text/plain": [
       "<Figure size 432x288 with 1 Axes>"
      ]
     },
     "metadata": {},
     "output_type": "display_data"
    }
   ],
   "source": [
    "plot_pomegranate_bn_nx(pomegranate_tree, node_size=100, node_color='pink')"
   ]
  },
  {
   "cell_type": "code",
   "execution_count": null,
   "metadata": {},
   "outputs": [],
   "source": [
    "complete_train_missing_O3_P = complete_train.copy()\n",
    "complete_train_missing_O3_P.loc[:, 'O3_P_0'] = np.NaN\n",
    "\n",
    "# nan_vec = np.array([[np.NaN]*X_complete_train.shape[0]]).T\n",
    "# unpred = np.concatenate((X_complete_train.to_numpy(), nan_vec), axis=1)\n",
    "\n",
    "%time %memit complete_train_predicted = np.array(pomegranate_tree.predict(complete_train_missing_O3_P.to_numpy()))"
   ]
  },
  {
   "cell_type": "code",
   "execution_count": null,
   "metadata": {},
   "outputs": [],
   "source": [
    "y_pred_train = complete_train_predicted[:, 14]"
   ]
  },
  {
   "cell_type": "code",
   "execution_count": null,
   "metadata": {},
   "outputs": [],
   "source": [
    "mean_imeca_diff(y_pred_train, y_complete_continue_train)"
   ]
  },
  {
   "cell_type": "code",
   "execution_count": null,
   "metadata": {},
   "outputs": [],
   "source": [
    "print(pomegranate_tree.structure)\n",
    "print(list(complete_data)[32])\n",
    "print(list(complete_data)[0])"
   ]
  },
  {
   "cell_type": "code",
   "execution_count": 12,
   "metadata": {},
   "outputs": [],
   "source": [
    "from pgmpy.models import BayesianModel\n",
    "\n",
    "def pomegranate_to_pmg(pomegranate_model, variable_names):\n",
    "    out = BayesianModel()\n",
    "    edges = []\n",
    "    \n",
    "    for i, parents in enumerate(pomegranate_model.structure):\n",
    "        for p in parents:\n",
    "            if p:\n",
    "                edges.append((variable_names[p], variable_names[i]))\n",
    "    \n",
    "    out.add_nodes_from(variable_names)\n",
    "    out.add_edges_from(edges)\n",
    "    return out"
   ]
  },
  {
   "cell_type": "code",
   "execution_count": 13,
   "metadata": {},
   "outputs": [],
   "source": [
    "pgmpy_tree_model = pomegranate_to_pmg(pomegranate_tree, list(complete_data))"
   ]
  },
  {
   "cell_type": "code",
   "execution_count": 18,
   "metadata": {},
   "outputs": [],
   "source": [
    "from pgmpy.estimators import BayesianEstimator\n",
    "\n",
    "pgmpy_tree_model.fit(complete_data, estimator=BayesianEstimator, prior_type=\"BDeu\")  # default equivalent_sample_size=5"
   ]
  },
  {
   "cell_type": "code",
   "execution_count": 19,
   "metadata": {},
   "outputs": [
    {
     "name": "stderr",
     "output_type": "stream",
     "text": [
      "100%|████████████████████████████████████████████████████████████████████████████████| 430/430 [01:39<00:00,  4.31it/s]\n"
     ]
    },
    {
     "name": "stdout",
     "output_type": "stream",
     "text": [
      "peak memory: 208.02 MiB, increment: 5.00 MiB\n",
      "Wall time: 1min 43s\n"
     ]
    }
   ],
   "source": [
    "%time %memit y_pred_pgmpy_tree = pgmpy_tree_model.predict(X_complete_train)"
   ]
  },
  {
   "cell_type": "code",
   "execution_count": 24,
   "metadata": {},
   "outputs": [
    {
     "data": {
      "text/plain": [
       "8.151279069767453"
      ]
     },
     "execution_count": 24,
     "metadata": {},
     "output_type": "execute_result"
    }
   ],
   "source": [
    "mean_imeca_diff(y_pred_pgmpy_tree['O3_P_0'], y_complete_continue_train)"
   ]
  },
  {
   "cell_type": "code",
   "execution_count": null,
   "metadata": {},
   "outputs": [],
   "source": []
  }
 ],
 "metadata": {
  "kernelspec": {
   "display_name": "PGM",
   "language": "python",
   "name": "pgm"
  },
  "language_info": {
   "codemirror_mode": {
    "name": "ipython",
    "version": 3
   },
   "file_extension": ".py",
   "mimetype": "text/x-python",
   "name": "python",
   "nbconvert_exporter": "python",
   "pygments_lexer": "ipython3",
   "version": "3.7.7"
  }
 },
 "nbformat": 4,
 "nbformat_minor": 4
}
