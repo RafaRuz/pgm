{
 "cells": [
  {
   "cell_type": "markdown",
   "metadata": {},
   "source": [
    "# Importación de módulos generales"
   ]
  },
  {
   "cell_type": "code",
   "execution_count": 1,
   "metadata": {
    "scrolled": true
   },
   "outputs": [
    {
     "name": "stdout",
     "output_type": "stream",
     "text": [
      "Populating the interactive namespace from numpy and matplotlib\n"
     ]
    }
   ],
   "source": [
    "%pylab inline\n",
    "%load_ext memory_profiler\n",
    "\n",
    "# %pylab\n",
    "\n",
    "import os\n",
    "import tempfile\n",
    "import pandas as pd\n",
    "# import numpy as np\n",
    "import networkx as nx\n",
    "# import matplotlib\n",
    "# import pylab  as plt\n",
    "import pygraphviz\n",
    "\n",
    "from pomegranate import BayesianNetwork\n",
    "\n",
    "from sklearn.metrics import classification_report, accuracy_score, confusion_matrix\n",
    "from sklearn.model_selection import train_test_split"
   ]
  },
  {
   "cell_type": "markdown",
   "metadata": {},
   "source": [
    "# Funciones auxiliares visualización"
   ]
  },
  {
   "cell_type": "markdown",
   "metadata": {},
   "source": [
    "Importamos las funciones auxiliares para visualizar redes que hemos definido:\n",
    "- **plot_pomegranate_bn_nx**(pgm, layout=None, node_size=2000, node_color='pink')\n",
    "- **plot_pomegranate_bn_pgvz**(pgm, filename=None, prog='dot', color='red')\n",
    "- **plot_pgm_bn**(pgm, layout=None, node_size=2000, node_color='pink'):"
   ]
  },
  {
   "cell_type": "code",
   "execution_count": 2,
   "metadata": {},
   "outputs": [],
   "source": [
    "from funciones_auxiliares import *"
   ]
  },
  {
   "cell_type": "markdown",
   "metadata": {},
   "source": [
    "# Lectura de datos"
   ]
  },
  {
   "cell_type": "markdown",
   "metadata": {},
   "source": [
    "Podemos obtener los datos originales de TODO."
   ]
  },
  {
   "cell_type": "code",
   "execution_count": 3,
   "metadata": {
    "scrolled": true
   },
   "outputs": [
    {
     "data": {
      "text/html": [
       "<div>\n",
       "<style scoped>\n",
       "    .dataframe tbody tr th:only-of-type {\n",
       "        vertical-align: middle;\n",
       "    }\n",
       "\n",
       "    .dataframe tbody tr th {\n",
       "        vertical-align: top;\n",
       "    }\n",
       "\n",
       "    .dataframe thead th {\n",
       "        text-align: right;\n",
       "    }\n",
       "</style>\n",
       "<table border=\"1\" class=\"dataframe\">\n",
       "  <thead>\n",
       "    <tr style=\"text-align: right;\">\n",
       "      <th></th>\n",
       "      <th>amount</th>\n",
       "      <th>hour1</th>\n",
       "      <th>state1</th>\n",
       "      <th>zip1</th>\n",
       "      <th>field1</th>\n",
       "      <th>domain1</th>\n",
       "      <th>field2</th>\n",
       "      <th>hour2</th>\n",
       "      <th>flag1</th>\n",
       "      <th>total</th>\n",
       "      <th>field3</th>\n",
       "      <th>field4</th>\n",
       "      <th>field5</th>\n",
       "      <th>indicator1</th>\n",
       "      <th>indicator2</th>\n",
       "      <th>flag2</th>\n",
       "      <th>flag3</th>\n",
       "      <th>flag4</th>\n",
       "      <th>flag5</th>\n",
       "    </tr>\n",
       "  </thead>\n",
       "  <tbody>\n",
       "    <tr>\n",
       "      <th>0</th>\n",
       "      <td>12.95</td>\n",
       "      <td>0</td>\n",
       "      <td>CA</td>\n",
       "      <td>925</td>\n",
       "      <td>3</td>\n",
       "      <td>AOL.COM</td>\n",
       "      <td>1</td>\n",
       "      <td>0</td>\n",
       "      <td>1</td>\n",
       "      <td>12.95</td>\n",
       "      <td>-4276</td>\n",
       "      <td>7</td>\n",
       "      <td>0</td>\n",
       "      <td>1</td>\n",
       "      <td>0</td>\n",
       "      <td>1</td>\n",
       "      <td>1</td>\n",
       "      <td>0</td>\n",
       "      <td>1</td>\n",
       "    </tr>\n",
       "    <tr>\n",
       "      <th>1</th>\n",
       "      <td>11.01</td>\n",
       "      <td>0</td>\n",
       "      <td>CA</td>\n",
       "      <td>925</td>\n",
       "      <td>3</td>\n",
       "      <td>AOL.COM</td>\n",
       "      <td>1</td>\n",
       "      <td>0</td>\n",
       "      <td>1</td>\n",
       "      <td>11.01</td>\n",
       "      <td>-4276</td>\n",
       "      <td>7</td>\n",
       "      <td>0</td>\n",
       "      <td>1</td>\n",
       "      <td>0</td>\n",
       "      <td>1</td>\n",
       "      <td>1</td>\n",
       "      <td>0</td>\n",
       "      <td>1</td>\n",
       "    </tr>\n",
       "    <tr>\n",
       "      <th>2</th>\n",
       "      <td>38.85</td>\n",
       "      <td>0</td>\n",
       "      <td>CA</td>\n",
       "      <td>928</td>\n",
       "      <td>3</td>\n",
       "      <td>HOTMAIL.COM</td>\n",
       "      <td>1</td>\n",
       "      <td>0</td>\n",
       "      <td>0</td>\n",
       "      <td>38.85</td>\n",
       "      <td>2602</td>\n",
       "      <td>21</td>\n",
       "      <td>1</td>\n",
       "      <td>0</td>\n",
       "      <td>0</td>\n",
       "      <td>0</td>\n",
       "      <td>0</td>\n",
       "      <td>0</td>\n",
       "      <td>1</td>\n",
       "    </tr>\n",
       "    <tr>\n",
       "      <th>3</th>\n",
       "      <td>25.90</td>\n",
       "      <td>0</td>\n",
       "      <td>NJ</td>\n",
       "      <td>77</td>\n",
       "      <td>0</td>\n",
       "      <td>AOL.COM</td>\n",
       "      <td>1</td>\n",
       "      <td>0</td>\n",
       "      <td>0</td>\n",
       "      <td>25.90</td>\n",
       "      <td>4139</td>\n",
       "      <td>6</td>\n",
       "      <td>0</td>\n",
       "      <td>0</td>\n",
       "      <td>0</td>\n",
       "      <td>1</td>\n",
       "      <td>1</td>\n",
       "      <td>0</td>\n",
       "      <td>1</td>\n",
       "    </tr>\n",
       "    <tr>\n",
       "      <th>4</th>\n",
       "      <td>12.95</td>\n",
       "      <td>0</td>\n",
       "      <td>CA</td>\n",
       "      <td>945</td>\n",
       "      <td>3</td>\n",
       "      <td>YAHOO.COM</td>\n",
       "      <td>0</td>\n",
       "      <td>0</td>\n",
       "      <td>1</td>\n",
       "      <td>12.95</td>\n",
       "      <td>3826</td>\n",
       "      <td>9</td>\n",
       "      <td>1</td>\n",
       "      <td>0</td>\n",
       "      <td>0</td>\n",
       "      <td>1</td>\n",
       "      <td>0</td>\n",
       "      <td>0</td>\n",
       "      <td>1</td>\n",
       "    </tr>\n",
       "  </tbody>\n",
       "</table>\n",
       "</div>"
      ],
      "text/plain": [
       "   amount  hour1 state1  zip1  field1      domain1  field2  hour2  flag1  \\\n",
       "0   12.95      0     CA   925       3      AOL.COM       1      0      1   \n",
       "1   11.01      0     CA   925       3      AOL.COM       1      0      1   \n",
       "2   38.85      0     CA   928       3  HOTMAIL.COM       1      0      0   \n",
       "3   25.90      0     NJ    77       0      AOL.COM       1      0      0   \n",
       "4   12.95      0     CA   945       3    YAHOO.COM       0      0      1   \n",
       "\n",
       "   total  field3  field4  field5  indicator1  indicator2  flag2  flag3  flag4  \\\n",
       "0  12.95   -4276       7       0           1           0      1      1      0   \n",
       "1  11.01   -4276       7       0           1           0      1      1      0   \n",
       "2  38.85    2602      21       1           0           0      0      0      0   \n",
       "3  25.90    4139       6       0           0           0      1      1      0   \n",
       "4  12.95    3826       9       1           0           0      1      0      0   \n",
       "\n",
       "   flag5  \n",
       "0      1  \n",
       "1      1  \n",
       "2      1  \n",
       "3      1  \n",
       "4      1  "
      ]
     },
     "execution_count": 3,
     "metadata": {},
     "output_type": "execute_result"
    }
   ],
   "source": [
    "X = pd.read_csv(\"data/fraud_detection/ucsd/DataminingContest2009.Task1.Train.Inputs\")\n",
    "y = pd.read_csv(\"data/fraud_detection/ucsd/DataminingContest2009.Task1.Train.Targets\", header=None)\n",
    "y.columns = ['target']\n",
    "data = pd.merge(X, y, left_index=True, right_index=True)\n",
    "X.head()"
   ]
  },
  {
   "cell_type": "markdown",
   "metadata": {},
   "source": [
    "Vemos si hay valores nulos:"
   ]
  },
  {
   "cell_type": "code",
   "execution_count": 4,
   "metadata": {},
   "outputs": [
    {
     "name": "stdout",
     "output_type": "stream",
     "text": [
      "amount        0\n",
      "hour1         0\n",
      "state1        0\n",
      "zip1          0\n",
      "field1        0\n",
      "domain1       1\n",
      "field2        0\n",
      "hour2         0\n",
      "flag1         0\n",
      "total         0\n",
      "field3        0\n",
      "field4        0\n",
      "field5        0\n",
      "indicator1    0\n",
      "indicator2    0\n",
      "flag2         0\n",
      "flag3         0\n",
      "flag4         0\n",
      "flag5         0\n",
      "dtype: int64\n"
     ]
    }
   ],
   "source": [
    "print(X.isnull().sum())"
   ]
  },
  {
   "cell_type": "markdown",
   "metadata": {},
   "source": [
    "Encontramos el índice del valor nulo"
   ]
  },
  {
   "cell_type": "code",
   "execution_count": 5,
   "metadata": {},
   "outputs": [
    {
     "data": {
      "text/plain": [
       "70382"
      ]
     },
     "execution_count": 5,
     "metadata": {},
     "output_type": "execute_result"
    }
   ],
   "source": [
    "null_index = X['domain1'].isnull().idxmax()\n",
    "null_index"
   ]
  },
  {
   "cell_type": "markdown",
   "metadata": {},
   "source": [
    "Lo eliminamos tanto de X como de y:"
   ]
  },
  {
   "cell_type": "code",
   "execution_count": 6,
   "metadata": {},
   "outputs": [],
   "source": [
    "X.dropna(inplace=True)\n",
    "y.drop(null_index, inplace=True)\n",
    "complete_data = data.dropna()"
   ]
  },
  {
   "cell_type": "markdown",
   "metadata": {},
   "source": [
    "Vemos el número de valores únicos de cada variable"
   ]
  },
  {
   "cell_type": "code",
   "execution_count": 7,
   "metadata": {},
   "outputs": [
    {
     "name": "stdout",
     "output_type": "stream",
     "text": [
      "amount: 88\n",
      "hour1: 24\n",
      "state1: 53\n",
      "zip1: 899\n",
      "field1: 5\n",
      "domain1: 9809\n",
      "field2: 2\n",
      "hour2: 24\n",
      "flag1: 2\n",
      "total: 88\n",
      "field3: 15786\n",
      "field4: 38\n",
      "field5: 25\n",
      "indicator1: 2\n",
      "indicator2: 2\n",
      "flag2: 2\n",
      "flag3: 2\n",
      "flag4: 2\n",
      "flag5: 36\n"
     ]
    }
   ],
   "source": [
    "for col in list(X):\n",
    "    print(\"{}: {}\".format(col, X[col].nunique()))"
   ]
  },
  {
   "cell_type": "markdown",
   "metadata": {},
   "source": [
    "Discretizamos las variables numéricas:"
   ]
  },
  {
   "cell_type": "code",
   "execution_count": 8,
   "metadata": {},
   "outputs": [
    {
     "data": {
      "text/html": [
       "<div>\n",
       "<style scoped>\n",
       "    .dataframe tbody tr th:only-of-type {\n",
       "        vertical-align: middle;\n",
       "    }\n",
       "\n",
       "    .dataframe tbody tr th {\n",
       "        vertical-align: top;\n",
       "    }\n",
       "\n",
       "    .dataframe thead th {\n",
       "        text-align: right;\n",
       "    }\n",
       "</style>\n",
       "<table border=\"1\" class=\"dataframe\">\n",
       "  <thead>\n",
       "    <tr style=\"text-align: right;\">\n",
       "      <th></th>\n",
       "      <th>amount</th>\n",
       "      <th>hour1</th>\n",
       "      <th>state1</th>\n",
       "      <th>zip1</th>\n",
       "      <th>field1</th>\n",
       "      <th>domain1</th>\n",
       "      <th>field2</th>\n",
       "      <th>hour2</th>\n",
       "      <th>flag1</th>\n",
       "      <th>total</th>\n",
       "      <th>field3</th>\n",
       "      <th>field4</th>\n",
       "      <th>field5</th>\n",
       "      <th>indicator1</th>\n",
       "      <th>indicator2</th>\n",
       "      <th>flag2</th>\n",
       "      <th>flag3</th>\n",
       "      <th>flag4</th>\n",
       "      <th>flag5</th>\n",
       "    </tr>\n",
       "  </thead>\n",
       "  <tbody>\n",
       "    <tr>\n",
       "      <th>0</th>\n",
       "      <td>(9.54, 14.31]</td>\n",
       "      <td>0</td>\n",
       "      <td>CA</td>\n",
       "      <td>925</td>\n",
       "      <td>3</td>\n",
       "      <td>AOL.COM</td>\n",
       "      <td>1</td>\n",
       "      <td>0</td>\n",
       "      <td>1</td>\n",
       "      <td>(9.54, 14.31]</td>\n",
       "      <td>(-4348.98, -3944.4]</td>\n",
       "      <td>7</td>\n",
       "      <td>0</td>\n",
       "      <td>1</td>\n",
       "      <td>0</td>\n",
       "      <td>1</td>\n",
       "      <td>1</td>\n",
       "      <td>0</td>\n",
       "      <td>1</td>\n",
       "    </tr>\n",
       "    <tr>\n",
       "      <th>1</th>\n",
       "      <td>(9.54, 14.31]</td>\n",
       "      <td>0</td>\n",
       "      <td>CA</td>\n",
       "      <td>925</td>\n",
       "      <td>3</td>\n",
       "      <td>AOL.COM</td>\n",
       "      <td>1</td>\n",
       "      <td>0</td>\n",
       "      <td>1</td>\n",
       "      <td>(9.54, 14.31]</td>\n",
       "      <td>(-4348.98, -3944.4]</td>\n",
       "      <td>7</td>\n",
       "      <td>0</td>\n",
       "      <td>1</td>\n",
       "      <td>0</td>\n",
       "      <td>1</td>\n",
       "      <td>1</td>\n",
       "      <td>0</td>\n",
       "      <td>1</td>\n",
       "    </tr>\n",
       "    <tr>\n",
       "      <th>2</th>\n",
       "      <td>(38.16, 42.93]</td>\n",
       "      <td>0</td>\n",
       "      <td>CA</td>\n",
       "      <td>928</td>\n",
       "      <td>3</td>\n",
       "      <td>HOTMAIL.COM</td>\n",
       "      <td>1</td>\n",
       "      <td>0</td>\n",
       "      <td>0</td>\n",
       "      <td>(38.16, 42.93]</td>\n",
       "      <td>(2528.88, 2933.46]</td>\n",
       "      <td>21</td>\n",
       "      <td>1</td>\n",
       "      <td>0</td>\n",
       "      <td>0</td>\n",
       "      <td>0</td>\n",
       "      <td>0</td>\n",
       "      <td>0</td>\n",
       "      <td>1</td>\n",
       "    </tr>\n",
       "    <tr>\n",
       "      <th>3</th>\n",
       "      <td>(23.85, 28.62]</td>\n",
       "      <td>0</td>\n",
       "      <td>NJ</td>\n",
       "      <td>77</td>\n",
       "      <td>0</td>\n",
       "      <td>AOL.COM</td>\n",
       "      <td>1</td>\n",
       "      <td>0</td>\n",
       "      <td>0</td>\n",
       "      <td>(23.85, 28.62]</td>\n",
       "      <td>(3742.62, 4147.2]</td>\n",
       "      <td>6</td>\n",
       "      <td>0</td>\n",
       "      <td>0</td>\n",
       "      <td>0</td>\n",
       "      <td>1</td>\n",
       "      <td>1</td>\n",
       "      <td>0</td>\n",
       "      <td>1</td>\n",
       "    </tr>\n",
       "    <tr>\n",
       "      <th>4</th>\n",
       "      <td>(9.54, 14.31]</td>\n",
       "      <td>0</td>\n",
       "      <td>CA</td>\n",
       "      <td>945</td>\n",
       "      <td>3</td>\n",
       "      <td>YAHOO.COM</td>\n",
       "      <td>0</td>\n",
       "      <td>0</td>\n",
       "      <td>1</td>\n",
       "      <td>(9.54, 14.31]</td>\n",
       "      <td>(3742.62, 4147.2]</td>\n",
       "      <td>9</td>\n",
       "      <td>1</td>\n",
       "      <td>0</td>\n",
       "      <td>0</td>\n",
       "      <td>1</td>\n",
       "      <td>0</td>\n",
       "      <td>0</td>\n",
       "      <td>1</td>\n",
       "    </tr>\n",
       "  </tbody>\n",
       "</table>\n",
       "</div>"
      ],
      "text/plain": [
       "           amount  hour1 state1  zip1  field1      domain1  field2  hour2  \\\n",
       "0   (9.54, 14.31]      0     CA   925       3      AOL.COM       1      0   \n",
       "1   (9.54, 14.31]      0     CA   925       3      AOL.COM       1      0   \n",
       "2  (38.16, 42.93]      0     CA   928       3  HOTMAIL.COM       1      0   \n",
       "3  (23.85, 28.62]      0     NJ    77       0      AOL.COM       1      0   \n",
       "4   (9.54, 14.31]      0     CA   945       3    YAHOO.COM       0      0   \n",
       "\n",
       "   flag1           total               field3  field4  field5  indicator1  \\\n",
       "0      1   (9.54, 14.31]  (-4348.98, -3944.4]       7       0           1   \n",
       "1      1   (9.54, 14.31]  (-4348.98, -3944.4]       7       0           1   \n",
       "2      0  (38.16, 42.93]   (2528.88, 2933.46]      21       1           0   \n",
       "3      0  (23.85, 28.62]    (3742.62, 4147.2]       6       0           0   \n",
       "4      1   (9.54, 14.31]    (3742.62, 4147.2]       9       1           0   \n",
       "\n",
       "   indicator2  flag2  flag3  flag4  flag5  \n",
       "0           0      1      1      0      1  \n",
       "1           0      1      1      0      1  \n",
       "2           0      0      0      0      1  \n",
       "3           0      1      1      0      1  \n",
       "4           0      1      0      0      1  "
      ]
     },
     "execution_count": 8,
     "metadata": {},
     "output_type": "execute_result"
    }
   ],
   "source": [
    "columns_to_discretize = ['amount', 'total', 'field3']\n",
    "num_bins=[20,20,100]\n",
    "\n",
    "for col,n in zip(columns_to_discretize, num_bins):\n",
    "    X[col] = pd.cut(X[col], bins=n)\n",
    "    \n",
    "X.head()"
   ]
  },
  {
   "cell_type": "markdown",
   "metadata": {},
   "source": [
    "Dividimos los datos en conjunto de entrenamiento y validación"
   ]
  },
  {
   "cell_type": "code",
   "execution_count": 9,
   "metadata": {
    "scrolled": true
   },
   "outputs": [
    {
     "name": "stdout",
     "output_type": "stream",
     "text": [
      "Particiones obtenidas sobre los datos iniciales:\n",
      "X_train:  (63120, 19)\n",
      "y_train:  (63120, 1)\n",
      "X_test:   (31561, 19)\n",
      "y_test:   (31561, 1)\n",
      "\n",
      "Particiones obtenidas sobre los datos con los registros completos:\n",
      "X_complete_train:  (63120, 19)\n",
      "y_complete_train:  (63120, 1)\n",
      "X_complete_test:   (31561, 19)\n",
      "y_complete_test:   (31561, 1)\n"
     ]
    }
   ],
   "source": [
    "X_complete = X\n",
    "y_complete = y\n",
    "\n",
    "X_train, X_test, y_train, y_test = train_test_split(X, y, test_size=1/3)\n",
    "X_complete_train, X_complete_test, y_complete_train, y_complete_test = train_test_split(X_complete, y_complete, test_size=1/3)\n",
    "\n",
    "print(\"Particiones obtenidas sobre los datos iniciales:\")\n",
    "print(\"X_train: \", X_train.shape)\n",
    "print(\"y_train: \", y_train.shape)\n",
    "print(\"X_test:  \", X_test.shape)\n",
    "print(\"y_test:  \", y_test.shape)\n",
    "print(\"\\nParticiones obtenidas sobre los datos con los registros completos:\")\n",
    "print(\"X_complete_train: \", X_complete_train.shape)\n",
    "print(\"y_complete_train: \", y_complete_train.shape)\n",
    "print(\"X_complete_test:  \", X_complete_test.shape)\n",
    "print(\"y_complete_test:  \", y_complete_test.shape)"
   ]
  },
  {
   "cell_type": "markdown",
   "metadata": {},
   "source": [
    "# Algoritmos de aprendizaje"
   ]
  },
  {
   "cell_type": "markdown",
   "metadata": {},
   "source": [
    "### Chow-Liu"
   ]
  },
  {
   "cell_type": "markdown",
   "metadata": {},
   "source": [
    "Aplicamos el algoritmo de Chow-Liu para aprender una estructura de árbol:"
   ]
  },
  {
   "cell_type": "code",
   "execution_count": null,
   "metadata": {},
   "outputs": [],
   "source": [
    "# %time %memit pomegranate_tree = BayesianNetwork.from_samples(complete_data, algorithm='chow-liu', root=19, \\\n",
    "#                                                              state_names=list(data))\n",
    "%time %memit pomegranate_tree = BayesianNetwork.from_samples(complete_data, algorithm='chow-liu', root=19, \\\n",
    "                                                             state_names=list(data), max_parents=1)\n",
    "\n",
    "pomegranate_tree.bake()"
   ]
  },
  {
   "cell_type": "markdown",
   "metadata": {},
   "source": [
    "Visualizamos el árbol resultante:"
   ]
  },
  {
   "cell_type": "code",
   "execution_count": null,
   "metadata": {
    "scrolled": false
   },
   "outputs": [],
   "source": [
    "plot_pomegranate_bn_nx(pomegranate_tree, node_size=1000, node_color='pink')"
   ]
  },
  {
   "cell_type": "markdown",
   "metadata": {},
   "source": [
    "Podemos hacer inferencia, predeciendo la variabel *Outcome* para los registros de entrenamiento:"
   ]
  },
  {
   "cell_type": "code",
   "execution_count": null,
   "metadata": {
    "scrolled": true
   },
   "outputs": [],
   "source": [
    "nan_vec = np.array([[np.NaN]*X_complete_train.shape[0]]).T\n",
    "complete_train_uknown_outcome = np.concatenate((X_complete_train.to_numpy(),nan_vec), axis=1)\n",
    "\n",
    "%time %memit y_pred_train = np.array(pomegranate_tree.predict(complete_train_uknown_outcome))[:,19]"
   ]
  },
  {
   "cell_type": "code",
   "execution_count": null,
   "metadata": {},
   "outputs": [],
   "source": [
    "print(classification_report(list(y_pred_train), list(y_complete_train)))\n",
    "print(accuracy_score(list(y_pred_train), list(y_complete_train)))"
   ]
  },
  {
   "cell_type": "markdown",
   "metadata": {},
   "source": [
    "O sobre el dataset dejado en la partición para validación:"
   ]
  },
  {
   "cell_type": "code",
   "execution_count": null,
   "metadata": {},
   "outputs": [],
   "source": [
    "nan_vec = np.array([[np.NaN]*X_complete_test.shape[0]]).T\n",
    "complete_data_matrix_uknown_outcome = np.concatenate((X_complete_test.to_numpy(),nan_vec), axis=1)\n",
    "\n",
    "%time %memit y_pred = np.array(pomegranate_tree.predict(complete_data_matrix_uknown_outcome))[:,19]"
   ]
  },
  {
   "cell_type": "code",
   "execution_count": null,
   "metadata": {
    "scrolled": true
   },
   "outputs": [],
   "source": [
    "print(classification_report(list(y_pred), list(y_complete_test)))\n",
    "print(accuracy_score(list(y_pred), list(y_complete_test)))"
   ]
  },
  {
   "cell_type": "markdown",
   "metadata": {},
   "source": [
    "# Comparación Chow-Liu vs Greedy vs Exact"
   ]
  },
  {
   "cell_type": "code",
   "execution_count": null,
   "metadata": {},
   "outputs": [],
   "source": [
    "%time %memit chow_liu_model = BayesianNetwork.from_samples(complete_data, algorithm='chow-liu', root=19, \\\n",
    "                                                             state_names=list(data))\n",
    "%time %memit greedy_model = BayesianNetwork.from_samples(data, algorithm='greedy', state_names=list(data))\n",
    "%time %memit exact_model = BayesianNetwork.from_samples(data, algorithm='exact', state_names=list(data))\n",
    "\n",
    "chow_liu_model.bake()\n",
    "greedy_model.bake()\n",
    "exact_model.bake()"
   ]
  },
  {
   "cell_type": "code",
   "execution_count": null,
   "metadata": {
    "scrolled": true
   },
   "outputs": [],
   "source": [
    "plot_pomegranate_bn_nx(chow_liu_model, node_size=1000, node_color='pink')\n",
    "plot_pomegranate_bn_nx(greedy_model, node_size=1000, node_color='pink')\n",
    "plot_pomegranate_bn_nx(exact_model, layout=nx.planar_layout, node_size=1000, node_color='pink')"
   ]
  },
  {
   "cell_type": "code",
   "execution_count": null,
   "metadata": {},
   "outputs": [],
   "source": [
    "nan_vec = np.array([[np.NaN]*X_complete_test.shape[0]]).T\n",
    "complete_data_matrix_uknown_outcome = np.concatenate((X_complete_test.to_numpy(),nan_vec), axis=1)\n",
    "\n",
    "%time %memit y_pred_complete_chow_liu = np.array(chow_liu_model.predict(complete_data_matrix_uknown_outcome))[:,19]\n",
    "\n",
    "nan_vec = np.array([[np.NaN]*X_test.shape[0]]).T\n",
    "data_matrix_uknown_outcome = np.concatenate((X_test.to_numpy(),nan_vec), axis=1)\n",
    "\n",
    "# %time %memit y_pred_chow_liu = np.array(chow_liu_model.predict(data_matrix_uknown_outcome))[:,19]\n",
    "%time %memit y_pred_greedy = np.array(greedy_model.predict(data_matrix_uknown_outcome))[:,19]\n",
    "%time %memit y_pred_exact = np.array(exact_model.predict(data_matrix_uknown_outcome))[:,19]"
   ]
  },
  {
   "cell_type": "code",
   "execution_count": null,
   "metadata": {
    "scrolled": true
   },
   "outputs": [],
   "source": [
    "print(\"Chow-Liu:\\n\", classification_report(list(y_pred_complete_chow_liu), list(y_complete_test)))\n",
    "# print(classification_report(list(y_pred_chow_liu), list(y_test)))\n",
    "print(\"Greedy:\\n\", classification_report(list(y_pred_greedy), list(y_test)))\n",
    "print(\"Exact:\\n\", classification_report(list(y_pred_exact), list(y_test)))"
   ]
  }
 ],
 "metadata": {
  "kernelspec": {
   "display_name": "PGM",
   "language": "python",
   "name": "pgm"
  },
  "language_info": {
   "codemirror_mode": {
    "name": "ipython",
    "version": 3
   },
   "file_extension": ".py",
   "mimetype": "text/x-python",
   "name": "python",
   "nbconvert_exporter": "python",
   "pygments_lexer": "ipython3",
   "version": "3.7.7"
  }
 },
 "nbformat": 4,
 "nbformat_minor": 4
}
