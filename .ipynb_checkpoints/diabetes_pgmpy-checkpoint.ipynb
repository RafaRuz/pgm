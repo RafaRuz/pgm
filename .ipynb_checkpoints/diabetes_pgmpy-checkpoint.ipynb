{
 "cells": [
  {
   "cell_type": "markdown",
   "metadata": {},
   "source": [
    "# Importación de módulos generales"
   ]
  },
  {
   "cell_type": "code",
   "execution_count": 1,
   "metadata": {
    "scrolled": true
   },
   "outputs": [
    {
     "name": "stdout",
     "output_type": "stream",
     "text": [
      "Populating the interactive namespace from numpy and matplotlib\n"
     ]
    }
   ],
   "source": [
    "%pylab inline\n",
    "%load_ext memory_profiler\n",
    "\n",
    "# %pylab\n",
    "\n",
    "import os\n",
    "import tempfile\n",
    "import pandas as pd\n",
    "# import numpy as np\n",
    "import networkx as nx\n",
    "# import matplotlib\n",
    "# import pylab  as plt\n",
    "import pygraphviz\n",
    "\n",
    "from sklearn.metrics import classification_report, accuracy_score\n",
    "from sklearn.model_selection import train_test_split"
   ]
  },
  {
   "cell_type": "markdown",
   "metadata": {},
   "source": [
    "# Funciones auxiliares visualización"
   ]
  },
  {
   "cell_type": "markdown",
   "metadata": {},
   "source": [
    "Importamos las funciones auxiliares para visualizar redes que hemos definido:\n",
    "- **plot_pomegranate_bn_nx**(pgm, layout=None, node_size=2000, node_color='pink')\n",
    "- **plot_pomegranate_bn_pgvz**(pgm, filename=None, prog='dot', color='red')\n",
    "- **plot_pgm_bn**(pgm, layout=None, node_size=2000, node_color='pink'):"
   ]
  },
  {
   "cell_type": "code",
   "execution_count": 2,
   "metadata": {},
   "outputs": [],
   "source": [
    "from funciones_auxiliares import *"
   ]
  },
  {
   "cell_type": "markdown",
   "metadata": {},
   "source": [
    "# Lectura de datos"
   ]
  },
  {
   "cell_type": "markdown",
   "metadata": {},
   "source": [
    "Podemos obtener los datos originales de https://www.kaggle.com/uciml/pima-indians-diabetes-database."
   ]
  },
  {
   "cell_type": "code",
   "execution_count": 3,
   "metadata": {
    "scrolled": true
   },
   "outputs": [
    {
     "data": {
      "text/html": [
       "<div>\n",
       "<style scoped>\n",
       "    .dataframe tbody tr th:only-of-type {\n",
       "        vertical-align: middle;\n",
       "    }\n",
       "\n",
       "    .dataframe tbody tr th {\n",
       "        vertical-align: top;\n",
       "    }\n",
       "\n",
       "    .dataframe thead th {\n",
       "        text-align: right;\n",
       "    }\n",
       "</style>\n",
       "<table border=\"1\" class=\"dataframe\">\n",
       "  <thead>\n",
       "    <tr style=\"text-align: right;\">\n",
       "      <th></th>\n",
       "      <th>Pregnancies</th>\n",
       "      <th>Glucose</th>\n",
       "      <th>BloodPressure</th>\n",
       "      <th>SkinThickness</th>\n",
       "      <th>Insulin</th>\n",
       "      <th>BMI</th>\n",
       "      <th>DiabetesPedigreeFunction</th>\n",
       "      <th>Age</th>\n",
       "      <th>Outcome</th>\n",
       "    </tr>\n",
       "  </thead>\n",
       "  <tbody>\n",
       "    <tr>\n",
       "      <th>0</th>\n",
       "      <td>6</td>\n",
       "      <td>148</td>\n",
       "      <td>72</td>\n",
       "      <td>35</td>\n",
       "      <td>0</td>\n",
       "      <td>33.6</td>\n",
       "      <td>0.627</td>\n",
       "      <td>50</td>\n",
       "      <td>1</td>\n",
       "    </tr>\n",
       "    <tr>\n",
       "      <th>1</th>\n",
       "      <td>1</td>\n",
       "      <td>85</td>\n",
       "      <td>66</td>\n",
       "      <td>29</td>\n",
       "      <td>0</td>\n",
       "      <td>26.6</td>\n",
       "      <td>0.351</td>\n",
       "      <td>31</td>\n",
       "      <td>0</td>\n",
       "    </tr>\n",
       "    <tr>\n",
       "      <th>2</th>\n",
       "      <td>8</td>\n",
       "      <td>183</td>\n",
       "      <td>64</td>\n",
       "      <td>0</td>\n",
       "      <td>0</td>\n",
       "      <td>23.3</td>\n",
       "      <td>0.672</td>\n",
       "      <td>32</td>\n",
       "      <td>1</td>\n",
       "    </tr>\n",
       "    <tr>\n",
       "      <th>3</th>\n",
       "      <td>1</td>\n",
       "      <td>89</td>\n",
       "      <td>66</td>\n",
       "      <td>23</td>\n",
       "      <td>94</td>\n",
       "      <td>28.1</td>\n",
       "      <td>0.167</td>\n",
       "      <td>21</td>\n",
       "      <td>0</td>\n",
       "    </tr>\n",
       "    <tr>\n",
       "      <th>4</th>\n",
       "      <td>0</td>\n",
       "      <td>137</td>\n",
       "      <td>40</td>\n",
       "      <td>35</td>\n",
       "      <td>168</td>\n",
       "      <td>43.1</td>\n",
       "      <td>2.288</td>\n",
       "      <td>33</td>\n",
       "      <td>1</td>\n",
       "    </tr>\n",
       "  </tbody>\n",
       "</table>\n",
       "</div>"
      ],
      "text/plain": [
       "   Pregnancies  Glucose  BloodPressure  SkinThickness  Insulin   BMI  \\\n",
       "0            6      148             72             35        0  33.6   \n",
       "1            1       85             66             29        0  26.6   \n",
       "2            8      183             64              0        0  23.3   \n",
       "3            1       89             66             23       94  28.1   \n",
       "4            0      137             40             35      168  43.1   \n",
       "\n",
       "   DiabetesPedigreeFunction  Age  Outcome  \n",
       "0                     0.627   50        1  \n",
       "1                     0.351   31        0  \n",
       "2                     0.672   32        1  \n",
       "3                     0.167   21        0  \n",
       "4                     2.288   33        1  "
      ]
     },
     "execution_count": 3,
     "metadata": {},
     "output_type": "execute_result"
    }
   ],
   "source": [
    "data = pd.read_csv(\"data/diabetes/prima_indian_diabetes_dataset.csv\")\n",
    "data.head()"
   ]
  },
  {
   "cell_type": "markdown",
   "metadata": {},
   "source": [
    "Como podemos observar, hay valores nulos en ciertas variables, en este caso representados mediante el valor 0."
   ]
  },
  {
   "cell_type": "code",
   "execution_count": 4,
   "metadata": {
    "scrolled": false
   },
   "outputs": [
    {
     "name": "stdout",
     "output_type": "stream",
     "text": [
      "Valores nulos en cada variable:\n",
      " Pregnancies                   0\n",
      "Glucose                       5\n",
      "BloodPressure                35\n",
      "SkinThickness               227\n",
      "Insulin                     374\n",
      "BMI                          11\n",
      "DiabetesPedigreeFunction      0\n",
      "Age                           0\n",
      "Outcome                       0\n",
      "dtype: int64\n",
      "\n",
      "Número de registros completos:  392\n"
     ]
    }
   ],
   "source": [
    "data [['Glucose','BloodPressure','SkinThickness','Insulin','BMI']] = data[['Glucose','BloodPressure','SkinThickness','Insulin','BMI']].replace(0,np.NaN)\n",
    "print(\"Valores nulos en cada variable:\\n\", data.isnull().sum())\n",
    "\n",
    "print(\"\\nNúmero de registros completos: \", data.dropna().count()[0])"
   ]
  },
  {
   "cell_type": "markdown",
   "metadata": {},
   "source": [
    "Discretizamos las variables numéricas:"
   ]
  },
  {
   "cell_type": "code",
   "execution_count": 5,
   "metadata": {},
   "outputs": [
    {
     "data": {
      "text/html": [
       "<div>\n",
       "<style scoped>\n",
       "    .dataframe tbody tr th:only-of-type {\n",
       "        vertical-align: middle;\n",
       "    }\n",
       "\n",
       "    .dataframe tbody tr th {\n",
       "        vertical-align: top;\n",
       "    }\n",
       "\n",
       "    .dataframe thead th {\n",
       "        text-align: right;\n",
       "    }\n",
       "</style>\n",
       "<table border=\"1\" class=\"dataframe\">\n",
       "  <thead>\n",
       "    <tr style=\"text-align: right;\">\n",
       "      <th></th>\n",
       "      <th>Pregnancies</th>\n",
       "      <th>Glucose</th>\n",
       "      <th>BloodPressure</th>\n",
       "      <th>SkinThickness</th>\n",
       "      <th>Insulin</th>\n",
       "      <th>BMI</th>\n",
       "      <th>DiabetesPedigreeFunction</th>\n",
       "      <th>Age</th>\n",
       "      <th>Outcome</th>\n",
       "    </tr>\n",
       "  </thead>\n",
       "  <tbody>\n",
       "    <tr>\n",
       "      <th>0</th>\n",
       "      <td>6</td>\n",
       "      <td>(144.75, 152.5]</td>\n",
       "      <td>(68.1, 73.0]</td>\n",
       "      <td>(34.6, 39.2]</td>\n",
       "      <td>NaN</td>\n",
       "      <td>(32.87, 35.315]</td>\n",
       "      <td>(0.546, 0.664]</td>\n",
       "      <td>(48.0, 51.0]</td>\n",
       "      <td>1</td>\n",
       "    </tr>\n",
       "    <tr>\n",
       "      <th>1</th>\n",
       "      <td>1</td>\n",
       "      <td>(82.75, 90.5]</td>\n",
       "      <td>(63.2, 68.1]</td>\n",
       "      <td>(25.4, 30.0]</td>\n",
       "      <td>NaN</td>\n",
       "      <td>(25.535, 27.98]</td>\n",
       "      <td>(0.312, 0.429]</td>\n",
       "      <td>(30.0, 33.0]</td>\n",
       "      <td>0</td>\n",
       "    </tr>\n",
       "    <tr>\n",
       "      <th>2</th>\n",
       "      <td>8</td>\n",
       "      <td>(175.75, 183.5]</td>\n",
       "      <td>(63.2, 68.1]</td>\n",
       "      <td>NaN</td>\n",
       "      <td>NaN</td>\n",
       "      <td>(23.09, 25.535]</td>\n",
       "      <td>(0.664, 0.781]</td>\n",
       "      <td>(30.0, 33.0]</td>\n",
       "      <td>1</td>\n",
       "    </tr>\n",
       "    <tr>\n",
       "      <th>3</th>\n",
       "      <td>1</td>\n",
       "      <td>(82.75, 90.5]</td>\n",
       "      <td>(63.2, 68.1]</td>\n",
       "      <td>(20.8, 25.4]</td>\n",
       "      <td>(55.6, 97.2]</td>\n",
       "      <td>(27.98, 30.425]</td>\n",
       "      <td>(0.0757, 0.195]</td>\n",
       "      <td>(20.94, 24.0]</td>\n",
       "      <td>0</td>\n",
       "    </tr>\n",
       "    <tr>\n",
       "      <th>4</th>\n",
       "      <td>0</td>\n",
       "      <td>(129.25, 137.0]</td>\n",
       "      <td>(38.7, 43.6]</td>\n",
       "      <td>(34.6, 39.2]</td>\n",
       "      <td>(138.8, 180.4]</td>\n",
       "      <td>(42.65, 45.095]</td>\n",
       "      <td>(2.186, 2.303]</td>\n",
       "      <td>(30.0, 33.0]</td>\n",
       "      <td>1</td>\n",
       "    </tr>\n",
       "  </tbody>\n",
       "</table>\n",
       "</div>"
      ],
      "text/plain": [
       "   Pregnancies          Glucose BloodPressure SkinThickness         Insulin  \\\n",
       "0            6  (144.75, 152.5]  (68.1, 73.0]  (34.6, 39.2]             NaN   \n",
       "1            1    (82.75, 90.5]  (63.2, 68.1]  (25.4, 30.0]             NaN   \n",
       "2            8  (175.75, 183.5]  (63.2, 68.1]           NaN             NaN   \n",
       "3            1    (82.75, 90.5]  (63.2, 68.1]  (20.8, 25.4]    (55.6, 97.2]   \n",
       "4            0  (129.25, 137.0]  (38.7, 43.6]  (34.6, 39.2]  (138.8, 180.4]   \n",
       "\n",
       "               BMI DiabetesPedigreeFunction            Age  Outcome  \n",
       "0  (32.87, 35.315]           (0.546, 0.664]   (48.0, 51.0]        1  \n",
       "1  (25.535, 27.98]           (0.312, 0.429]   (30.0, 33.0]        0  \n",
       "2  (23.09, 25.535]           (0.664, 0.781]   (30.0, 33.0]        1  \n",
       "3  (27.98, 30.425]          (0.0757, 0.195]  (20.94, 24.0]        0  \n",
       "4  (42.65, 45.095]           (2.186, 2.303]   (30.0, 33.0]        1  "
      ]
     },
     "execution_count": 5,
     "metadata": {},
     "output_type": "execute_result"
    }
   ],
   "source": [
    "columns_to_discretize = ['Glucose', 'BloodPressure', 'SkinThickness', 'Insulin', 'BMI', 'DiabetesPedigreeFunction', 'Age']\n",
    "num_bins=20\n",
    "\n",
    "for col in columns_to_discretize:\n",
    "    data[col] = pd.cut(data[col], bins=num_bins)\n",
    "    \n",
    "# data.Glucose = pd.cut(data.Glucose, bins=10)\n",
    "data.head()"
   ]
  },
  {
   "cell_type": "markdown",
   "metadata": {},
   "source": [
    "Y separamos los registros completos(sin valores nulos) de los iniciales"
   ]
  },
  {
   "cell_type": "code",
   "execution_count": 6,
   "metadata": {},
   "outputs": [],
   "source": [
    "complete_data = data.dropna().reset_index(drop=True)"
   ]
  },
  {
   "cell_type": "markdown",
   "metadata": {},
   "source": [
    "Dividimos los datos en conjunto de entrenamiento y validación"
   ]
  },
  {
   "cell_type": "code",
   "execution_count": 7,
   "metadata": {},
   "outputs": [
    {
     "name": "stdout",
     "output_type": "stream",
     "text": [
      "Particiones obtenidas sobre los datos iniciales:\n",
      "X_train:  (512, 8)\n",
      "y_train:  (512,)\n",
      "X_test:   (256, 8)\n",
      "y_test:   (256,)\n",
      "\n",
      "Particiones obtenidas sobre los datos con los registros completos:\n",
      "X_complete_train:  (261, 8)\n",
      "y_complete_train:  (261,)\n",
      "X_complete_test:   (131, 8)\n",
      "y_complete_test:   (131,)\n"
     ]
    }
   ],
   "source": [
    "X = data.drop(columns=['Outcome'])\n",
    "y = data.Outcome\n",
    "\n",
    "X_complete = complete_data.drop(columns=['Outcome'])\n",
    "y_complete = complete_data.Outcome\n",
    "\n",
    "X_train, X_test, y_train, y_test = train_test_split(X, y, test_size=1/3)\n",
    "X_complete_train, X_complete_test, y_complete_train, y_complete_test = train_test_split(X_complete, y_complete, test_size=1/3)\n",
    "\n",
    "print(\"Particiones obtenidas sobre los datos iniciales:\")\n",
    "print(\"X_train: \", X_train.shape)\n",
    "print(\"y_train: \", y_train.shape)\n",
    "print(\"X_test:  \", X_test.shape)\n",
    "print(\"y_test:  \", y_test.shape)\n",
    "print(\"\\nParticiones obtenidas sobre los datos con los registros completos:\")\n",
    "print(\"X_complete_train: \", X_complete_train.shape)\n",
    "print(\"y_complete_train: \", y_complete_train.shape)\n",
    "print(\"X_complete_test:  \", X_complete_test.shape)\n",
    "print(\"y_complete_test:  \", y_complete_test.shape)"
   ]
  },
  {
   "cell_type": "markdown",
   "metadata": {},
   "source": [
    "# Algoritmos de búsqueda global"
   ]
  },
  {
   "cell_type": "code",
   "execution_count": 8,
   "metadata": {},
   "outputs": [],
   "source": [
    "from pgmpy.models import BayesianModel"
   ]
  },
  {
   "cell_type": "markdown",
   "metadata": {},
   "source": [
    "Definición de scores sobre el dataset:"
   ]
  },
  {
   "cell_type": "code",
   "execution_count": 9,
   "metadata": {},
   "outputs": [],
   "source": [
    "from pgmpy.estimators import BDeuScore, K2Score, BicScore\n",
    "\n",
    "bdeu = BDeuScore(complete_data, equivalent_sample_size=5)\n",
    "k2 = K2Score(complete_data)\n",
    "bic = BicScore(complete_data)"
   ]
  },
  {
   "cell_type": "markdown",
   "metadata": {},
   "source": [
    "Si quisieramos usar un algoritmo exacto, tendriamos que iterar sobre los $2^{N(N-1)}$ siendo N el número de nodos, es decir:"
   ]
  },
  {
   "cell_type": "code",
   "execution_count": 10,
   "metadata": {},
   "outputs": [
    {
     "name": "stdout",
     "output_type": "stream",
     "text": [
      "Número de DAGs posibles con N=9 ---> 4722366482869645213696\n"
     ]
    }
   ],
   "source": [
    "N=len(list(complete_data))\n",
    "print(\"Número de DAGs posibles con N={} ---> {}\".format(N, 2**(N*(N-1))))"
   ]
  },
  {
   "cell_type": "code",
   "execution_count": 11,
   "metadata": {},
   "outputs": [],
   "source": [
    "# from pgmpy.estimators import ExhaustiveSearch\n",
    "\n",
    "# # Definición algoritmos de búsqueda exactos con cada score\n",
    "# es_bic = ExhaustiveSearch(complete_data, scoring_method=bic)\n",
    "# es_k2 = ExhaustiveSearch(complete_data, scoring_method=k2)\n",
    "# es_bdeu = ExhaustiveSearch(complete_data, scoring_method=bdeu)\n",
    "\n",
    "# # Aprendizaje de las redes\n",
    "# print(\"Exhaustive search BIC:\")\n",
    "# %time %memit es_bic_structure = es_bic.estimate()\n",
    "# print(\"Exhaustive search K2:\")\n",
    "# %time %memit es_k2_structurel = es_k2.estimate()\n",
    "# print(\"Exhaustive search BDeu:\")\n",
    "# %time %memit es_bdeu_structure = es_bdeu.estimate()"
   ]
  },
  {
   "cell_type": "markdown",
   "metadata": {},
   "source": [
    "Así que vamos a usar Hill Climb Search:"
   ]
  },
  {
   "cell_type": "code",
   "execution_count": 12,
   "metadata": {},
   "outputs": [
    {
     "name": "stdout",
     "output_type": "stream",
     "text": [
      "Hill Climb Search BIC:\n",
      "peak memory: 194.43 MiB, increment: 9.89 MiB\n",
      "Wall time: 27.7 s\n",
      "\n",
      "Hill Climb Search K2:\n",
      "peak memory: 220.45 MiB, increment: 26.03 MiB\n",
      "Wall time: 2min 18s\n",
      "\n",
      "Hill Climb Search BDeu:\n",
      "peak memory: 224.02 MiB, increment: 4.57 MiB\n",
      "Wall time: 27.6 s\n"
     ]
    }
   ],
   "source": [
    "from pgmpy.estimators import HillClimbSearch\n",
    "\n",
    "hc_bic = HillClimbSearch(data, scoring_method=bic)\n",
    "hc_k2 = HillClimbSearch(data, scoring_method=k2)\n",
    "hc_bdeu = HillClimbSearch(data, scoring_method=bdeu)\n",
    "\n",
    "# Aprendizaje de las redes\n",
    "print(\"Hill Climb Search BIC:\")\n",
    "%time %memit hc_bic_structure = hc_bic.estimate()\n",
    "print(\"\\nHill Climb Search K2:\")\n",
    "%time %memit hc_k2_structure = hc_k2.estimate()\n",
    "print(\"\\nHill Climb Search BDeu:\")\n",
    "%time %memit hc_bdeu_structure = hc_bdeu.estimate()"
   ]
  },
  {
   "cell_type": "markdown",
   "metadata": {},
   "source": [
    "Visualizamos los modelos resultantes:"
   ]
  },
  {
   "cell_type": "code",
   "execution_count": 13,
   "metadata": {
    "scrolled": true
   },
   "outputs": [
    {
     "name": "stdout",
     "output_type": "stream",
     "text": [
      "Hill Climb Search BIC:\n"
     ]
    },
    {
     "data": {
      "image/png": "[encoded data removed]",
      "text/plain": [
       "<Figure size 432x288 with 1 Axes>"
      ]
     },
     "metadata": {},
     "output_type": "display_data"
    }
   ],
   "source": [
    "print(\"Hill Climb Search BIC:\")\n",
    "plot_pgmpy_bn(hc_bic_structure)"
   ]
  },
  {
   "cell_type": "code",
   "execution_count": 14,
   "metadata": {},
   "outputs": [
    {
     "name": "stdout",
     "output_type": "stream",
     "text": [
      "\n",
      "Hill Climb Search K2:\n"
     ]
    },
    {
     "data": {
      "image/png": "[encoded data removed]",
      "text/plain": [
       "<Figure size 432x288 with 1 Axes>"
      ]
     },
     "metadata": {},
     "output_type": "display_data"
    }
   ],
   "source": [
    "print(\"\\nHill Climb Search K2:\")\n",
    "plot_pgmpy_bn(hc_k2_structure)"
   ]
  },
  {
   "cell_type": "code",
   "execution_count": 15,
   "metadata": {},
   "outputs": [
    {
     "name": "stdout",
     "output_type": "stream",
     "text": [
      "\n",
      "Hill Climb Search BDeu:\n"
     ]
    },
    {
     "data": {
      "image/png": "[encoded data removed]",
      "text/plain": [
       "<Figure size 432x288 with 1 Axes>"
      ]
     },
     "metadata": {},
     "output_type": "display_data"
    }
   ],
   "source": [
    "print(\"\\nHill Climb Search BDeu:\")\n",
    "plot_pgmpy_bn(hc_bdeu_structure)"
   ]
  },
  {
   "cell_type": "markdown",
   "metadata": {},
   "source": [
    "A la hora de estimar, podemos indicar el número máximo de padres por variable. Por ejemplo, si exigimos que sea 1, aprenderemos estructuras de árbol y el aprendizaje será más rápido:"
   ]
  },
  {
   "cell_type": "code",
   "execution_count": 16,
   "metadata": {
    "scrolled": true
   },
   "outputs": [
    {
     "name": "stdout",
     "output_type": "stream",
     "text": [
      "Hill Climb Search BIC:\n",
      "peak memory: 229.42 MiB, increment: 0.00 MiB\n",
      "Wall time: 13.8 s\n",
      "\n",
      "Hill Climb Search K2:\n",
      "peak memory: 229.42 MiB, increment: 0.00 MiB\n",
      "Wall time: 17.9 s\n",
      "\n",
      "Hill Climb Search BDeu:\n",
      "peak memory: 229.35 MiB, increment: 0.00 MiB\n",
      "Wall time: 13.7 s\n"
     ]
    }
   ],
   "source": [
    "print(\"Hill Climb Search BIC:\")\n",
    "%time %memit hc_bic_tree = hc_bic.estimate(max_indegree=1)\n",
    "print(\"\\nHill Climb Search K2:\")\n",
    "%time %memit hc_k2_tree = hc_k2.estimate(max_indegree=1)\n",
    "print(\"\\nHill Climb Search BDeu:\")\n",
    "%time %memit hc_bdeu_tree = hc_bdeu.estimate(max_indegree=1)"
   ]
  },
  {
   "cell_type": "code",
   "execution_count": 17,
   "metadata": {},
   "outputs": [
    {
     "name": "stdout",
     "output_type": "stream",
     "text": [
      "Hill Climb Search BIC tree:\n"
     ]
    },
    {
     "data": {
      "image/png": "[encoded data removed]",
      "text/plain": [
       "<Figure size 432x288 with 1 Axes>"
      ]
     },
     "metadata": {},
     "output_type": "display_data"
    }
   ],
   "source": [
    "print(\"Hill Climb Search BIC tree:\")\n",
    "plot_pgmpy_bn(hc_bic_tree)"
   ]
  },
  {
   "cell_type": "code",
   "execution_count": 18,
   "metadata": {},
   "outputs": [
    {
     "name": "stdout",
     "output_type": "stream",
     "text": [
      "\n",
      "Hill Climb Search K2 tree:\n"
     ]
    },
    {
     "data": {
      "image/png": "[encoded data removed]",
      "text/plain": [
       "<Figure size 432x288 with 1 Axes>"
      ]
     },
     "metadata": {},
     "output_type": "display_data"
    }
   ],
   "source": [
    "print(\"\\nHill Climb Search K2 tree:\")\n",
    "plot_pgmpy_bn(hc_k2_tree)"
   ]
  },
  {
   "cell_type": "code",
   "execution_count": 19,
   "metadata": {
    "scrolled": true
   },
   "outputs": [
    {
     "name": "stdout",
     "output_type": "stream",
     "text": [
      "\n",
      "Hill Climb Search BDeu tree:\n"
     ]
    },
    {
     "data": {
      "image/png": "[encoded data removed]",
      "text/plain": [
       "<Figure size 432x288 with 1 Axes>"
      ]
     },
     "metadata": {},
     "output_type": "display_data"
    }
   ],
   "source": [
    "print(\"\\nHill Climb Search BDeu tree:\")\n",
    "plot_pgmpy_bn(hc_bdeu_tree)"
   ]
  },
  {
   "cell_type": "markdown",
   "metadata": {},
   "source": [
    "# Algoritmos locales mediante tests de independencia"
   ]
  },
  {
   "cell_type": "code",
   "execution_count": 20,
   "metadata": {},
   "outputs": [
    {
     "name": "stdout",
     "output_type": "stream",
     "text": [
      "Constraint Estimation:\n"
     ]
    },
    {
     "name": "stderr",
     "output_type": "stream",
     "text": [
      "C:\\Users\\usuario\\.conda\\envs\\PGM\\lib\\site-packages\\pgmpy\\estimators\\CITests.py:95: UserWarning: Insufficient data for testing Pregnancies _|_ Glucose | []. At least 1520.0 samples recommended, 768 present.\n",
      "  5 * num_params, len(data)\n",
      "C:\\Users\\usuario\\.conda\\envs\\PGM\\lib\\site-packages\\pgmpy\\estimators\\CITests.py:95: UserWarning: Insufficient data for testing Pregnancies _|_ BloodPressure | []. At least 1520.0 samples recommended, 768 present.\n",
      "  5 * num_params, len(data)\n",
      "C:\\Users\\usuario\\.conda\\envs\\PGM\\lib\\site-packages\\pgmpy\\estimators\\CITests.py:95: UserWarning: Insufficient data for testing Pregnancies _|_ SkinThickness | []. At least 1040.0 samples recommended, 768 present.\n",
      "  5 * num_params, len(data)\n",
      "C:\\Users\\usuario\\.conda\\envs\\PGM\\lib\\site-packages\\pgmpy\\estimators\\CITests.py:95: UserWarning: Insufficient data for testing Pregnancies _|_ Insulin | []. At least 1360.0 samples recommended, 768 present.\n",
      "  5 * num_params, len(data)\n",
      "C:\\Users\\usuario\\.conda\\envs\\PGM\\lib\\site-packages\\pgmpy\\estimators\\CITests.py:95: UserWarning: Insufficient data for testing Pregnancies _|_ BMI | []. At least 1360.0 samples recommended, 768 present.\n",
      "  5 * num_params, len(data)\n",
      "C:\\Users\\usuario\\.conda\\envs\\PGM\\lib\\site-packages\\pgmpy\\estimators\\CITests.py:95: UserWarning: Insufficient data for testing Pregnancies _|_ DiabetesPedigreeFunction | []. At least 1440.0 samples recommended, 768 present.\n",
      "  5 * num_params, len(data)\n",
      "C:\\Users\\usuario\\.conda\\envs\\PGM\\lib\\site-packages\\pgmpy\\estimators\\CITests.py:95: UserWarning: Insufficient data for testing Pregnancies _|_ Age | []. At least 1360.0 samples recommended, 768 present.\n",
      "  5 * num_params, len(data)\n",
      "C:\\Users\\usuario\\.conda\\envs\\PGM\\lib\\site-packages\\pgmpy\\estimators\\CITests.py:95: UserWarning: Insufficient data for testing Glucose _|_ BloodPressure | []. At least 1805.0 samples recommended, 768 present.\n",
      "  5 * num_params, len(data)\n",
      "C:\\Users\\usuario\\.conda\\envs\\PGM\\lib\\site-packages\\pgmpy\\estimators\\CITests.py:95: UserWarning: Insufficient data for testing Glucose _|_ SkinThickness | []. At least 1235.0 samples recommended, 768 present.\n",
      "  5 * num_params, len(data)\n",
      "C:\\Users\\usuario\\.conda\\envs\\PGM\\lib\\site-packages\\pgmpy\\estimators\\CITests.py:95: UserWarning: Insufficient data for testing Glucose _|_ Insulin | []. At least 1615.0 samples recommended, 768 present.\n",
      "  5 * num_params, len(data)\n",
      "C:\\Users\\usuario\\.conda\\envs\\PGM\\lib\\site-packages\\pgmpy\\estimators\\CITests.py:95: UserWarning: Insufficient data for testing Glucose _|_ BMI | []. At least 1615.0 samples recommended, 768 present.\n",
      "  5 * num_params, len(data)\n",
      "C:\\Users\\usuario\\.conda\\envs\\PGM\\lib\\site-packages\\pgmpy\\estimators\\CITests.py:95: UserWarning: Insufficient data for testing Glucose _|_ DiabetesPedigreeFunction | []. At least 1710.0 samples recommended, 768 present.\n",
      "  5 * num_params, len(data)\n",
      "C:\\Users\\usuario\\.conda\\envs\\PGM\\lib\\site-packages\\pgmpy\\estimators\\CITests.py:95: UserWarning: Insufficient data for testing Glucose _|_ Age | []. At least 1615.0 samples recommended, 768 present.\n",
      "  5 * num_params, len(data)\n",
      "C:\\Users\\usuario\\.conda\\envs\\PGM\\lib\\site-packages\\pgmpy\\estimators\\CITests.py:95: UserWarning: Insufficient data for testing BloodPressure _|_ SkinThickness | []. At least 1235.0 samples recommended, 768 present.\n",
      "  5 * num_params, len(data)\n",
      "C:\\Users\\usuario\\.conda\\envs\\PGM\\lib\\site-packages\\pgmpy\\estimators\\CITests.py:95: UserWarning: Insufficient data for testing BloodPressure _|_ Insulin | []. At least 1615.0 samples recommended, 768 present.\n",
      "  5 * num_params, len(data)\n",
      "C:\\Users\\usuario\\.conda\\envs\\PGM\\lib\\site-packages\\pgmpy\\estimators\\CITests.py:95: UserWarning: Insufficient data for testing BloodPressure _|_ BMI | []. At least 1615.0 samples recommended, 768 present.\n",
      "  5 * num_params, len(data)\n",
      "C:\\Users\\usuario\\.conda\\envs\\PGM\\lib\\site-packages\\pgmpy\\estimators\\CITests.py:95: UserWarning: Insufficient data for testing BloodPressure _|_ DiabetesPedigreeFunction | []. At least 1710.0 samples recommended, 768 present.\n",
      "  5 * num_params, len(data)\n",
      "C:\\Users\\usuario\\.conda\\envs\\PGM\\lib\\site-packages\\pgmpy\\estimators\\CITests.py:95: UserWarning: Insufficient data for testing BloodPressure _|_ Age | []. At least 1615.0 samples recommended, 768 present.\n",
      "  5 * num_params, len(data)\n",
      "C:\\Users\\usuario\\.conda\\envs\\PGM\\lib\\site-packages\\pgmpy\\estimators\\CITests.py:95: UserWarning: Insufficient data for testing SkinThickness _|_ Insulin | []. At least 1105.0 samples recommended, 768 present.\n",
      "  5 * num_params, len(data)\n",
      "C:\\Users\\usuario\\.conda\\envs\\PGM\\lib\\site-packages\\pgmpy\\estimators\\CITests.py:95: UserWarning: Insufficient data for testing SkinThickness _|_ BMI | []. At least 1105.0 samples recommended, 768 present.\n",
      "  5 * num_params, len(data)\n",
      "C:\\Users\\usuario\\.conda\\envs\\PGM\\lib\\site-packages\\pgmpy\\estimators\\CITests.py:95: UserWarning: Insufficient data for testing SkinThickness _|_ DiabetesPedigreeFunction | []. At least 1170.0 samples recommended, 768 present.\n",
      "  5 * num_params, len(data)\n",
      "C:\\Users\\usuario\\.conda\\envs\\PGM\\lib\\site-packages\\pgmpy\\estimators\\CITests.py:95: UserWarning: Insufficient data for testing SkinThickness _|_ Age | []. At least 1105.0 samples recommended, 768 present.\n",
      "  5 * num_params, len(data)\n",
      "C:\\Users\\usuario\\.conda\\envs\\PGM\\lib\\site-packages\\pgmpy\\estimators\\CITests.py:95: UserWarning: Insufficient data for testing Insulin _|_ Glucose | []. At least 1615.0 samples recommended, 768 present.\n",
      "  5 * num_params, len(data)\n",
      "C:\\Users\\usuario\\.conda\\envs\\PGM\\lib\\site-packages\\pgmpy\\estimators\\CITests.py:95: UserWarning: Insufficient data for testing Insulin _|_ BMI | []. At least 1445.0 samples recommended, 768 present.\n",
      "  5 * num_params, len(data)\n",
      "C:\\Users\\usuario\\.conda\\envs\\PGM\\lib\\site-packages\\pgmpy\\estimators\\CITests.py:95: UserWarning: Insufficient data for testing Insulin _|_ DiabetesPedigreeFunction | []. At least 1530.0 samples recommended, 768 present.\n",
      "  5 * num_params, len(data)\n",
      "C:\\Users\\usuario\\.conda\\envs\\PGM\\lib\\site-packages\\pgmpy\\estimators\\CITests.py:95: UserWarning: Insufficient data for testing Insulin _|_ Age | []. At least 1445.0 samples recommended, 768 present.\n",
      "  5 * num_params, len(data)\n",
      "C:\\Users\\usuario\\.conda\\envs\\PGM\\lib\\site-packages\\pgmpy\\estimators\\CITests.py:95: UserWarning: Insufficient data for testing BMI _|_ BloodPressure | []. At least 1615.0 samples recommended, 768 present.\n",
      "  5 * num_params, len(data)\n",
      "C:\\Users\\usuario\\.conda\\envs\\PGM\\lib\\site-packages\\pgmpy\\estimators\\CITests.py:95: UserWarning: Insufficient data for testing BMI _|_ SkinThickness | []. At least 1105.0 samples recommended, 768 present.\n",
      "  5 * num_params, len(data)\n",
      "C:\\Users\\usuario\\.conda\\envs\\PGM\\lib\\site-packages\\pgmpy\\estimators\\CITests.py:95: UserWarning: Insufficient data for testing BMI _|_ Insulin | []. At least 1445.0 samples recommended, 768 present.\n",
      "  5 * num_params, len(data)\n",
      "C:\\Users\\usuario\\.conda\\envs\\PGM\\lib\\site-packages\\pgmpy\\estimators\\CITests.py:95: UserWarning: Insufficient data for testing BMI _|_ DiabetesPedigreeFunction | []. At least 1530.0 samples recommended, 768 present.\n",
      "  5 * num_params, len(data)\n",
      "C:\\Users\\usuario\\.conda\\envs\\PGM\\lib\\site-packages\\pgmpy\\estimators\\CITests.py:95: UserWarning: Insufficient data for testing BMI _|_ Age | []. At least 1445.0 samples recommended, 768 present.\n",
      "  5 * num_params, len(data)\n",
      "C:\\Users\\usuario\\.conda\\envs\\PGM\\lib\\site-packages\\pgmpy\\estimators\\CITests.py:95: UserWarning: Insufficient data for testing DiabetesPedigreeFunction _|_ BloodPressure | []. At least 1710.0 samples recommended, 768 present.\n",
      "  5 * num_params, len(data)\n",
      "C:\\Users\\usuario\\.conda\\envs\\PGM\\lib\\site-packages\\pgmpy\\estimators\\CITests.py:95: UserWarning: Insufficient data for testing DiabetesPedigreeFunction _|_ SkinThickness | []. At least 1170.0 samples recommended, 768 present.\n",
      "  5 * num_params, len(data)\n",
      "C:\\Users\\usuario\\.conda\\envs\\PGM\\lib\\site-packages\\pgmpy\\estimators\\CITests.py:95: UserWarning: Insufficient data for testing DiabetesPedigreeFunction _|_ Insulin | []. At least 1530.0 samples recommended, 768 present.\n",
      "  5 * num_params, len(data)\n",
      "C:\\Users\\usuario\\.conda\\envs\\PGM\\lib\\site-packages\\pgmpy\\estimators\\CITests.py:95: UserWarning: Insufficient data for testing DiabetesPedigreeFunction _|_ BMI | []. At least 1530.0 samples recommended, 768 present.\n",
      "  5 * num_params, len(data)\n"
     ]
    },
    {
     "name": "stderr",
     "output_type": "stream",
     "text": [
      "C:\\Users\\usuario\\.conda\\envs\\PGM\\lib\\site-packages\\pgmpy\\estimators\\CITests.py:95: UserWarning: Insufficient data for testing DiabetesPedigreeFunction _|_ Age | []. At least 1530.0 samples recommended, 768 present.\n",
      "  5 * num_params, len(data)\n",
      "C:\\Users\\usuario\\.conda\\envs\\PGM\\lib\\site-packages\\pgmpy\\estimators\\CITests.py:95: UserWarning: Insufficient data for testing Age _|_ Pregnancies | []. At least 1360.0 samples recommended, 768 present.\n",
      "  5 * num_params, len(data)\n",
      "C:\\Users\\usuario\\.conda\\envs\\PGM\\lib\\site-packages\\pgmpy\\estimators\\CITests.py:95: UserWarning: Insufficient data for testing Age _|_ Glucose | []. At least 1615.0 samples recommended, 768 present.\n",
      "  5 * num_params, len(data)\n",
      "C:\\Users\\usuario\\.conda\\envs\\PGM\\lib\\site-packages\\pgmpy\\estimators\\CITests.py:95: UserWarning: Insufficient data for testing Age _|_ Insulin | []. At least 1445.0 samples recommended, 768 present.\n",
      "  5 * num_params, len(data)\n",
      "C:\\Users\\usuario\\.conda\\envs\\PGM\\lib\\site-packages\\pgmpy\\estimators\\CITests.py:95: UserWarning: Insufficient data for testing Pregnancies _|_ Age | ['Outcome']. At least 2720 samples recommended, 768 present.\n",
      "  5 * num_params, len(data)\n",
      "C:\\Users\\usuario\\.conda\\envs\\PGM\\lib\\site-packages\\pgmpy\\estimators\\CITests.py:95: UserWarning: Insufficient data for testing Pregnancies _|_ Outcome | ['Age']. At least 1440 samples recommended, 768 present.\n",
      "  5 * num_params, len(data)\n",
      "C:\\Users\\usuario\\.conda\\envs\\PGM\\lib\\site-packages\\pgmpy\\estimators\\CITests.py:95: UserWarning: Insufficient data for testing Glucose _|_ Insulin | ['Outcome']. At least 3230 samples recommended, 768 present.\n",
      "  5 * num_params, len(data)\n",
      "C:\\Users\\usuario\\.conda\\envs\\PGM\\lib\\site-packages\\pgmpy\\estimators\\CITests.py:95: UserWarning: Insufficient data for testing Glucose _|_ Insulin | ['Age']. At least 29070 samples recommended, 768 present.\n",
      "  5 * num_params, len(data)\n",
      "C:\\Users\\usuario\\.conda\\envs\\PGM\\lib\\site-packages\\pgmpy\\estimators\\CITests.py:95: UserWarning: Insufficient data for testing Glucose _|_ Age | ['Outcome']. At least 3230 samples recommended, 768 present.\n",
      "  5 * num_params, len(data)\n",
      "C:\\Users\\usuario\\.conda\\envs\\PGM\\lib\\site-packages\\pgmpy\\estimators\\CITests.py:95: UserWarning: Insufficient data for testing Glucose _|_ Age | ['Insulin']. At least 29070 samples recommended, 768 present.\n",
      "  5 * num_params, len(data)\n",
      "C:\\Users\\usuario\\.conda\\envs\\PGM\\lib\\site-packages\\pgmpy\\estimators\\CITests.py:95: UserWarning: Insufficient data for testing Glucose _|_ Outcome | ['Insulin']. At least 1710 samples recommended, 768 present.\n",
      "  5 * num_params, len(data)\n",
      "C:\\Users\\usuario\\.conda\\envs\\PGM\\lib\\site-packages\\pgmpy\\estimators\\CITests.py:95: UserWarning: Insufficient data for testing BloodPressure _|_ BMI | ['DiabetesPedigreeFunction']. At least 30685 samples recommended, 768 present.\n",
      "  5 * num_params, len(data)\n",
      "C:\\Users\\usuario\\.conda\\envs\\PGM\\lib\\site-packages\\pgmpy\\estimators\\CITests.py:95: UserWarning: Insufficient data for testing BloodPressure _|_ DiabetesPedigreeFunction | ['BMI']. At least 30780 samples recommended, 768 present.\n",
      "  5 * num_params, len(data)\n",
      "C:\\Users\\usuario\\.conda\\envs\\PGM\\lib\\site-packages\\pgmpy\\estimators\\CITests.py:95: UserWarning: Insufficient data for testing SkinThickness _|_ BMI | ['DiabetesPedigreeFunction']. At least 20995 samples recommended, 768 present.\n",
      "  5 * num_params, len(data)\n",
      "C:\\Users\\usuario\\.conda\\envs\\PGM\\lib\\site-packages\\pgmpy\\estimators\\CITests.py:95: UserWarning: Insufficient data for testing Insulin _|_ Glucose | ['DiabetesPedigreeFunction']. At least 30685 samples recommended, 768 present.\n",
      "  5 * num_params, len(data)\n",
      "C:\\Users\\usuario\\.conda\\envs\\PGM\\lib\\site-packages\\pgmpy\\estimators\\CITests.py:95: UserWarning: Insufficient data for testing Insulin _|_ BMI | ['DiabetesPedigreeFunction']. At least 27455 samples recommended, 768 present.\n",
      "  5 * num_params, len(data)\n",
      "C:\\Users\\usuario\\.conda\\envs\\PGM\\lib\\site-packages\\pgmpy\\estimators\\CITests.py:95: UserWarning: Insufficient data for testing Insulin _|_ DiabetesPedigreeFunction | ['Outcome']. At least 3060 samples recommended, 768 present.\n",
      "  5 * num_params, len(data)\n",
      "C:\\Users\\usuario\\.conda\\envs\\PGM\\lib\\site-packages\\pgmpy\\estimators\\CITests.py:95: UserWarning: Insufficient data for testing Insulin _|_ DiabetesPedigreeFunction | ['Age']. At least 27540 samples recommended, 768 present.\n",
      "  5 * num_params, len(data)\n",
      "C:\\Users\\usuario\\.conda\\envs\\PGM\\lib\\site-packages\\pgmpy\\estimators\\CITests.py:95: UserWarning: Insufficient data for testing Insulin _|_ Age | ['Outcome']. At least 2890 samples recommended, 768 present.\n",
      "  5 * num_params, len(data)\n",
      "C:\\Users\\usuario\\.conda\\envs\\PGM\\lib\\site-packages\\pgmpy\\estimators\\CITests.py:95: UserWarning: Insufficient data for testing BMI _|_ BloodPressure | ['DiabetesPedigreeFunction']. At least 30685 samples recommended, 768 present.\n",
      "  5 * num_params, len(data)\n",
      "C:\\Users\\usuario\\.conda\\envs\\PGM\\lib\\site-packages\\pgmpy\\estimators\\CITests.py:95: UserWarning: Insufficient data for testing BMI _|_ BloodPressure | ['Outcome']. At least 3230 samples recommended, 768 present.\n",
      "  5 * num_params, len(data)\n",
      "C:\\Users\\usuario\\.conda\\envs\\PGM\\lib\\site-packages\\pgmpy\\estimators\\CITests.py:95: UserWarning: Insufficient data for testing BMI _|_ DiabetesPedigreeFunction | ['BloodPressure']. At least 30600 samples recommended, 768 present.\n",
      "  5 * num_params, len(data)\n",
      "C:\\Users\\usuario\\.conda\\envs\\PGM\\lib\\site-packages\\pgmpy\\estimators\\CITests.py:95: UserWarning: Insufficient data for testing BMI _|_ Outcome | ['BloodPressure']. At least 1700 samples recommended, 768 present.\n",
      "  5 * num_params, len(data)\n",
      "C:\\Users\\usuario\\.conda\\envs\\PGM\\lib\\site-packages\\pgmpy\\estimators\\CITests.py:95: UserWarning: Insufficient data for testing Age _|_ Pregnancies | ['Outcome']. At least 2720 samples recommended, 768 present.\n",
      "  5 * num_params, len(data)\n",
      "C:\\Users\\usuario\\.conda\\envs\\PGM\\lib\\site-packages\\pgmpy\\estimators\\CITests.py:95: UserWarning: Insufficient data for testing Age _|_ Outcome | ['Pregnancies']. At least 1445 samples recommended, 768 present.\n",
      "  5 * num_params, len(data)\n"
     ]
    },
    {
     "name": "stdout",
     "output_type": "stream",
     "text": [
      "peak memory: 234.73 MiB, increment: 4.83 MiB\n",
      "Wall time: 2min 9s\n"
     ]
    }
   ],
   "source": [
    "from pgmpy.estimators import ConstraintBasedEstimator\n",
    "\n",
    "constraint_estimator = ConstraintBasedEstimator(data)\n",
    "\n",
    "print(\"Constraint Estimation:\")\n",
    "%time %memit constraint_structure = constraint_estimator.estimate(significance_level=0.01)"
   ]
  },
  {
   "cell_type": "code",
   "execution_count": 21,
   "metadata": {},
   "outputs": [
    {
     "name": "stdout",
     "output_type": "stream",
     "text": [
      "Constraint Estimation:\n"
     ]
    },
    {
     "data": {
      "image/png": "[encoded data removed]",
      "text/plain": [
       "<Figure size 432x288 with 1 Axes>"
      ]
     },
     "metadata": {},
     "output_type": "display_data"
    }
   ],
   "source": [
    "print(\"Constraint Estimation:\")\n",
    "plot_pgmpy_bn(constraint_structure)"
   ]
  },
  {
   "cell_type": "markdown",
   "metadata": {},
   "source": [
    "# Aprendizaje de parámetros"
   ]
  },
  {
   "cell_type": "markdown",
   "metadata": {},
   "source": [
    "Vamos a quedarnos, por ejemplo, con la red aprendida usando *Hill Climb Search* y como score *Bdeu*"
   ]
  },
  {
   "cell_type": "code",
   "execution_count": 41,
   "metadata": {},
   "outputs": [],
   "source": [
    "from pgmpy.models import BayesianModel\n",
    "\n",
    "hc_bdeu_model = BayesianModel()\n",
    "hc_bdeu_model.add_nodes_from(hc_bdeu_structure.nodes)\n",
    "hc_bdeu_model.add_edges_from(hc_bdeu_structure.edges)"
   ]
  },
  {
   "cell_type": "markdown",
   "metadata": {},
   "source": [
    "Podemos obtener el recuento de las apariciones de las distintas variables"
   ]
  },
  {
   "cell_type": "code",
   "execution_count": 44,
   "metadata": {},
   "outputs": [
    {
     "name": "stdout",
     "output_type": "stream",
     "text": [
      "Outcome          0   1\n",
      "Age                   \n",
      "(20.94, 24.0]  119  16\n",
      "(24.0, 27.0]    51  17\n",
      "(27.0, 30.0]    27  18\n",
      "(30.0, 33.0]    12  17\n",
      "(33.0, 36.0]    11  10\n",
      "(36.0, 39.0]    13   5\n",
      "(39.0, 42.0]     9   9\n",
      "(42.0, 45.0]     4  10\n",
      "(45.0, 48.0]     5   7\n",
      "(48.0, 51.0]     4   6\n",
      "(51.0, 54.0]     0   7\n",
      "(54.0, 57.0]     2   3\n",
      "(57.0, 60.0]     2   5\n",
      "(60.0, 63.0]     2   0\n",
      "(63.0, 66.0]     0   0\n",
      "(66.0, 69.0]     0   0\n",
      "(69.0, 72.0]     0   0\n",
      "(78.0, 81.0]     1   0\n"
     ]
    }
   ],
   "source": [
    "from pgmpy.estimators import ParameterEstimator\n",
    "\n",
    "pe = ParameterEstimator(hc_bdeu_model, data)\n",
    "print(pe.state_counts('Age'))"
   ]
  },
  {
   "cell_type": "markdown",
   "metadata": {},
   "source": [
    "O directamente las probabilidades usando un estimador máximo verosimil, que en este caso se corresponde a las frecuencias relativas"
   ]
  },
  {
   "cell_type": "code",
   "execution_count": 64,
   "metadata": {},
   "outputs": [
    {
     "name": "stdout",
     "output_type": "stream",
     "text": [
      "+--------------------+----------------------+----------------------+\n",
      "| Outcome            | Outcome(0)           | Outcome(1)           |\n",
      "+--------------------+----------------------+----------------------+\n",
      "| Age((20.94, 24.0]) | 0.4541984732824427   | 0.12307692307692308  |\n",
      "+--------------------+----------------------+----------------------+\n",
      "| Age((24.0, 27.0])  | 0.1946564885496183   | 0.13076923076923078  |\n",
      "+--------------------+----------------------+----------------------+\n",
      "| Age((27.0, 30.0])  | 0.10305343511450382  | 0.13846153846153847  |\n",
      "+--------------------+----------------------+----------------------+\n",
      "| Age((30.0, 33.0])  | 0.04580152671755725  | 0.13076923076923078  |\n",
      "+--------------------+----------------------+----------------------+\n",
      "| Age((33.0, 36.0])  | 0.04198473282442748  | 0.07692307692307693  |\n",
      "+--------------------+----------------------+----------------------+\n",
      "| Age((36.0, 39.0])  | 0.04961832061068702  | 0.038461538461538464 |\n",
      "+--------------------+----------------------+----------------------+\n",
      "| Age((39.0, 42.0])  | 0.03435114503816794  | 0.06923076923076923  |\n",
      "+--------------------+----------------------+----------------------+\n",
      "| Age((42.0, 45.0])  | 0.015267175572519083 | 0.07692307692307693  |\n",
      "+--------------------+----------------------+----------------------+\n",
      "| Age((45.0, 48.0])  | 0.019083969465648856 | 0.05384615384615385  |\n",
      "+--------------------+----------------------+----------------------+\n",
      "| Age((48.0, 51.0])  | 0.015267175572519083 | 0.046153846153846156 |\n",
      "+--------------------+----------------------+----------------------+\n",
      "| Age((51.0, 54.0])  | 0.0                  | 0.05384615384615385  |\n",
      "+--------------------+----------------------+----------------------+\n",
      "| Age((54.0, 57.0])  | 0.007633587786259542 | 0.023076923076923078 |\n",
      "+--------------------+----------------------+----------------------+\n",
      "| Age((57.0, 60.0])  | 0.007633587786259542 | 0.038461538461538464 |\n",
      "+--------------------+----------------------+----------------------+\n",
      "| Age((60.0, 63.0])  | 0.007633587786259542 | 0.0                  |\n",
      "+--------------------+----------------------+----------------------+\n",
      "| Age((63.0, 66.0])  | 0.0                  | 0.0                  |\n",
      "+--------------------+----------------------+----------------------+\n",
      "| Age((66.0, 69.0])  | 0.0                  | 0.0                  |\n",
      "+--------------------+----------------------+----------------------+\n",
      "| Age((69.0, 72.0])  | 0.0                  | 0.0                  |\n",
      "+--------------------+----------------------+----------------------+\n",
      "| Age((78.0, 81.0])  | 0.003816793893129771 | 0.0                  |\n",
      "+--------------------+----------------------+----------------------+\n"
     ]
    }
   ],
   "source": [
    "from pgmpy.estimators import MaximumLikelihoodEstimator\n",
    "mle = MaximumLikelihoodEstimator(hc_bdeu_model, data)\n",
    "print(mle.estimate_cpd('Age')) "
   ]
  },
  {
   "cell_type": "markdown",
   "metadata": {},
   "source": [
    "Para obtener todas las TPC a la vez:"
   ]
  },
  {
   "cell_type": "code",
   "execution_count": 54,
   "metadata": {
    "scrolled": true
   },
   "outputs": [
    {
     "name": "stderr",
     "output_type": "stream",
     "text": [
      "WARNING:root:Replacing existing CPD for Age\n",
      "WARNING:root:Replacing existing CPD for BMI\n",
      "WARNING:root:Replacing existing CPD for BloodPressure\n",
      "WARNING:root:Replacing existing CPD for DiabetesPedigreeFunction\n",
      "WARNING:root:Replacing existing CPD for Glucose\n",
      "WARNING:root:Replacing existing CPD for Insulin\n",
      "WARNING:root:Replacing existing CPD for Outcome\n",
      "WARNING:root:Replacing existing CPD for Pregnancies\n",
      "WARNING:root:Replacing existing CPD for SkinThickness\n"
     ]
    }
   ],
   "source": [
    "hc_bdeu_model.fit(data, estimator=MaximumLikelihoodEstimator)"
   ]
  },
  {
   "cell_type": "markdown",
   "metadata": {},
   "source": [
    "Podemos usar estimadores bayesianos, suponiendo una distribucióna  priori:"
   ]
  },
  {
   "cell_type": "code",
   "execution_count": 66,
   "metadata": {
    "scrolled": true
   },
   "outputs": [
    {
     "name": "stderr",
     "output_type": "stream",
     "text": [
      "WARNING:root:Replacing existing CPD for Pregnancies\n"
     ]
    },
    {
     "name": "stdout",
     "output_type": "stream",
     "text": [
      "+--------------------+-----------------------+-----------------------+\n",
      "| Outcome            | Outcome(0)            | Outcome(1)            |\n",
      "+--------------------+-----------------------+-----------------------+\n",
      "| Age((20.94, 24.0]) | 0.4467332501040368    | 0.12057613168724288   |\n",
      "+--------------------+-----------------------+-----------------------+\n",
      "| Age((24.0, 27.0])  | 0.1920516021639618    | 0.1279835390946503    |\n",
      "+--------------------+-----------------------+-----------------------+\n",
      "| Age((27.0, 30.0])  | 0.10216396171452356   | 0.1353909465020577    |\n",
      "+--------------------+-----------------------+-----------------------+\n",
      "| Age((30.0, 33.0])  | 0.04598418643362466   | 0.1279835390946503    |\n",
      "+--------------------+-----------------------+-----------------------+\n",
      "| Age((33.0, 36.0])  | 0.04223886808156473   | 0.07613168724279841   |\n",
      "+--------------------+-----------------------+-----------------------+\n",
      "| Age((36.0, 39.0])  | 0.04972950478568459   | 0.03909465020576134   |\n",
      "+--------------------+-----------------------+-----------------------+\n",
      "| Age((39.0, 42.0])  | 0.03474823137744488   | 0.06872427983539099   |\n",
      "+--------------------+-----------------------+-----------------------+\n",
      "| Age((42.0, 45.0])  | 0.016021639617145242  | 0.07613168724279841   |\n",
      "+--------------------+-----------------------+-----------------------+\n",
      "| Age((45.0, 48.0])  | 0.01976695796920517   | 0.05390946502057616   |\n",
      "+--------------------+-----------------------+-----------------------+\n",
      "| Age((48.0, 51.0])  | 0.016021639617145242  | 0.04650205761316875   |\n",
      "+--------------------+-----------------------+-----------------------+\n",
      "| Age((51.0, 54.0])  | 0.0010403662089055353 | 0.05390946502057616   |\n",
      "+--------------------+-----------------------+-----------------------+\n",
      "| Age((54.0, 57.0])  | 0.008531002913025389  | 0.024279835390946518  |\n",
      "+--------------------+-----------------------+-----------------------+\n",
      "| Age((57.0, 60.0])  | 0.008531002913025389  | 0.03909465020576134   |\n",
      "+--------------------+-----------------------+-----------------------+\n",
      "| Age((60.0, 63.0])  | 0.008531002913025389  | 0.0020576131687242813 |\n",
      "+--------------------+-----------------------+-----------------------+\n",
      "| Age((63.0, 66.0])  | 0.0010403662089055353 | 0.0020576131687242813 |\n",
      "+--------------------+-----------------------+-----------------------+\n",
      "| Age((66.0, 69.0])  | 0.0010403662089055353 | 0.0020576131687242813 |\n",
      "+--------------------+-----------------------+-----------------------+\n",
      "| Age((69.0, 72.0])  | 0.0010403662089055353 | 0.0020576131687242813 |\n",
      "+--------------------+-----------------------+-----------------------+\n",
      "| Age((78.0, 81.0])  | 0.004785684560965462  | 0.0020576131687242813 |\n",
      "+--------------------+-----------------------+-----------------------+\n"
     ]
    },
    {
     "name": "stderr",
     "output_type": "stream",
     "text": [
      "WARNING:root:Replacing existing CPD for Glucose\n",
      "WARNING:root:Replacing existing CPD for BloodPressure\n",
      "WARNING:root:Replacing existing CPD for SkinThickness\n",
      "WARNING:root:Replacing existing CPD for Insulin\n",
      "WARNING:root:Replacing existing CPD for BMI\n",
      "WARNING:root:Replacing existing CPD for DiabetesPedigreeFunction\n",
      "WARNING:root:Replacing existing CPD for Age\n",
      "WARNING:root:Replacing existing CPD for Outcome\n"
     ]
    }
   ],
   "source": [
    "from pgmpy.estimators import BayesianEstimator\n",
    "\n",
    "est = BayesianEstimator(hc_bdeu_model, data)\n",
    "print(est.estimate_cpd('Age', prior_type='BDeu', equivalent_sample_size=10))\n",
    "\n",
    "hc_bdeu_model.fit(data, estimator=BayesianEstimator, prior_type=\"BDeu\") # default equivalent_sample_size=5"
   ]
  },
  {
   "cell_type": "markdown",
   "metadata": {},
   "source": [
    "Vemos como las probabilidades que antes eran 0 ahora no lo son"
   ]
  },
  {
   "cell_type": "markdown",
   "metadata": {},
   "source": [
    "# Comparación accuracy distintas estructuras"
   ]
  },
  {
   "cell_type": "markdown",
   "metadata": {},
   "source": [
    "Creamos los modelos a partir de las estructuras:"
   ]
  },
  {
   "cell_type": "code",
   "execution_count": 69,
   "metadata": {},
   "outputs": [],
   "source": [
    "from pgmpy.models import BayesianModel\n",
    "\n",
    "hc_bdeu_model = BayesianModel()\n",
    "hc_bdeu_model.add_nodes_from(hc_bdeu_structure.nodes)\n",
    "hc_bdeu_model.add_edges_from(hc_bdeu_structure.edges)\n",
    "\n",
    "hc_k2_model = BayesianModel()\n",
    "hc_k2_model.add_nodes_from(hc_k2_structure.nodes)\n",
    "hc_k2_model.add_edges_from(hc_k2_structure.edges)\n",
    "\n",
    "hc_bic_model = BayesianModel()\n",
    "hc_bic_model.add_nodes_from(hc_bic_structure.nodes)\n",
    "hc_bic_model.add_edges_from(hc_bic_structure.edges)\n",
    "\n",
    "constraint_model = BayesianModel()\n",
    "constraint_model.add_nodes_from(constraint_structure.nodes)\n",
    "constraint_model.add_edges_from(constraint_structure.edges)"
   ]
  },
  {
   "cell_type": "markdown",
   "metadata": {},
   "source": [
    "Estimamos los parámetros usando un estimador bayesiano con priori uniforme:"
   ]
  },
  {
   "cell_type": "code",
   "execution_count": 70,
   "metadata": {},
   "outputs": [],
   "source": [
    "from pgmpy.estimators import BayesianEstimator\n",
    "\n",
    "hc_bdeu_model.fit(data, estimator=BayesianEstimator, prior_type=\"BDeu\")\n",
    "hc_k2_model.fit(data, estimator=BayesianEstimator, prior_type=\"BDeu\")\n",
    "hc_bic_model.fit(data, estimator=BayesianEstimator, prior_type=\"BDeu\")\n",
    "constraint_model.fit(data, estimator=BayesianEstimator, prior_type=\"BDeu\")"
   ]
  },
  {
   "cell_type": "markdown",
   "metadata": {},
   "source": [
    "Preparamos la inferencia con eliminación de variables:"
   ]
  },
  {
   "cell_type": "code",
   "execution_count": 71,
   "metadata": {},
   "outputs": [],
   "source": [
    "from pgmpy.inference import VariableElimination\n",
    "\n",
    "hc_bdeu_inference = VariableElimination(hc_bdeu_model)\n",
    "hc_k2_inference = VariableElimination(hc_k2_model)\n",
    "hc_bic_inference = VariableElimination(hc_bic_model)\n",
    "constraint_inference = VariableElimination(constraint_model)"
   ]
  },
  {
   "cell_type": "markdown",
   "metadata": {},
   "source": [
    "Ejecutamos la inferencia:"
   ]
  },
  {
   "cell_type": "code",
   "execution_count": 96,
   "metadata": {},
   "outputs": [
    {
     "name": "stderr",
     "output_type": "stream",
     "text": [
      "Finding Elimination Order: : : 0it [00:00, ?it/s]\n",
      "0it [00:00, ?it/s]\n",
      "Finding Elimination Order: : : 0it [00:00, ?it/s]\n",
      "0it [00:00, ?it/s]\n",
      "Finding Elimination Order: : : 0it [00:00, ?it/s]\n",
      "0it [00:00, ?it/s]\n",
      "Finding Elimination Order: : : 0it [00:00, ?it/s]\n",
      "0it [00:00, ?it/s]\n",
      "Finding Elimination Order: : : 0it [00:00, ?it/s]\n",
      "0it [00:00, ?it/s]\n",
      "Finding Elimination Order: : : 0it [00:00, ?it/s]\n",
      "0it [00:00, ?it/s]\n",
      "Finding Elimination Order: : : 0it [00:00, ?it/s]\n",
      "0it [00:00, ?it/s]\n",
      "Finding Elimination Order: : : 0it [00:00, ?it/s]\n",
      "0it [00:00, ?it/s]\n",
      "Finding Elimination Order: : : 0it [00:00, ?it/s]\n",
      "0it [00:00, ?it/s]\n",
      "Finding Elimination Order: : : 0it [00:00, ?it/s]\n",
      "0it [00:00, ?it/s]\n",
      "Finding Elimination Order: : : 0it [00:00, ?it/s]\n",
      "0it [00:00, ?it/s]\n",
      "Finding Elimination Order: : : 0it [00:00, ?it/s]\n",
      "0it [00:00, ?it/s]\n",
      "Finding Elimination Order: : : 0it [00:00, ?it/s]\n",
      "0it [00:00, ?it/s]\n",
      "Finding Elimination Order: : : 0it [00:00, ?it/s]\n",
      "0it [00:00, ?it/s]\n",
      "Finding Elimination Order: : : 0it [00:00, ?it/s]\n",
      "0it [00:00, ?it/s]\n",
      "Finding Elimination Order: : : 0it [00:00, ?it/s]\n",
      "0it [00:00, ?it/s]\n",
      "Finding Elimination Order: : : 0it [00:00, ?it/s]\n",
      "0it [00:00, ?it/s]\n",
      "Finding Elimination Order: : : 0it [00:00, ?it/s]\n",
      "0it [00:00, ?it/s]\n",
      "Finding Elimination Order: : : 0it [00:00, ?it/s]\n",
      "0it [00:00, ?it/s]\n",
      "Finding Elimination Order: : : 0it [00:00, ?it/s]\n",
      "0it [00:00, ?it/s]\n",
      "Finding Elimination Order: : : 0it [00:00, ?it/s]\n",
      "0it [00:00, ?it/s]\n",
      "Finding Elimination Order: : : 0it [00:00, ?it/s]\n",
      "0it [00:00, ?it/s]\n",
      "Finding Elimination Order: : : 0it [00:00, ?it/s]\n",
      "0it [00:00, ?it/s]\n",
      "Finding Elimination Order: : : 0it [00:00, ?it/s]\n",
      "0it [00:00, ?it/s]\n",
      "Finding Elimination Order: : : 0it [00:00, ?it/s]\n",
      "0it [00:00, ?it/s]\n",
      "Finding Elimination Order: : : 0it [00:00, ?it/s]\n",
      "0it [00:00, ?it/s]\n",
      "Finding Elimination Order: : : 0it [00:00, ?it/s]\n",
      "0it [00:00, ?it/s]\n",
      "Finding Elimination Order: : : 0it [00:00, ?it/s]\n",
      "0it [00:00, ?it/s]\n",
      "Finding Elimination Order: : : 0it [00:00, ?it/s]\n",
      "0it [00:00, ?it/s]\n",
      "Finding Elimination Order: : : 0it [00:00, ?it/s]\n",
      "0it [00:00, ?it/s]\n",
      "Finding Elimination Order: : : 0it [00:00, ?it/s]\n",
      "0it [00:00, ?it/s]\n",
      "Finding Elimination Order: : : 0it [00:00, ?it/s]\n",
      "0it [00:00, ?it/s]\n",
      "Finding Elimination Order: : : 0it [00:00, ?it/s]\n",
      "0it [00:00, ?it/s]\n",
      "Finding Elimination Order: : : 0it [00:00, ?it/s]\n",
      "0it [00:00, ?it/s]\n",
      "Finding Elimination Order: : : 0it [00:00, ?it/s]\n",
      "0it [00:00, ?it/s]\n",
      "Finding Elimination Order: : : 0it [00:00, ?it/s]\n",
      "0it [00:00, ?it/s]\n",
      "Finding Elimination Order: : : 0it [00:00, ?it/s]\n",
      "0it [00:00, ?it/s]\n",
      "Finding Elimination Order: : : 0it [00:00, ?it/s]\n",
      "0it [00:00, ?it/s]\n",
      "Finding Elimination Order: : : 0it [00:00, ?it/s]\n",
      "0it [00:00, ?it/s]\n",
      "Finding Elimination Order: : : 0it [00:00, ?it/s]\n",
      "0it [00:00, ?it/s]\n",
      "Finding Elimination Order: : : 0it [00:00, ?it/s]\n",
      "0it [00:00, ?it/s]\n",
      "Finding Elimination Order: : : 0it [00:00, ?it/s]\n",
      "0it [00:00, ?it/s]\n",
      "Finding Elimination Order: : : 0it [00:00, ?it/s]\n",
      "0it [00:00, ?it/s]\n",
      "Finding Elimination Order: : : 0it [00:00, ?it/s]\n",
      "0it [00:00, ?it/s]\n",
      "Finding Elimination Order: : : 0it [00:00, ?it/s]\n",
      "0it [00:00, ?it/s]\n",
      "Finding Elimination Order: : : 0it [00:00, ?it/s]\n",
      "0it [00:00, ?it/s]\n",
      "Finding Elimination Order: : : 0it [00:00, ?it/s]\n",
      "0it [00:00, ?it/s]\n",
      "Finding Elimination Order: : : 0it [00:00, ?it/s]\n",
      "0it [00:00, ?it/s]\n",
      "Finding Elimination Order: : : 0it [00:00, ?it/s]\n",
      "0it [00:00, ?it/s]\n",
      "Finding Elimination Order: : : 0it [00:00, ?it/s]\n",
      "0it [00:00, ?it/s]\n",
      "Finding Elimination Order: : : 0it [00:00, ?it/s]\n",
      "0it [00:00, ?it/s]\n",
      "Finding Elimination Order: : : 0it [00:00, ?it/s]\n",
      "0it [00:00, ?it/s]\n",
      "Finding Elimination Order: : : 0it [00:00, ?it/s]\n",
      "0it [00:00, ?it/s]\n",
      "Finding Elimination Order: : : 0it [00:00, ?it/s]\n",
      "0it [00:00, ?it/s]\n",
      "Finding Elimination Order: : : 0it [00:00, ?it/s]\n",
      "0it [00:00, ?it/s]\n",
      "Finding Elimination Order: : : 0it [00:00, ?it/s]\n",
      "0it [00:00, ?it/s]\n",
      "Finding Elimination Order: : : 0it [00:00, ?it/s]\n",
      "0it [00:00, ?it/s]\n",
      "Finding Elimination Order: : : 0it [00:00, ?it/s]\n",
      "0it [00:00, ?it/s]\n",
      "Finding Elimination Order: : : 0it [00:00, ?it/s]\n",
      "0it [00:00, ?it/s]\n",
      "Finding Elimination Order: : : 0it [00:00, ?it/s]\n",
      "0it [00:00, ?it/s]\n",
      "Finding Elimination Order: : : 0it [00:00, ?it/s]\n",
      "0it [00:00, ?it/s]\n",
      "Finding Elimination Order: : : 0it [00:00, ?it/s]\n",
      "0it [00:00, ?it/s]\n",
      "Finding Elimination Order: : : 0it [00:00, ?it/s]\n",
      "0it [00:00, ?it/s]\n",
      "Finding Elimination Order: : : 0it [00:00, ?it/s]\n",
      "0it [00:00, ?it/s]\n",
      "Finding Elimination Order: : : 0it [00:00, ?it/s]\n",
      "0it [00:00, ?it/s]\n",
      "Finding Elimination Order: : : 0it [00:00, ?it/s]\n",
      "0it [00:00, ?it/s]\n",
      "Finding Elimination Order: : : 0it [00:00, ?it/s]\n",
      "0it [00:00, ?it/s]\n",
      "Finding Elimination Order: : : 0it [00:00, ?it/s]\n",
      "0it [00:00, ?it/s]\n",
      "Finding Elimination Order: : : 0it [00:00, ?it/s]\n",
      "0it [00:00, ?it/s]\n",
      "Finding Elimination Order: : : 0it [00:00, ?it/s]\n",
      "0it [00:00, ?it/s]\n",
      "Finding Elimination Order: : : 0it [00:00, ?it/s]\n",
      "0it [00:00, ?it/s]\n",
      "Finding Elimination Order: : : 0it [00:00, ?it/s]\n",
      "0it [00:00, ?it/s]\n",
      "Finding Elimination Order: : : 0it [00:00, ?it/s]\n",
      "0it [00:00, ?it/s]\n",
      "Finding Elimination Order: : : 0it [00:00, ?it/s]\n",
      "0it [00:00, ?it/s]\n",
      "Finding Elimination Order: : : 0it [00:00, ?it/s]\n",
      "0it [00:00, ?it/s]\n",
      "Finding Elimination Order: : : 0it [00:00, ?it/s]\n",
      "0it [00:00, ?it/s]\n",
      "Finding Elimination Order: : : 0it [00:00, ?it/s]\n",
      "0it [00:00, ?it/s]\n",
      "Finding Elimination Order: : : 0it [00:00, ?it/s]\n",
      "0it [00:00, ?it/s]\n",
      "Finding Elimination Order: : : 0it [00:00, ?it/s]\n",
      "0it [00:00, ?it/s]\n",
      "Finding Elimination Order: : : 0it [00:00, ?it/s]\n",
      "0it [00:00, ?it/s]\n",
      "Finding Elimination Order: : : 0it [00:00, ?it/s]\n",
      "0it [00:00, ?it/s]\n",
      "Finding Elimination Order: : : 0it [00:00, ?it/s]\n",
      "0it [00:00, ?it/s]\n",
      "Finding Elimination Order: : : 0it [00:00, ?it/s]\n",
      "0it [00:00, ?it/s]\n",
      "Finding Elimination Order: : : 0it [00:00, ?it/s]\n",
      "0it [00:00, ?it/s]\n",
      "Finding Elimination Order: : : 0it [00:00, ?it/s]\n",
      "0it [00:00, ?it/s]\n",
      "Finding Elimination Order: : : 0it [00:00, ?it/s]\n",
      "0it [00:00, ?it/s]\n",
      "Finding Elimination Order: : : 0it [00:00, ?it/s]\n",
      "0it [00:00, ?it/s]\n",
      "Finding Elimination Order: : : 0it [00:00, ?it/s]\n",
      "0it [00:00, ?it/s]\n",
      "Finding Elimination Order: : : 0it [00:00, ?it/s]\n",
      "0it [00:00, ?it/s]\n",
      "Finding Elimination Order: : : 0it [00:00, ?it/s]\n",
      "0it [00:00, ?it/s]\n",
      "Finding Elimination Order: : : 0it [00:00, ?it/s]\n",
      "0it [00:00, ?it/s]\n",
      "Finding Elimination Order: : : 0it [00:00, ?it/s]\n",
      "0it [00:00, ?it/s]\n",
      "Finding Elimination Order: : : 0it [00:00, ?it/s]\n",
      "0it [00:00, ?it/s]\n",
      "Finding Elimination Order: : : 0it [00:00, ?it/s]\n",
      "0it [00:00, ?it/s]\n",
      "Finding Elimination Order: : : 0it [00:00, ?it/s]\n",
      "0it [00:00, ?it/s]\n",
      "Finding Elimination Order: : : 0it [00:00, ?it/s]\n",
      "0it [00:00, ?it/s]\n",
      "Finding Elimination Order: : : 0it [00:00, ?it/s]\n",
      "0it [00:00, ?it/s]\n",
      "Finding Elimination Order: : : 0it [00:00, ?it/s]\n",
      "0it [00:00, ?it/s]\n",
      "Finding Elimination Order: : : 0it [00:00, ?it/s]\n",
      "0it [00:00, ?it/s]\n",
      "Finding Elimination Order: : : 0it [00:00, ?it/s]\n",
      "0it [00:00, ?it/s]\n",
      "Finding Elimination Order: : : 0it [00:00, ?it/s]\n",
      "0it [00:00, ?it/s]\n",
      "Finding Elimination Order: : : 0it [00:00, ?it/s]\n",
      "0it [00:00, ?it/s]\n",
      "Finding Elimination Order: : : 0it [00:00, ?it/s]\n",
      "0it [00:00, ?it/s]\n",
      "Finding Elimination Order: : : 0it [00:00, ?it/s]\n",
      "0it [00:00, ?it/s]\n",
      "Finding Elimination Order: : : 0it [00:00, ?it/s]\n",
      "0it [00:00, ?it/s]\n",
      "Finding Elimination Order: : : 0it [00:00, ?it/s]\n",
      "0it [00:00, ?it/s]\n",
      "Finding Elimination Order: : : 0it [00:00, ?it/s]\n",
      "0it [00:00, ?it/s]\n",
      "Finding Elimination Order: : : 0it [00:00, ?it/s]\n",
      "0it [00:00, ?it/s]\n",
      "Finding Elimination Order: : : 0it [00:00, ?it/s]\n",
      "0it [00:00, ?it/s]\n",
      "Finding Elimination Order: : : 0it [00:00, ?it/s]\n",
      "0it [00:00, ?it/s]\n",
      "Finding Elimination Order: : : 0it [00:00, ?it/s]\n",
      "0it [00:00, ?it/s]\n",
      "Finding Elimination Order: : : 0it [00:00, ?it/s]\n",
      "0it [00:00, ?it/s]\n",
      "Finding Elimination Order: : : 0it [00:00, ?it/s]\n",
      "0it [00:00, ?it/s]\n",
      "Finding Elimination Order: : : 0it [00:00, ?it/s]\n",
      "0it [00:00, ?it/s]\n",
      "Finding Elimination Order: : : 0it [00:00, ?it/s]\n",
      "0it [00:00, ?it/s]\n",
      "Finding Elimination Order: : : 0it [00:00, ?it/s]\n",
      "0it [00:00, ?it/s]\n",
      "Finding Elimination Order: : : 0it [00:00, ?it/s]\n",
      "0it [00:00, ?it/s]\n",
      "Finding Elimination Order: : : 0it [00:00, ?it/s]\n",
      "0it [00:00, ?it/s]\n",
      "Finding Elimination Order: : : 0it [00:00, ?it/s]\n"
     ]
    },
    {
     "name": "stderr",
     "output_type": "stream",
     "text": [
      "0it [00:00, ?it/s]\n",
      "Finding Elimination Order: : : 0it [00:00, ?it/s]\n",
      "0it [00:00, ?it/s]\n",
      "Finding Elimination Order: : : 0it [00:00, ?it/s]\n",
      "0it [00:00, ?it/s]\n",
      "Finding Elimination Order: : : 0it [00:00, ?it/s]\n",
      "0it [00:00, ?it/s]\n",
      "Finding Elimination Order: : : 0it [00:00, ?it/s]\n",
      "0it [00:00, ?it/s]\n",
      "Finding Elimination Order: : : 0it [00:00, ?it/s]\n",
      "0it [00:00, ?it/s]\n",
      "Finding Elimination Order: : : 0it [00:00, ?it/s]\n",
      "0it [00:00, ?it/s]\n",
      "Finding Elimination Order: : : 0it [00:00, ?it/s]\n",
      "0it [00:00, ?it/s]\n",
      "Finding Elimination Order: : : 0it [00:00, ?it/s]\n",
      "0it [00:00, ?it/s]\n",
      "Finding Elimination Order: : : 0it [00:00, ?it/s]\n",
      "0it [00:00, ?it/s]\n",
      "Finding Elimination Order: : : 0it [00:00, ?it/s]\n",
      "0it [00:00, ?it/s]\n",
      "Finding Elimination Order: : : 0it [00:00, ?it/s]\n",
      "0it [00:00, ?it/s]\n",
      "Finding Elimination Order: : : 0it [00:00, ?it/s]\n",
      "0it [00:00, ?it/s]\n",
      "Finding Elimination Order: : : 0it [00:00, ?it/s]\n",
      "0it [00:00, ?it/s]\n",
      "Finding Elimination Order: : : 0it [00:00, ?it/s]\n",
      "0it [00:00, ?it/s]\n",
      "Finding Elimination Order: : : 0it [00:00, ?it/s]\n",
      "0it [00:00, ?it/s]\n",
      "Finding Elimination Order: : : 0it [00:00, ?it/s]\n",
      "0it [00:00, ?it/s]\n",
      "Finding Elimination Order: : : 0it [00:00, ?it/s]\n",
      "0it [00:00, ?it/s]\n",
      "Finding Elimination Order: : : 0it [00:00, ?it/s]\n",
      "0it [00:00, ?it/s]\n",
      "Finding Elimination Order: : : 0it [00:00, ?it/s]\n",
      "0it [00:00, ?it/s]\n",
      "Finding Elimination Order: : : 0it [00:00, ?it/s]\n",
      "0it [00:00, ?it/s]\n",
      "Finding Elimination Order: : : 0it [00:00, ?it/s]\n",
      "0it [00:00, ?it/s]\n",
      "Finding Elimination Order: : : 0it [00:00, ?it/s]\n",
      "0it [00:00, ?it/s]\n",
      "Finding Elimination Order: : : 0it [00:00, ?it/s]\n",
      "0it [00:00, ?it/s]\n",
      "Finding Elimination Order: : : 0it [00:00, ?it/s]\n",
      "0it [00:00, ?it/s]\n",
      "Finding Elimination Order: : : 0it [00:00, ?it/s]\n",
      "0it [00:00, ?it/s]\n",
      "Finding Elimination Order: : : 0it [00:00, ?it/s]\n",
      "0it [00:00, ?it/s]\n",
      "Finding Elimination Order: : : 0it [00:00, ?it/s]\n",
      "0it [00:00, ?it/s]\n",
      "Finding Elimination Order: : : 0it [00:00, ?it/s]\n",
      "0it [00:00, ?it/s]\n",
      "Finding Elimination Order: : : 0it [00:00, ?it/s]\n",
      "0it [00:00, ?it/s]\n",
      "Finding Elimination Order: : : 0it [00:00, ?it/s]\n",
      "0it [00:00, ?it/s]\n",
      "Finding Elimination Order: : : 0it [00:00, ?it/s]\n",
      "0it [00:00, ?it/s]\n",
      "Finding Elimination Order: : : 0it [00:00, ?it/s]\n",
      "0it [00:00, ?it/s]\n",
      "Finding Elimination Order: : : 0it [00:00, ?it/s]\n",
      "0it [00:00, ?it/s]\n",
      "Finding Elimination Order: : : 0it [00:00, ?it/s]\n",
      "0it [00:00, ?it/s]\n",
      "Finding Elimination Order: : : 0it [00:00, ?it/s]\n",
      "0it [00:00, ?it/s]\n",
      "Finding Elimination Order: : : 0it [00:00, ?it/s]\n",
      "0it [00:00, ?it/s]\n",
      "Finding Elimination Order: : : 0it [00:00, ?it/s]\n",
      "0it [00:00, ?it/s]\n",
      "Finding Elimination Order: : : 0it [00:00, ?it/s]\n",
      "0it [00:00, ?it/s]\n",
      "Finding Elimination Order: : : 0it [00:00, ?it/s]\n",
      "0it [00:00, ?it/s]\n",
      "Finding Elimination Order: : : 0it [00:00, ?it/s]\n",
      "0it [00:00, ?it/s]\n",
      "Finding Elimination Order: : : 0it [00:00, ?it/s]\n",
      "0it [00:00, ?it/s]\n",
      "Finding Elimination Order: : : 0it [00:00, ?it/s]\n",
      "0it [00:00, ?it/s]\n",
      "Finding Elimination Order: : : 0it [00:00, ?it/s]\n",
      "0it [00:00, ?it/s]\n",
      "Finding Elimination Order: : : 0it [00:00, ?it/s]\n",
      "0it [00:00, ?it/s]\n",
      "Finding Elimination Order: : : 0it [00:00, ?it/s]\n",
      "0it [00:00, ?it/s]\n",
      "Finding Elimination Order: : : 0it [00:00, ?it/s]\n",
      "0it [00:00, ?it/s]\n",
      "Finding Elimination Order: : : 0it [00:00, ?it/s]\n",
      "0it [00:00, ?it/s]\n",
      "Finding Elimination Order: : : 0it [00:00, ?it/s]\n",
      "0it [00:00, ?it/s]\n",
      "Finding Elimination Order: : : 0it [00:00, ?it/s]\n",
      "0it [00:00, ?it/s]\n",
      "Finding Elimination Order: : : 0it [00:00, ?it/s]\n",
      "0it [00:00, ?it/s]\n",
      "Finding Elimination Order: : : 0it [00:00, ?it/s]\n",
      "0it [00:00, ?it/s]\n",
      "Finding Elimination Order: : : 0it [00:00, ?it/s]\n",
      "0it [00:00, ?it/s]\n",
      "Finding Elimination Order: : : 0it [00:00, ?it/s]\n",
      "0it [00:00, ?it/s]\n",
      "Finding Elimination Order: : : 0it [00:00, ?it/s]\n",
      "0it [00:00, ?it/s]\n",
      "Finding Elimination Order: : : 0it [00:00, ?it/s]\n",
      "0it [00:00, ?it/s]\n",
      "Finding Elimination Order: : : 0it [00:00, ?it/s]\n",
      "0it [00:00, ?it/s]\n",
      "Finding Elimination Order: : : 0it [00:00, ?it/s]\n",
      "0it [00:00, ?it/s]\n",
      "Finding Elimination Order: : : 0it [00:00, ?it/s]\n",
      "0it [00:00, ?it/s]\n",
      "Finding Elimination Order: : : 0it [00:00, ?it/s]\n",
      "0it [00:00, ?it/s]\n",
      "Finding Elimination Order: : : 0it [00:00, ?it/s]\n",
      "0it [00:00, ?it/s]\n",
      "Finding Elimination Order: : : 0it [00:00, ?it/s]\n",
      "0it [00:00, ?it/s]\n",
      "Finding Elimination Order: : : 0it [00:00, ?it/s]\n",
      "0it [00:00, ?it/s]\n",
      "Finding Elimination Order: : : 0it [00:00, ?it/s]\n",
      "0it [00:00, ?it/s]\n",
      "Finding Elimination Order: : : 0it [00:00, ?it/s]\n",
      "0it [00:00, ?it/s]\n",
      "Finding Elimination Order: : : 0it [00:00, ?it/s]\n",
      "0it [00:00, ?it/s]\n",
      "Finding Elimination Order: : : 0it [00:00, ?it/s]\n",
      "0it [00:00, ?it/s]\n",
      "Finding Elimination Order: : : 0it [00:00, ?it/s]\n",
      "0it [00:00, ?it/s]\n",
      "Finding Elimination Order: : : 0it [00:00, ?it/s]\n",
      "0it [00:00, ?it/s]\n",
      "Finding Elimination Order: : : 0it [00:00, ?it/s]\n",
      "0it [00:00, ?it/s]\n",
      "Finding Elimination Order: : : 0it [00:00, ?it/s]\n",
      "0it [00:00, ?it/s]\n",
      "Finding Elimination Order: : : 0it [00:00, ?it/s]\n",
      "0it [00:00, ?it/s]\n",
      "Finding Elimination Order: : : 0it [00:00, ?it/s]\n",
      "0it [00:00, ?it/s]\n",
      "Finding Elimination Order: : : 0it [00:00, ?it/s]\n",
      "0it [00:00, ?it/s]\n",
      "Finding Elimination Order: : : 0it [00:00, ?it/s]\n",
      "0it [00:00, ?it/s]\n",
      "Finding Elimination Order: : : 0it [00:00, ?it/s]\n",
      "0it [00:00, ?it/s]\n",
      "Finding Elimination Order: : : 0it [00:00, ?it/s]\n",
      "0it [00:00, ?it/s]\n",
      "Finding Elimination Order: : : 0it [00:00, ?it/s]\n",
      "0it [00:00, ?it/s]\n",
      "Finding Elimination Order: : : 0it [00:00, ?it/s]\n",
      "0it [00:00, ?it/s]\n",
      "Finding Elimination Order: : : 0it [00:00, ?it/s]\n",
      "0it [00:00, ?it/s]\n",
      "Finding Elimination Order: : : 0it [00:00, ?it/s]\n",
      "0it [00:00, ?it/s]\n",
      "Finding Elimination Order: : : 0it [00:00, ?it/s]\n",
      "0it [00:00, ?it/s]\n",
      "Finding Elimination Order: : : 0it [00:00, ?it/s]\n",
      "0it [00:00, ?it/s]\n",
      "Finding Elimination Order: : : 0it [00:00, ?it/s]\n",
      "0it [00:00, ?it/s]\n",
      "Finding Elimination Order: : : 0it [00:00, ?it/s]\n",
      "0it [00:00, ?it/s]\n",
      "Finding Elimination Order: : : 0it [00:00, ?it/s]\n",
      "0it [00:00, ?it/s]\n",
      "Finding Elimination Order: : : 0it [00:00, ?it/s]\n",
      "0it [00:00, ?it/s]\n",
      "Finding Elimination Order: : : 0it [00:00, ?it/s]\n",
      "0it [00:00, ?it/s]\n",
      "Finding Elimination Order: : : 0it [00:00, ?it/s]\n",
      "0it [00:00, ?it/s]\n",
      "Finding Elimination Order: : : 0it [00:00, ?it/s]\n",
      "0it [00:00, ?it/s]\n",
      "Finding Elimination Order: : : 0it [00:00, ?it/s]\n",
      "0it [00:00, ?it/s]\n",
      "Finding Elimination Order: : : 0it [00:00, ?it/s]\n",
      "0it [00:00, ?it/s]\n",
      "Finding Elimination Order: : : 0it [00:00, ?it/s]\n",
      "0it [00:00, ?it/s]\n",
      "Finding Elimination Order: : : 0it [00:00, ?it/s]\n",
      "0it [00:00, ?it/s]\n",
      "Finding Elimination Order: : : 0it [00:00, ?it/s]\n",
      "0it [00:00, ?it/s]\n",
      "Finding Elimination Order: : : 0it [00:00, ?it/s]\n",
      "0it [00:00, ?it/s]\n",
      "Finding Elimination Order: : : 0it [00:00, ?it/s]\n",
      "0it [00:00, ?it/s]\n",
      "Finding Elimination Order: : : 0it [00:00, ?it/s]\n",
      "0it [00:00, ?it/s]\n",
      "Finding Elimination Order: : : 0it [00:00, ?it/s]\n",
      "0it [00:00, ?it/s]\n",
      "Finding Elimination Order: : : 0it [00:00, ?it/s]\n",
      "0it [00:00, ?it/s]\n",
      "Finding Elimination Order: : : 0it [00:00, ?it/s]\n",
      "0it [00:00, ?it/s]\n",
      "Finding Elimination Order: : : 0it [00:00, ?it/s]\n",
      "0it [00:00, ?it/s]\n",
      "Finding Elimination Order: : : 0it [00:00, ?it/s]\n",
      "0it [00:00, ?it/s]\n",
      "Finding Elimination Order: : : 0it [00:00, ?it/s]\n",
      "0it [00:00, ?it/s]\n",
      "Finding Elimination Order: : : 0it [00:00, ?it/s]\n",
      "0it [00:00, ?it/s]\n",
      "Finding Elimination Order: : : 0it [00:00, ?it/s]\n",
      "0it [00:00, ?it/s]\n",
      "Finding Elimination Order: : : 0it [00:00, ?it/s]\n",
      "0it [00:00, ?it/s]\n",
      "Finding Elimination Order: : : 0it [00:00, ?it/s]\n",
      "0it [00:00, ?it/s]\n",
      "Finding Elimination Order: : : 0it [00:00, ?it/s]\n",
      "0it [00:00, ?it/s]\n",
      "Finding Elimination Order: : : 0it [00:00, ?it/s]\n",
      "0it [00:00, ?it/s]\n",
      "Finding Elimination Order: : : 0it [00:00, ?it/s]\n",
      "0it [00:00, ?it/s]\n",
      "Finding Elimination Order: : : 0it [00:00, ?it/s]\n",
      "0it [00:00, ?it/s]\n",
      "Finding Elimination Order: : : 0it [00:00, ?it/s]\n",
      "0it [00:00, ?it/s]\n",
      "Finding Elimination Order: : : 0it [00:00, ?it/s]\n",
      "0it [00:00, ?it/s]\n",
      "Finding Elimination Order: : : 0it [00:00, ?it/s]\n",
      "0it [00:00, ?it/s]\n",
      "Finding Elimination Order: : : 0it [00:00, ?it/s]\n",
      "0it [00:00, ?it/s]\n",
      "Finding Elimination Order: : : 0it [00:00, ?it/s]\n",
      "0it [00:00, ?it/s]\n",
      "Finding Elimination Order: : : 0it [00:00, ?it/s]\n",
      "0it [00:00, ?it/s]\n",
      "Finding Elimination Order: : : 0it [00:00, ?it/s]\n",
      "0it [00:00, ?it/s]\n"
     ]
    },
    {
     "name": "stderr",
     "output_type": "stream",
     "text": [
      "Finding Elimination Order: : : 0it [00:00, ?it/s]\n",
      "0it [00:00, ?it/s]\n",
      "Finding Elimination Order: : : 0it [00:00, ?it/s]\n",
      "0it [00:00, ?it/s]\n",
      "Finding Elimination Order: : : 0it [00:00, ?it/s]\n",
      "0it [00:00, ?it/s]\n",
      "Finding Elimination Order: : : 0it [00:00, ?it/s]\n",
      "0it [00:00, ?it/s]\n",
      "Finding Elimination Order: : : 0it [00:00, ?it/s]\n",
      "0it [00:00, ?it/s]\n",
      "Finding Elimination Order: : : 0it [00:00, ?it/s]\n",
      "0it [00:00, ?it/s]\n",
      "Finding Elimination Order: : : 0it [00:00, ?it/s]\n",
      "0it [00:00, ?it/s]\n",
      "Finding Elimination Order: : : 0it [00:00, ?it/s]\n",
      "0it [00:00, ?it/s]\n",
      "Finding Elimination Order: : : 0it [00:00, ?it/s]\n",
      "0it [00:00, ?it/s]\n",
      "Finding Elimination Order: : : 0it [00:00, ?it/s]\n",
      "0it [00:00, ?it/s]\n",
      "Finding Elimination Order: : : 0it [00:00, ?it/s]\n",
      "0it [00:00, ?it/s]\n",
      "Finding Elimination Order: : : 0it [00:00, ?it/s]\n",
      "0it [00:00, ?it/s]\n",
      "Finding Elimination Order: : : 0it [00:00, ?it/s]\n",
      "0it [00:00, ?it/s]\n",
      "Finding Elimination Order: : : 0it [00:00, ?it/s]\n",
      "0it [00:00, ?it/s]\n",
      "Finding Elimination Order: : : 0it [00:00, ?it/s]\n",
      "0it [00:00, ?it/s]\n",
      "Finding Elimination Order: : : 0it [00:00, ?it/s]\n",
      "0it [00:00, ?it/s]\n",
      "Finding Elimination Order: : : 0it [00:00, ?it/s]\n",
      "0it [00:00, ?it/s]\n",
      "Finding Elimination Order: : : 0it [00:00, ?it/s]\n",
      "0it [00:00, ?it/s]\n",
      "Finding Elimination Order: : : 0it [00:00, ?it/s]\n",
      "0it [00:00, ?it/s]\n",
      "Finding Elimination Order: : : 0it [00:00, ?it/s]\n",
      "0it [00:00, ?it/s]\n",
      "Finding Elimination Order: : : 0it [00:00, ?it/s]\n",
      "0it [00:00, ?it/s]\n",
      "Finding Elimination Order: : : 0it [00:00, ?it/s]\n",
      "0it [00:00, ?it/s]\n",
      "Finding Elimination Order: : : 0it [00:00, ?it/s]\n",
      "0it [00:00, ?it/s]\n",
      "Finding Elimination Order: : : 0it [00:00, ?it/s]\n",
      "0it [00:00, ?it/s]\n"
     ]
    }
   ],
   "source": [
    "X_complete_train_dict = list(X_complete_train.to_dict('index').values())\n",
    "\n",
    "y_pred = [hc_bdeu_inference.map_query(variables=['Outcome'], evidence=entry, elimination_order='MinFill')['Outcome'] for entry in X_complete_train_dict]\n",
    "\n",
    "# for entry in X_complete_train_dict:\n",
    "#     print(hc_bdeu_inference.map_query(variables=['Outcome'], evidence=entry, elimination_order='MinFill')['Outcome'])\n",
    "# hc_bdeu_inference.map_query(variables=['Outcome'], evidence=None, elimination_order='MinFill')"
   ]
  },
  {
   "cell_type": "code",
   "execution_count": 100,
   "metadata": {},
   "outputs": [
    {
     "name": "stdout",
     "output_type": "stream",
     "text": [
      "53\n"
     ]
    }
   ],
   "source": [
    "print(abs(y_pred-y_complete_train).sum())"
   ]
  }
 ],
 "metadata": {
  "kernelspec": {
   "display_name": "PGM",
   "language": "python",
   "name": "pgm"
  },
  "language_info": {
   "codemirror_mode": {
    "name": "ipython",
    "version": 3
   },
   "file_extension": ".py",
   "mimetype": "text/x-python",
   "name": "python",
   "nbconvert_exporter": "python",
   "pygments_lexer": "ipython3",
   "version": "3.7.7"
  }
 },
 "nbformat": 4,
 "nbformat_minor": 4
}
