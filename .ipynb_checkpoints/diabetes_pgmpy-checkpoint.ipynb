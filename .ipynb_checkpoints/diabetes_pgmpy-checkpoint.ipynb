{
 "cells": [
  {
   "cell_type": "markdown",
   "metadata": {},
   "source": [
    "# Importación de módulos generales"
   ]
  },
  {
   "cell_type": "code",
   "execution_count": null,
   "metadata": {
    "scrolled": true
   },
   "outputs": [],
   "source": [
    "%pylab inline\n",
    "%load_ext memory_profiler\n",
    "\n",
    "# %pylab\n",
    "\n",
    "import os\n",
    "import tempfile\n",
    "import pandas as pd\n",
    "# import numpy as np\n",
    "import networkx as nx\n",
    "# import matplotlib\n",
    "# import pylab  as plt\n",
    "import pygraphviz\n",
    "\n",
    "from sklearn.metrics import classification_report, accuracy_score\n",
    "from sklearn.model_selection import train_test_split"
   ]
  },
  {
   "cell_type": "markdown",
   "metadata": {},
   "source": [
    "# Funciones auxiliares visualización"
   ]
  },
  {
   "cell_type": "markdown",
   "metadata": {},
   "source": [
    "Importamos las funciones auxiliares para visualizar redes que hemos definido:\n",
    "- **plot_pomegranate_bn_nx**(pgm, layout=None, node_size=2000, node_color='pink')\n",
    "- **plot_pomegranate_bn_pgvz**(pgm, filename=None, prog='dot', color='red')\n",
    "- **plot_pgm_bn**(pgm, layout=None, node_size=2000, node_color='pink'):"
   ]
  },
  {
   "cell_type": "code",
   "execution_count": null,
   "metadata": {},
   "outputs": [],
   "source": [
    "from funciones_auxiliares import *"
   ]
  },
  {
   "cell_type": "markdown",
   "metadata": {},
   "source": [
    "# Lectura de datos"
   ]
  },
  {
   "cell_type": "markdown",
   "metadata": {},
   "source": [
    "Podemos obtener los datos originales de https://www.kaggle.com/uciml/pima-indians-diabetes-database."
   ]
  },
  {
   "cell_type": "code",
   "execution_count": null,
   "metadata": {
    "scrolled": true
   },
   "outputs": [],
   "source": [
    "data = pd.read_csv(\"data/diabetes/prima_indian_diabetes_dataset.csv\")\n",
    "data.head()"
   ]
  },
  {
   "cell_type": "markdown",
   "metadata": {},
   "source": [
    "Como podemos observar, hay valores nulos en ciertas variables, en este caso representados mediante el valor 0."
   ]
  },
  {
   "cell_type": "code",
   "execution_count": null,
   "metadata": {
    "scrolled": false
   },
   "outputs": [],
   "source": [
    "data [['Glucose','BloodPressure','SkinThickness','Insulin','BMI']] = data[['Glucose','BloodPressure','SkinThickness','Insulin','BMI']].replace(0,np.NaN)\n",
    "print(\"Valores nulos en cada variable:\\n\", data.isnull().sum())\n",
    "\n",
    "print(\"\\nNúmero de registros completos: \", data.dropna().count()[0])"
   ]
  },
  {
   "cell_type": "markdown",
   "metadata": {},
   "source": [
    "Discretizamos las variables numéricas:"
   ]
  },
  {
   "cell_type": "code",
   "execution_count": null,
   "metadata": {},
   "outputs": [],
   "source": [
    "columns_to_discretize = ['Glucose', 'BloodPressure', 'SkinThickness', 'Insulin', 'BMI', 'DiabetesPedigreeFunction', 'Age']\n",
    "num_bins=20\n",
    "\n",
    "for col in columns_to_discretize:\n",
    "    data[col] = pd.cut(data[col], bins=num_bins)\n",
    "    \n",
    "# data.Glucose = pd.cut(data.Glucose, bins=10)\n",
    "data.head()"
   ]
  },
  {
   "cell_type": "markdown",
   "metadata": {},
   "source": [
    "Y separamos los registros completos(sin valores nulos) de los iniciales"
   ]
  },
  {
   "cell_type": "code",
   "execution_count": null,
   "metadata": {},
   "outputs": [],
   "source": [
    "complete_data = data.dropna().reset_index(drop=True)"
   ]
  },
  {
   "cell_type": "markdown",
   "metadata": {},
   "source": [
    "Dividimos los datos en conjunto de entrenamiento y validación"
   ]
  },
  {
   "cell_type": "code",
   "execution_count": null,
   "metadata": {},
   "outputs": [],
   "source": [
    "X = data.drop(columns=['Outcome'])\n",
    "y = data.Outcome\n",
    "\n",
    "X_complete = complete_data.drop(columns=['Outcome'])\n",
    "y_complete = complete_data.Outcome\n",
    "\n",
    "X_train, X_test, y_train, y_test = train_test_split(X, y, test_size=1/3)\n",
    "X_complete_train, X_complete_test, y_complete_train, y_complete_test = train_test_split(X_complete, y_complete, test_size=1/3)\n",
    "\n",
    "print(\"Particiones obtenidas sobre los datos iniciales:\")\n",
    "print(\"X_train: \", X_train.shape)\n",
    "print(\"y_train: \", y_train.shape)\n",
    "print(\"X_test:  \", X_test.shape)\n",
    "print(\"y_test:  \", y_test.shape)\n",
    "print(\"\\nParticiones obtenidas sobre los datos con los registros completos:\")\n",
    "print(\"X_complete_train: \", X_complete_train.shape)\n",
    "print(\"y_complete_train: \", y_complete_train.shape)\n",
    "print(\"X_complete_test:  \", X_complete_test.shape)\n",
    "print(\"y_complete_test:  \", y_complete_test.shape)"
   ]
  },
  {
   "cell_type": "markdown",
   "metadata": {},
   "source": [
    "# Algoritmos de búsqueda global"
   ]
  },
  {
   "cell_type": "code",
   "execution_count": null,
   "metadata": {},
   "outputs": [],
   "source": [
    "from pgmpy.models import BayesianModel"
   ]
  },
  {
   "cell_type": "markdown",
   "metadata": {},
   "source": [
    "Definición de scores sobre el dataset:"
   ]
  },
  {
   "cell_type": "code",
   "execution_count": null,
   "metadata": {},
   "outputs": [],
   "source": [
    "from pgmpy.estimators import BDeuScore, K2Score, BicScore\n",
    "\n",
    "bdeu = BDeuScore(complete_data, equivalent_sample_size=5)\n",
    "k2 = K2Score(complete_data)\n",
    "bic = BicScore(complete_data)"
   ]
  },
  {
   "cell_type": "markdown",
   "metadata": {},
   "source": [
    "Si quisieramos usar un algoritmo exacto, tendriamos que iterar sobre los $2^{N(N-1)}$ siendo N el número de nodos, es decir:"
   ]
  },
  {
   "cell_type": "code",
   "execution_count": null,
   "metadata": {},
   "outputs": [],
   "source": [
    "N=len(list(complete_data))\n",
    "print(\"Número de DAGs posibles con N={} ---> {}\".format(N, 2**(N*(N-1))))"
   ]
  },
  {
   "cell_type": "code",
   "execution_count": null,
   "metadata": {},
   "outputs": [],
   "source": [
    "# from pgmpy.estimators import ExhaustiveSearch\n",
    "\n",
    "# # Definición algoritmos de búsqueda exactos con cada score\n",
    "# es_bic = ExhaustiveSearch(complete_data, scoring_method=bic)\n",
    "# es_k2 = ExhaustiveSearch(complete_data, scoring_method=k2)\n",
    "# es_bdeu = ExhaustiveSearch(complete_data, scoring_method=bdeu)\n",
    "\n",
    "# # Aprendizaje de las redes\n",
    "# print(\"Exhaustive search BIC:\")\n",
    "# %time %memit es_bic_structure = es_bic.estimate()\n",
    "# print(\"Exhaustive search K2:\")\n",
    "# %time %memit es_k2_structurel = es_k2.estimate()\n",
    "# print(\"Exhaustive search BDeu:\")\n",
    "# %time %memit es_bdeu_structure = es_bdeu.estimate()"
   ]
  },
  {
   "cell_type": "markdown",
   "metadata": {},
   "source": [
    "Así que vamos a usar Hill Climb Search:"
   ]
  },
  {
   "cell_type": "code",
   "execution_count": null,
   "metadata": {},
   "outputs": [],
   "source": [
    "from pgmpy.estimators import HillClimbSearch\n",
    "\n",
    "hc_bic = HillClimbSearch(data, scoring_method=bic)\n",
    "hc_k2 = HillClimbSearch(data, scoring_method=k2)\n",
    "hc_bdeu = HillClimbSearch(data, scoring_method=bdeu)\n",
    "\n",
    "# Aprendizaje de las redes\n",
    "print(\"Hill Climb Search BIC:\")\n",
    "%time %memit hc_bic_structure = hc_bic.estimate()\n",
    "print(\"\\nHill Climb Search K2:\")\n",
    "%time %memit hc_k2_structure = hc_k2.estimate()\n",
    "print(\"\\nHill Climb Search BDeu:\")\n",
    "%time %memit hc_bdeu_structure = hc_bdeu.estimate()"
   ]
  },
  {
   "cell_type": "markdown",
   "metadata": {},
   "source": [
    "Visualizamos los modelos resultantes:"
   ]
  },
  {
   "cell_type": "code",
   "execution_count": null,
   "metadata": {
    "scrolled": true
   },
   "outputs": [],
   "source": [
    "print(\"Hill Climb Search BIC:\")\n",
    "plot_pgmpy_bn(hc_bic_structure)"
   ]
  },
  {
   "cell_type": "code",
   "execution_count": null,
   "metadata": {},
   "outputs": [],
   "source": [
    "print(\"\\nHill Climb Search K2:\")\n",
    "plot_pgmpy_bn(hc_k2_structure)"
   ]
  },
  {
   "cell_type": "code",
   "execution_count": null,
   "metadata": {},
   "outputs": [],
   "source": [
    "print(\"\\nHill Climb Search BDeu:\")\n",
    "plot_pgmpy_bn(hc_bdeu_structure)"
   ]
  },
  {
   "cell_type": "markdown",
   "metadata": {},
   "source": [
    "A la hora de estimar, podemos indicar el número máximo de padres por variable. Por ejemplo, si exigimos que sea 1, aprenderemos estructuras de árbol y el aprendizaje será más rápido:"
   ]
  },
  {
   "cell_type": "code",
   "execution_count": null,
   "metadata": {
    "scrolled": true
   },
   "outputs": [],
   "source": [
    "print(\"Hill Climb Search BIC:\")\n",
    "%time %memit hc_bic_tree = hc_bic.estimate(max_indegree=1)\n",
    "print(\"\\nHill Climb Search K2:\")\n",
    "%time %memit hc_k2_tree = hc_k2.estimate(max_indegree=1)\n",
    "print(\"\\nHill Climb Search BDeu:\")\n",
    "%time %memit hc_bdeu_tree = hc_bdeu.estimate(max_indegree=1)"
   ]
  },
  {
   "cell_type": "code",
   "execution_count": null,
   "metadata": {},
   "outputs": [],
   "source": [
    "print(\"Hill Climb Search BIC tree:\")\n",
    "plot_pgmpy_bn(hc_bic_tree)"
   ]
  },
  {
   "cell_type": "code",
   "execution_count": null,
   "metadata": {},
   "outputs": [],
   "source": [
    "print(\"\\nHill Climb Search K2 tree:\")\n",
    "plot_pgmpy_bn(hc_k2_tree)"
   ]
  },
  {
   "cell_type": "code",
   "execution_count": null,
   "metadata": {
    "scrolled": true
   },
   "outputs": [],
   "source": [
    "print(\"\\nHill Climb Search BDeu tree:\")\n",
    "plot_pgmpy_bn(hc_bdeu_tree)"
   ]
  },
  {
   "cell_type": "markdown",
   "metadata": {},
   "source": [
    "# Algoritmos locales mediante tests de independencia"
   ]
  },
  {
   "cell_type": "code",
   "execution_count": null,
   "metadata": {},
   "outputs": [],
   "source": [
    "from pgmpy.estimators import ConstraintBasedEstimator\n",
    "\n",
    "constraint_estimator = ConstraintBasedEstimator(data)\n",
    "\n",
    "print(\"Constraint Estimation:\")\n",
    "%time %memit constraint_structure = constraint_estimator.estimate(significance_level=0.01)"
   ]
  },
  {
   "cell_type": "code",
   "execution_count": null,
   "metadata": {},
   "outputs": [],
   "source": [
    "print(\"Constraint Estimation:\")\n",
    "plot_pgmpy_bn(constraint_structure)"
   ]
  },
  {
   "cell_type": "markdown",
   "metadata": {},
   "source": [
    "# Aprendizaje de parámetros"
   ]
  },
  {
   "cell_type": "markdown",
   "metadata": {},
   "source": [
    "Vamos a quedarnos, por ejemplo, con la red aprendida usando *Hill Climb Search* y como score *Bdeu*"
   ]
  },
  {
   "cell_type": "code",
   "execution_count": null,
   "metadata": {},
   "outputs": [],
   "source": [
    "from pgmpy.models import BayesianModel\n",
    "\n",
    "hc_bdeu_model = BayesianModel()\n",
    "hc_bdeu_model.add_nodes_from(hc_bdeu_structure.nodes)\n",
    "hc_bdeu_model.add_edges_from(hc_bdeu_structure.edges)"
   ]
  },
  {
   "cell_type": "markdown",
   "metadata": {},
   "source": [
    "Podemos obtener el recuento de las apariciones de las distintas variables"
   ]
  },
  {
   "cell_type": "code",
   "execution_count": null,
   "metadata": {},
   "outputs": [],
   "source": [
    "from pgmpy.estimators import ParameterEstimator\n",
    "\n",
    "pe = ParameterEstimator(hc_bdeu_model, data)\n",
    "print(pe.state_counts('Age'))"
   ]
  },
  {
   "cell_type": "markdown",
   "metadata": {},
   "source": [
    "O directamente las probabilidades usando un estimador máximo verosimil, que en este caso se corresponde a las frecuencias relativas"
   ]
  },
  {
   "cell_type": "code",
   "execution_count": null,
   "metadata": {},
   "outputs": [],
   "source": [
    "from pgmpy.estimators import MaximumLikelihoodEstimator\n",
    "mle = MaximumLikelihoodEstimator(hc_bdeu_model, data)\n",
    "print(mle.estimate_cpd('Age')) "
   ]
  },
  {
   "cell_type": "markdown",
   "metadata": {},
   "source": [
    "Para obtener todas las TPC a la vez:"
   ]
  },
  {
   "cell_type": "code",
   "execution_count": null,
   "metadata": {
    "scrolled": true
   },
   "outputs": [],
   "source": [
    "hc_bdeu_model.fit(data, estimator=MaximumLikelihoodEstimator)"
   ]
  },
  {
   "cell_type": "markdown",
   "metadata": {},
   "source": [
    "Podemos usar estimadores bayesianos, suponiendo una distribucióna  priori:"
   ]
  },
  {
   "cell_type": "code",
   "execution_count": null,
   "metadata": {
    "scrolled": true
   },
   "outputs": [],
   "source": [
    "from pgmpy.estimators import BayesianEstimator\n",
    "\n",
    "est = BayesianEstimator(hc_bdeu_model, data)\n",
    "print(est.estimate_cpd('Age', prior_type='BDeu', equivalent_sample_size=10))\n",
    "\n",
    "hc_bdeu_model.fit(data, estimator=BayesianEstimator, prior_type=\"BDeu\") # default equivalent_sample_size=5"
   ]
  },
  {
   "cell_type": "markdown",
   "metadata": {},
   "source": [
    "Vemos como las probabilidades que antes eran 0 ahora no lo son"
   ]
  },
  {
   "cell_type": "markdown",
   "metadata": {},
   "source": [
    "# Comparación accuracy distintas estructuras"
   ]
  },
  {
   "cell_type": "markdown",
   "metadata": {},
   "source": [
    "Creamos los modelos a partir de las estructuras:"
   ]
  },
  {
   "cell_type": "code",
   "execution_count": null,
   "metadata": {},
   "outputs": [],
   "source": [
    "from pgmpy.models import BayesianModel\n",
    "\n",
    "hc_bdeu_model = BayesianModel()\n",
    "hc_bdeu_model.add_nodes_from(hc_bdeu_structure.nodes)\n",
    "hc_bdeu_model.add_edges_from(hc_bdeu_structure.edges)\n",
    "\n",
    "hc_k2_model = BayesianModel()\n",
    "hc_k2_model.add_nodes_from(hc_k2_structure.nodes)\n",
    "hc_k2_model.add_edges_from(hc_k2_structure.edges)\n",
    "\n",
    "hc_bic_model = BayesianModel()\n",
    "hc_bic_model.add_nodes_from(hc_bic_structure.nodes)\n",
    "hc_bic_model.add_edges_from(hc_bic_structure.edges)\n",
    "\n",
    "constraint_model = BayesianModel()\n",
    "constraint_model.add_nodes_from(constraint_structure.nodes)\n",
    "constraint_model.add_edges_from(constraint_structure.edges)"
   ]
  },
  {
   "cell_type": "markdown",
   "metadata": {},
   "source": [
    "Estimamos los parámetros usando un estimador bayesiano con priori uniforme:"
   ]
  },
  {
   "cell_type": "code",
   "execution_count": null,
   "metadata": {},
   "outputs": [],
   "source": [
    "from pgmpy.estimators import BayesianEstimator\n",
    "\n",
    "hc_bdeu_model.fit(data, estimator=BayesianEstimator, prior_type=\"BDeu\")\n",
    "hc_k2_model.fit(data, estimator=BayesianEstimator, prior_type=\"BDeu\")\n",
    "hc_bic_model.fit(data, estimator=BayesianEstimator, prior_type=\"BDeu\")\n",
    "constraint_model.fit(data, estimator=BayesianEstimator, prior_type=\"BDeu\")"
   ]
  },
  {
   "cell_type": "markdown",
   "metadata": {},
   "source": [
    "Preparamos la inferencia con eliminación de variables:"
   ]
  },
  {
   "cell_type": "code",
   "execution_count": null,
   "metadata": {},
   "outputs": [],
   "source": [
    "from pgmpy.inference import VariableElimination\n",
    "\n",
    "hc_bdeu_inference = VariableElimination(hc_bdeu_model)\n",
    "hc_k2_inference = VariableElimination(hc_k2_model)\n",
    "hc_bic_inference = VariableElimination(hc_bic_model)\n",
    "constraint_inference = VariableElimination(constraint_model)"
   ]
  },
  {
   "cell_type": "markdown",
   "metadata": {},
   "source": [
    "Ejecutamos la inferencia:"
   ]
  },
  {
   "cell_type": "code",
   "execution_count": null,
   "metadata": {
    "scrolled": true
   },
   "outputs": [],
   "source": [
    "# X_complete_train_dict = list(X_complete_train.to_dict('index').values())\n",
    "\n",
    "# %time %memit y_pred_hc_bdeu = [hc_bdeu_inference.map_query(variables=['Outcome'], evidence=entry, elimination_order='MinFill', \\\n",
    "#                     show_progress=False)['Outcome'] for entry in X_complete_train_dict]\n",
    "# %time %memit y_pred_hc_k2 = [hc_k2_inference.map_query(variables=['Outcome'], evidence=entry, elimination_order='MinFill', \\\n",
    "#                     show_progress=False)['Outcome'] for entry in X_complete_train_dict]\n",
    "# %time %memit y_pred_hc_bic = [hc_bic_inference.map_query(variables=['Outcome'], evidence=entry, elimination_order='MinFill', \\\n",
    "#                     show_progress=False)['Outcome'] for entry in X_complete_train_dict]\n",
    "# %time %memit y_pred_constraint = [constraint_inference.map_query(variables=['Outcome'], evidence=entry, elimination_order='MinFill', \\\n",
    "#                         show_progress=False)['Outcome'] for entry in X_complete_train_dict]\n",
    "\n",
    "# # for entry in X_complete_train_dict:\n",
    "#     print(hc_bdeu_inference.map_query(variables=['Outcome'], evidence=entry, elimination_order='MinFill')['Outcome'])\n",
    "# hc_bdeu_inference.map_query(variables=['Outcome'], evidence=None, elimination_order='MinFill')"
   ]
  },
  {
   "cell_type": "markdown",
   "metadata": {},
   "source": [
    "O más facil:"
   ]
  },
  {
   "cell_type": "code",
   "execution_count": null,
   "metadata": {},
   "outputs": [],
   "source": [
    "%time %memit y_pred_hc_bdeu = hc_bdeu_model.predict(X_complete_train)\n",
    "%time %memit y_pred_hc_k2 = hc_k2_model.predict(X_complete_train)\n",
    "%time %memit y_pred_hc_bic = hc_bic_model.predict(X_complete_train)\n",
    "%time %memit y_pred_constraint = constraint_model.predict(X_complete_train)"
   ]
  },
  {
   "cell_type": "code",
   "execution_count": null,
   "metadata": {},
   "outputs": [],
   "source": [
    "print(\"HC BDeu:\\n\", classification_report(list(y_pred_hc_bdeu['Outcome']), list(y_complete_train)))\n",
    "print(\"HC K2:\\n\", classification_report(list(y_pred_hc_k2['Outcome']), list(y_complete_train)))\n",
    "print(\"HC BIC:\\n\", classification_report(list(y_pred_hc_bic['Outcome']), list(y_complete_train)))\n",
    "print(\"Constraint:\\n\", classification_report(list(y_pred_constraint['Outcome']), list(y_complete_train)))"
   ]
  },
  {
   "cell_type": "markdown",
   "metadata": {},
   "source": [
    "Sobre los datos de validación:"
   ]
  },
  {
   "cell_type": "code",
   "execution_count": null,
   "metadata": {},
   "outputs": [],
   "source": [
    "%time %memit y_pred_hc_bdeu = hc_bdeu_model.predict(X_complete_test)\n",
    "%time %memit y_pred_hc_k2 = hc_k2_model.predict(X_complete_test)\n",
    "%time %memit y_pred_hc_bic = hc_bic_model.predict(X_complete_test)\n",
    "%time %memit y_pred_constraint = constraint_model.predict(X_complete_test)"
   ]
  },
  {
   "cell_type": "code",
   "execution_count": null,
   "metadata": {},
   "outputs": [],
   "source": [
    "print(\"HC BDeu:\\n\", classification_report(list(y_pred_hc_bdeu['Outcome']), list(y_complete_test)))\n",
    "print(\"HC K2:\\n\", classification_report(list(y_pred_hc_k2['Outcome']), list(y_complete_test)))\n",
    "print(\"HC BIC:\\n\", classification_report(list(y_pred_hc_bic['Outcome']), list(y_complete_test)))\n",
    "print(\"Constraint:\\n\", classification_report(list(y_pred_constraint['Outcome']), list(y_complete_test)))"
   ]
  },
  {
   "cell_type": "markdown",
   "metadata": {},
   "source": [
    "O directamente sobre el dataset completo"
   ]
  },
  {
   "cell_type": "code",
   "execution_count": null,
   "metadata": {
    "scrolled": true
   },
   "outputs": [],
   "source": [
    "X_complete_data = complete_data.drop(columns='Outcome')\n",
    "y_complete_data = complete_data.Outcome\n",
    "\n",
    "%time %memit y_pred_hc_bdeu = hc_bdeu_model.predict(X_complete_data)\n",
    "%time %memit y_pred_hc_k2 = hc_k2_model.predict(X_complete_data)\n",
    "%time %memit y_pred_hc_bic = hc_bic_model.predict(X_complete_data)\n",
    "%time %memit y_pred_constraint = constraint_model.predict(X_complete_data)"
   ]
  },
  {
   "cell_type": "code",
   "execution_count": null,
   "metadata": {},
   "outputs": [],
   "source": [
    "print(\"HC BDeu:\\n\", classification_report(list(y_pred_hc_bdeu['Outcome']), list(y_complete_data)))\n",
    "print(\"HC K2:\\n\", classification_report(list(y_pred_hc_k2['Outcome']), list(y_complete_data)))\n",
    "print(\"HC BIC:\\n\", classification_report(list(y_pred_hc_bic['Outcome']), list(y_complete_data)))\n",
    "print(\"Constraint:\\n\", classification_report(list(y_pred_constraint['Outcome']), list(y_complete_data)))"
   ]
  }
 ],
 "metadata": {
  "kernelspec": {
   "display_name": "PGM",
   "language": "python",
   "name": "pgm"
  },
  "language_info": {
   "codemirror_mode": {
    "name": "ipython",
    "version": 3
   },
   "file_extension": ".py",
   "mimetype": "text/x-python",
   "name": "python",
   "nbconvert_exporter": "python",
   "pygments_lexer": "ipython3",
   "version": "3.7.7"
  }
 },
 "nbformat": 4,
 "nbformat_minor": 4
}
