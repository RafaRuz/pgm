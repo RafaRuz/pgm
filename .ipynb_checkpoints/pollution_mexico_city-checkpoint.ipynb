{
 "cells": [
  {
   "cell_type": "markdown",
   "metadata": {},
   "source": [
    "# Importación de módulos generales"
   ]
  },
  {
   "cell_type": "code",
   "execution_count": 11,
   "metadata": {},
   "outputs": [],
   "source": [
    "import os\n",
    "import tempfile\n",
    "import pandas as pd\n",
    "import numpy as np\n",
    "import networkx as nx\n",
    "import pylab  as plt\n",
    "import pygraphviz"
   ]
  },
  {
   "cell_type": "markdown",
   "metadata": {},
   "source": [
    "# Definición de parámetros"
   ]
  },
  {
   "cell_type": "code",
   "execution_count": 2,
   "metadata": {},
   "outputs": [],
   "source": [
    "# Número de bins o contenedores para discretizar los datos\n",
    "num_bins = 18\n",
    "\n",
    "\n",
    "# Estaciones y variables a usar en cada una\n",
    "# variables = ['CO', 'NO2', 'NOX', 'SO2', 'O3', 'TMP', 'DV', 'VV', 'HR']\n",
    "# stations = ['Merced', 'Pedregal', 'Tlalnepantla', 'Xalostoc']\n",
    "\n",
    "variables = ['CO', 'NO2', 'NOX', 'SO2', 'O3']\n",
    "stations = ['Merced', 'Pedregal']"
   ]
  },
  {
   "cell_type": "markdown",
   "metadata": {},
   "source": [
    "# Funciones auxiliares"
   ]
  },
  {
   "cell_type": "code",
   "execution_count": 8,
   "metadata": {},
   "outputs": [],
   "source": [
    "# Dibujar los modelos de pomegranate haciendo uso de la librería NetworkX\n",
    "# def plot_pomegranate_bn_nx(pgm):\n",
    "#     edges = []\n",
    "#     for i, pair in enumerate(pgm.structure):\n",
    "#         if pair:\n",
    "#             edges.append((pair[0],i))\n",
    "\n",
    "#     G = nx.DiGraph()\n",
    "#     G.add_edges_from(edges)\n",
    "#     layout = nx.shell_layout(G)\n",
    "#     nx.draw(G, pos=layout, with_labels=True, node_size=1000, node_color=\"pink\")\n",
    "#     plt.show()\n",
    "    \n",
    "def plot_pomegranate_bn_nx(pgm):\n",
    "    G = nx.DiGraph()\n",
    "    for parent, child in pgm.edges:\n",
    "        G.add_edge(parent.name, child.name)\n",
    "\n",
    "    layout = nx.drawing.nx_agraph.graphviz_layout(G, prog='dot')\n",
    "    nx.draw(G, pos=layout, with_labels=True, node_size=2000, node_color=\"pink\")\n",
    "    plt.show()\n",
    "    \n",
    "    \n",
    "# Dibujar los modelos de pomegranate haciendo uso de la librería GraphViz\n",
    "def plot_pomegranate_bn_pgvz(pgm, filename=None):\n",
    "    if pygraphviz is not None:\n",
    "        G = pygraphviz.AGraph(directed=True)\n",
    "\n",
    "        for state in pgm.states:\n",
    "            G.add_node(state.name, color='red')\n",
    "\n",
    "        for parent, child in pgm.edges:\n",
    "            G.add_edge(parent.name, child.name)\n",
    "        \n",
    "        if filename is None:\n",
    "            tf = os.path.join(defult_tmp_dir, temp_name+'.png')\n",
    "            G.draw(tf, format='png', prog='dot')\n",
    "            img = matplotlib.image.imread(tf)\n",
    "            plt.imshow(img)\n",
    "            plt.axis('off')\n",
    "            os.unlink(tf)\n",
    "        else:\n",
    "            G.draw(filename, format='pdf', prog='dot')\n",
    "\n",
    "    else:\n",
    "        raise ValueError(\"must have pygraphviz installed for visualization\")"
   ]
  },
  {
   "cell_type": "markdown",
   "metadata": {},
   "source": [
    "# Carga de los datos de SINAICA"
   ]
  },
  {
   "cell_type": "code",
   "execution_count": 4,
   "metadata": {},
   "outputs": [
    {
     "name": "stdout",
     "output_type": "stream",
     "text": [
      "              Hora            CO_M             NO2_M             NOx_M  \\\n",
      "1      3:00 - 4:00   (1.678, 1.85]   (0.0332, 0.038]  (0.0729, 0.0891]   \n",
      "2      4:00 - 5:00   (1.85, 2.022]   (0.038, 0.0428]   (0.0891, 0.105]   \n",
      "3      5:00 - 6:00   (1.678, 1.85]   (0.0332, 0.038]   (0.0891, 0.105]   \n",
      "4      6:00 - 7:00  (2.194, 2.367]   (0.0332, 0.038]    (0.122, 0.138]   \n",
      "5      7:00 - 8:00   (1.85, 2.022]  (0.0283, 0.0332]   (0.0891, 0.105]   \n",
      "..             ...             ...               ...               ...   \n",
      "737  18:00 - 19:00  (0.644, 0.817]   (0.0332, 0.038]  (0.0242, 0.0404]   \n",
      "738  19:00 - 20:00  (0.644, 0.817]   (0.0332, 0.038]  (0.0242, 0.0404]   \n",
      "739  20:00 - 21:00  (0.817, 0.989]  (0.0428, 0.0477]  (0.0404, 0.0567]   \n",
      "740  21:00 - 22:00  (0.989, 1.161]  (0.0477, 0.0525]  (0.0567, 0.0729]   \n",
      "741  22:00 - 23:00  (1.333, 1.506]  (0.0525, 0.0573]  (0.0729, 0.0891]   \n",
      "\n",
      "                   SO2_M                 O3_M            CO_P  \\\n",
      "1    (0.000902, 0.00644]  (0.000889, 0.00717]  (0.733, 0.839]   \n",
      "2      (0.00644, 0.0119]  (0.000889, 0.00717]  (0.417, 0.522]   \n",
      "3      (0.00644, 0.0119]  (0.000889, 0.00717]  (0.628, 0.733]   \n",
      "4    (0.000902, 0.00644]  (0.000889, 0.00717]  (0.311, 0.417]   \n",
      "5    (0.000902, 0.00644]  (0.000889, 0.00717]  (0.417, 0.522]   \n",
      "..                   ...                  ...             ...   \n",
      "737  (0.000902, 0.00644]      (0.0318, 0.038]  (0.311, 0.417]   \n",
      "738  (0.000902, 0.00644]      (0.0318, 0.038]  (0.311, 0.417]   \n",
      "739  (0.000902, 0.00644]     (0.0195, 0.0257]  (0.311, 0.417]   \n",
      "740  (0.000902, 0.00644]    (0.00717, 0.0133]  (0.417, 0.522]   \n",
      "741  (0.000902, 0.00644]  (0.000889, 0.00717]  (0.733, 0.839]   \n",
      "\n",
      "                NO2_P             NOx_P                SO2_P  \\\n",
      "1     (0.027, 0.0308]  (0.0328, 0.0418]  (0.000936, 0.00456]   \n",
      "2    (0.0155, 0.0193]  (0.0149, 0.0239]  (0.000936, 0.00456]   \n",
      "3    (0.0193, 0.0232]  (0.0239, 0.0328]  (0.000936, 0.00456]   \n",
      "4    (0.0117, 0.0155]  (0.0149, 0.0239]  (0.000936, 0.00456]   \n",
      "5    (0.0155, 0.0193]  (0.0149, 0.0239]  (0.000936, 0.00456]   \n",
      "..                ...               ...                  ...   \n",
      "737  (0.0193, 0.0232]  (0.0149, 0.0239]  (0.000936, 0.00456]   \n",
      "738  (0.0193, 0.0232]  (0.0149, 0.0239]  (0.000936, 0.00456]   \n",
      "739  (0.0193, 0.0232]  (0.0239, 0.0328]  (0.000936, 0.00456]   \n",
      "740  (0.0193, 0.0232]  (0.0239, 0.0328]  (0.000936, 0.00456]   \n",
      "741  (0.0423, 0.0462]  (0.0418, 0.0507]  (0.000936, 0.00456]   \n",
      "\n",
      "                   O3_P  \n",
      "1     (0.00906, 0.0161]  \n",
      "2      (0.0161, 0.0232]  \n",
      "3     (0.00906, 0.0161]  \n",
      "4      (0.0161, 0.0232]  \n",
      "5     (0.00906, 0.0161]  \n",
      "..                  ...  \n",
      "737    (0.0443, 0.0514]  \n",
      "738    (0.0443, 0.0514]  \n",
      "739    (0.0302, 0.0373]  \n",
      "740    (0.0302, 0.0373]  \n",
      "741  (0.00187, 0.00906]  \n",
      "\n",
      "[720 rows x 11 columns]\n"
     ]
    }
   ],
   "source": [
    "data = pd.read_csv(\"data/sinaica/2019-01/Datos SINAICA - Merced - CO - 2019-01-01 - 2019-02-01.csv\")\n",
    "# print(data.columns)\n",
    "# print(data['Parámetro'][0])\n",
    "data = data.drop(columns=['Parámetro', 'Valor', 'Unidad'])\n",
    "\n",
    "# print('Initial data\\n')\n",
    "# print(data)\n",
    "\n",
    "for st in stations:\n",
    "    for var in variables:\n",
    "        df = pd.read_csv(\"data/sinaica/2019-01/Datos SINAICA - {} - {} - 2019-01-01 - 2019-02-01.csv\".format(st, var))\n",
    "        param = '{}_{}'.format(df['Parámetro'][0], st[0])\n",
    "        df.rename(columns={\"Valor\": param}, inplace=True)\n",
    "        df[param] = pd.cut(df[param], bins=num_bins)\n",
    "        df = df.drop(columns=['Parámetro', 'Unidad'])\n",
    "        data = data.merge(df, how='outer', on=['Fecha','Hora'])\n",
    "        \n",
    "complete_data = data.dropna().drop(columns=['Fecha'])\n",
    "binned_data = complete_data\n",
    "\n",
    "# binned_data['CO_M'] = pd.cut(binned_data, bins=20)\n",
    "\n",
    "print(complete_data)\n",
    "# print(complete_data['Hora'].unique())\n",
    "# print(data.columns)\n",
    "# print(complete_data.isnull().sum())\n",
    "# print(data.dropna())"
   ]
  },
  {
   "cell_type": "markdown",
   "metadata": {},
   "source": [
    "# PGMPY"
   ]
  },
  {
   "cell_type": "code",
   "execution_count": 6,
   "metadata": {},
   "outputs": [
    {
     "name": "stdout",
     "output_type": "stream",
     "text": [
      "[]\n"
     ]
    }
   ],
   "source": [
    "from pgmpy.estimators import HillClimbSearch\n",
    "from pgmpy.estimators import BDeuScore, K2Score, BicScore\n",
    "from pgmpy.models import BayesianModel\n",
    "\n",
    "hc = HillClimbSearch(complete_data, scoring_method=BicScore(complete_data))\n",
    "best_model = hc.estimate()\n",
    "print(best_model.edges())"
   ]
  },
  {
   "cell_type": "code",
   "execution_count": null,
   "metadata": {
    "scrolled": true
   },
   "outputs": [],
   "source": [
    "from pgmpy.estimators import MmhcEstimator\n",
    "from pgmpy.estimators import BDeuScore\n",
    "\n",
    "# data = pd.DataFrame(np.random.randint(0, 3, size=(2500, 8)), columns=list('ABCDEFGH'))\n",
    "# data['A'] += data['B'] + data['C']\n",
    "# data['H'] = data['G'] - data['A']\n",
    "# data['E'] *= data['F']\n",
    "\n",
    "mmhc = MmhcEstimator(data)\n",
    "skeleton = mmhc.estimate()\n",
    "print(\"Part 1) Skeleton: \", skeleton.edges())\n",
    "\n",
    "# use hill climb search to orient the edges:\n",
    "# hc = HillClimbSearch(data, scoring_method=BDeuScore(data))\n",
    "# model = hc.estimate(tabu_length=10, white_list=skeleton.to_directed().edges())\n",
    "# print(\"Part 2) Model:    \", model.edges())"
   ]
  },
  {
   "cell_type": "markdown",
   "metadata": {},
   "source": [
    "# Pomegranate"
   ]
  },
  {
   "cell_type": "markdown",
   "metadata": {},
   "source": [
    "Importamos el modelo **BayesianNetwork** de la librería."
   ]
  },
  {
   "cell_type": "code",
   "execution_count": 5,
   "metadata": {},
   "outputs": [],
   "source": [
    "from pomegranate import BayesianNetwork"
   ]
  },
  {
   "cell_type": "markdown",
   "metadata": {},
   "source": [
    "Aprendemos una estructura de árbol usando para ello el algoritmo de **Chow-Liu**"
   ]
  },
  {
   "cell_type": "code",
   "execution_count": 12,
   "metadata": {},
   "outputs": [
    {
     "ename": "NameError",
     "evalue": "name 'defult_tmp_dir' is not defined",
     "output_type": "error",
     "traceback": [
      "\u001b[1;31m---------------------------------------------------------------------------\u001b[0m",
      "\u001b[1;31mNameError\u001b[0m                                 Traceback (most recent call last)",
      "\u001b[1;32m<ipython-input-12-edb57d5cec25>\u001b[0m in \u001b[0;36m<module>\u001b[1;34m\u001b[0m\n\u001b[0;32m      4\u001b[0m     \u001b[0ms\u001b[0m\u001b[1;33m.\u001b[0m\u001b[0mname\u001b[0m \u001b[1;33m=\u001b[0m \u001b[0mstr\u001b[0m\u001b[1;33m(\u001b[0m\u001b[0mlist\u001b[0m\u001b[1;33m(\u001b[0m\u001b[0mcomplete_data\u001b[0m\u001b[1;33m)\u001b[0m\u001b[1;33m[\u001b[0m\u001b[0mi\u001b[0m\u001b[1;33m]\u001b[0m\u001b[1;33m)\u001b[0m\u001b[1;33m\u001b[0m\u001b[1;33m\u001b[0m\u001b[0m\n\u001b[0;32m      5\u001b[0m \u001b[1;33m\u001b[0m\u001b[0m\n\u001b[1;32m----> 6\u001b[1;33m \u001b[0mplot_pomegranate_bn_pgvz\u001b[0m\u001b[1;33m(\u001b[0m\u001b[0mpomegranate_model\u001b[0m\u001b[1;33m)\u001b[0m\u001b[1;33m\u001b[0m\u001b[1;33m\u001b[0m\u001b[0m\n\u001b[0m\u001b[0;32m      7\u001b[0m \u001b[1;31m# plot_pomegranate_bn_nx(pomegranate_model)\u001b[0m\u001b[1;33m\u001b[0m\u001b[1;33m\u001b[0m\u001b[1;33m\u001b[0m\u001b[0m\n",
      "\u001b[1;32m<ipython-input-8-448ef2557045>\u001b[0m in \u001b[0;36mplot_pomegranate_bn_pgvz\u001b[1;34m(pgm, filename)\u001b[0m\n\u001b[0;32m     34\u001b[0m \u001b[1;33m\u001b[0m\u001b[0m\n\u001b[0;32m     35\u001b[0m         \u001b[1;32mif\u001b[0m \u001b[0mfilename\u001b[0m \u001b[1;32mis\u001b[0m \u001b[1;32mNone\u001b[0m\u001b[1;33m:\u001b[0m\u001b[1;33m\u001b[0m\u001b[1;33m\u001b[0m\u001b[0m\n\u001b[1;32m---> 36\u001b[1;33m             \u001b[0mtf\u001b[0m \u001b[1;33m=\u001b[0m \u001b[0mos\u001b[0m\u001b[1;33m.\u001b[0m\u001b[0mpath\u001b[0m\u001b[1;33m.\u001b[0m\u001b[0mjoin\u001b[0m\u001b[1;33m(\u001b[0m\u001b[0mdefult_tmp_dir\u001b[0m\u001b[1;33m,\u001b[0m \u001b[0mtemp_name\u001b[0m\u001b[1;33m+\u001b[0m\u001b[1;34m'.png'\u001b[0m\u001b[1;33m)\u001b[0m\u001b[1;33m\u001b[0m\u001b[1;33m\u001b[0m\u001b[0m\n\u001b[0m\u001b[0;32m     37\u001b[0m             \u001b[0mG\u001b[0m\u001b[1;33m.\u001b[0m\u001b[0mdraw\u001b[0m\u001b[1;33m(\u001b[0m\u001b[0mtf\u001b[0m\u001b[1;33m,\u001b[0m \u001b[0mformat\u001b[0m\u001b[1;33m=\u001b[0m\u001b[1;34m'png'\u001b[0m\u001b[1;33m,\u001b[0m \u001b[0mprog\u001b[0m\u001b[1;33m=\u001b[0m\u001b[1;34m'dot'\u001b[0m\u001b[1;33m)\u001b[0m\u001b[1;33m\u001b[0m\u001b[1;33m\u001b[0m\u001b[0m\n\u001b[0;32m     38\u001b[0m             \u001b[0mimg\u001b[0m \u001b[1;33m=\u001b[0m \u001b[0mmatplotlib\u001b[0m\u001b[1;33m.\u001b[0m\u001b[0mimage\u001b[0m\u001b[1;33m.\u001b[0m\u001b[0mimread\u001b[0m\u001b[1;33m(\u001b[0m\u001b[0mtf\u001b[0m\u001b[1;33m)\u001b[0m\u001b[1;33m\u001b[0m\u001b[1;33m\u001b[0m\u001b[0m\n",
      "\u001b[1;31mNameError\u001b[0m: name 'defult_tmp_dir' is not defined"
     ]
    }
   ],
   "source": [
    "pomegranate_model = BayesianNetwork.from_samples(complete_data, algorithm='chow-liu')\n",
    "\n",
    "for i, s in enumerate(pomegranate_model.states):\n",
    "    s.name = str(list(complete_data)[i])\n",
    "\n",
    "plot_pomegranate_bn_pgvz(pomegranate_model)\n",
    "# plot_pomegranate_bn_nx(pomegranate_model)"
   ]
  },
  {
   "cell_type": "code",
   "execution_count": null,
   "metadata": {},
   "outputs": [],
   "source": []
  }
 ],
 "metadata": {
  "kernelspec": {
   "display_name": "PGM",
   "language": "python",
   "name": "pgm"
  },
  "language_info": {
   "codemirror_mode": {
    "name": "ipython",
    "version": 3
   },
   "file_extension": ".py",
   "mimetype": "text/x-python",
   "name": "python",
   "nbconvert_exporter": "python",
   "pygments_lexer": "ipython3",
   "version": "3.7.7"
  }
 },
 "nbformat": 4,
 "nbformat_minor": 2
}
